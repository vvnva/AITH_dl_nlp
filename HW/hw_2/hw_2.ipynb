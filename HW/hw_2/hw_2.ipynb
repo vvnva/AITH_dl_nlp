{
 "cells": [
  {
   "cell_type": "code",
   "execution_count": 1,
   "metadata": {},
   "outputs": [
    {
     "name": "stderr",
     "output_type": "stream",
     "text": [
      "[nltk_data] Downloading package stopwords to\n",
      "[nltk_data]     C:\\Users\\verai\\AppData\\Roaming\\nltk_data...\n",
      "[nltk_data]   Package stopwords is already up-to-date!\n"
     ]
    }
   ],
   "source": [
    "import random\n",
    "import re\n",
    "import numpy as np\n",
    "import pandas as pd\n",
    "import nltk\n",
    "\n",
    "from tqdm import tqdm\n",
    "import pymorphy3\n",
    "from nltk.corpus import stopwords\n",
    "from sklearn.model_selection import train_test_split\n",
    "from sklearn.linear_model import LogisticRegression\n",
    "from sklearn.metrics import classification_report, accuracy_score\n",
    "from sklearn.feature_extraction.text import TfidfVectorizer\n",
    "from gensim.models import Word2Vec, KeyedVectors\n",
    "from gensim.models.callbacks import CallbackAny2Vec\n",
    "from corus import load_lenta\n",
    "from navec import Navec\n",
    "\n",
    "random_state = 12\n",
    "random.seed(random_state)\n",
    "np.random.seed(random_state)\n",
    "\n",
    "morph = pymorphy3.MorphAnalyzer()\n",
    "nltk.download('stopwords')\n",
    "stop_words = stopwords.words('russian')\n",
    "\n",
    "tqdm.pandas()"
   ]
  },
  {
   "cell_type": "markdown",
   "metadata": {},
   "source": [
    "### Загрузка, подготовка данных\n",
    "Загружаем датасет Lenta.Ru-News, оставляем нужные столбцы и применяем случайную выборку для ускорения эксперимента.\n",
    "Предобработка включает приведение к нижнему регистру, удаление пунктуации, стоп-слов, символов, латинских букв и лемматизацию с помощью pymorphy3.MorphAnalyzer().\n"
   ]
  },
  {
   "cell_type": "code",
   "execution_count": 2,
   "metadata": {},
   "outputs": [],
   "source": [
    "#!curl -L https://github.com/yutkin/Lenta.Ru-News-Dataset/releases/download/v1.0/lenta-ru-news.csv.gz -o lenta-ru-news.csv.gz"
   ]
  },
  {
   "cell_type": "code",
   "execution_count": 3,
   "metadata": {},
   "outputs": [
    {
     "data": {
      "text/html": [
       "<div>\n",
       "<style scoped>\n",
       "    .dataframe tbody tr th:only-of-type {\n",
       "        vertical-align: middle;\n",
       "    }\n",
       "\n",
       "    .dataframe tbody tr th {\n",
       "        vertical-align: top;\n",
       "    }\n",
       "\n",
       "    .dataframe thead th {\n",
       "        text-align: right;\n",
       "    }\n",
       "</style>\n",
       "<table border=\"1\" class=\"dataframe\">\n",
       "  <thead>\n",
       "    <tr style=\"text-align: right;\">\n",
       "      <th></th>\n",
       "      <th>title</th>\n",
       "      <th>text</th>\n",
       "      <th>topic</th>\n",
       "    </tr>\n",
       "  </thead>\n",
       "  <tbody>\n",
       "    <tr>\n",
       "      <th>153479</th>\n",
       "      <td>В Афганистане дюжина боевиков ИГ подорвалась н...</td>\n",
       "      <td>В афганской провинции Нангархар, находящейся н...</td>\n",
       "      <td>Мир</td>\n",
       "    </tr>\n",
       "    <tr>\n",
       "      <th>363174</th>\n",
       "      <td>Отток капитала из России с начала года достиг ...</td>\n",
       "      <td>Отток капитала из России по итогам первых четы...</td>\n",
       "      <td>Экономика</td>\n",
       "    </tr>\n",
       "    <tr>\n",
       "      <th>306435</th>\n",
       "      <td>Эдриан Броуди заменит Гари Олдмана в \"Автомоби...</td>\n",
       "      <td>Эдриану Броуди предложили роль в триллере Альб...</td>\n",
       "      <td>Культура</td>\n",
       "    </tr>\n",
       "    <tr>\n",
       "      <th>699762</th>\n",
       "      <td>\"Менты\" переехали в Красноярский край</td>\n",
       "      <td>Во вторник в Красноярск прибыла съемочная груп...</td>\n",
       "      <td>Культура</td>\n",
       "    </tr>\n",
       "    <tr>\n",
       "      <th>717351</th>\n",
       "      <td>Шариатский суд пожалел трех иранцев, назначив ...</td>\n",
       "      <td>В четверг три жителя Тегерана были подвергнуты...</td>\n",
       "      <td>Мир</td>\n",
       "    </tr>\n",
       "  </tbody>\n",
       "</table>\n",
       "</div>"
      ],
      "text/plain": [
       "                                                    title  \\\n",
       "153479  В Афганистане дюжина боевиков ИГ подорвалась н...   \n",
       "363174  Отток капитала из России с начала года достиг ...   \n",
       "306435  Эдриан Броуди заменит Гари Олдмана в \"Автомоби...   \n",
       "699762              \"Менты\" переехали в Красноярский край   \n",
       "717351  Шариатский суд пожалел трех иранцев, назначив ...   \n",
       "\n",
       "                                                     text      topic  \n",
       "153479  В афганской провинции Нангархар, находящейся н...        Мир  \n",
       "363174  Отток капитала из России по итогам первых четы...  Экономика  \n",
       "306435  Эдриану Броуди предложили роль в триллере Альб...   Культура  \n",
       "699762  Во вторник в Красноярск прибыла съемочная груп...   Культура  \n",
       "717351  В четверг три жителя Тегерана были подвергнуты...        Мир  "
      ]
     },
     "execution_count": 3,
     "metadata": {},
     "output_type": "execute_result"
    }
   ],
   "source": [
    "records = load_lenta('lenta-ru-news.csv.gz')\n",
    "data = pd.DataFrame(records)\n",
    "data.columns = ['url', 'title', 'text', 'topic', 'tags', 'date']\n",
    "data = data[['title', 'text', 'topic']]\n",
    "data = data.sample(n=100000, random_state=random_state)\n",
    "data.head()"
   ]
  },
  {
   "cell_type": "code",
   "execution_count": 4,
   "metadata": {},
   "outputs": [
    {
     "data": {
      "text/plain": [
       "topic\n",
       "Россия               21908\n",
       "Мир                  18480\n",
       "Экономика            10756\n",
       "Спорт                 8826\n",
       "Культура              7289\n",
       "Наука и техника       7161\n",
       "Бывший СССР           7135\n",
       "Интернет и СМИ        5926\n",
       "Из жизни              3697\n",
       "Дом                   2966\n",
       "Силовые структуры     2614\n",
       "Ценности              1058\n",
       "Бизнес                 959\n",
       "Путешествия            876\n",
       "69-я параллель         166\n",
       "Крым                    84\n",
       "Культпросвет            48\n",
       "                        33\n",
       "Библиотека               9\n",
       "Легпром                  9\n",
       "Name: count, dtype: int64"
      ]
     },
     "execution_count": 4,
     "metadata": {},
     "output_type": "execute_result"
    }
   ],
   "source": [
    "data['topic'].value_counts()"
   ]
  },
  {
   "cell_type": "code",
   "execution_count": 5,
   "metadata": {},
   "outputs": [
    {
     "data": {
      "text/plain": [
       "False"
      ]
     },
     "execution_count": 5,
     "metadata": {},
     "output_type": "execute_result"
    }
   ],
   "source": [
    "data['topic'].isna().any()"
   ]
  },
  {
   "cell_type": "code",
   "execution_count": 6,
   "metadata": {},
   "outputs": [
    {
     "name": "stderr",
     "output_type": "stream",
     "text": [
      "100%|██████████| 100000/100000 [10:53<00:00, 153.11it/s]\n"
     ]
    }
   ],
   "source": [
    "def preprocess_text(text):\n",
    "    # Приведение к нижнему регистру\n",
    "    text = text.lower()\n",
    "    # Удаление пунктуации, символов и латинских букв — оставляем только русские буквы и пробелы\n",
    "    text = re.sub(r'[^а-яё\\s]', ' ', text)\n",
    "    # Токенизация и удаление стоп-слов\n",
    "    tokens = [word for word in text.split() if word not in stop_words]\n",
    "    # Лемматизация: получение нормальной формы для каждого слова\n",
    "    tokens = [morph.parse(word)[0].normal_form for word in tokens]\n",
    "    return \" \".join(tokens)\n",
    "\n",
    "data['combined_text'] = (data['title'] + \" \" + data['text']).progress_apply(preprocess_text)"
   ]
  },
  {
   "cell_type": "code",
   "execution_count": 7,
   "metadata": {},
   "outputs": [
    {
     "name": "stdout",
     "output_type": "stream",
     "text": [
      "Train: (60000,) Validation: (20000,) Test: (20000,)\n"
     ]
    }
   ],
   "source": [
    "# Разбиение данных со стратификацией в пропорции 60/20/20\n",
    "X = data['combined_text']\n",
    "y = data['topic']\n",
    "\n",
    "X_train, X_temp, y_train, y_temp = train_test_split(X, y, train_size=0.6, stratify=y, random_state=random_state)\n",
    "X_val, X_test, y_val, y_test = train_test_split(X_temp, y_temp, test_size=0.5, stratify=y_temp, random_state=random_state)\n",
    "print(\"Train:\", X_train.shape, \"Validation:\", X_val.shape, \"Test:\", X_test.shape)"
   ]
  },
  {
   "cell_type": "markdown",
   "metadata": {},
   "source": [
    "### Обучение эмбеддингов Word2Vec"
   ]
  },
  {
   "cell_type": "code",
   "execution_count": 8,
   "metadata": {},
   "outputs": [],
   "source": [
    "sentences = [text.split() for text in X_train]"
   ]
  },
  {
   "cell_type": "code",
   "execution_count": 9,
   "metadata": {},
   "outputs": [],
   "source": [
    "class TqdmProgressCallback(CallbackAny2Vec):\n",
    "    def __init__(self, total_epochs):\n",
    "        self.total_epochs = total_epochs\n",
    "        self.pbar = tqdm(total=total_epochs, desc=\"Epochs\", unit=\"epoch\")\n",
    "        self.epoch = 0\n",
    "\n",
    "    def on_epoch_end(self, model):\n",
    "        self.epoch += 1\n",
    "        self.pbar.update(1)\n",
    "\n",
    "    def on_train_end(self, model):\n",
    "        self.pbar.close()"
   ]
  },
  {
   "cell_type": "markdown",
   "metadata": {},
   "source": [
    "Используем архитектуру skip-gram (sg=1) с параметрами:\n",
    " - vector_size=256: Стандартное значение - 100. Увеличение размерности до 256 для хорошего качества векторов.\n",
    " - window=7: Обычно используется окно размером 5, но увеличение до 7 расширяет контекст, охватывая больше соседних слов.\n",
    " - min_count=10: Стандартное значение зачастую равно 5. Установка min_count на 10 позволяет исключить очень редкие слова,\n",
    "уменьшая шум в обучении и сокращая размер словаря."
   ]
  },
  {
   "cell_type": "code",
   "execution_count": 10,
   "metadata": {},
   "outputs": [
    {
     "name": "stderr",
     "output_type": "stream",
     "text": [
      "Epochs: 100%|██████████| 20/20 [04:23<00:00, 13.17s/epoch]\n"
     ]
    }
   ],
   "source": [
    "w2v_model = Word2Vec(\n",
    "    sentences,\n",
    "    vector_size=256,   # Размерность векторов\n",
    "    window=7,          # Размер окна контекста\n",
    "    min_count=10,       # Игнорируем редкие слова\n",
    "    sg=1,              # Skip-gram модель\n",
    "    workers=4,\n",
    "    epochs=20,\n",
    "    seed=random_state,\n",
    "    callbacks=[TqdmProgressCallback(total_epochs=20)]\n",
    ")"
   ]
  },
  {
   "cell_type": "markdown",
   "metadata": {},
   "source": [
    "##### Intrinsic-оценка: методы doesnt_match и most_similar"
   ]
  },
  {
   "cell_type": "code",
   "execution_count": 11,
   "metadata": {},
   "outputs": [
    {
     "name": "stdout",
     "output_type": "stream",
     "text": [
      "Doesn't match из ['президент', 'министр', 'кошка', 'правительство']: кошка\n",
      "Doesn't match из ['машина', 'автомобиль', 'велосипед', 'яблоко']: яблоко\n"
     ]
    }
   ],
   "source": [
    "words_group1 = [\"президент\", \"министр\", \"кошка\", \"правительство\"]\n",
    "mismatch1 = w2v_model.wv.doesnt_match(words_group1)\n",
    "print(f\"Doesn't match из {words_group1}: {mismatch1}\")\n",
    "\n",
    "words_group2 = [\"машина\", \"автомобиль\", \"велосипед\", \"яблоко\"]\n",
    "mismatch2 = w2v_model.wv.doesnt_match(words_group2)\n",
    "print(f\"Doesn't match из {words_group2}: {mismatch2}\")"
   ]
  },
  {
   "cell_type": "code",
   "execution_count": 12,
   "metadata": {},
   "outputs": [
    {
     "name": "stdout",
     "output_type": "stream",
     "text": [
      "most_similar для 'экономика':\n",
      "ввп: 0.637\n",
      "экономический: 0.633\n",
      "рецессия: 0.593\n",
      "финансы: 0.547\n",
      "конкурентоспособность: 0.540\n"
     ]
    }
   ],
   "source": [
    "similar_words = w2v_model.wv.most_similar(\"экономика\", topn=5)\n",
    "print(\"most_similar для 'экономика':\")\n",
    "for word, score in similar_words:\n",
    "    print(f\"{word}: {score:.3f}\")"
   ]
  },
  {
   "cell_type": "code",
   "execution_count": 13,
   "metadata": {},
   "outputs": [
    {
     "name": "stdout",
     "output_type": "stream",
     "text": [
      "Сходство между 'кошка' и 'собака': 0.547\n"
     ]
    }
   ],
   "source": [
    "sim_cat_dog = w2v_model.wv.similarity(\"кошка\", \"собака\")\n",
    "print(f\"Сходство между 'кошка' и 'собака': {sim_cat_dog:.3f}\")"
   ]
  },
  {
   "cell_type": "code",
   "execution_count": 14,
   "metadata": {},
   "outputs": [
    {
     "name": "stdout",
     "output_type": "stream",
     "text": [
      "\n",
      "Результат векторной арифметики (король + женщина - мужчина):\n",
      "монарх: 0.440\n",
      "гьянендра: 0.421\n",
      "сайрусый: 0.410\n",
      "фахд: 0.404\n",
      "майли: 0.404\n"
     ]
    }
   ],
   "source": [
    "analogy = w2v_model.wv.most_similar(positive=[\"король\", \"женщина\"], negative=[\"мужчина\"], topn=5)\n",
    "print(\"\\nРезультат векторной арифметики (король + женщина - мужчина):\")\n",
    "for word, score in analogy:\n",
    "    print(f\"{word}: {score:.3f}\")\n"
   ]
  },
  {
   "cell_type": "markdown",
   "metadata": {},
   "source": [
    "По точечной оценке работает хорошо, но с арифметикой очевидно не справился)"
   ]
  },
  {
   "cell_type": "markdown",
   "metadata": {},
   "source": [
    "### Загрузка предобученных эмбеддингов (Navec и RusVectores)"
   ]
  },
  {
   "cell_type": "markdown",
   "metadata": {},
   "source": [
    "Выбрала navec_news_v1_1B_250K_300d_100q (написано что для новостей, в 2 раза меньше чем `hudlit` и покрывает те же 98% слов в news articles) и ruwikiruscorpora_upos_skipgram_300_2_2018"
   ]
  },
  {
   "cell_type": "code",
   "execution_count": 15,
   "metadata": {},
   "outputs": [],
   "source": [
    "# navec_news_v1_1B_250K_300d_100q\n",
    "# !curl -L https://storage.yandexcloud.net/natasha-navec/packs/navec_news_v1_1B_250K_300d_100q.tar -o navec_news.tar\n"
   ]
  },
  {
   "cell_type": "code",
   "execution_count": 16,
   "metadata": {},
   "outputs": [],
   "source": [
    "# ruwikiruscorpora_upos_skipgram_300_2_2018\n",
    "# !curl -L -o ruwikiruscorpora_upos_skipgram_300_2_2018.vec.gz https://rusvectores.org/static/models/rusvectores4/ruwikiruscorpora/ruwikiruscorpora_upos_skipgram_300_2_2018.vec.gz"
   ]
  },
  {
   "cell_type": "code",
   "execution_count": 17,
   "metadata": {},
   "outputs": [],
   "source": [
    "navec = Navec.load(\"navec_news.tar\")\n",
    "rusvectores = KeyedVectors.load_word2vec_format('ruwikiruscorpora_upos_skipgram_300_2_2018.vec.gz')"
   ]
  },
  {
   "cell_type": "code",
   "execution_count": 18,
   "metadata": {},
   "outputs": [
    {
     "data": {
      "text/plain": [
       "[('неделя_NOUN', 0.7097942233085632),\n",
       " ('месяц_NOUN', 0.6908209919929504),\n",
       " ('утро_NOUN', 0.6243225932121277),\n",
       " ('днемя_NOUN', 0.6224159598350525),\n",
       " ('днями_NOUN', 0.6100884675979614),\n",
       " ('воскресенье_NOUN', 0.6087555885314941),\n",
       " ('вечер_NOUN', 0.6030082702636719),\n",
       " ('дня_NOUN', 0.592153012752533),\n",
       " ('час_NOUN', 0.590473473072052),\n",
       " ('сутки_NOUN', 0.5869504809379578)]"
      ]
     },
     "execution_count": 18,
     "metadata": {},
     "output_type": "execute_result"
    }
   ],
   "source": [
    "rusvectores.most_similar(positive=['день_NOUN'], topn=10)"
   ]
  },
  {
   "cell_type": "code",
   "execution_count": 19,
   "metadata": {},
   "outputs": [
    {
     "name": "stdout",
     "output_type": "stream",
     "text": [
      "NOUN\n"
     ]
    }
   ],
   "source": [
    "print(morph.parse('день')[0].tag.POS)"
   ]
  },
  {
   "cell_type": "code",
   "execution_count": 20,
   "metadata": {},
   "outputs": [],
   "source": [
    "def get_rusvectores_token(word, model):\n",
    "    parsed = morph.parse(word)[0]\n",
    "    pos = parsed.tag.POS \n",
    "    if pos:\n",
    "        token_with_tag = f\"{word}_{pos}\"\n",
    "        if token_with_tag in model:\n",
    "            return token_with_tag\n",
    "    return word if word in model else None\n",
    "\n",
    "def get_avg_vector(text, model, vector_size, use_pos_tag=False):\n",
    "    tokens = text.split()\n",
    "    vectors = []\n",
    "    for token in tqdm(tokens, leave=False, desc=\"Tokens\", disable=not use_pos_tag):\n",
    "        key = get_rusvectores_token(token, model) if use_pos_tag else token\n",
    "        if key is not None and key in model:\n",
    "            vectors.append(model[key])\n",
    "    if vectors:\n",
    "        return np.mean(vectors, axis=0)\n",
    "    return np.zeros(vector_size)\n"
   ]
  },
  {
   "cell_type": "code",
   "execution_count": 21,
   "metadata": {},
   "outputs": [
    {
     "name": "stderr",
     "output_type": "stream",
     "text": [
      "100%|██████████| 60000/60000 [00:09<00:00, 6523.74it/s]\n",
      "100%|██████████| 20000/20000 [00:03<00:00, 6507.21it/s]\n",
      "100%|██████████| 20000/20000 [00:03<00:00, 6618.13it/s]\n"
     ]
    }
   ],
   "source": [
    "# Для обученной модели Word2Vec\n",
    "X_train_w2v = np.vstack(X_train.progress_apply(lambda x: get_avg_vector(x, w2v_model.wv, w2v_model.vector_size, use_pos_tag=False)))\n",
    "X_val_w2v   = np.vstack(X_val.progress_apply(lambda x: get_avg_vector(x, w2v_model.wv, w2v_model.vector_size, use_pos_tag=False)))\n",
    "X_test_w2v  = np.vstack(X_test.progress_apply(lambda x: get_avg_vector(x, w2v_model.wv, w2v_model.vector_size, use_pos_tag=False)))"
   ]
  },
  {
   "cell_type": "code",
   "execution_count": 22,
   "metadata": {},
   "outputs": [
    {
     "name": "stderr",
     "output_type": "stream",
     "text": [
      "100%|██████████| 60000/60000 [00:30<00:00, 1999.43it/s]\n",
      "100%|██████████| 20000/20000 [00:10<00:00, 1993.99it/s]\n",
      "100%|██████████| 20000/20000 [00:09<00:00, 2000.98it/s]\n"
     ]
    }
   ],
   "source": [
    "# Векторизация для navec (без POS-тегов)\n",
    "X_train_navec = np.vstack(X_train.progress_apply(lambda x: get_avg_vector(x, navec, 300, use_pos_tag=False)))\n",
    "X_val_navec   = np.vstack(X_val.progress_apply(lambda x: get_avg_vector(x, navec, 300, use_pos_tag=False)))\n",
    "X_test_navec  = np.vstack(X_test.progress_apply(lambda x: get_avg_vector(x, navec, 300, use_pos_tag=False)))"
   ]
  },
  {
   "cell_type": "code",
   "execution_count": 23,
   "metadata": {},
   "outputs": [
    {
     "name": "stderr",
     "output_type": "stream",
     "text": [
      "100%|██████████| 60000/60000 [08:47<00:00, 113.80it/s]\n",
      "100%|██████████| 20000/20000 [02:54<00:00, 114.69it/s]\n",
      "100%|██████████| 20000/20000 [03:00<00:00, 111.02it/s]\n"
     ]
    }
   ],
   "source": [
    "# Векторизация для rusvectores (с POS-тегированием)\n",
    "X_train_rusvectores = np.vstack(X_train.progress_apply(lambda x: get_avg_vector(x, rusvectores, 300, use_pos_tag=True)))\n",
    "X_val_rusvectores   = np.vstack(X_val.progress_apply(lambda x: get_avg_vector(x, rusvectores, 300, use_pos_tag=True)))\n",
    "X_test_rusvectores  = np.vstack(X_test.progress_apply(lambda x: get_avg_vector(x, rusvectores, 300, use_pos_tag=True)))"
   ]
  },
  {
   "cell_type": "markdown",
   "metadata": {},
   "source": [
    "### Обучение Logistic Regression для разных вариантов векторизации"
   ]
  },
  {
   "cell_type": "code",
   "execution_count": 24,
   "metadata": {},
   "outputs": [],
   "source": [
    "def train_and_evaluate_lr(X_train, y_train, X_val, y_val, model_name=\"Model\"):\n",
    "    lr = LogisticRegression(\n",
    "        random_state=random_state, \n",
    "        max_iter=1000)\n",
    "    lr.fit(X_train, y_train)\n",
    "    y_val_pred = lr.predict(X_val)\n",
    "    val_accuracy = accuracy_score(y_val, y_val_pred)\n",
    "    \n",
    "    print(f\"Validation accuracy ({model_name}): {val_accuracy:.4f}\")\n",
    "    print(f\"\\nОтчет о классификации {model_name}:\")\n",
    "    print(classification_report(y_val.values, y_val_pred, zero_division=0))\n",
    "    \n",
    "    return lr, y_val_pred, val_accuracy"
   ]
  },
  {
   "cell_type": "code",
   "execution_count": 25,
   "metadata": {},
   "outputs": [
    {
     "name": "stdout",
     "output_type": "stream",
     "text": [
      "Validation accuracy (word2vec): 0.7906\n",
      "\n",
      "Отчет о классификации word2vec:\n",
      "                   precision    recall  f1-score   support\n",
      "\n",
      "                        0.00      0.00      0.00         7\n",
      "   69-я параллель       0.67      0.18      0.29        33\n",
      "       Библиотека       0.00      0.00      0.00         2\n",
      "           Бизнес       0.36      0.08      0.13       192\n",
      "      Бывший СССР       0.80      0.78      0.79      1427\n",
      "              Дом       0.83      0.79      0.81       593\n",
      "         Из жизни       0.62      0.55      0.58       740\n",
      "   Интернет и СМИ       0.75      0.65      0.70      1185\n",
      "             Крым       1.00      0.06      0.11        17\n",
      "    Культпросвет        0.00      0.00      0.00        10\n",
      "         Культура       0.86      0.86      0.86      1458\n",
      "          Легпром       0.00      0.00      0.00         2\n",
      "              Мир       0.77      0.84      0.80      3696\n",
      "  Наука и техника       0.80      0.80      0.80      1432\n",
      "      Путешествия       0.76      0.57      0.65       175\n",
      "           Россия       0.75      0.82      0.78      4381\n",
      "Силовые структуры       0.60      0.26      0.36       523\n",
      "            Спорт       0.97      0.97      0.97      1765\n",
      "         Ценности       0.84      0.74      0.79       211\n",
      "        Экономика       0.81      0.85      0.83      2151\n",
      "\n",
      "         accuracy                           0.79     20000\n",
      "        macro avg       0.61      0.49      0.51     20000\n",
      "     weighted avg       0.78      0.79      0.78     20000\n",
      "\n"
     ]
    }
   ],
   "source": [
    "# Применение для обученной модели word2vec\n",
    "lr_w2v, y_val_pred_w2v, acc_w2v = train_and_evaluate_lr(X_train_w2v, y_train, X_val_w2v, y_val, model_name=\"word2vec\")"
   ]
  },
  {
   "cell_type": "code",
   "execution_count": 26,
   "metadata": {},
   "outputs": [
    {
     "name": "stdout",
     "output_type": "stream",
     "text": [
      "Validation accuracy (navec): 0.7810\n",
      "\n",
      "Отчет о классификации navec:\n",
      "                   precision    recall  f1-score   support\n",
      "\n",
      "                        0.00      0.00      0.00         7\n",
      "   69-я параллель       0.40      0.12      0.19        33\n",
      "       Библиотека       0.00      0.00      0.00         2\n",
      "           Бизнес       0.43      0.10      0.17       192\n",
      "      Бывший СССР       0.79      0.77      0.78      1427\n",
      "              Дом       0.80      0.79      0.80       593\n",
      "         Из жизни       0.60      0.54      0.57       740\n",
      "   Интернет и СМИ       0.73      0.65      0.69      1185\n",
      "             Крым       1.00      0.06      0.11        17\n",
      "    Культпросвет        0.00      0.00      0.00        10\n",
      "         Культура       0.84      0.86      0.85      1458\n",
      "          Легпром       0.00      0.00      0.00         2\n",
      "              Мир       0.77      0.82      0.79      3696\n",
      "  Наука и техника       0.78      0.80      0.79      1432\n",
      "      Путешествия       0.69      0.49      0.57       175\n",
      "           Россия       0.75      0.80      0.77      4381\n",
      "Силовые структуры       0.53      0.25      0.34       523\n",
      "            Спорт       0.96      0.96      0.96      1765\n",
      "         Ценности       0.82      0.74      0.78       211\n",
      "        Экономика       0.80      0.85      0.83      2151\n",
      "\n",
      "         accuracy                           0.78     20000\n",
      "        macro avg       0.58      0.48      0.50     20000\n",
      "     weighted avg       0.77      0.78      0.77     20000\n",
      "\n"
     ]
    }
   ],
   "source": [
    "# Применение для модели Navec\n",
    "lr_navec, y_val_pred_navec, acc_navec = train_and_evaluate_lr(X_train_navec, y_train, X_val_navec, y_val, model_name=\"navec\")"
   ]
  },
  {
   "cell_type": "code",
   "execution_count": 27,
   "metadata": {},
   "outputs": [
    {
     "name": "stdout",
     "output_type": "stream",
     "text": [
      "Validation accuracy (rusvectores): 0.7376\n",
      "\n",
      "Отчет о классификации rusvectores:\n",
      "                   precision    recall  f1-score   support\n",
      "\n",
      "                        0.00      0.00      0.00         7\n",
      "   69-я параллель       0.00      0.00      0.00        33\n",
      "       Библиотека       0.00      0.00      0.00         2\n",
      "           Бизнес       0.00      0.00      0.00       192\n",
      "      Бывший СССР       0.76      0.56      0.64      1427\n",
      "              Дом       0.79      0.64      0.71       593\n",
      "         Из жизни       0.58      0.42      0.49       740\n",
      "   Интернет и СМИ       0.71      0.58      0.64      1185\n",
      "             Крым       0.00      0.00      0.00        17\n",
      "    Культпросвет        0.00      0.00      0.00        10\n",
      "         Культура       0.81      0.84      0.82      1458\n",
      "          Легпром       0.00      0.00      0.00         2\n",
      "              Мир       0.72      0.82      0.77      3696\n",
      "  Наука и техника       0.74      0.75      0.75      1432\n",
      "      Путешествия       0.58      0.09      0.15       175\n",
      "           Россия       0.67      0.83      0.74      4381\n",
      "Силовые структуры       0.52      0.04      0.08       523\n",
      "            Спорт       0.96      0.94      0.95      1765\n",
      "         Ценности       0.86      0.54      0.66       211\n",
      "        Экономика       0.74      0.83      0.78      2151\n",
      "\n",
      "         accuracy                           0.74     20000\n",
      "        macro avg       0.47      0.39      0.41     20000\n",
      "     weighted avg       0.72      0.74      0.72     20000\n",
      "\n"
     ]
    }
   ],
   "source": [
    "# Применение для модели RusVectores\n",
    "lr_rusvectores, y_val_pred_rusvectores, acc_rusvectores = train_and_evaluate_lr(X_train_rusvectores, y_train, X_val_rusvectores, y_val, model_name=\"rusvectores\")"
   ]
  },
  {
   "cell_type": "markdown",
   "metadata": {},
   "source": [
    "Лучше всего показала себя обученная word2vec, что логично, так как, несмотря на разделение на выборки трейн/валидация/тест, обучена на одном корпусе."
   ]
  },
  {
   "cell_type": "markdown",
   "metadata": {},
   "source": [
    "### TF-IDF взвешенное усреднение эмбеддингов"
   ]
  },
  {
   "cell_type": "code",
   "execution_count": 28,
   "metadata": {},
   "outputs": [
    {
     "name": "stderr",
     "output_type": "stream",
     "text": [
      "c:\\Users\\verai\\projects\\AITH_dl_nlp\\.venv\\Lib\\site-packages\\sklearn\\feature_extraction\\text.py:517: UserWarning: The parameter 'token_pattern' will not be used since 'tokenizer' is not None'\n",
      "  warnings.warn(\n"
     ]
    },
    {
     "data": {
      "text/html": [
       "<style>#sk-container-id-1 {\n",
       "  /* Definition of color scheme common for light and dark mode */\n",
       "  --sklearn-color-text: #000;\n",
       "  --sklearn-color-text-muted: #666;\n",
       "  --sklearn-color-line: gray;\n",
       "  /* Definition of color scheme for unfitted estimators */\n",
       "  --sklearn-color-unfitted-level-0: #fff5e6;\n",
       "  --sklearn-color-unfitted-level-1: #f6e4d2;\n",
       "  --sklearn-color-unfitted-level-2: #ffe0b3;\n",
       "  --sklearn-color-unfitted-level-3: chocolate;\n",
       "  /* Definition of color scheme for fitted estimators */\n",
       "  --sklearn-color-fitted-level-0: #f0f8ff;\n",
       "  --sklearn-color-fitted-level-1: #d4ebff;\n",
       "  --sklearn-color-fitted-level-2: #b3dbfd;\n",
       "  --sklearn-color-fitted-level-3: cornflowerblue;\n",
       "\n",
       "  /* Specific color for light theme */\n",
       "  --sklearn-color-text-on-default-background: var(--sg-text-color, var(--theme-code-foreground, var(--jp-content-font-color1, black)));\n",
       "  --sklearn-color-background: var(--sg-background-color, var(--theme-background, var(--jp-layout-color0, white)));\n",
       "  --sklearn-color-border-box: var(--sg-text-color, var(--theme-code-foreground, var(--jp-content-font-color1, black)));\n",
       "  --sklearn-color-icon: #696969;\n",
       "\n",
       "  @media (prefers-color-scheme: dark) {\n",
       "    /* Redefinition of color scheme for dark theme */\n",
       "    --sklearn-color-text-on-default-background: var(--sg-text-color, var(--theme-code-foreground, var(--jp-content-font-color1, white)));\n",
       "    --sklearn-color-background: var(--sg-background-color, var(--theme-background, var(--jp-layout-color0, #111)));\n",
       "    --sklearn-color-border-box: var(--sg-text-color, var(--theme-code-foreground, var(--jp-content-font-color1, white)));\n",
       "    --sklearn-color-icon: #878787;\n",
       "  }\n",
       "}\n",
       "\n",
       "#sk-container-id-1 {\n",
       "  color: var(--sklearn-color-text);\n",
       "}\n",
       "\n",
       "#sk-container-id-1 pre {\n",
       "  padding: 0;\n",
       "}\n",
       "\n",
       "#sk-container-id-1 input.sk-hidden--visually {\n",
       "  border: 0;\n",
       "  clip: rect(1px 1px 1px 1px);\n",
       "  clip: rect(1px, 1px, 1px, 1px);\n",
       "  height: 1px;\n",
       "  margin: -1px;\n",
       "  overflow: hidden;\n",
       "  padding: 0;\n",
       "  position: absolute;\n",
       "  width: 1px;\n",
       "}\n",
       "\n",
       "#sk-container-id-1 div.sk-dashed-wrapped {\n",
       "  border: 1px dashed var(--sklearn-color-line);\n",
       "  margin: 0 0.4em 0.5em 0.4em;\n",
       "  box-sizing: border-box;\n",
       "  padding-bottom: 0.4em;\n",
       "  background-color: var(--sklearn-color-background);\n",
       "}\n",
       "\n",
       "#sk-container-id-1 div.sk-container {\n",
       "  /* jupyter's `normalize.less` sets `[hidden] { display: none; }`\n",
       "     but bootstrap.min.css set `[hidden] { display: none !important; }`\n",
       "     so we also need the `!important` here to be able to override the\n",
       "     default hidden behavior on the sphinx rendered scikit-learn.org.\n",
       "     See: https://github.com/scikit-learn/scikit-learn/issues/21755 */\n",
       "  display: inline-block !important;\n",
       "  position: relative;\n",
       "}\n",
       "\n",
       "#sk-container-id-1 div.sk-text-repr-fallback {\n",
       "  display: none;\n",
       "}\n",
       "\n",
       "div.sk-parallel-item,\n",
       "div.sk-serial,\n",
       "div.sk-item {\n",
       "  /* draw centered vertical line to link estimators */\n",
       "  background-image: linear-gradient(var(--sklearn-color-text-on-default-background), var(--sklearn-color-text-on-default-background));\n",
       "  background-size: 2px 100%;\n",
       "  background-repeat: no-repeat;\n",
       "  background-position: center center;\n",
       "}\n",
       "\n",
       "/* Parallel-specific style estimator block */\n",
       "\n",
       "#sk-container-id-1 div.sk-parallel-item::after {\n",
       "  content: \"\";\n",
       "  width: 100%;\n",
       "  border-bottom: 2px solid var(--sklearn-color-text-on-default-background);\n",
       "  flex-grow: 1;\n",
       "}\n",
       "\n",
       "#sk-container-id-1 div.sk-parallel {\n",
       "  display: flex;\n",
       "  align-items: stretch;\n",
       "  justify-content: center;\n",
       "  background-color: var(--sklearn-color-background);\n",
       "  position: relative;\n",
       "}\n",
       "\n",
       "#sk-container-id-1 div.sk-parallel-item {\n",
       "  display: flex;\n",
       "  flex-direction: column;\n",
       "}\n",
       "\n",
       "#sk-container-id-1 div.sk-parallel-item:first-child::after {\n",
       "  align-self: flex-end;\n",
       "  width: 50%;\n",
       "}\n",
       "\n",
       "#sk-container-id-1 div.sk-parallel-item:last-child::after {\n",
       "  align-self: flex-start;\n",
       "  width: 50%;\n",
       "}\n",
       "\n",
       "#sk-container-id-1 div.sk-parallel-item:only-child::after {\n",
       "  width: 0;\n",
       "}\n",
       "\n",
       "/* Serial-specific style estimator block */\n",
       "\n",
       "#sk-container-id-1 div.sk-serial {\n",
       "  display: flex;\n",
       "  flex-direction: column;\n",
       "  align-items: center;\n",
       "  background-color: var(--sklearn-color-background);\n",
       "  padding-right: 1em;\n",
       "  padding-left: 1em;\n",
       "}\n",
       "\n",
       "\n",
       "/* Toggleable style: style used for estimator/Pipeline/ColumnTransformer box that is\n",
       "clickable and can be expanded/collapsed.\n",
       "- Pipeline and ColumnTransformer use this feature and define the default style\n",
       "- Estimators will overwrite some part of the style using the `sk-estimator` class\n",
       "*/\n",
       "\n",
       "/* Pipeline and ColumnTransformer style (default) */\n",
       "\n",
       "#sk-container-id-1 div.sk-toggleable {\n",
       "  /* Default theme specific background. It is overwritten whether we have a\n",
       "  specific estimator or a Pipeline/ColumnTransformer */\n",
       "  background-color: var(--sklearn-color-background);\n",
       "}\n",
       "\n",
       "/* Toggleable label */\n",
       "#sk-container-id-1 label.sk-toggleable__label {\n",
       "  cursor: pointer;\n",
       "  display: flex;\n",
       "  width: 100%;\n",
       "  margin-bottom: 0;\n",
       "  padding: 0.5em;\n",
       "  box-sizing: border-box;\n",
       "  text-align: center;\n",
       "  align-items: start;\n",
       "  justify-content: space-between;\n",
       "  gap: 0.5em;\n",
       "}\n",
       "\n",
       "#sk-container-id-1 label.sk-toggleable__label .caption {\n",
       "  font-size: 0.6rem;\n",
       "  font-weight: lighter;\n",
       "  color: var(--sklearn-color-text-muted);\n",
       "}\n",
       "\n",
       "#sk-container-id-1 label.sk-toggleable__label-arrow:before {\n",
       "  /* Arrow on the left of the label */\n",
       "  content: \"▸\";\n",
       "  float: left;\n",
       "  margin-right: 0.25em;\n",
       "  color: var(--sklearn-color-icon);\n",
       "}\n",
       "\n",
       "#sk-container-id-1 label.sk-toggleable__label-arrow:hover:before {\n",
       "  color: var(--sklearn-color-text);\n",
       "}\n",
       "\n",
       "/* Toggleable content - dropdown */\n",
       "\n",
       "#sk-container-id-1 div.sk-toggleable__content {\n",
       "  max-height: 0;\n",
       "  max-width: 0;\n",
       "  overflow: hidden;\n",
       "  text-align: left;\n",
       "  /* unfitted */\n",
       "  background-color: var(--sklearn-color-unfitted-level-0);\n",
       "}\n",
       "\n",
       "#sk-container-id-1 div.sk-toggleable__content.fitted {\n",
       "  /* fitted */\n",
       "  background-color: var(--sklearn-color-fitted-level-0);\n",
       "}\n",
       "\n",
       "#sk-container-id-1 div.sk-toggleable__content pre {\n",
       "  margin: 0.2em;\n",
       "  border-radius: 0.25em;\n",
       "  color: var(--sklearn-color-text);\n",
       "  /* unfitted */\n",
       "  background-color: var(--sklearn-color-unfitted-level-0);\n",
       "}\n",
       "\n",
       "#sk-container-id-1 div.sk-toggleable__content.fitted pre {\n",
       "  /* unfitted */\n",
       "  background-color: var(--sklearn-color-fitted-level-0);\n",
       "}\n",
       "\n",
       "#sk-container-id-1 input.sk-toggleable__control:checked~div.sk-toggleable__content {\n",
       "  /* Expand drop-down */\n",
       "  max-height: 200px;\n",
       "  max-width: 100%;\n",
       "  overflow: auto;\n",
       "}\n",
       "\n",
       "#sk-container-id-1 input.sk-toggleable__control:checked~label.sk-toggleable__label-arrow:before {\n",
       "  content: \"▾\";\n",
       "}\n",
       "\n",
       "/* Pipeline/ColumnTransformer-specific style */\n",
       "\n",
       "#sk-container-id-1 div.sk-label input.sk-toggleable__control:checked~label.sk-toggleable__label {\n",
       "  color: var(--sklearn-color-text);\n",
       "  background-color: var(--sklearn-color-unfitted-level-2);\n",
       "}\n",
       "\n",
       "#sk-container-id-1 div.sk-label.fitted input.sk-toggleable__control:checked~label.sk-toggleable__label {\n",
       "  background-color: var(--sklearn-color-fitted-level-2);\n",
       "}\n",
       "\n",
       "/* Estimator-specific style */\n",
       "\n",
       "/* Colorize estimator box */\n",
       "#sk-container-id-1 div.sk-estimator input.sk-toggleable__control:checked~label.sk-toggleable__label {\n",
       "  /* unfitted */\n",
       "  background-color: var(--sklearn-color-unfitted-level-2);\n",
       "}\n",
       "\n",
       "#sk-container-id-1 div.sk-estimator.fitted input.sk-toggleable__control:checked~label.sk-toggleable__label {\n",
       "  /* fitted */\n",
       "  background-color: var(--sklearn-color-fitted-level-2);\n",
       "}\n",
       "\n",
       "#sk-container-id-1 div.sk-label label.sk-toggleable__label,\n",
       "#sk-container-id-1 div.sk-label label {\n",
       "  /* The background is the default theme color */\n",
       "  color: var(--sklearn-color-text-on-default-background);\n",
       "}\n",
       "\n",
       "/* On hover, darken the color of the background */\n",
       "#sk-container-id-1 div.sk-label:hover label.sk-toggleable__label {\n",
       "  color: var(--sklearn-color-text);\n",
       "  background-color: var(--sklearn-color-unfitted-level-2);\n",
       "}\n",
       "\n",
       "/* Label box, darken color on hover, fitted */\n",
       "#sk-container-id-1 div.sk-label.fitted:hover label.sk-toggleable__label.fitted {\n",
       "  color: var(--sklearn-color-text);\n",
       "  background-color: var(--sklearn-color-fitted-level-2);\n",
       "}\n",
       "\n",
       "/* Estimator label */\n",
       "\n",
       "#sk-container-id-1 div.sk-label label {\n",
       "  font-family: monospace;\n",
       "  font-weight: bold;\n",
       "  display: inline-block;\n",
       "  line-height: 1.2em;\n",
       "}\n",
       "\n",
       "#sk-container-id-1 div.sk-label-container {\n",
       "  text-align: center;\n",
       "}\n",
       "\n",
       "/* Estimator-specific */\n",
       "#sk-container-id-1 div.sk-estimator {\n",
       "  font-family: monospace;\n",
       "  border: 1px dotted var(--sklearn-color-border-box);\n",
       "  border-radius: 0.25em;\n",
       "  box-sizing: border-box;\n",
       "  margin-bottom: 0.5em;\n",
       "  /* unfitted */\n",
       "  background-color: var(--sklearn-color-unfitted-level-0);\n",
       "}\n",
       "\n",
       "#sk-container-id-1 div.sk-estimator.fitted {\n",
       "  /* fitted */\n",
       "  background-color: var(--sklearn-color-fitted-level-0);\n",
       "}\n",
       "\n",
       "/* on hover */\n",
       "#sk-container-id-1 div.sk-estimator:hover {\n",
       "  /* unfitted */\n",
       "  background-color: var(--sklearn-color-unfitted-level-2);\n",
       "}\n",
       "\n",
       "#sk-container-id-1 div.sk-estimator.fitted:hover {\n",
       "  /* fitted */\n",
       "  background-color: var(--sklearn-color-fitted-level-2);\n",
       "}\n",
       "\n",
       "/* Specification for estimator info (e.g. \"i\" and \"?\") */\n",
       "\n",
       "/* Common style for \"i\" and \"?\" */\n",
       "\n",
       ".sk-estimator-doc-link,\n",
       "a:link.sk-estimator-doc-link,\n",
       "a:visited.sk-estimator-doc-link {\n",
       "  float: right;\n",
       "  font-size: smaller;\n",
       "  line-height: 1em;\n",
       "  font-family: monospace;\n",
       "  background-color: var(--sklearn-color-background);\n",
       "  border-radius: 1em;\n",
       "  height: 1em;\n",
       "  width: 1em;\n",
       "  text-decoration: none !important;\n",
       "  margin-left: 0.5em;\n",
       "  text-align: center;\n",
       "  /* unfitted */\n",
       "  border: var(--sklearn-color-unfitted-level-1) 1pt solid;\n",
       "  color: var(--sklearn-color-unfitted-level-1);\n",
       "}\n",
       "\n",
       ".sk-estimator-doc-link.fitted,\n",
       "a:link.sk-estimator-doc-link.fitted,\n",
       "a:visited.sk-estimator-doc-link.fitted {\n",
       "  /* fitted */\n",
       "  border: var(--sklearn-color-fitted-level-1) 1pt solid;\n",
       "  color: var(--sklearn-color-fitted-level-1);\n",
       "}\n",
       "\n",
       "/* On hover */\n",
       "div.sk-estimator:hover .sk-estimator-doc-link:hover,\n",
       ".sk-estimator-doc-link:hover,\n",
       "div.sk-label-container:hover .sk-estimator-doc-link:hover,\n",
       ".sk-estimator-doc-link:hover {\n",
       "  /* unfitted */\n",
       "  background-color: var(--sklearn-color-unfitted-level-3);\n",
       "  color: var(--sklearn-color-background);\n",
       "  text-decoration: none;\n",
       "}\n",
       "\n",
       "div.sk-estimator.fitted:hover .sk-estimator-doc-link.fitted:hover,\n",
       ".sk-estimator-doc-link.fitted:hover,\n",
       "div.sk-label-container:hover .sk-estimator-doc-link.fitted:hover,\n",
       ".sk-estimator-doc-link.fitted:hover {\n",
       "  /* fitted */\n",
       "  background-color: var(--sklearn-color-fitted-level-3);\n",
       "  color: var(--sklearn-color-background);\n",
       "  text-decoration: none;\n",
       "}\n",
       "\n",
       "/* Span, style for the box shown on hovering the info icon */\n",
       ".sk-estimator-doc-link span {\n",
       "  display: none;\n",
       "  z-index: 9999;\n",
       "  position: relative;\n",
       "  font-weight: normal;\n",
       "  right: .2ex;\n",
       "  padding: .5ex;\n",
       "  margin: .5ex;\n",
       "  width: min-content;\n",
       "  min-width: 20ex;\n",
       "  max-width: 50ex;\n",
       "  color: var(--sklearn-color-text);\n",
       "  box-shadow: 2pt 2pt 4pt #999;\n",
       "  /* unfitted */\n",
       "  background: var(--sklearn-color-unfitted-level-0);\n",
       "  border: .5pt solid var(--sklearn-color-unfitted-level-3);\n",
       "}\n",
       "\n",
       ".sk-estimator-doc-link.fitted span {\n",
       "  /* fitted */\n",
       "  background: var(--sklearn-color-fitted-level-0);\n",
       "  border: var(--sklearn-color-fitted-level-3);\n",
       "}\n",
       "\n",
       ".sk-estimator-doc-link:hover span {\n",
       "  display: block;\n",
       "}\n",
       "\n",
       "/* \"?\"-specific style due to the `<a>` HTML tag */\n",
       "\n",
       "#sk-container-id-1 a.estimator_doc_link {\n",
       "  float: right;\n",
       "  font-size: 1rem;\n",
       "  line-height: 1em;\n",
       "  font-family: monospace;\n",
       "  background-color: var(--sklearn-color-background);\n",
       "  border-radius: 1rem;\n",
       "  height: 1rem;\n",
       "  width: 1rem;\n",
       "  text-decoration: none;\n",
       "  /* unfitted */\n",
       "  color: var(--sklearn-color-unfitted-level-1);\n",
       "  border: var(--sklearn-color-unfitted-level-1) 1pt solid;\n",
       "}\n",
       "\n",
       "#sk-container-id-1 a.estimator_doc_link.fitted {\n",
       "  /* fitted */\n",
       "  border: var(--sklearn-color-fitted-level-1) 1pt solid;\n",
       "  color: var(--sklearn-color-fitted-level-1);\n",
       "}\n",
       "\n",
       "/* On hover */\n",
       "#sk-container-id-1 a.estimator_doc_link:hover {\n",
       "  /* unfitted */\n",
       "  background-color: var(--sklearn-color-unfitted-level-3);\n",
       "  color: var(--sklearn-color-background);\n",
       "  text-decoration: none;\n",
       "}\n",
       "\n",
       "#sk-container-id-1 a.estimator_doc_link.fitted:hover {\n",
       "  /* fitted */\n",
       "  background-color: var(--sklearn-color-fitted-level-3);\n",
       "}\n",
       "</style><div id=\"sk-container-id-1\" class=\"sk-top-container\"><div class=\"sk-text-repr-fallback\"><pre>TfidfVectorizer(lowercase=False,\n",
       "                tokenizer=&lt;function &lt;lambda&gt; at 0x000001A94CD91DA0&gt;)</pre><b>In a Jupyter environment, please rerun this cell to show the HTML representation or trust the notebook. <br />On GitHub, the HTML representation is unable to render, please try loading this page with nbviewer.org.</b></div><div class=\"sk-container\" hidden><div class=\"sk-item\"><div class=\"sk-estimator fitted sk-toggleable\"><input class=\"sk-toggleable__control sk-hidden--visually\" id=\"sk-estimator-id-1\" type=\"checkbox\" checked><label for=\"sk-estimator-id-1\" class=\"sk-toggleable__label fitted sk-toggleable__label-arrow\"><div><div>TfidfVectorizer</div></div><div><a class=\"sk-estimator-doc-link fitted\" rel=\"noreferrer\" target=\"_blank\" href=\"https://scikit-learn.org/1.6/modules/generated/sklearn.feature_extraction.text.TfidfVectorizer.html\">?<span>Documentation for TfidfVectorizer</span></a><span class=\"sk-estimator-doc-link fitted\">i<span>Fitted</span></span></div></label><div class=\"sk-toggleable__content fitted\"><pre>TfidfVectorizer(lowercase=False,\n",
       "                tokenizer=&lt;function &lt;lambda&gt; at 0x000001A94CD91DA0&gt;)</pre></div> </div></div></div></div>"
      ],
      "text/plain": [
       "TfidfVectorizer(lowercase=False,\n",
       "                tokenizer=<function <lambda> at 0x000001A94CD91DA0>)"
      ]
     },
     "execution_count": 28,
     "metadata": {},
     "output_type": "execute_result"
    }
   ],
   "source": [
    "tfidf_vect = TfidfVectorizer(tokenizer=lambda x: x.split(), lowercase=False)\n",
    "tfidf_vect.fit(X_train)"
   ]
  },
  {
   "cell_type": "markdown",
   "metadata": {},
   "source": [
    "TF-IDF позволяет учитывать важность слова в документе. Взвешиваем word2vec эмбеддинги с использованием коэффициентов idf.  Используем именно idf, так как частота слова уже учтена при усреднении, когда каждое появление слова добавляет свой вклад в итоговый вектор."
   ]
  },
  {
   "cell_type": "code",
   "execution_count": 29,
   "metadata": {},
   "outputs": [],
   "source": [
    "def get_tfidf_weighted_avg_vector(text, embedding_model, vector_size, tfidf_vectorizer):\n",
    "    tokens = text.split()\n",
    "    weighted_vec = np.zeros(vector_size)\n",
    "    weight_sum = 0.0\n",
    "    for token in tokens:\n",
    "        if token in embedding_model and token in tfidf_vectorizer.vocabulary_:\n",
    "            idx = tfidf_vectorizer.vocabulary_[token]\n",
    "            weight = tfidf_vectorizer.idf_[idx]\n",
    "            weighted_vec += embedding_model[token] * weight\n",
    "            weight_sum += weight\n",
    "    if weight_sum != 0:\n",
    "        weighted_vec /= weight_sum\n",
    "    return weighted_vec"
   ]
  },
  {
   "cell_type": "code",
   "execution_count": 30,
   "metadata": {},
   "outputs": [
    {
     "name": "stderr",
     "output_type": "stream",
     "text": [
      "100%|██████████| 60000/60000 [00:21<00:00, 2749.13it/s]\n",
      "100%|██████████| 20000/20000 [00:07<00:00, 2799.43it/s]\n",
      "100%|██████████| 20000/20000 [00:07<00:00, 2800.02it/s]\n"
     ]
    }
   ],
   "source": [
    "# Применяем TF-IDF взвешивание для лучшей модели (word2vec)\n",
    "X_train_tfidf = np.vstack(X_train.progress_apply(lambda x: get_tfidf_weighted_avg_vector(x, w2v_model.wv, w2v_model.vector_size, tfidf_vect)))\n",
    "X_val_tfidf   = np.vstack(X_val.progress_apply(lambda x: get_tfidf_weighted_avg_vector(x, w2v_model.wv, w2v_model.vector_size, tfidf_vect)))\n",
    "X_test_tfidf  = np.vstack(X_test.progress_apply(lambda x: get_tfidf_weighted_avg_vector(x, w2v_model.wv, w2v_model.vector_size, tfidf_vect)))"
   ]
  },
  {
   "cell_type": "code",
   "execution_count": 31,
   "metadata": {},
   "outputs": [
    {
     "name": "stdout",
     "output_type": "stream",
     "text": [
      "Оценка модели с TF-IDF взвешенным усреднением эмбеддингов (word2vec):\n",
      "Validation accuracy (word2vec_tfidf): 0.7862\n",
      "\n",
      "Отчет о классификации word2vec_tfidf:\n",
      "                   precision    recall  f1-score   support\n",
      "\n",
      "                        0.00      0.00      0.00         7\n",
      "   69-я параллель       0.70      0.21      0.33        33\n",
      "       Библиотека       0.00      0.00      0.00         2\n",
      "           Бизнес       0.44      0.07      0.12       192\n",
      "      Бывший СССР       0.80      0.78      0.79      1427\n",
      "              Дом       0.84      0.78      0.80       593\n",
      "         Из жизни       0.60      0.55      0.58       740\n",
      "   Интернет и СМИ       0.73      0.65      0.69      1185\n",
      "             Крым       1.00      0.12      0.21        17\n",
      "    Культпросвет        0.00      0.00      0.00        10\n",
      "         Культура       0.85      0.87      0.86      1458\n",
      "          Легпром       0.00      0.00      0.00         2\n",
      "              Мир       0.76      0.83      0.79      3696\n",
      "  Наука и техника       0.79      0.80      0.80      1432\n",
      "      Путешествия       0.73      0.54      0.62       175\n",
      "           Россия       0.75      0.81      0.78      4381\n",
      "Силовые структуры       0.58      0.24      0.34       523\n",
      "            Спорт       0.97      0.96      0.96      1765\n",
      "         Ценности       0.82      0.76      0.79       211\n",
      "        Экономика       0.80      0.85      0.83      2151\n",
      "\n",
      "         accuracy                           0.79     20000\n",
      "        macro avg       0.61      0.49      0.51     20000\n",
      "     weighted avg       0.78      0.79      0.78     20000\n",
      "\n"
     ]
    }
   ],
   "source": [
    "print(\"Оценка модели с TF-IDF взвешенным усреднением эмбеддингов (word2vec):\")\n",
    "lr_tfidf, y_val_pred_tfidf, acc_tfidf = train_and_evaluate_lr(\n",
    "    X_train_tfidf, y_train, X_val_tfidf, y_val, model_name=\"word2vec_tfidf\"\n",
    ")"
   ]
  },
  {
   "cell_type": "markdown",
   "metadata": {},
   "source": [
    "### Финальное сравнение моделей на тестовой выборке\n",
    "Выводятся тестовая точность и отчеты о классификации для всех моделей."
   ]
  },
  {
   "cell_type": "code",
   "execution_count": 32,
   "metadata": {},
   "outputs": [
    {
     "name": "stdout",
     "output_type": "stream",
     "text": [
      "Тестовая точность (word2vec): 0.7919\n",
      "                   precision    recall  f1-score   support\n",
      "\n",
      "                        0.00      0.00      0.00         6\n",
      "   69-я параллель       1.00      0.15      0.26        33\n",
      "       Библиотека       0.00      0.00      0.00         2\n",
      "           Бизнес       0.69      0.11      0.20       192\n",
      "      Бывший СССР       0.80      0.78      0.79      1427\n",
      "              Дом       0.86      0.76      0.81       593\n",
      "         Из жизни       0.62      0.57      0.60       739\n",
      "   Интернет и СМИ       0.73      0.67      0.70      1185\n",
      "             Крым       0.00      0.00      0.00        17\n",
      "    Культпросвет        0.00      0.00      0.00         9\n",
      "         Культура       0.86      0.88      0.87      1458\n",
      "          Легпром       0.00      0.00      0.00         2\n",
      "              Мир       0.78      0.84      0.81      3696\n",
      "  Наука и техника       0.78      0.83      0.80      1433\n",
      "      Путешествия       0.78      0.54      0.64       175\n",
      "           Россия       0.75      0.81      0.78      4382\n",
      "Силовые структуры       0.56      0.22      0.32       523\n",
      "            Спорт       0.96      0.95      0.96      1765\n",
      "         Ценности       0.85      0.73      0.78       212\n",
      "        Экономика       0.80      0.86      0.83      2151\n",
      "\n",
      "         accuracy                           0.79     20000\n",
      "        macro avg       0.59      0.49      0.51     20000\n",
      "     weighted avg       0.79      0.79      0.78     20000\n",
      "\n"
     ]
    }
   ],
   "source": [
    "# Модель word2vec\n",
    "y_test_pred_w2v = lr_w2v.predict(X_test_w2v)\n",
    "acc_test_w2v = accuracy_score(y_test, y_test_pred_w2v)\n",
    "print(\"Тестовая точность (word2vec): {:.4f}\".format(acc_test_w2v))\n",
    "print(classification_report(y_test.values, y_test_pred_w2v, zero_division=0))"
   ]
  },
  {
   "cell_type": "code",
   "execution_count": 33,
   "metadata": {},
   "outputs": [
    {
     "name": "stdout",
     "output_type": "stream",
     "text": [
      "Тестовая точность (navec): 0.7801\n",
      "                   precision    recall  f1-score   support\n",
      "\n",
      "                        0.00      0.00      0.00         6\n",
      "   69-я параллель       0.62      0.15      0.24        33\n",
      "       Библиотека       0.00      0.00      0.00         2\n",
      "           Бизнес       0.57      0.11      0.18       192\n",
      "      Бывший СССР       0.79      0.78      0.78      1427\n",
      "              Дом       0.82      0.75      0.78       593\n",
      "         Из жизни       0.59      0.56      0.57       739\n",
      "   Интернет и СМИ       0.71      0.66      0.68      1185\n",
      "             Крым       0.00      0.00      0.00        17\n",
      "    Культпросвет        0.00      0.00      0.00         9\n",
      "         Культура       0.85      0.85      0.85      1458\n",
      "          Легпром       0.00      0.00      0.00         2\n",
      "              Мир       0.77      0.82      0.80      3696\n",
      "  Наука и техника       0.76      0.80      0.78      1433\n",
      "      Путешествия       0.69      0.49      0.57       175\n",
      "           Россия       0.75      0.81      0.78      4382\n",
      "Силовые структуры       0.50      0.23      0.31       523\n",
      "            Спорт       0.96      0.95      0.95      1765\n",
      "         Ценности       0.83      0.71      0.77       212\n",
      "        Экономика       0.80      0.85      0.82      2151\n",
      "\n",
      "         accuracy                           0.78     20000\n",
      "        macro avg       0.55      0.48      0.49     20000\n",
      "     weighted avg       0.77      0.78      0.77     20000\n",
      "\n"
     ]
    }
   ],
   "source": [
    "# Модель Navec\n",
    "y_test_pred_navec = lr_navec.predict(X_test_navec)\n",
    "acc_test_navec = accuracy_score(y_test, y_test_pred_navec)\n",
    "print(\"Тестовая точность (navec): {:.4f}\".format(acc_test_navec))\n",
    "print(classification_report(y_test.values, y_test_pred_navec, zero_division=0))"
   ]
  },
  {
   "cell_type": "code",
   "execution_count": 34,
   "metadata": {},
   "outputs": [
    {
     "name": "stdout",
     "output_type": "stream",
     "text": [
      "Тестовая точность (rusvectores): 0.7406\n",
      "                   precision    recall  f1-score   support\n",
      "\n",
      "                        0.00      0.00      0.00         6\n",
      "   69-я параллель       0.00      0.00      0.00        33\n",
      "       Библиотека       0.00      0.00      0.00         2\n",
      "           Бизнес       0.00      0.00      0.00       192\n",
      "      Бывший СССР       0.78      0.57      0.66      1427\n",
      "              Дом       0.82      0.64      0.72       593\n",
      "         Из жизни       0.60      0.44      0.51       739\n",
      "   Интернет и СМИ       0.70      0.57      0.63      1185\n",
      "             Крым       0.00      0.00      0.00        17\n",
      "    Культпросвет        0.00      0.00      0.00         9\n",
      "         Культура       0.81      0.85      0.83      1458\n",
      "          Легпром       0.00      0.00      0.00         2\n",
      "              Мир       0.72      0.82      0.77      3696\n",
      "  Наука и техника       0.73      0.78      0.76      1433\n",
      "      Путешествия       0.78      0.12      0.21       175\n",
      "           Россия       0.68      0.82      0.74      4382\n",
      "Силовые структуры       0.58      0.04      0.08       523\n",
      "            Спорт       0.95      0.93      0.94      1765\n",
      "         Ценности       0.91      0.50      0.64       212\n",
      "        Экономика       0.74      0.84      0.79      2151\n",
      "\n",
      "         accuracy                           0.74     20000\n",
      "        macro avg       0.49      0.40      0.41     20000\n",
      "     weighted avg       0.73      0.74      0.72     20000\n",
      "\n"
     ]
    }
   ],
   "source": [
    "# Модель RusVectores \n",
    "y_test_pred_rusvectores = lr_rusvectores.predict(X_test_rusvectores)\n",
    "acc_test_rusvectores = accuracy_score(y_test, y_test_pred_rusvectores)\n",
    "print(\"Тестовая точность (rusvectores): {:.4f}\".format(acc_test_rusvectores))\n",
    "print(classification_report(y_test.values, y_test_pred_rusvectores, zero_division=0))"
   ]
  },
  {
   "cell_type": "code",
   "execution_count": 35,
   "metadata": {},
   "outputs": [
    {
     "name": "stdout",
     "output_type": "stream",
     "text": [
      "Тестовая точность (word2vec с TF-IDF): 0.7887\n",
      "                   precision    recall  f1-score   support\n",
      "\n",
      "                        0.00      0.00      0.00         6\n",
      "   69-я параллель       0.70      0.21      0.33        33\n",
      "       Библиотека       0.00      0.00      0.00         2\n",
      "           Бизнес       0.75      0.11      0.19       192\n",
      "      Бывший СССР       0.80      0.78      0.79      1427\n",
      "              Дом       0.85      0.76      0.80       593\n",
      "         Из жизни       0.60      0.57      0.58       739\n",
      "   Интернет и СМИ       0.73      0.66      0.69      1185\n",
      "             Крым       0.00      0.00      0.00        17\n",
      "    Культпросвет        0.00      0.00      0.00         9\n",
      "         Культура       0.86      0.88      0.87      1458\n",
      "          Легпром       0.00      0.00      0.00         2\n",
      "              Мир       0.78      0.84      0.81      3696\n",
      "  Наука и техника       0.78      0.82      0.80      1433\n",
      "      Путешествия       0.76      0.52      0.62       175\n",
      "           Россия       0.75      0.81      0.78      4382\n",
      "Силовые структуры       0.54      0.22      0.31       523\n",
      "            Спорт       0.96      0.95      0.96      1765\n",
      "         Ценности       0.82      0.72      0.77       212\n",
      "        Экономика       0.80      0.86      0.83      2151\n",
      "\n",
      "         accuracy                           0.79     20000\n",
      "        macro avg       0.57      0.49      0.51     20000\n",
      "     weighted avg       0.78      0.79      0.78     20000\n",
      "\n"
     ]
    }
   ],
   "source": [
    "# Модель с TF-IDF взвешиванием (обученный word2vec)\n",
    "y_test_pred_tfidf = lr_tfidf.predict(X_test_tfidf)\n",
    "acc_test_tfidf = accuracy_score(y_test, y_test_pred_tfidf)\n",
    "print(\"Тестовая точность (word2vec с TF-IDF): {:.4f}\".format(acc_test_tfidf))\n",
    "print(classification_report(y_test.values, y_test_pred_tfidf, zero_division=0))"
   ]
  },
  {
   "cell_type": "markdown",
   "metadata": {},
   "source": [
    "| Модель                    | Тестовая точность | Macro Avg F1 | Weighted Avg F1 |\n",
    "|---------------------------|-------------------|--------------|-----------------|\n",
    "| word2vec с TF-IDF         | 0.7880            | 0.50         | 0.78            |\n",
    "| rusvectores               | 0.7403            | 0.41         | 0.72            |\n",
    "| navec                     | 0.7799            | 0.49         | 0.77            |\n",
    "| word2vec (без TF-IDF)     | 0.7917            | 0.50         | 0.78            |\n",
    "\n",
    "Лучшей моделью эмбеддингов оказалась word2vec (без TF-IDF), так как она продемонстрировала выше тестовую точность (0.7917) по сравнению с другими вариантами, при схожих показателях Macro Avg F1 и Weighted Avg F1."
   ]
  },
  {
   "cell_type": "markdown",
   "metadata": {},
   "source": []
  }
 ],
 "metadata": {
  "kernelspec": {
   "display_name": ".venv",
   "language": "python",
   "name": "python3"
  },
  "language_info": {
   "codemirror_mode": {
    "name": "ipython",
    "version": 3
   },
   "file_extension": ".py",
   "mimetype": "text/x-python",
   "name": "python",
   "nbconvert_exporter": "python",
   "pygments_lexer": "ipython3",
   "version": "3.12.8"
  }
 },
 "nbformat": 4,
 "nbformat_minor": 2
}
