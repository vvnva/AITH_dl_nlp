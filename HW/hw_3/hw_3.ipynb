{
 "cells": [
  {
   "cell_type": "code",
   "execution_count": null,
   "metadata": {},
   "outputs": [],
   "source": [
    "import os\n",
    "import random\n",
    "import numpy as np\n",
    "import torch\n",
    "import torch.nn as nn\n",
    "import torch.nn.functional as F\n",
    "from tqdm import trange\n",
    "import matplotlib.pyplot as plt\n",
    "from subword_nmt.learn_bpe import learn_bpe\n",
    "from subword_nmt.apply_bpe import BPE\n",
    "import numpy as np\n",
    "import matplotlib.pyplot as plt\n",
    "\n",
    "from nltk.tokenize import WordPunctTokenizer\n",
    "from nltk.translate.bleu_score import corpus_bleu\n",
    "\n",
    "from sklearn.model_selection import train_test_split\n",
    "from vocab import Vocab\n",
    "\n",
    "import torch\n",
    "import torch.nn as nn\n",
    "import torch.nn.functional as F\n",
    "\n",
    "from IPython.display import clear_output\n",
    "from tqdm import tqdm, trange"
   ]
  },
  {
   "cell_type": "code",
   "execution_count": 2,
   "metadata": {},
   "outputs": [
    {
     "name": "stdout",
     "output_type": "stream",
     "text": [
      "cuda\n"
     ]
    }
   ],
   "source": [
    "SEED = 2023\n",
    "random.seed(SEED)\n",
    "np.random.seed(SEED)\n",
    "torch.manual_seed(SEED)\n",
    "if torch.cuda.is_available():\n",
    "    torch.cuda.manual_seed(SEED)\n",
    "    \n",
    "device = 'cuda' if torch.cuda.is_available() else 'cpu'\n",
    "print(device)"
   ]
  },
  {
   "cell_type": "code",
   "execution_count": 3,
   "metadata": {},
   "outputs": [],
   "source": [
    "# !curl -L \"https://www.dropbox.com/s/yy2zqh34dyhv07i/data.txt?dl=1\" -o data.txt"
   ]
  },
  {
   "cell_type": "code",
   "execution_count": 4,
   "metadata": {},
   "outputs": [],
   "source": [
    "tokenizer = WordPunctTokenizer()\n",
    "\n",
    "def tokenize(x):\n",
    "  return ' '.join(tokenizer.tokenize(x.lower()))"
   ]
  },
  {
   "cell_type": "code",
   "execution_count": 5,
   "metadata": {},
   "outputs": [],
   "source": [
    "with open('train.en', 'w', encoding='utf-8') as f_src, open('train.ru', 'w', encoding='utf-8') as f_dst:\n",
    "    with open('data.txt', encoding='utf-8') as f:\n",
    "        for line in f:\n",
    "            src_line, dst_line = line.strip().split('\\t')\n",
    "            f_src.write(tokenize(src_line) + '\\n')\n",
    "            f_dst.write(tokenize(dst_line) + '\\n')"
   ]
  },
  {
   "cell_type": "code",
   "execution_count": 6,
   "metadata": {},
   "outputs": [
    {
     "name": "stderr",
     "output_type": "stream",
     "text": [
      "100%|██████████| 8000/8000 [00:04<00:00, 1953.76it/s]\n",
      "100%|██████████| 8000/8000 [00:04<00:00, 1790.79it/s]\n"
     ]
    }
   ],
   "source": [
    "bpe = {}\n",
    "for lang in ['en', 'ru']:\n",
    "    # Открываем входной файл для чтения с указанием кодировки, и файл для записи bpe-правил\n",
    "    with open('./train.' + lang, encoding='utf-8') as f_in, \\\n",
    "         open('bpe_rules.' + lang, 'w', encoding='utf-8') as f_out:\n",
    "        learn_bpe(f_in, f_out, num_symbols=8000)\n",
    "    \n",
    "    # Загружаем bpe-правила, опять с указанием кодировки\n",
    "    with open('bpe_rules.' + lang, encoding='utf-8') as f_rules:\n",
    "        bpe[lang] = BPE(f_rules)\n",
    "    \n",
    "    # Применяем BPE к обучающим данным и сохраняем результат\n",
    "    with open('./train.' + lang, encoding='utf-8') as f_in, \\\n",
    "         open('train.bpe.' + lang, 'w', encoding='utf-8') as f_out:\n",
    "        for line in f_in:\n",
    "            f_out.write(bpe[lang].process_line(line.strip()) + '\\n')"
   ]
  },
  {
   "cell_type": "code",
   "execution_count": 7,
   "metadata": {},
   "outputs": [
    {
     "name": "stdout",
     "output_type": "stream",
     "text": [
      "inp: этот отель находится в центре парижа , в 2 минутах от площади республики и станции метро с 5 лини@@ ями метро и 4 автобус@@ ными маршру@@ тами .\n",
      "out: this hotel is located in the centre of paris , 2 minutes from place de la ré@@ pub@@ li@@ que and its metro station , which offers 5 metro lines and 4 bus lines .\n",
      "\n",
      "inp: на полностью оборудованной мини - кухне можно самостоятельно готовить .\n",
      "out: there is a full kitchenette where guests are welcome to prepare their meals .\n",
      "\n",
      "inp: номера находятся под кры@@ шей или на ниж@@ них эта@@ жах с эр@@ ке@@ рами с видом на сад .\n",
      "out: set under the roof or on the lower floors with bay windows looking out onto the park , they are all equipped with wi - fi access .\n",
      "\n"
     ]
    }
   ],
   "source": [
    "data_inp = np.array(open('./train.bpe.ru', encoding='utf-8').read().split('\\n'))\n",
    "data_out = np.array(open('./train.bpe.en', encoding='utf-8').read().split('\\n'))\n",
    "\n",
    "train_inp, dev_inp, train_out, dev_out = train_test_split(\n",
    "    data_inp,\n",
    "    data_out,\n",
    "    test_size=3000,\n",
    "    random_state=2023,\n",
    ")\n",
    "\n",
    "for i in range(3):\n",
    "    print('inp:', train_inp[i])\n",
    "    print('out:', train_out[i], end='\\n\\n')"
   ]
  },
  {
   "cell_type": "code",
   "execution_count": 8,
   "metadata": {},
   "outputs": [],
   "source": [
    "inp_voc = Vocab.from_lines(train_inp)\n",
    "out_voc = Vocab.from_lines(train_out)"
   ]
  },
  {
   "cell_type": "code",
   "execution_count": 9,
   "metadata": {},
   "outputs": [
    {
     "name": "stdout",
     "output_type": "stream",
     "text": [
      "lines\n",
      "['гостевой дом r .', 'имеется балкон .', 'до афин — 20 км .', 'работает боулинг .', 'оборудован балкон .']\n",
      "\n",
      "words to ids (0 = bos, 1 = eos):\n",
      "tensor([[   0, 2688, 2943, 1109,   29,    1,    1,    1],\n",
      "        [   0, 3486, 1869,   29,    1,    1,    1,    1],\n",
      "        [   0, 2922, 1833, 8034,   59, 3799,   29,    1],\n",
      "        [   0, 6028, 2083,   29,    1,    1,    1,    1],\n",
      "        [   0, 4927, 1869,   29,    1,    1,    1,    1]])\n",
      "\n",
      "back to words\n",
      "['гостевой дом r .', 'имеется балкон .', 'до афин — 20 км .', 'работает боулинг .', 'оборудован балкон .']\n"
     ]
    }
   ],
   "source": [
    "batch_lines = sorted(train_inp, key=len)[5:10]\n",
    "batch_ids = inp_voc.to_matrix(batch_lines)\n",
    "batch_lines_restored = inp_voc.to_lines(batch_ids)\n",
    "\n",
    "print(\"lines\")\n",
    "print(batch_lines)\n",
    "print(\"\\nwords to ids (0 = bos, 1 = eos):\")\n",
    "print(batch_ids)\n",
    "print(\"\\nback to words\")\n",
    "print(batch_lines_restored)"
   ]
  },
  {
   "cell_type": "code",
   "execution_count": 10,
   "metadata": {},
   "outputs": [
    {
     "data": {
      "image/png": "[encoded data removed]",
      "text/plain": [
       "<Figure size 800x400 with 2 Axes>"
      ]
     },
     "metadata": {},
     "output_type": "display_data"
    }
   ],
   "source": [
    "plt.figure(figsize=[8, 4])\n",
    "plt.subplot(1, 2, 1)\n",
    "plt.title(\"source length\")\n",
    "plt.hist(list(map(len, map(str.split, train_inp))), bins=20);\n",
    "\n",
    "plt.subplot(1, 2, 2)\n",
    "plt.title(\"translation length\")\n",
    "plt.hist(list(map(len, map(str.split, train_out))), bins=20);"
   ]
  },
  {
   "cell_type": "code",
   "execution_count": 11,
   "metadata": {},
   "outputs": [],
   "source": [
    "def compute_bleu(model, inp_lines, out_lines, bpe_sep='@@ ', **flags):\n",
    "    \"\"\"\n",
    "    Estimates corpora-level BLEU score of model's translations given inp and reference out\n",
    "    \"\"\"\n",
    "    with torch.no_grad():\n",
    "        translations, _ = model.translate_lines(inp_lines, **flags)\n",
    "        translations = [line.replace(bpe_sep, '') for line in translations]\n",
    "        actual = [line.replace(bpe_sep, '') for line in out_lines]\n",
    "        return corpus_bleu(\n",
    "            [[ref.split()] for ref in actual],\n",
    "            [trans.split() for trans in translations],\n",
    "            smoothing_function=lambda precisions, **kw: [p + 1.0 / p.denominator for p in precisions]\n",
    "        ) * 100"
   ]
  },
  {
   "cell_type": "code",
   "execution_count": 12,
   "metadata": {},
   "outputs": [],
   "source": [
    "def compute_loss(model, inp, out, **flags):\n",
    "    \"\"\"\n",
    "    Compute loss (float32 scalar) as in the formula above\n",
    "    :param inp: input tokens matrix, int32[batch, time]\n",
    "    :param out: reference tokens matrix, int32[batch, time]\n",
    "\n",
    "    In order to pass the tests, your function should\n",
    "    * include loss at first EOS but not the subsequent ones\n",
    "    * divide sum of losses by a sum of input lengths (use voc.compute_mask)\n",
    "    \"\"\"\n",
    "    mask = model.out_voc.compute_mask(out) # [batch_size, out_len]\n",
    "    targets_1hot = F.one_hot(out, len(model.out_voc)).to(torch.float32)\n",
    "\n",
    "    # outputs of the model, [batch_size, out_len, num_tokens]\n",
    "    logits_seq = model(inp, out)\n",
    "\n",
    "    # log-probabilities of all tokens at all steps, [batch_size, out_len, num_tokens]\n",
    "    logprobs_seq = torch.log_softmax(logits_seq, dim=-1)\n",
    "\n",
    "    # log-probabilities of correct outputs, [batch_size, out_len]\n",
    "    logp_out = (logprobs_seq * targets_1hot).sum(dim=-1)\n",
    "    # ^-- this will select the probability of the actual next token.\n",
    "    # Note: you can compute loss more efficiently using using F.cross_entropy\n",
    "\n",
    "    # average cross-entropy over tokens where mask == True\n",
    "    return -logp_out[mask].mean()"
   ]
  },
  {
   "cell_type": "code",
   "execution_count": 13,
   "metadata": {},
   "outputs": [],
   "source": [
    "class BasicModel(nn.Module):\n",
    "    def __init__(self, inp_voc, out_voc, emb_size=64, hid_size=128):\n",
    "        \"\"\"\n",
    "        A simple encoder-decoder seq2seq model\n",
    "        \"\"\"\n",
    "        super().__init__()\n",
    "\n",
    "        self.inp_voc, self.out_voc = inp_voc, out_voc\n",
    "        self.hid_size = hid_size\n",
    "\n",
    "        self.emb_inp = nn.Embedding(len(inp_voc), emb_size)\n",
    "        self.emb_out = nn.Embedding(len(out_voc), emb_size)\n",
    "        self.enc0 = nn.GRU(emb_size, hid_size, batch_first=True)\n",
    "\n",
    "        self.dec_start = nn.Linear(hid_size, hid_size)\n",
    "        self.dec0 = nn.GRUCell(emb_size, hid_size)\n",
    "        self.logits = nn.Linear(hid_size, len(out_voc))\n",
    "\n",
    "    def forward(self, inp, out):\n",
    "        \"\"\" Apply model in training mode \"\"\"\n",
    "        initial_state = self.encode(inp)\n",
    "        return self.decode(initial_state, out)\n",
    "\n",
    "\n",
    "    def encode(self, inp, **flags):\n",
    "        \"\"\"\n",
    "        Takes input sequence, computes initial state\n",
    "        :param inp: matrix of input tokens [batch, time]\n",
    "        :returns: initial decoder state tensors, one or many\n",
    "        \"\"\"\n",
    "        inp_emb = self.emb_inp(inp)\n",
    "        batch_size = inp.shape[0]\n",
    "\n",
    "        enc_seq, last_state_but_not_really = self.enc0(inp_emb)\n",
    "        # enc_seq: [batch, sequence length, hid_size], last_state: [batch, hid_size]\n",
    "\n",
    "        # note: last_state is not _actually_ last because of padding, let's find the real last_state\n",
    "        lengths = (inp != self.inp_voc.eos_ix).to(torch.int64).sum(dim=1).clamp_max(inp.shape[1] - 1)\n",
    "        last_state = enc_seq[torch.arange(len(enc_seq)), lengths]\n",
    "        # ^-- shape: [batch_size, hid_size]\n",
    "\n",
    "        dec_start = self.dec_start(last_state)\n",
    "        return [dec_start]\n",
    "\n",
    "    def decode_step(self, prev_state, prev_tokens, **flags):\n",
    "        \"\"\"\n",
    "        Takes previous decoder state and tokens, returns new state and logits for next tokens\n",
    "        :param prev_state: a list of previous decoder state tensors, same as returned by encode(...)\n",
    "        :param prev_tokens: previous output tokens, an int vector of [batch_size]\n",
    "        :return: a list of next decoder state tensors, a tensor of logits [batch, len(out_voc)]\n",
    "        \"\"\"\n",
    "        prev_gru0_state = prev_state[0]\n",
    "        prev_emb = self.emb_out(prev_tokens)\n",
    "        new_dec_state = self.dec0(prev_emb, prev_gru0_state) # input & hidden states\n",
    "        output_logits = self.logits(new_dec_state)\n",
    "\n",
    "        return [new_dec_state], output_logits\n",
    "\n",
    "    def decode(self, initial_state, out_tokens, **flags):\n",
    "        \"\"\" Iterate over reference tokens (out_tokens) with decode_step \"\"\"\n",
    "        batch_size = out_tokens.shape[0]\n",
    "        state = initial_state\n",
    "\n",
    "        # initial logits: always predict BOS\n",
    "        onehot_bos = F.one_hot(torch.full([batch_size], self.out_voc.bos_ix, dtype=torch.int64),\n",
    "                               num_classes=len(self.out_voc)).to(device=out_tokens.device)\n",
    "        first_logits = torch.log(onehot_bos.to(torch.float32) + 1e-9)\n",
    "\n",
    "        logits_sequence = [first_logits]\n",
    "        for i in range(out_tokens.shape[1] - 1):\n",
    "            state, logits = self.decode_step(state, out_tokens[:, i])\n",
    "            logits_sequence.append(logits)\n",
    "        return torch.stack(logits_sequence, dim=1)\n",
    "\n",
    "    def decode_inference(self, initial_state, max_len=100, **flags):\n",
    "        \"\"\" Generate translations from model (greedy version) \"\"\"\n",
    "        batch_size, device = len(initial_state[0]), initial_state[0].device\n",
    "        state = initial_state\n",
    "        outputs = [torch.full([batch_size], self.out_voc.bos_ix, dtype=torch.int64,\n",
    "                              device=device)]\n",
    "        all_states = [initial_state]\n",
    "\n",
    "        for i in range(max_len):\n",
    "            state, logits = self.decode_step(state, outputs[-1])\n",
    "            outputs.append(logits.argmax(dim=-1))\n",
    "            all_states.append(state)\n",
    "\n",
    "        return torch.stack(outputs, dim=1), all_states\n",
    "\n",
    "    def translate_lines(self, inp_lines, **kwargs):\n",
    "        inp = self.inp_voc.to_matrix(inp_lines).to(device)\n",
    "        initial_state = self.encode(inp)\n",
    "        out_ids, states = self.decode_inference(initial_state, **kwargs)\n",
    "        return self.out_voc.to_lines(out_ids.cpu().numpy()), states\n"
   ]
  },
  {
   "cell_type": "code",
   "execution_count": 14,
   "metadata": {},
   "outputs": [],
   "source": [
    "class AttentionLayer(nn.Module):\n",
    "    def __init__(self, enc_size, dec_size, hid_size):\n",
    "        \"\"\" A layer that computes additive attention response and weights \"\"\"\n",
    "        super().__init__()\n",
    "        self.enc_size = enc_size # num units in encoder state\n",
    "        self.dec_size = dec_size # num units in decoder state\n",
    "        self.hid_size = hid_size # attention layer hidden units\n",
    "\n",
    "        self.linear_enc = nn.Linear(enc_size, hid_size)\n",
    "        self.linear_dec = nn.Linear(dec_size, hid_size)\n",
    "        self.linear_out = nn.Linear(hid_size, 1)\n",
    "        self.softmax = nn.Softmax(dim=-1)\n",
    "\n",
    "    def forward(self, enc, dec, inp_mask):\n",
    "        \"\"\"\n",
    "        Computes attention response and weights\n",
    "        :param enc: encoder activation sequence, float32[batch_size, ninp, enc_size]\n",
    "        :param dec: single decoder state used as \"query\", float32[batch_size, dec_size]\n",
    "        :param inp_mask: mask on enc activatons (0 after first eos), float32 [batch_size, ninp]\n",
    "        :returns: attn[batch_size, enc_size], probs[batch_size, ninp]\n",
    "            - attn - attention response vector (weighted sum of enc)\n",
    "            - probs - attention weights after softmax\n",
    "        \"\"\"\n",
    "        batch_size, ninp, enc_size = enc.shape\n",
    "\n",
    "        # Compute logits\n",
    "        x = self.linear_dec(dec).reshape(-1, 1, self.hid_size)\n",
    "        x = torch.tanh(self.linear_enc(enc) + x)\n",
    "        x = self.linear_out(x)\n",
    "\n",
    "        # Apply mask - if mask is 0, logits should be -inf or -1e9\n",
    "        # You may need torch.where\n",
    "        x[torch.where(inp_mask == False)] = -1e9\n",
    "\n",
    "        # Compute attention probabilities (softmax)\n",
    "        probs = self.softmax(x.reshape(batch_size, ninp))\n",
    "\n",
    "        # Compute attention response using enc and probs\n",
    "        attn = (probs.reshape(batch_size, ninp, 1) * enc).sum(1)\n",
    "\n",
    "        return attn, probs"
   ]
  },
  {
   "cell_type": "code",
   "execution_count": 15,
   "metadata": {},
   "outputs": [],
   "source": [
    "class AttentiveModel(BasicModel):\n",
    "    def __init__(self, inp_voc, out_voc, emb_size=64, hid_size=128, attn_size=128):\n",
    "        \"\"\" Translation model that uses attention. See instructions above. \"\"\"\n",
    "        super().__init__(inp_voc, out_voc, emb_size, hid_size)\n",
    "        self.inp_voc, self.out_voc = inp_voc, out_voc\n",
    "        self.hid_size = hid_size\n",
    "\n",
    "        self.enc0 = nn.LSTM(emb_size, hid_size, num_layers=2, batch_first=True)\n",
    "        self.dec_start = nn.Linear(hid_size, hid_size)\n",
    "\n",
    "        self.dec0 = nn.GRUCell(emb_size + hid_size, hid_size)\n",
    "        self.attention = AttentionLayer(hid_size, hid_size, attn_size)\n",
    "\n",
    "\n",
    "    def encode(self, inp, **flags):\n",
    "        \"\"\"\n",
    "        Takes input sequences, computes initial state\n",
    "        :param inp: matrix of input tokens [batch, time]\n",
    "        :return: a list of initial decoder state tensors\n",
    "        \"\"\"\n",
    "        # encode input sequence, create initial decoder states\n",
    "        inp_emb = self.emb_inp(inp)\n",
    "        enc_seq, last_state_but_not_really = self.enc0(inp_emb)\n",
    "        #[dec_start] = super().encode(inp, **flags)\n",
    "\n",
    "        lengths = (inp != self.inp_voc.eos_ix).to(torch.int64).sum(dim=1).clamp_max(inp.shape[1] - 1)\n",
    "        last_state = enc_seq[torch.arange(len(enc_seq)), lengths]\n",
    "        # ^-- shape: [batch_size, hid_size]\n",
    "        dec_start = self.dec_start(last_state)\n",
    "\n",
    "        # apply attention layer from initial decoder hidden state\n",
    "        inp_mask = self.out_voc.compute_mask(inp)\n",
    "        first_attn_probas = self.attention(enc_seq, dec_start, inp_mask)\n",
    "\n",
    "        # Build first state: include\n",
    "        # * initial states for decoder recurrent layers\n",
    "        # * encoder sequence and encoder attn mask (for attention)\n",
    "        # * make sure that last state item is attention probabilities tensor\n",
    "\n",
    "        first_state = [dec_start, enc_seq, inp_mask, first_attn_probas]\n",
    "        return first_state\n",
    "\n",
    "    def decode_step(self, prev_state, prev_tokens, **flags):\n",
    "        \"\"\"\n",
    "        Takes previous decoder state and tokens, returns new state and logits for next tokens\n",
    "        :param prev_state: a list of previous decoder state tensors\n",
    "        :param prev_tokens: previous output tokens, an int vector of [batch_size]\n",
    "        :return: a list of next decoder state tensors, a tensor of logits [batch, n_tokens]\n",
    "        \"\"\"\n",
    "\n",
    "        prev_gru0_state, enc_seq, enc_mask, _ = prev_state\n",
    "        attn, attn_probs = self.attention(enc_seq, prev_gru0_state, enc_mask)\n",
    "\n",
    "        x = self.emb_out(prev_tokens)\n",
    "        x = torch.cat([attn, x], dim=-1)\n",
    "        x = self.dec0(x, prev_gru0_state)\n",
    "\n",
    "        new_dec_state = [x, enc_seq, enc_mask, attn_probs]\n",
    "        output_logits = self.logits(x)\n",
    "        return [new_dec_state, output_logits]\n"
   ]
  },
  {
   "cell_type": "code",
   "execution_count": 16,
   "metadata": {},
   "outputs": [],
   "source": [
    "metrics = {'train_loss': [], 'dev_bleu': [] }\n",
    "\n",
    "model = AttentiveModel(inp_voc, out_voc).to(device)\n",
    "opt = torch.optim.Adam(model.parameters(), lr=1e-3)\n",
    "batch_size = 32"
   ]
  },
  {
   "cell_type": "code",
   "execution_count": 17,
   "metadata": {},
   "outputs": [
    {
     "data": {
      "text/plain": [
       "0.0020583114022427644"
      ]
     },
     "execution_count": 17,
     "metadata": {},
     "output_type": "execute_result"
    }
   ],
   "source": [
    "compute_bleu(model, dev_inp, dev_out)"
   ]
  },
  {
   "cell_type": "code",
   "execution_count": 18,
   "metadata": {},
   "outputs": [
    {
     "data": {
      "image/png": "[encoded data removed]",
      "text/plain": [
       "<Figure size 1200x400 with 2 Axes>"
      ]
     },
     "metadata": {},
     "output_type": "display_data"
    },
    {
     "name": "stdout",
     "output_type": "stream",
     "text": [
      "Mean loss=1.512\n"
     ]
    },
    {
     "name": "stderr",
     "output_type": "stream",
     "text": [
      "100%|██████████| 25000/25000 [40:33<00:00, 10.27it/s]\n"
     ]
    }
   ],
   "source": [
    "for _ in trange(25000):\n",
    "    step = len(metrics['train_loss']) + 1\n",
    "    batch_ix = np.random.randint(len(train_inp), size=batch_size)\n",
    "    batch_inp = inp_voc.to_matrix(train_inp[batch_ix]).to(device)\n",
    "    batch_out = out_voc.to_matrix(train_out[batch_ix]).to(device)\n",
    "\n",
    "    opt.zero_grad()\n",
    "    loss_t = compute_loss(model, batch_inp, batch_out)\n",
    "    loss_t.backward()\n",
    "    opt.step()\n",
    "\n",
    "    metrics['train_loss'].append((step, loss_t.item()))\n",
    "\n",
    "    if step % 100 == 0:\n",
    "        metrics['dev_bleu'].append((step, compute_bleu(model, dev_inp, dev_out)))\n",
    "\n",
    "        clear_output(True)\n",
    "        plt.figure(figsize=(12,4))\n",
    "        for i, (name, history) in enumerate(sorted(metrics.items())):\n",
    "            plt.subplot(1, len(metrics), i + 1)\n",
    "            plt.title(name)\n",
    "            plt.plot(*zip(*history))\n",
    "            plt.grid()\n",
    "        plt.show()\n",
    "        print(\"Mean loss=%.3f\" % np.mean(metrics['train_loss'][-10:], axis=0)[1], flush=True)\n"
   ]
  },
  {
   "cell_type": "code",
   "execution_count": 19,
   "metadata": {},
   "outputs": [
    {
     "data": {
      "text/plain": [
       "22.523643306450086"
      ]
     },
     "execution_count": 19,
     "metadata": {},
     "output_type": "execute_result"
    }
   ],
   "source": [
    "compute_bleu(model, dev_inp, dev_out)"
   ]
  },
  {
   "cell_type": "code",
   "execution_count": null,
   "metadata": {},
   "outputs": [
    {
     "name": "stdout",
     "output_type": "stream",
     "text": [
      "в ванной комнате с ванной предоставляется фен .\n",
      "the bathroom comes with a bath and a hairdryer .\n",
      "\n",
      "на территории можно сыграть в дартс и сквош .\n",
      "guests can enjoy a game of billiards and darts .\n",
      "\n",
      "апартаменты располагают гостиной зоной .\n",
      "the apartments feature a seating area .\n",
      "\n",
      "гости могут самостоятельно приготовить блюда на полностью укомплектованной кухне .\n",
      "guests can prepare their meals in the fully equipped kitchen .\n",
      "\n",
      "к услугам гостей 2 спальни и 1 ванная комната с ванной и / или душем , а также кухня с духовкой и микроволновой печью .\n",
      "the 2 - bedroom house has 2 bedrooms and 1 bathroom with a bath and a bidet , and a microwave .\n",
      "\n",
      "ужин для гостей приготовят в ресторане ron@@ ni@@ e ' s w@@ ing@@ s & o@@ y@@ st@@ er bar .\n",
      "the l@@ ace gallery ' s coffee - friendly hotel ’ s coffee shop is served at the santa cruz ' s best value inn .\n",
      "\n"
     ]
    }
   ],
   "source": [
    "for inp_line, trans_line in zip(dev_inp[::500], model.translate_lines(dev_inp[::500])[0]):\n",
    "    print(inp_line)\n",
    "    print(trans_line)\n",
    "    print()"
   ]
  },
  {
   "cell_type": "markdown",
   "metadata": {},
   "source": [
    "### Что можно улучшить\n",
    "\n",
    "* продолжить эксперименты с различными RNN юнитами: gru/lstm; более глубокие архитектуры\n",
    "* Сделать encoder двунаправленным, попробовать различные attention (additive, dot-product, multi-head, ...)\n",
    "* улучшить training-процесс: lr sheduling, early stopping и т.п.\n",
    "* заменить greedy инференс на другие варианты"
   ]
  },
  {
   "cell_type": "markdown",
   "metadata": {},
   "source": [
    "## Домашнее задание 3"
   ]
  },
  {
   "cell_type": "code",
   "execution_count": 1,
   "metadata": {},
   "outputs": [
    {
     "name": "stdout",
     "output_type": "stream",
     "text": [
      "Устройство: cuda\n"
     ]
    }
   ],
   "source": [
    "import random\n",
    "import numpy as np\n",
    "import torch\n",
    "import torch.nn as nn\n",
    "import torch.nn.functional as F\n",
    "from tqdm import trange\n",
    "import matplotlib.pyplot as plt\n",
    "from subword_nmt.learn_bpe import learn_bpe\n",
    "from subword_nmt.apply_bpe import BPE\n",
    "\n",
    "from nltk.tokenize import WordPunctTokenizer\n",
    "from nltk.translate.bleu_score import corpus_bleu\n",
    "\n",
    "from sklearn.model_selection import train_test_split\n",
    "from vocab import Vocab\n",
    "from IPython.display import clear_output\n",
    "\n",
    "# Фиксирование всех сидов для воспроизводимости\n",
    "SEED = 2023\n",
    "random.seed(SEED)\n",
    "np.random.seed(SEED)\n",
    "torch.manual_seed(SEED)\n",
    "if torch.cuda.is_available():\n",
    "    torch.cuda.manual_seed(SEED)\n",
    "\n",
    "device = 'cuda' if torch.cuda.is_available() else 'cpu'\n",
    "print(\"Устройство:\", device)"
   ]
  },
  {
   "cell_type": "markdown",
   "metadata": {},
   "source": [
    "#### 1. Модификация предобработки и ограничения размера словаря\n",
    "- Добавляю предобработку текста: приведение к нижнему регистру и удаление лишних пробелов\n",
    "- Увеличивааю размер словаря до 20000 для лучшего покрытия"
   ]
  },
  {
   "cell_type": "code",
   "execution_count": 2,
   "metadata": {},
   "outputs": [
    {
     "name": "stdout",
     "output_type": "stream",
     "text": [
      "Исходная строка: '  This   is, an Example! of TEXT.   '\n",
      "После токенизации: 'this is, an example! of text.'\n"
     ]
    }
   ],
   "source": [
    "def tokenize(x):\n",
    "    \"\"\"Предобработкой для BPE.\n",
    "    1. Приведение к нижнему регистру\n",
    "    2. Удаление лишних пробелов\n",
    "    \"\"\"\n",
    "    x = x.lower()\n",
    "    x = ' '.join(x.split())\n",
    "    return x\n",
    "\n",
    "example_text = \"  This   is, an Example! of TEXT.   \"\n",
    "result = tokenize(example_text)\n",
    "print(\"Исходная строка:\", repr(example_text))\n",
    "print(\"После токенизации:\", repr(result))"
   ]
  },
  {
   "cell_type": "code",
   "execution_count": 3,
   "metadata": {},
   "outputs": [
    {
     "name": "stderr",
     "output_type": "stream",
     "text": [
      "100%|██████████| 15000/15000 [00:07<00:00, 1929.52it/s]\n",
      "100%|██████████| 15000/15000 [00:09<00:00, 1529.36it/s]\n"
     ]
    }
   ],
   "source": [
    "tokenizer = WordPunctTokenizer()\n",
    "\n",
    "with open('train.en', 'w', encoding='utf-8') as f_src, open('train.ru', 'w', encoding='utf-8') as f_dst:\n",
    "    with open('data.txt', encoding='utf-8') as f:\n",
    "        for line in f:\n",
    "            src_line, dst_line = line.strip().split('\\t')\n",
    "            f_src.write(tokenize(src_line) + '\\n')\n",
    "            f_dst.write(tokenize(dst_line) + '\\n')\n",
    "\n",
    "# Определяем размер словаря для BPE\n",
    "num_symbols = 15000  # увеличенное значение для лучшего покрытия\n",
    "\n",
    "bpe = {}\n",
    "for lang in ['en', 'ru']:\n",
    "    with open('./train.' + lang, encoding='utf-8') as fin, \\\n",
    "         open('bpe_rules.' + lang, 'w', encoding='utf-8') as fout:\n",
    "        learn_bpe(fin, fout, num_symbols=num_symbols)\n",
    "    \n",
    "    with open('bpe_rules.' + lang, encoding='utf-8') as f_rules:\n",
    "        bpe[lang] = BPE(f_rules)\n",
    "    \n",
    "    with open('train.bpe.' + lang, 'w', encoding='utf-8') as f_out, \\\n",
    "         open('./train.' + lang, encoding='utf-8') as fin:\n",
    "        for line in fin:\n",
    "            f_out.write(bpe[lang].process_line(line.strip()) + '\\n')\n",
    "\n",
    "data_inp = np.array(open('./train.bpe.ru', encoding='utf-8').read().split('\\n'))\n",
    "data_out = np.array(open('./train.bpe.en', encoding='utf-8').read().split('\\n'))\n",
    "\n",
    "train_inp, dev_inp, train_out, dev_out = train_test_split(\n",
    "    data_inp,\n",
    "    data_out,\n",
    "    test_size=3000,\n",
    "    random_state=SEED,\n",
    ")\n",
    "\n",
    "inp_voc = Vocab.from_lines(train_inp)\n",
    "out_voc = Vocab.from_lines(train_out)"
   ]
  },
  {
   "cell_type": "code",
   "execution_count": 4,
   "metadata": {},
   "outputs": [
    {
     "name": "stdout",
     "output_type": "stream",
     "text": [
      "inp: этот отель находится в центре парижа, в 2 минутах от площади республики и станции метро с 5 лини@@ ями метро и 4 автобус@@ ными маршру@@ тами.\n",
      "out: this hotel is located in the centre of paris, 2 minutes from place de la ré@@ publ@@ ique and its metro station, which offers 5 metro lines and 4 bus lin@@ es.\n",
      "\n",
      "inp: на полностью оборудованной мини-кухне можно самостоятельно готовить.\n",
      "out: there is a full kitchenette where guests are welcome to prepare their meals.\n",
      "\n",
      "inp: номера находятся под крышей или на ниж@@ них эта@@ жах с эр@@ ке@@ рами с видом на сад.\n",
      "out: set under the roof or on the lower floors with bay windows looking out onto the park, they are all equipped with wi-fi access.\n",
      "\n"
     ]
    }
   ],
   "source": [
    "for i in range(3):\n",
    "    print('inp:', train_inp[i])\n",
    "    print('out:', train_out[i], end='\\n\\n')"
   ]
  },
  {
   "cell_type": "markdown",
   "metadata": {},
   "source": [
    "#### 2. Альтернативная модель с bidirectional энкодером и настраиваемым числом слоёв\n",
    "\n",
    "Взяла функции из лекций для AttentionLayer, compute_loss, compute_bleu"
   ]
  },
  {
   "cell_type": "code",
   "execution_count": 5,
   "metadata": {},
   "outputs": [],
   "source": [
    "class AttentionLayer(nn.Module):\n",
    "    def __init__(self, enc_size, dec_size, hid_size):\n",
    "        \"\"\" A layer that computes additive attention response and weights \"\"\"\n",
    "        super().__init__()\n",
    "        self.enc_size = enc_size # num units in encoder state\n",
    "        self.dec_size = dec_size # num units in decoder state\n",
    "        self.hid_size = hid_size # attention layer hidden units\n",
    "\n",
    "        self.linear_enc = nn.Linear(enc_size, hid_size)\n",
    "        self.linear_dec = nn.Linear(dec_size, hid_size)\n",
    "        self.linear_out = nn.Linear(hid_size, 1)\n",
    "        self.softmax = nn.Softmax(dim=-1)\n",
    "\n",
    "    def forward(self, enc, dec, inp_mask):\n",
    "        batch_size, ninp, enc_size = enc.shape\n",
    "\n",
    "        x = self.linear_dec(dec).reshape(-1, 1, self.hid_size)\n",
    "        x = torch.tanh(self.linear_enc(enc) + x)\n",
    "        x = self.linear_out(x)\n",
    "        x[torch.where(inp_mask == False)] = -1e9\n",
    "        probs = self.softmax(x.reshape(batch_size, ninp))\n",
    "        attn = (probs.reshape(batch_size, ninp, 1) * enc).sum(1)\n",
    "\n",
    "        return attn, probs"
   ]
  },
  {
   "cell_type": "code",
   "execution_count": 6,
   "metadata": {},
   "outputs": [],
   "source": [
    "def compute_loss(model, inp, out, **flags):\n",
    "    \"\"\"\n",
    "    Compute loss (float32 scalar) as in the formula above\n",
    "    :param inp: input tokens matrix, int32[batch, time]\n",
    "    :param out: reference tokens matrix, int32[batch, time]\n",
    "\n",
    "    In order to pass the tests, your function should\n",
    "    * include loss at first EOS but not the subsequent ones\n",
    "    * divide sum of losses by a sum of input lengths (use voc.compute_mask)\n",
    "    \"\"\"\n",
    "    mask = model.out_voc.compute_mask(out) # [batch_size, out_len]\n",
    "    targets_1hot = F.one_hot(out, len(model.out_voc)).to(torch.float32)\n",
    "\n",
    "    # outputs of the model, [batch_size, out_len, num_tokens]\n",
    "    logits_seq = model(inp, out)\n",
    "\n",
    "    # log-probabilities of all tokens at all steps, [batch_size, out_len, num_tokens]\n",
    "    logprobs_seq = torch.log_softmax(logits_seq, dim=-1)\n",
    "\n",
    "    # log-probabilities of correct outputs, [batch_size, out_len]\n",
    "    logp_out = (logprobs_seq * targets_1hot).sum(dim=-1)\n",
    "    # ^-- this will select the probability of the actual next token.\n",
    "    # Note: you can compute loss more efficiently using using F.cross_entropy\n",
    "\n",
    "    # average cross-entropy over tokens where mask == True\n",
    "    return -logp_out[mask].mean()"
   ]
  },
  {
   "cell_type": "code",
   "execution_count": 7,
   "metadata": {},
   "outputs": [],
   "source": [
    "def compute_bleu(model, inp_lines, out_lines, bpe_sep='@@ ', **flags):\n",
    "    \"\"\"\n",
    "    Estimates corpora-level BLEU score of model's translations given inp and reference out\n",
    "    \"\"\"\n",
    "    with torch.no_grad():\n",
    "        translations, _ = model.translate_lines_sampling(inp_lines, **flags)\n",
    "        translations = [line.replace(bpe_sep, '') for line in translations]\n",
    "        actual = [line.replace(bpe_sep, '') for line in out_lines]\n",
    "        return corpus_bleu(\n",
    "            [[ref.split()] for ref in actual],\n",
    "            [trans.split() for trans in translations],\n",
    "            smoothing_function=lambda precisions, **kw: [p + 1.0 / p.denominator for p in precisions]\n",
    "        ) * 100"
   ]
  },
  {
   "cell_type": "markdown",
   "metadata": {},
   "source": [
    "Изменения:\n",
    "- в данной реализации AdvancedAttentiveModel используется bidirectional LSTM для энкодера для лучшего захвата контекста.\n",
    "- Сэмплирование вместо жадного выбора- вместо выбора токена с максимальной вероятностью (argmax) на каждом шаге, применяется softmax с параметром temperature для масштабирования распределения вероятностей, затем следующий токен выбирается с помощью случайной выборки (torch.multinomial) из этого распределения."
   ]
  },
  {
   "cell_type": "code",
   "execution_count": 8,
   "metadata": {},
   "outputs": [],
   "source": [
    "class AdvancedAttentiveModel(nn.Module):\n",
    "    def __init__(self, inp_voc, out_voc, emb_size=64, hid_size=128, attn_size=128, \n",
    "                 num_layers_enc=2, bidirectional=True):\n",
    "        super().__init__()\n",
    "        self.inp_voc, self.out_voc = inp_voc, out_voc\n",
    "        self.emb_inp = nn.Embedding(len(inp_voc), emb_size)\n",
    "        self.emb_out = nn.Embedding(len(out_voc), emb_size)\n",
    "        \n",
    "        self.bidirectional = bidirectional\n",
    "        self.num_directions = 2 if bidirectional else 1\n",
    "        \n",
    "        # Bidirectional LSTM энкодер для лучшего захвата контекста\n",
    "        self.enc0 = nn.LSTM(emb_size, hid_size, num_layers=num_layers_enc, \n",
    "                            batch_first=True, bidirectional=bidirectional)\n",
    "        # Линейный слой для формирования начального состояния декодера из объединённого выхода энкодера\n",
    "        self.dec_start = nn.Linear(hid_size * self.num_directions, hid_size)\n",
    "        \n",
    "        # Линейная проекция: приводит вектор внимания с размерности bidirectional (hid_size*num_directions)\n",
    "        # к размерности hid_size, чтобы его можно было конкатенировать с эмбеддингом токена\n",
    "        self.attn_proj = nn.Linear(hid_size * self.num_directions, hid_size)\n",
    "        \n",
    "        # GRUCell декодера принимает на вход конкатенацию эмбеддинга и спроецированного вектора внимания\n",
    "        self.dec0 = nn.GRUCell(emb_size + hid_size, hid_size)\n",
    "        self.attention = AttentionLayer(hid_size * self.num_directions, hid_size, attn_size)\n",
    "        self.logits = nn.Linear(hid_size, len(out_voc))\n",
    "    \n",
    "    def encode(self, inp, **flags):\n",
    "        # Эмбеддинг и пропуск через энкодер\n",
    "        inp_emb = self.emb_inp(inp)\n",
    "        enc_seq, _ = self.enc0(inp_emb)\n",
    "\n",
    "        # Вычисляем длины последовательностей для учета паддинга\n",
    "        lengths = (inp != self.inp_voc.eos_ix).to(torch.int64).sum(dim=1).clamp(max=inp.shape[1]-1)\n",
    "        # Берем последний активный выход энкодера (для bidirectional объединение)\n",
    "        last_state = enc_seq[torch.arange(len(enc_seq)), lengths]\n",
    "        dec_start = self.dec_start(last_state)\n",
    "        inp_mask = self.out_voc.compute_mask(inp)\n",
    "        first_attn_probas = self.attention(enc_seq, dec_start, inp_mask)\n",
    "        first_state = [dec_start, enc_seq, inp_mask, first_attn_probas]\n",
    "        return first_state\n",
    "    \n",
    "    def decode_step(self, prev_state, prev_tokens, **flags):\n",
    "        # Вычисление внимания и обновление состояния декодера\n",
    "        prev_gru0_state, enc_seq, enc_mask, _ = prev_state\n",
    "        attn, attn_probs = self.attention(enc_seq, prev_gru0_state, enc_mask)\n",
    "        attn_proj = self.attn_proj(attn)\n",
    "        x = self.emb_out(prev_tokens)\n",
    "        x = torch.cat([attn_proj, x], dim=-1)\n",
    "        x = self.dec0(x, prev_gru0_state)\n",
    "        new_state = [x, enc_seq, enc_mask, attn_probs]\n",
    "        output_logits = self.logits(x)\n",
    "        return [new_state, output_logits]\n",
    "    \n",
    "    def decode(self, initial_state, out_tokens, **flags):\n",
    "        # Используется для обучения с teacher forcing (жадный выбор по argmax)\n",
    "        batch_size = out_tokens.shape[0]\n",
    "        device = initial_state[0].device \n",
    "        state = initial_state\n",
    "        onehot_bos = F.one_hot(\n",
    "            torch.full([batch_size], self.out_voc.bos_ix, dtype=torch.int64, device=device),\n",
    "            num_classes=len(self.out_voc)\n",
    "        ).to(torch.float32)\n",
    "        first_logits = torch.log(onehot_bos + 1e-9)\n",
    "        logits_sequence = [first_logits]\n",
    "        for i in range(out_tokens.shape[1] - 1):\n",
    "            state, logits = self.decode_step(state, out_tokens[:, i])\n",
    "            logits_sequence.append(logits)\n",
    "        return torch.stack(logits_sequence, dim=1)\n",
    "    \n",
    "    def forward(self, inp, out, **flags):\n",
    "        # Метод forward для обучения\n",
    "        initial_state = self.encode(inp)\n",
    "        return self.decode(initial_state, out, **flags)\n",
    "    \n",
    "    def decode_inference(self, initial_state, max_len=100, **flags):\n",
    "        # Жадный инференс: на каждом шаге выбирается токен с максимальной вероятностью (argmax)\n",
    "        batch_size, device_ = len(initial_state[0]), initial_state[0].device\n",
    "        state = initial_state\n",
    "        outputs = [torch.full([batch_size], self.out_voc.bos_ix, dtype=torch.int64, device=device_)]\n",
    "        all_states = [state]\n",
    "        for i in range(max_len):\n",
    "            state, logits = self.decode_step(state, outputs[-1])\n",
    "            outputs.append(logits.argmax(dim=-1))\n",
    "            all_states.append(state)\n",
    "        return torch.stack(outputs, dim=1), all_states\n",
    "    \n",
    "    def decode_inference_sampling(self, initial_state, max_len=100, temperature=0.9, **flags):\n",
    "        # Сэмплирование с температурным масштабированием:\n",
    "        # Вместо выбора токена с максимальной вероятностью (argmax), применяется softmax, \n",
    "        # а затем следующий токен выбирается с помощью случайной выборки (torch.multinomial).\n",
    "        # Это позволяет генерировать более разнообразные переводы.\n",
    "        batch_size, device_ = len(initial_state[0]), initial_state[0].device\n",
    "        state = initial_state\n",
    "        outputs = [torch.full([batch_size], self.out_voc.bos_ix, dtype=torch.int64, device=device_)]\n",
    "        all_states = [state]\n",
    "        for i in range(max_len):\n",
    "            state, logits = self.decode_step(state, outputs[-1])\n",
    "            # Температурное масштабирование\n",
    "            probs = torch.softmax(logits / temperature, dim=-1)\n",
    "            next_tokens = torch.multinomial(probs, num_samples=1).squeeze(1)\n",
    "            outputs.append(next_tokens)\n",
    "            all_states.append(state)\n",
    "        return torch.stack(outputs, dim=1), all_states\n",
    "    \n",
    "    def translate_lines(self, inp_lines, **kwargs):\n",
    "        # Жадный инференс используется для получения перевода\n",
    "        inp = self.inp_voc.to_matrix(inp_lines).to(next(self.parameters()).device)\n",
    "        initial_state = self.encode(inp)\n",
    "        out_ids, states = self.decode_inference(initial_state, **kwargs)\n",
    "        return self.out_voc.to_lines(out_ids.cpu().numpy()), states\n",
    "    \n",
    "    def translate_lines_sampling(self, inp_lines, max_len=100, temperature=0.9, **kwargs):\n",
    "        # Сэмплирование: генерируем переводы с использованием случайного выбора следующего токена.\n",
    "        # Это дает разнообразие, но может быть менее детерминированным, чем жадный выбор.\n",
    "        inp = self.inp_voc.to_matrix(inp_lines).to(next(self.parameters()).device)\n",
    "        initial_state = self.encode(inp)\n",
    "        out_ids, states = self.decode_inference_sampling(initial_state, max_len=max_len, temperature=temperature, **kwargs)\n",
    "        return self.out_voc.to_lines(out_ids.cpu().numpy()), states\n"
   ]
  },
  {
   "cell_type": "markdown",
   "metadata": {},
   "source": [
    "#### 3. Улучшение процесса тренировки: оптимизатор, lr scheduler и early stopping\n",
    "\n",
    "Здесь выбираю оптимизатор, добавляю использование lr scheduler и реализацию ранней остановки.\n",
    "\n",
    "Оптимизатор:\n",
    "  - В данном примере лучше отработал Adam с начальной скоростью обучения 1e-3.\n",
    "\n",
    "lr Scheduler:\n",
    "  - Используется ReduceLROnPlateau, который следит за метрикой dev loss.\n",
    "  - Если за заданное количество проверок (patience=4) метрика не улучшается, lr уменьшается в 2 раза (factor=0.5).\n",
    "\n",
    "Early Stopping:\n",
    "  - early stopping основана на dev BLEU.\n",
    "  - Обучение не может быть остановлено раньше, чем min_steps_for_early_stop, чтобы дать модели достаточно времени для обучения.\n",
    "  - Если после min_steps_for_early_stop шагов метрика dev BLEU не улучшается в течение early_stopping_patience последовательных проверок, обучение прекращается."
   ]
  },
  {
   "cell_type": "markdown",
   "metadata": {},
   "source": [
    "также попробуйем увеличить количество обучаемых параметров"
   ]
  },
  {
   "cell_type": "code",
   "execution_count": 9,
   "metadata": {},
   "outputs": [],
   "source": [
    "model = AdvancedAttentiveModel(inp_voc, out_voc, bidirectional=True, emb_size=256, hid_size=256, attn_size=256).to(device)\n",
    "\n",
    "optimizer_choice = 'adam'\n",
    "if optimizer_choice == 'adam':\n",
    "    opt = torch.optim.Adam(model.parameters(), lr=1e-3)\n",
    "elif optimizer_choice == 'sgd':\n",
    "    opt = torch.optim.SGD(model.parameters(), lr=1e-3, momentum=0.9)"
   ]
  },
  {
   "cell_type": "code",
   "execution_count": 10,
   "metadata": {},
   "outputs": [
    {
     "name": "stderr",
     "output_type": "stream",
     "text": [
      "c:\\Users\\verai\\projects\\AITH_dl_nlp\\.venv\\Lib\\site-packages\\torch\\optim\\lr_scheduler.py:62: UserWarning: The verbose parameter is deprecated. Please use get_last_lr() to access the learning rate.\n",
      "  warnings.warn(\n"
     ]
    }
   ],
   "source": [
    "scheduler = torch.optim.lr_scheduler.ReduceLROnPlateau(opt, mode='min', factor=0.5, patience=4, verbose=True)"
   ]
  },
  {
   "cell_type": "code",
   "execution_count": 11,
   "metadata": {},
   "outputs": [],
   "source": [
    "batch_size = 32\n",
    "metrics = {'train_loss': [], 'dev_bleu': [] }\n",
    "steps = 25000\n",
    "best_loss = float('inf')\n",
    "recent_losses = []\n",
    "\n",
    "### Параметры для early stopping\n",
    "early_stopping_patience = 15\n",
    "best_bleu = 0\n",
    "patience_counter = 0\n",
    "min_steps_for_early_stop = 15000"
   ]
  },
  {
   "cell_type": "code",
   "execution_count": 12,
   "metadata": {},
   "outputs": [
    {
     "data": {
      "image/png": "[encoded data removed]",
      "text/plain": [
       "<Figure size 1200x400 with 2 Axes>"
      ]
     },
     "metadata": {},
     "output_type": "display_data"
    },
    {
     "name": "stderr",
     "output_type": "stream",
     "text": [
      " 90%|█████████ | 22502/25000 [36:19<20:30,  2.03it/s]"
     ]
    },
    {
     "name": "stdout",
     "output_type": "stream",
     "text": [
      "Шаг 22500: средний loss по последним 10 шагам = 0.604, BLEU = 15.47\n"
     ]
    },
    {
     "name": "stderr",
     "output_type": "stream",
     "text": [
      " 91%|█████████ | 22749/25000 [36:43<03:37, 10.33it/s]"
     ]
    },
    {
     "name": "stdout",
     "output_type": "stream",
     "text": [
      "Раннее прекращение обучения на шаге 22750. Лучший BLEU = 15.8168\n",
      "Обучение завершено. Лучший BLEU = 15.82\n"
     ]
    },
    {
     "name": "stderr",
     "output_type": "stream",
     "text": [
      "\n"
     ]
    }
   ],
   "source": [
    "for step in trange(1, steps+1):\n",
    "    batch_ix = np.random.randint(len(train_inp), size=batch_size)\n",
    "    batch_inp = inp_voc.to_matrix(train_inp[batch_ix]).to(device)\n",
    "    batch_out = out_voc.to_matrix(train_out[batch_ix]).to(device)\n",
    "\n",
    "    opt.zero_grad()\n",
    "    loss_t = compute_loss(model, batch_inp, batch_out)\n",
    "    loss_t.backward()\n",
    "    opt.step()\n",
    "\n",
    "    current_loss_value = loss_t.item()\n",
    "    metrics['train_loss'].append((step, current_loss_value))\n",
    "    recent_losses.append(current_loss_value)\n",
    "\n",
    "    if len(recent_losses) > 250:\n",
    "        recent_losses.pop(0)\n",
    "\n",
    "    # Каждые 250 шагов вычисляем валидационную loss и bleu на всем dev-наборе\n",
    "    if step % 250 == 0:\n",
    "        avg_train_loss = np.mean(recent_losses)\n",
    "        scheduler.step(avg_train_loss)\n",
    "\n",
    "        # Вычисляем BLEU (для ранней остановки)\n",
    "        current_bleu = compute_bleu(model, dev_inp, dev_out)\n",
    "        metrics['dev_bleu'].append((step, current_bleu))\n",
    "\n",
    "        # Логика ранней остановки (только после min_steps_for_early_stop)\n",
    "        if step >= min_steps_for_early_stop:\n",
    "            if current_bleu > best_bleu:\n",
    "                best_bleu = current_bleu\n",
    "                patience_counter = 0\n",
    "            else:\n",
    "                patience_counter += 1\n",
    "            if patience_counter >= early_stopping_patience:\n",
    "                print(f\"Раннее прекращение обучения на шаге {step}. Лучший BLEU = {best_bleu:.4f}\")\n",
    "                break\n",
    "        else:\n",
    "            # Если ещё не достигли min_steps_for_early_stop, просто печатаем BLEU\n",
    "            if current_bleu > best_bleu:\n",
    "                best_bleu = current_bleu\n",
    "            print(f\"Шаг {step}: BLEU = {current_bleu:.4f} (ранняя остановка включится после {min_steps_for_early_stop} шага)\")\n",
    "\n",
    "        # Отрисовка графиков\n",
    "        clear_output(True)\n",
    "        plt.figure(figsize=(12, 4))\n",
    "        plt.subplot(1, 2, 1) # loss\n",
    "        plt.title(\"train_loss\")\n",
    "        steps_loss, vals_loss = zip(*metrics['train_loss'])\n",
    "        plt.plot(steps_loss, vals_loss, linestyle='-', color='blue', label=\"train_loss\")\n",
    "        plt.grid()\n",
    "        plt.legend()\n",
    "        plt.subplot(1, 2, 2) # bleu\n",
    "        plt.title(\"dev_bleu\")\n",
    "        steps_bleu, vals_bleu = zip(*metrics['dev_bleu'])\n",
    "        plt.plot(steps_bleu, vals_bleu, linestyle='-', color='orange', label=\"dev_bleu\")\n",
    "        plt.grid()\n",
    "        plt.legend()\n",
    "        plt.show()\n",
    "\n",
    "        avg_loss_10 = np.mean([v for (_, v) in metrics['train_loss'][-10:]])\n",
    "        print(f\"Шаг {step}: средний loss по последним 10 шагам = {avg_loss_10:.3f}, BLEU = {current_bleu:.2f}\")\n",
    "\n",
    "print(f\"Обучение завершено. Лучший BLEU = {best_bleu:.2f}\")\n"
   ]
  },
  {
   "cell_type": "code",
   "execution_count": 13,
   "metadata": {},
   "outputs": [
    {
     "data": {
      "text/plain": [
       "15.435749966412654"
      ]
     },
     "execution_count": 13,
     "metadata": {},
     "output_type": "execute_result"
    }
   ],
   "source": [
    "compute_bleu(model, dev_inp, dev_out)"
   ]
  },
  {
   "cell_type": "code",
   "execution_count": 14,
   "metadata": {},
   "outputs": [
    {
     "name": "stdout",
     "output_type": "stream",
     "text": [
      "в ванной комнате с ванной предоставляется фен.\n",
      "with a bath, the bathroom also comes with a hairdryer.\n",
      "\n",
      "на территории можно сыграть в дартс и сквош.\n",
      "play room and a sandpit are available.\n",
      "\n",
      "апартаменты располагают гостиной зоной.\n",
      "the apartments include a seating area.\n",
      "\n",
      "гости могут самостоятельно приготовить блюда на полностью укомплектованной кухне.\n",
      "guests can cook their own meals in the fully-equipped kitchen.\n",
      "\n",
      "к услугам гостей 2 спальни и 1 ванная комната с ванной и/или душем, а также кухня с духовкой и микроволновой печью.\n",
      "there are 2 bedrooms and 1 bedroom, a living room and a bathroom with a bath and bidet, it also has a kitchen with an oven and a microwave.\n",
      "\n",
      "ужин для гостей приготовят в ресторане ron@@ ni@@ e's win@@ gs & o@@ y@@ ster bar@@ .\n",
      "guests at hotel friedrich@@ grande can relax at the c@@ r@@ amento lar@@ est@@ a, which to paris to relax at the gi@@ e of tel aviv equipped with a mini-@@ bar.\n",
      "\n"
     ]
    }
   ],
   "source": [
    "for inp_line, trans_line in zip(dev_inp[::500], model.translate_lines_sampling(dev_inp[::500])[0]):\n",
    "    print(inp_line)\n",
    "    print(trans_line)\n",
    "    print()"
   ]
  },
  {
   "cell_type": "markdown",
   "metadata": {},
   "source": [
    "По самим переводам получилось не так плохо, но по метрикам получилось хуже, возможно из-за семплирования с температурой"
   ]
  },
  {
   "cell_type": "markdown",
   "metadata": {},
   "source": [
    "#### Попробуем убрать   lr sheduling, early stopping"
   ]
  },
  {
   "cell_type": "code",
   "execution_count": 16,
   "metadata": {},
   "outputs": [
    {
     "data": {
      "image/png": "[encoded data removed]",
      "text/plain": [
       "<Figure size 1200x400 with 2 Axes>"
      ]
     },
     "metadata": {},
     "output_type": "display_data"
    },
    {
     "name": "stderr",
     "output_type": "stream",
     "text": [
      "100%|██████████| 25000/25000 [41:12<00:00, 10.11it/s]"
     ]
    },
    {
     "name": "stdout",
     "output_type": "stream",
     "text": [
      "Шаг 25000: средний loss по последним 10 шагам = 0.551, BLEU = 15.54\n",
      "Обучение завершено. Последний BLEU = 15.54\n"
     ]
    },
    {
     "name": "stderr",
     "output_type": "stream",
     "text": [
      "\n"
     ]
    }
   ],
   "source": [
    "model = AdvancedAttentiveModel(inp_voc, out_voc, bidirectional=True, emb_size=256, hid_size=256, attn_size=256).to(device)\n",
    "optimizer_choice = 'adam'\n",
    "if optimizer_choice == 'adam':\n",
    "    opt = torch.optim.Adam(model.parameters(), lr=1e-3)\n",
    "elif optimizer_choice == 'sgd':\n",
    "    opt = torch.optim.SGD(model.parameters(), lr=1e-3, momentum=0.9)\n",
    "\n",
    "metrics = {'train_loss': [], 'dev_bleu': [] }\n",
    "\n",
    "for step in trange(1, steps+1):\n",
    "    batch_ix = np.random.randint(len(train_inp), size=batch_size)\n",
    "    batch_inp = inp_voc.to_matrix(train_inp[batch_ix]).to(device)\n",
    "    batch_out = out_voc.to_matrix(train_out[batch_ix]).to(device)\n",
    "\n",
    "    opt.zero_grad()\n",
    "    loss_t = compute_loss(model, batch_inp, batch_out)\n",
    "    loss_t.backward()\n",
    "    opt.step()\n",
    "    \n",
    "    metrics['train_loss'].append((step, loss_t.item()))\n",
    "\n",
    "    # Каждые 250 шагов вычисляем BLEU на всем dev-наборе и отрисовываем графики\n",
    "    if step % 250 == 0:\n",
    "        current_bleu = compute_bleu(model, dev_inp, dev_out)\n",
    "        metrics['dev_bleu'].append((step, current_bleu))\n",
    "\n",
    "        # Отрисовка графиков в одинаковом формате для train_loss и dev_bleu\n",
    "        clear_output(True)\n",
    "        plt.figure(figsize=(12, 4))\n",
    "        plt.subplot(1, 2, 1)  # График train_loss\n",
    "        plt.title(\"train_loss\")\n",
    "        steps_loss, vals_loss = zip(*metrics['train_loss'])\n",
    "        plt.plot(steps_loss, vals_loss, linestyle='-', color='blue', label=\"train_loss\")\n",
    "        plt.grid()\n",
    "        plt.legend()\n",
    "        plt.subplot(1, 2, 2)  # График dev_bleu\n",
    "        plt.title(\"dev_bleu\")\n",
    "        steps_bleu, vals_bleu = zip(*metrics['dev_bleu'])\n",
    "        plt.plot(steps_bleu, vals_bleu, linestyle='-', color='orange', label=\"dev_bleu\")\n",
    "        plt.grid()\n",
    "        plt.legend()\n",
    "        plt.show()\n",
    "\n",
    "        avg_loss_10 = np.mean([v for (_, v) in metrics['train_loss'][-10:]])\n",
    "        print(f\"Шаг {step}: средний loss по последним 10 шагам = {avg_loss_10:.3f}, BLEU = {current_bleu:.2f}\")\n",
    "\n",
    "print(f\"Обучение завершено. Последний BLEU = {current_bleu:.2f}\")"
   ]
  },
  {
   "cell_type": "code",
   "execution_count": 17,
   "metadata": {},
   "outputs": [
    {
     "data": {
      "text/plain": [
       "15.399564653699347"
      ]
     },
     "execution_count": 17,
     "metadata": {},
     "output_type": "execute_result"
    }
   ],
   "source": [
    "compute_bleu(model, dev_inp, dev_out)"
   ]
  },
  {
   "cell_type": "code",
   "execution_count": 18,
   "metadata": {},
   "outputs": [
    {
     "name": "stdout",
     "output_type": "stream",
     "text": [
      "в ванной комнате с ванной предоставляется фен.\n",
      "the bathrooms offer a bath, a hairdryer.\n",
      "\n",
      "на территории можно сыграть в дартс и сквош.\n",
      "you can play tennis, darts and darts on site.\n",
      "\n",
      "апартаменты располагают гостиной зоной.\n",
      "there is a seating area and a seating area.\n",
      "\n",
      "гости могут самостоятельно приготовить блюда на полностью укомплектованной кухне.\n",
      "guests can prepare meals in the fully-equipped kitchen.\n",
      "\n",
      "к услугам гостей 2 спальни и 1 ванная комната с ванной и/или душем, а также кухня с духовкой и микроволновой печью.\n",
      "the house offers two bedrooms, a bathroom with a bath or shower, a bath.\n",
      "\n",
      "ужин для гостей приготовят в ресторане ron@@ ni@@ e's win@@ gs & o@@ y@@ ster bar@@ .\n",
      "enjoy authentic lao cuisine in 5 h@@ end@@ vi@@ in fran@@ sch@@ ei@@ 's region in austri@@ a.\n",
      "\n"
     ]
    }
   ],
   "source": [
    "for inp_line, trans_line in zip(dev_inp[::500], model.translate_lines_sampling(dev_inp[::500])[0]):\n",
    "    print(inp_line)\n",
    "    print(trans_line)\n",
    "    print()"
   ]
  },
  {
   "cell_type": "markdown",
   "metadata": {},
   "source": [
    "#### Попробуем оставить жадный выбор в семплировании\n"
   ]
  },
  {
   "cell_type": "code",
   "execution_count": 19,
   "metadata": {},
   "outputs": [],
   "source": [
    "def compute_bleu(model, inp_lines, out_lines, bpe_sep='@@ ', **flags):\n",
    "    \"\"\"\n",
    "    Estimates corpora-level BLEU score of model's translations given inp and reference out\n",
    "    \"\"\"\n",
    "    with torch.no_grad():\n",
    "        translations, _ = model.translate_lines(inp_lines, **flags)\n",
    "        translations = [line.replace(bpe_sep, '') for line in translations]\n",
    "        actual = [line.replace(bpe_sep, '') for line in out_lines]\n",
    "        return corpus_bleu(\n",
    "            [[ref.split()] for ref in actual],\n",
    "            [trans.split() for trans in translations],\n",
    "            smoothing_function=lambda precisions, **kw: [p + 1.0 / p.denominator for p in precisions]\n",
    "        ) * 100"
   ]
  },
  {
   "cell_type": "code",
   "execution_count": 20,
   "metadata": {},
   "outputs": [
    {
     "data": {
      "image/png": "[encoded data removed]",
      "text/plain": [
       "<Figure size 1200x400 with 2 Axes>"
      ]
     },
     "metadata": {},
     "output_type": "display_data"
    },
    {
     "name": "stderr",
     "output_type": "stream",
     "text": [
      "100%|██████████| 25000/25000 [39:58<00:00, 10.42it/s]"
     ]
    },
    {
     "name": "stdout",
     "output_type": "stream",
     "text": [
      "Шаг 25000: средний loss по последним 10 шагам = 0.581, BLEU = 16.92\n",
      "Обучение завершено. Последний BLEU = 16.92\n"
     ]
    },
    {
     "name": "stderr",
     "output_type": "stream",
     "text": [
      "\n"
     ]
    }
   ],
   "source": [
    "model = AdvancedAttentiveModel(inp_voc, out_voc, bidirectional=True, emb_size=256, hid_size=256, attn_size=256).to(device)\n",
    "optimizer_choice = 'adam'\n",
    "if optimizer_choice == 'adam':\n",
    "    opt = torch.optim.Adam(model.parameters(), lr=1e-3)\n",
    "elif optimizer_choice == 'sgd':\n",
    "    opt = torch.optim.SGD(model.parameters(), lr=1e-3, momentum=0.9)\n",
    "\n",
    "metrics = {'train_loss': [], 'dev_bleu': [] }\n",
    "\n",
    "for step in trange(1, steps+1):\n",
    "    batch_ix = np.random.randint(len(train_inp), size=batch_size)\n",
    "    batch_inp = inp_voc.to_matrix(train_inp[batch_ix]).to(device)\n",
    "    batch_out = out_voc.to_matrix(train_out[batch_ix]).to(device)\n",
    "\n",
    "    opt.zero_grad()\n",
    "    loss_t = compute_loss(model, batch_inp, batch_out)\n",
    "    loss_t.backward()\n",
    "    opt.step()\n",
    "    \n",
    "    metrics['train_loss'].append((step, loss_t.item()))\n",
    "\n",
    "    # Каждые 250 шагов вычисляем BLEU на всем dev-наборе и отрисовываем графики\n",
    "    if step % 250 == 0:\n",
    "        current_bleu = compute_bleu(model, dev_inp, dev_out)\n",
    "        metrics['dev_bleu'].append((step, current_bleu))\n",
    "\n",
    "        # Отрисовка графиков в одинаковом формате для train_loss и dev_bleu\n",
    "        clear_output(True)\n",
    "        plt.figure(figsize=(12, 4))\n",
    "        plt.subplot(1, 2, 1)  # График train_loss\n",
    "        plt.title(\"train_loss\")\n",
    "        steps_loss, vals_loss = zip(*metrics['train_loss'])\n",
    "        plt.plot(steps_loss, vals_loss, linestyle='-', color='blue', label=\"train_loss\")\n",
    "        plt.grid()\n",
    "        plt.legend()\n",
    "        plt.subplot(1, 2, 2)  # График dev_bleu\n",
    "        plt.title(\"dev_bleu\")\n",
    "        steps_bleu, vals_bleu = zip(*metrics['dev_bleu'])\n",
    "        plt.plot(steps_bleu, vals_bleu, linestyle='-', color='orange', label=\"dev_bleu\")\n",
    "        plt.grid()\n",
    "        plt.legend()\n",
    "        plt.show()\n",
    "\n",
    "        avg_loss_10 = np.mean([v for (_, v) in metrics['train_loss'][-10:]])\n",
    "        print(f\"Шаг {step}: средний loss по последним 10 шагам = {avg_loss_10:.3f}, BLEU = {current_bleu:.2f}\")\n",
    "\n",
    "print(f\"Обучение завершено. Последний BLEU = {current_bleu:.2f}\")"
   ]
  },
  {
   "cell_type": "code",
   "execution_count": 21,
   "metadata": {},
   "outputs": [
    {
     "data": {
      "text/plain": [
       "16.917679316272846"
      ]
     },
     "execution_count": 21,
     "metadata": {},
     "output_type": "execute_result"
    }
   ],
   "source": [
    "compute_bleu(model, dev_inp, dev_out)"
   ]
  },
  {
   "cell_type": "code",
   "execution_count": 22,
   "metadata": {},
   "outputs": [
    {
     "name": "stdout",
     "output_type": "stream",
     "text": [
      "в ванной комнате с ванной предоставляется фен.\n",
      "the bathroom is fitted with a hairdryer and a bidet.\n",
      "\n",
      "на территории можно сыграть в дартс и сквош.\n",
      "a cash machine and game room are also available.\n",
      "\n",
      "апартаменты располагают гостиной зоной.\n",
      "the apartment is equipped with a seating area.\n",
      "\n",
      "гости могут самостоятельно приготовить блюда на полностью укомплектованной кухне.\n",
      "guests can prepare their meals in the full kitchen at their disposal.\n",
      "\n",
      "к услугам гостей 2 спальни и 1 ванная комната с ванной и/или душем, а также кухня с духовкой и микроволновой печью.\n",
      "there are 2 twin bedrooms and a bathroom with a shower and a living room with a bath, a shower and a kitchen with a toilet.\n",
      "\n",
      "ужин для гостей приготовят в ресторане ron@@ ni@@ e's win@@ gs & o@@ y@@ ster bar@@ .\n",
      "mol@@ j@@ an, chin@@ e’s casual american dishes for lunch and dinner.\n",
      "\n"
     ]
    }
   ],
   "source": [
    "for inp_line, trans_line in zip(dev_inp[::500], model.translate_lines(dev_inp[::500])[0]):\n",
    "    print(inp_line)\n",
    "    print(trans_line)\n",
    "    print()"
   ]
  },
  {
   "cell_type": "markdown",
   "metadata": {},
   "source": [
    "Модель выходит на плато и не имеет прироста после 12000 эпох, тем не менее метрики с жадным выбором токенов показала лучше чем с семплированием с температурой. Также изменения в процессе обучения (scheduler, early stopping) имеют незначительно выше метрики, чем без них."
   ]
  }
 ],
 "metadata": {
  "kernelspec": {
   "display_name": ".venv",
   "language": "python",
   "name": "python3"
  },
  "language_info": {
   "codemirror_mode": {
    "name": "ipython",
    "version": 3
   },
   "file_extension": ".py",
   "mimetype": "text/x-python",
   "name": "python",
   "nbconvert_exporter": "python",
   "pygments_lexer": "ipython3",
   "version": "3.12.8"
  }
 },
 "nbformat": 4,
 "nbformat_minor": 2
}
