{
 "cells": [
  {
   "cell_type": "code",
   "execution_count": 1,
   "metadata": {},
   "outputs": [],
   "source": [
    "import re\n",
    "import warnings\n",
    "\n",
    "import nltk\n",
    "import pandas as pd\n",
    "import pymorphy3\n",
    "from nltk.corpus import stopwords\n",
    "from corus import load_lenta\n",
    "from tqdm import tqdm\n",
    "\n",
    "from sklearn.dummy import DummyClassifier\n",
    "from sklearn.feature_extraction.text import CountVectorizer, TfidfVectorizer\n",
    "from sklearn.linear_model import LogisticRegression\n",
    "from sklearn.metrics import classification_report\n",
    "from sklearn.model_selection import GridSearchCV, train_test_split\n",
    "from sklearn.pipeline import Pipeline\n",
    "\n",
    "warnings.filterwarnings('ignore')\n",
    "tqdm.pandas()\n",
    "\n",
    "random_state = 42\n"
   ]
  },
  {
   "cell_type": "markdown",
   "metadata": {},
   "source": [
    "### Загрузка и обработка данных"
   ]
  },
  {
   "cell_type": "code",
   "execution_count": 2,
   "metadata": {},
   "outputs": [],
   "source": [
    "#!curl -L https://github.com/yutkin/Lenta.Ru-News-Dataset/releases/download/v1.0/lenta-ru-news.csv.gz -o lenta-ru-news.csv.gz"
   ]
  },
  {
   "cell_type": "code",
   "execution_count": 3,
   "metadata": {},
   "outputs": [
    {
     "data": {
      "text/html": [
       "<div>\n",
       "<style scoped>\n",
       "    .dataframe tbody tr th:only-of-type {\n",
       "        vertical-align: middle;\n",
       "    }\n",
       "\n",
       "    .dataframe tbody tr th {\n",
       "        vertical-align: top;\n",
       "    }\n",
       "\n",
       "    .dataframe thead th {\n",
       "        text-align: right;\n",
       "    }\n",
       "</style>\n",
       "<table border=\"1\" class=\"dataframe\">\n",
       "  <thead>\n",
       "    <tr style=\"text-align: right;\">\n",
       "      <th></th>\n",
       "      <th>title</th>\n",
       "      <th>text</th>\n",
       "      <th>topic</th>\n",
       "    </tr>\n",
       "  </thead>\n",
       "  <tbody>\n",
       "    <tr>\n",
       "      <th>153198</th>\n",
       "      <td>EgyptAir объявила о подорожании билетов</td>\n",
       "      <td>Египетский перевозчик EgyptAir сообщил о возмо...</td>\n",
       "      <td>Путешествия</td>\n",
       "    </tr>\n",
       "    <tr>\n",
       "      <th>169154</th>\n",
       "      <td>Глава Красногорского района Подмосковья ушел в...</td>\n",
       "      <td>Глава Красногорского района Московской области...</td>\n",
       "      <td>Россия</td>\n",
       "    </tr>\n",
       "    <tr>\n",
       "      <th>83745</th>\n",
       "      <td>Милонов предложил запретить россиянам сидеть в...</td>\n",
       "      <td>Депутат Виталий Милонов внес в Госдуму законоп...</td>\n",
       "      <td>Россия</td>\n",
       "    </tr>\n",
       "    <tr>\n",
       "      <th>10029</th>\n",
       "      <td>Женщинам в детородном возрасте разрешили посещ...</td>\n",
       "      <td>Верховный суд Индии разрешил женщинам в фертил...</td>\n",
       "      <td>Мир</td>\n",
       "    </tr>\n",
       "    <tr>\n",
       "      <th>6445</th>\n",
       "      <td>Россиянам пообещали дешевый хлеб</td>\n",
       "      <td>Россиянам не стоит бояться роста цен на хлеб —...</td>\n",
       "      <td>Экономика</td>\n",
       "    </tr>\n",
       "  </tbody>\n",
       "</table>\n",
       "</div>"
      ],
      "text/plain": [
       "                                                    title  \\\n",
       "153198           EgyptAir объявила о подорожании билетов    \n",
       "169154  Глава Красногорского района Подмосковья ушел в...   \n",
       "83745   Милонов предложил запретить россиянам сидеть в...   \n",
       "10029   Женщинам в детородном возрасте разрешили посещ...   \n",
       "6445                     Россиянам пообещали дешевый хлеб   \n",
       "\n",
       "                                                     text        topic  \n",
       "153198  Египетский перевозчик EgyptAir сообщил о возмо...  Путешествия  \n",
       "169154  Глава Красногорского района Московской области...       Россия  \n",
       "83745   Депутат Виталий Милонов внес в Госдуму законоп...       Россия  \n",
       "10029   Верховный суд Индии разрешил женщинам в фертил...          Мир  \n",
       "6445    Россиянам не стоит бояться роста цен на хлеб —...    Экономика  "
      ]
     },
     "execution_count": 3,
     "metadata": {},
     "output_type": "execute_result"
    }
   ],
   "source": [
    "records = load_lenta('lenta-ru-news.csv.gz')\n",
    "data = pd.DataFrame(records)\n",
    "data.columns = ['url', 'title', 'text', 'topic', 'tags', 'date']\n",
    "data = data[['title', 'text', 'topic']]\n",
    "data = data.sample(n=50000, random_state=random_state)\n",
    "data.head()"
   ]
  },
  {
   "cell_type": "code",
   "execution_count": 4,
   "metadata": {},
   "outputs": [
    {
     "data": {
      "text/plain": [
       "topic\n",
       "Россия               10886\n",
       "Мир                   9228\n",
       "Экономика             5426\n",
       "Спорт                 4322\n",
       "Наука и техника       3613\n",
       "Культура              3600\n",
       "Бывший СССР           3559\n",
       "Интернет и СМИ        3135\n",
       "Из жизни              1856\n",
       "Дом                   1414\n",
       "Силовые структуры     1371\n",
       "Ценности               514\n",
       "Бизнес                 472\n",
       "Путешествия            429\n",
       "69-я параллель          90\n",
       "Крым                    43\n",
       "Культпросвет            22\n",
       "                        10\n",
       "Легпром                  5\n",
       "Библиотека               5\n",
       "Name: count, dtype: int64"
      ]
     },
     "execution_count": 4,
     "metadata": {},
     "output_type": "execute_result"
    }
   ],
   "source": [
    "data['topic'].value_counts()"
   ]
  },
  {
   "cell_type": "code",
   "execution_count": 5,
   "metadata": {},
   "outputs": [
    {
     "name": "stderr",
     "output_type": "stream",
     "text": [
      "[nltk_data] Downloading package stopwords to\n",
      "[nltk_data]     C:\\Users\\verai\\AppData\\Roaming\\nltk_data...\n",
      "[nltk_data]   Package stopwords is already up-to-date!\n"
     ]
    },
    {
     "data": {
      "text/plain": [
       "'и в во не что он на я с со как а то все она так его но да ты к у же вы за бы по только ее мне было вот от меня еще нет о из ему теперь когда даже ну вдруг ли если уже или ни быть был него до вас нибудь опять уж вам ведь там потом себя ничего ей может они тут где есть надо ней для мы тебя их чем была сам чтоб без будто чего раз тоже себе под будет ж тогда кто этот того потому этого какой совсем ним здесь этом один почти мой тем чтобы нее сейчас были куда зачем всех никогда можно при наконец два об другой хоть после над больше тот через эти нас про всего них какая много разве три эту моя впрочем хорошо свою этой перед иногда лучше чуть том нельзя такой им более всегда конечно всю между'"
      ]
     },
     "execution_count": 5,
     "metadata": {},
     "output_type": "execute_result"
    }
   ],
   "source": [
    "morph = pymorphy3.MorphAnalyzer()\n",
    "\n",
    "nltk.download('stopwords')\n",
    "stop_words = stopwords.words('russian')\n",
    "' '.join(stop_words)"
   ]
  },
  {
   "cell_type": "code",
   "execution_count": 6,
   "metadata": {},
   "outputs": [
    {
     "data": {
      "text/plain": [
       "153198    Египетский перевозчик EgyptAir сообщил о возмо...\n",
       "169154    Глава Красногорского района Московской области...\n",
       "83745     Депутат Виталий Милонов внес в Госдуму законоп...\n",
       "10029     Верховный суд Индии разрешил женщинам в фертил...\n",
       "6445      Россиянам не стоит бояться роста цен на хлеб —...\n",
       "                                ...                        \n",
       "130987    На сайте WikiLeaks опубликован первый сборник ...\n",
       "470451    Суд Пряжинского района Карелии постановил прио...\n",
       "219814    В России сформировалось «поколение Путина». К ...\n",
       "1428      Минздрав Саратовской области проверит сообщени...\n",
       "557783    Британская актриса Хелен Миррен, сыгравшая Ели...\n",
       "Name: text, Length: 50000, dtype: object"
      ]
     },
     "execution_count": 6,
     "metadata": {},
     "output_type": "execute_result"
    }
   ],
   "source": [
    "data['text']"
   ]
  },
  {
   "cell_type": "markdown",
   "metadata": {},
   "source": [
    "*Предобработка текстов*\n",
    "\n",
    "Реализуем функцию предобработки текстов. В данной функции:\n",
    "- Приводим текст к нижнему регистру.\n",
    "- Удаляем HTML-теги.\n",
    "- Оставляем только символы русского и английского алфавитов и пробелы.\n",
    "- Производим токенизацию и удаляем стоп-слова.\n",
    "- Выполняем лемматизацию с помощью pymorphy3.\n",
    "\n",
    "Базовая классическая предобработка, помогает унифицировать представление текста, снизить размерность пространства признаков за счет сведения различных форм слова к единой норме и уменьшить шум. Остановилась на ней, так как лемматизация может давать потенциально лучше результат, остальные методы довольно базовые, не занимают много времени на обработку."
   ]
  },
  {
   "cell_type": "code",
   "execution_count": 7,
   "metadata": {},
   "outputs": [],
   "source": [
    "def preprocess_text(text):\n",
    "    # Приведение к нижнему регистру\n",
    "    text = text.lower()\n",
    "    # Удаление HTML-тегов\n",
    "    text = re.sub(r'<.*?>', ' ', text)\n",
    "    # Удаление пунктуации и символов\n",
    "    text = re.sub(r'[^a-zа-яё\\s]', ' ', text)\n",
    "    # Токенизация и удаление стоп-слов\n",
    "    tokens = [word for word in text.split() if word not in stop_words]\n",
    "    # Лемматизация: получение нормальной формы для каждого слова\n",
    "    tokens = [morph.parse(word)[0].normal_form for word in tokens]\n",
    "    return \" \".join(tokens)\n"
   ]
  },
  {
   "cell_type": "code",
   "execution_count": 8,
   "metadata": {},
   "outputs": [
    {
     "name": "stderr",
     "output_type": "stream",
     "text": [
      "100%|██████████| 50000/50000 [05:13<00:00, 159.54it/s]\n"
     ]
    }
   ],
   "source": [
    "data['combined_text'] = (data['title'] + \" \" + data['text']).progress_apply(preprocess_text)"
   ]
  },
  {
   "cell_type": "code",
   "execution_count": 9,
   "metadata": {},
   "outputs": [
    {
     "data": {
      "text/plain": [
       "153198    egyptair объявить подорожание билет египетский...\n",
       "169154    глава красногорский район подмосковье уйти отс...\n",
       "83745     милон предложить запретить россиянин сидеть со...\n",
       "10029     женщина детородный возраст разрешить посещать ...\n",
       "6445      россиянин пообещать дешёвый хлеб россиянин сто...\n",
       "                                ...                        \n",
       "130987    wikileaks опубликовать электронный письмо прав...\n",
       "470451    карельский пенсионер переселить пожароопасный ...\n",
       "219814    политолог наслать россия поколение путин росси...\n",
       "1428      чиновник заинтересоваться червь тарелка пациен...\n",
       "557783    хелен миррен стать королева премия оскар брита...\n",
       "Name: combined_text, Length: 50000, dtype: object"
      ]
     },
     "execution_count": 9,
     "metadata": {},
     "output_type": "execute_result"
    }
   ],
   "source": [
    "data['combined_text']"
   ]
  },
  {
   "cell_type": "code",
   "execution_count": 10,
   "metadata": {},
   "outputs": [],
   "source": [
    "X = data['combined_text']\n",
    "y = data['topic']\n",
    "\n",
    "X_train, X_temp, y_train, y_temp = train_test_split(X, y, train_size=0.6, stratify=y, random_state=random_state)\n",
    "X_val, X_test, y_val, y_test = train_test_split(X_temp, y_temp, test_size=0.5, stratify=y_temp, random_state=random_state)"
   ]
  },
  {
   "cell_type": "markdown",
   "metadata": {},
   "source": [
    "### Dummy-бейзлайн\n",
    "Создаем dummy-классификатор с стратегией предсказания самого частого класса для получения базового уровня качества."
   ]
  },
  {
   "cell_type": "code",
   "execution_count": 11,
   "metadata": {},
   "outputs": [
    {
     "name": "stdout",
     "output_type": "stream",
     "text": [
      "Classification Report for Dummy Classifier:\n",
      "\n",
      "                   precision    recall  f1-score   support\n",
      "\n",
      "                        0.00      0.00      0.00         2\n",
      "   69-я параллель       0.00      0.00      0.00        18\n",
      "       Библиотека       0.00      0.00      0.00         1\n",
      "           Бизнес       0.00      0.00      0.00        95\n",
      "      Бывший СССР       0.00      0.00      0.00       712\n",
      "              Дом       0.00      0.00      0.00       283\n",
      "         Из жизни       0.00      0.00      0.00       371\n",
      "   Интернет и СМИ       0.00      0.00      0.00       627\n",
      "             Крым       0.00      0.00      0.00         9\n",
      "    Культпросвет        0.00      0.00      0.00         4\n",
      "         Культура       0.00      0.00      0.00       720\n",
      "          Легпром       0.00      0.00      0.00         1\n",
      "              Мир       0.00      0.00      0.00      1845\n",
      "  Наука и техника       0.00      0.00      0.00       722\n",
      "      Путешествия       0.00      0.00      0.00        86\n",
      "           Россия       0.22      1.00      0.36      2177\n",
      "Силовые структуры       0.00      0.00      0.00       274\n",
      "            Спорт       0.00      0.00      0.00       865\n",
      "         Ценности       0.00      0.00      0.00       103\n",
      "        Экономика       0.00      0.00      0.00      1085\n",
      "\n",
      "         accuracy                           0.22     10000\n",
      "        macro avg       0.01      0.05      0.02     10000\n",
      "     weighted avg       0.05      0.22      0.08     10000\n",
      "\n"
     ]
    }
   ],
   "source": [
    "pipeline_dummy = Pipeline([\n",
    "    ('vectorizer', CountVectorizer()),\n",
    "    ('dummy', DummyClassifier(strategy='most_frequent', random_state=random_state))\n",
    "])\n",
    "\n",
    "pipeline_dummy.fit(X_train, y_train)\n",
    "y_pred_dummy = pipeline_dummy.predict(X_val)\n",
    "print(\"Classification Report for Dummy Classifier:\\n\")\n",
    "print(classification_report(y_val, y_pred_dummy, zero_division=0))"
   ]
  },
  {
   "cell_type": "markdown",
   "metadata": {},
   "source": [
    "### Обучение модели LogisticRegression с двумя вариантами векторизации"
   ]
  },
  {
   "cell_type": "code",
   "execution_count": 12,
   "metadata": {},
   "outputs": [
    {
     "name": "stdout",
     "output_type": "stream",
     "text": [
      "Classification Report for CountVectorizer + LogReg:\n",
      "\n",
      "                   precision    recall  f1-score   support\n",
      "\n",
      "                        0.00      0.00      0.00         2\n",
      "   69-я параллель       0.75      0.17      0.27        18\n",
      "       Библиотека       0.00      0.00      0.00         1\n",
      "           Бизнес       0.52      0.34      0.41        95\n",
      "      Бывший СССР       0.80      0.78      0.79       712\n",
      "              Дом       0.86      0.83      0.85       283\n",
      "         Из жизни       0.61      0.57      0.59       371\n",
      "   Интернет и СМИ       0.73      0.72      0.73       627\n",
      "             Крым       1.00      0.22      0.36         9\n",
      "    Культпросвет        0.00      0.00      0.00         4\n",
      "         Культура       0.88      0.89      0.88       720\n",
      "          Легпром       0.00      0.00      0.00         1\n",
      "              Мир       0.78      0.78      0.78      1845\n",
      "  Наука и техника       0.81      0.82      0.82       722\n",
      "      Путешествия       0.66      0.49      0.56        86\n",
      "           Россия       0.76      0.83      0.79      2177\n",
      "Силовые структуры       0.57      0.47      0.51       274\n",
      "            Спорт       0.97      0.96      0.96       865\n",
      "         Ценности       0.89      0.71      0.79       103\n",
      "        Экономика       0.82      0.81      0.82      1085\n",
      "\n",
      "         accuracy                           0.79     10000\n",
      "        macro avg       0.62      0.52      0.55     10000\n",
      "     weighted avg       0.79      0.79      0.79     10000\n",
      "\n"
     ]
    }
   ],
   "source": [
    "# Пайплайн с CountVectorizer\n",
    "pipeline_count = Pipeline([\n",
    "    ('vectorizer', CountVectorizer()),\n",
    "    ('clf', LogisticRegression(random_state=random_state, max_iter=1000))\n",
    "])\n",
    "pipeline_count.fit(X_train, y_train)\n",
    "y_pred_count = pipeline_count.predict(X_val)\n",
    "print(\"Classification Report for CountVectorizer + LogReg:\\n\")\n",
    "print(classification_report(y_val, y_pred_count, zero_division=0))"
   ]
  },
  {
   "cell_type": "code",
   "execution_count": 13,
   "metadata": {},
   "outputs": [
    {
     "name": "stdout",
     "output_type": "stream",
     "text": [
      "Classification Report for CountVectorizer + LogReg:\n",
      "\n",
      "                   precision    recall  f1-score   support\n",
      "\n",
      "                        0.00      0.00      0.00         2\n",
      "   69-я параллель       0.00      0.00      0.00        18\n",
      "       Библиотека       0.00      0.00      0.00         1\n",
      "           Бизнес       0.80      0.08      0.15        95\n",
      "      Бывший СССР       0.81      0.76      0.79       712\n",
      "              Дом       0.87      0.76      0.81       283\n",
      "         Из жизни       0.71      0.51      0.60       371\n",
      "   Интернет и СМИ       0.78      0.70      0.73       627\n",
      "             Крым       0.00      0.00      0.00         9\n",
      "    Культпросвет        0.00      0.00      0.00         4\n",
      "         Культура       0.86      0.88      0.87       720\n",
      "          Легпром       0.00      0.00      0.00         1\n",
      "              Мир       0.76      0.84      0.80      1845\n",
      "  Наука и техника       0.82      0.86      0.84       722\n",
      "      Путешествия       0.76      0.30      0.43        86\n",
      "           Россия       0.74      0.86      0.80      2177\n",
      "Силовые структуры       0.67      0.23      0.35       274\n",
      "            Спорт       0.96      0.96      0.96       865\n",
      "         Ценности       0.96      0.52      0.68       103\n",
      "        Экономика       0.80      0.85      0.82      1085\n",
      "\n",
      "         accuracy                           0.80     10000\n",
      "        macro avg       0.57      0.46      0.48     10000\n",
      "     weighted avg       0.79      0.80      0.78     10000\n",
      "\n"
     ]
    }
   ],
   "source": [
    "# Пайплайн с TfidfVectorizer\n",
    "pipeline_tfidf = Pipeline([\n",
    "    ('vectorizer', TfidfVectorizer()),\n",
    "    ('clf', LogisticRegression(random_state=random_state, max_iter=1000))\n",
    "])\n",
    "pipeline_tfidf.fit(X_train, y_train)\n",
    "y_pred_tfidf = pipeline_tfidf.predict(X_val)\n",
    "print(\"Classification Report for CountVectorizer + LogReg:\\n\")\n",
    "print(classification_report(y_val, y_pred_tfidf, zero_division=0))"
   ]
  },
  {
   "cell_type": "markdown",
   "metadata": {},
   "source": [
    "### Оптимизация гиперпараметров\n",
    "\n",
    "Проводим GridSearchCV для одновременной оптимизации гиперпараметров векторизаторов и модели LogisticRegression.\n",
    "Для LogisticRegression подбираем:\n",
    "- Параметр регуляризации C.\n",
    "- Тип штрафа (penalty)\n",
    "- solver\n",
    "\n",
    "Для векторизаторов подбираем параметры max_df, min_df"
   ]
  },
  {
   "cell_type": "code",
   "execution_count": 14,
   "metadata": {},
   "outputs": [],
   "source": [
    "cv_settings = {\n",
    "    'cv': 5,\n",
    "    'scoring': 'accuracy',\n",
    "    'n_jobs': -1,\n",
    "    'verbose': 2\n",
    "}"
   ]
  },
  {
   "cell_type": "markdown",
   "metadata": {},
   "source": [
    "#### CountVectorizer"
   ]
  },
  {
   "cell_type": "code",
   "execution_count": 15,
   "metadata": {},
   "outputs": [
    {
     "name": "stdout",
     "output_type": "stream",
     "text": [
      "Fitting 5 folds for each of 54 candidates, totalling 270 fits\n",
      "=== CountVectorizer Best Parameters ===\n",
      "{'clf__C': 0.5, 'clf__penalty': 'l1', 'clf__solver': 'liblinear', 'vectorizer__max_df': 0.7, 'vectorizer__min_df': 0.003}\n",
      "Best cross-val accuracy: 0.7643666666666667\n"
     ]
    }
   ],
   "source": [
    "pipeline_count = Pipeline([\n",
    "    ('vectorizer', CountVectorizer()),\n",
    "    ('clf', LogisticRegression(random_state=random_state, max_iter=1000))\n",
    "])\n",
    "\n",
    "\n",
    "param_grid_count = [\n",
    "    {   # для solver liblinear — разрешаем l1 и l2\n",
    "        'vectorizer__max_df': [0.7, 0.8, 0.9],\n",
    "        'vectorizer__min_df': [0.003, 0.005, 0.01],\n",
    "        'clf__C': [0.5, 1],\n",
    "        'clf__penalty': ['l1', 'l2'],\n",
    "        'clf__solver': ['liblinear']\n",
    "    },\n",
    "    {   # для solver lbfgs — только l2\n",
    "        'vectorizer__max_df': [0.7, 0.8, 0.9],\n",
    "        'vectorizer__min_df': [0.003, 0.005, 0.01],\n",
    "        'clf__C': [0.5, 1],\n",
    "        'clf__penalty': ['l2'],\n",
    "        'clf__solver': ['lbfgs']\n",
    "    }\n",
    "]\n",
    "\n",
    "grid_search_count = GridSearchCV(pipeline_count, param_grid_count, **cv_settings)\n",
    "grid_search_count.fit(X_train, y_train)\n",
    "\n",
    "print(\"=== CountVectorizer Best Parameters ===\")\n",
    "print(grid_search_count.best_params_)\n",
    "print(\"Best cross-val accuracy:\", grid_search_count.best_score_)"
   ]
  },
  {
   "cell_type": "code",
   "execution_count": 16,
   "metadata": {},
   "outputs": [
    {
     "name": "stdout",
     "output_type": "stream",
     "text": [
      "=== Classification Report on Validation Set (CountVectorizer) ===\n",
      "                   precision    recall  f1-score   support\n",
      "\n",
      "                        0.00      0.00      0.00         2\n",
      "   69-я параллель       0.25      0.11      0.15        18\n",
      "       Библиотека       0.00      0.00      0.00         1\n",
      "           Бизнес       0.55      0.25      0.35        95\n",
      "      Бывший СССР       0.77      0.75      0.76       712\n",
      "              Дом       0.82      0.78      0.80       283\n",
      "         Из жизни       0.60      0.52      0.56       371\n",
      "   Интернет и СМИ       0.72      0.70      0.71       627\n",
      "             Крым       0.50      0.11      0.18         9\n",
      "    Культпросвет        0.00      0.00      0.00         4\n",
      "         Культура       0.86      0.86      0.86       720\n",
      "          Легпром       0.00      0.00      0.00         1\n",
      "              Мир       0.77      0.78      0.77      1845\n",
      "  Наука и техника       0.80      0.80      0.80       722\n",
      "      Путешествия       0.68      0.48      0.56        86\n",
      "           Россия       0.74      0.82      0.77      2177\n",
      "Силовые структуры       0.54      0.41      0.47       274\n",
      "            Спорт       0.96      0.97      0.96       865\n",
      "         Ценности       0.87      0.70      0.77       103\n",
      "        Экономика       0.81      0.81      0.81      1085\n",
      "\n",
      "         accuracy                           0.78     10000\n",
      "        macro avg       0.56      0.49      0.51     10000\n",
      "     weighted avg       0.77      0.78      0.77     10000\n",
      "\n"
     ]
    }
   ],
   "source": [
    "best_model_count = grid_search_count.best_estimator_\n",
    "y_val_pred_count = best_model_count.predict(X_val)\n",
    "print(\"=== Classification Report on Validation Set (CountVectorizer) ===\")\n",
    "print(classification_report(y_val, y_val_pred_count, zero_division=0))"
   ]
  },
  {
   "cell_type": "markdown",
   "metadata": {},
   "source": [
    "#### TF-IDF"
   ]
  },
  {
   "cell_type": "code",
   "execution_count": 17,
   "metadata": {},
   "outputs": [
    {
     "name": "stdout",
     "output_type": "stream",
     "text": [
      "Fitting 5 folds for each of 54 candidates, totalling 270 fits\n",
      "=== TfidfVectorizer Best Parameters ===\n",
      "{'clf__C': 1, 'clf__penalty': 'l2', 'clf__solver': 'lbfgs', 'vectorizer__max_df': 0.7, 'vectorizer__min_df': 0.003}\n",
      "Best cross-val accuracy: 0.7758666666666667\n"
     ]
    }
   ],
   "source": [
    "pipeline_tfidf = Pipeline([\n",
    "    ('vectorizer', TfidfVectorizer()),\n",
    "    ('clf', LogisticRegression(random_state=random_state, max_iter=1000))\n",
    "])\n",
    "\n",
    "param_grid_tfidf = [\n",
    "    {   # для solver liblinear — l1 и l2\n",
    "        'vectorizer__max_df': [0.7, 0.8, 0.9],\n",
    "        'vectorizer__min_df': [0.003, 0.005, 0.01],\n",
    "        'clf__C': [0.5, 1],\n",
    "        'clf__penalty': ['l1', 'l2'],\n",
    "        'clf__solver': ['liblinear']\n",
    "    },\n",
    "    {   # для solver lbfgs — только l2\n",
    "        'vectorizer__max_df': [0.7, 0.8, 0.9],\n",
    "        'vectorizer__min_df': [0.003, 0.005, 0.01],\n",
    "        'clf__C': [0.5, 1],\n",
    "        'clf__penalty': ['l2'],\n",
    "        'clf__solver': ['lbfgs']\n",
    "    }\n",
    "]\n",
    "\n",
    "grid_search_tfidf = GridSearchCV(pipeline_tfidf, param_grid_tfidf, **cv_settings)\n",
    "grid_search_tfidf.fit(X_train, y_train)\n",
    "\n",
    "print(\"=== TfidfVectorizer Best Parameters ===\")\n",
    "print(grid_search_tfidf.best_params_)\n",
    "print(\"Best cross-val accuracy:\", grid_search_tfidf.best_score_)"
   ]
  },
  {
   "cell_type": "code",
   "execution_count": 18,
   "metadata": {},
   "outputs": [
    {
     "name": "stdout",
     "output_type": "stream",
     "text": [
      "=== Classification Report on Validation Set (TfidfVectorizer) ===\n",
      "                   precision    recall  f1-score   support\n",
      "\n",
      "                        0.00      0.00      0.00         2\n",
      "   69-я параллель       0.00      0.00      0.00        18\n",
      "       Библиотека       0.00      0.00      0.00         1\n",
      "           Бизнес       0.77      0.11      0.19        95\n",
      "      Бывший СССР       0.79      0.74      0.76       712\n",
      "              Дом       0.87      0.78      0.82       283\n",
      "         Из жизни       0.67      0.53      0.59       371\n",
      "   Интернет и СМИ       0.75      0.71      0.73       627\n",
      "             Крым       0.00      0.00      0.00         9\n",
      "    Культпросвет        0.00      0.00      0.00         4\n",
      "         Культура       0.87      0.87      0.87       720\n",
      "          Легпром       0.00      0.00      0.00         1\n",
      "              Мир       0.78      0.83      0.80      1845\n",
      "  Наука и техника       0.81      0.84      0.83       722\n",
      "      Путешествия       0.72      0.40      0.51        86\n",
      "           Россия       0.74      0.85      0.79      2177\n",
      "Силовые структуры       0.61      0.28      0.38       274\n",
      "            Спорт       0.96      0.96      0.96       865\n",
      "         Ценности       0.95      0.61      0.75       103\n",
      "        Экономика       0.80      0.84      0.82      1085\n",
      "\n",
      "         accuracy                           0.79     10000\n",
      "        macro avg       0.55      0.47      0.49     10000\n",
      "     weighted avg       0.79      0.79      0.78     10000\n",
      "\n"
     ]
    }
   ],
   "source": [
    "best_model_tfidf = grid_search_tfidf.best_estimator_\n",
    "y_val_pred_tfidf = best_model_tfidf.predict(X_val)\n",
    "print(\"=== Classification Report on Validation Set (TfidfVectorizer) ===\")\n",
    "print(classification_report(y_val, y_val_pred_tfidf, zero_division=0))"
   ]
  },
  {
   "cell_type": "markdown",
   "metadata": {},
   "source": [
    "### Оценка на отложенной выборке"
   ]
  },
  {
   "cell_type": "code",
   "execution_count": 20,
   "metadata": {},
   "outputs": [
    {
     "name": "stdout",
     "output_type": "stream",
     "text": [
      "=== Classification Report on Test Set (TfidfVectorizer) ===\n",
      "                   precision    recall  f1-score   support\n",
      "\n",
      "                        0.00      0.00      0.00         2\n",
      "   69-я параллель       0.00      0.00      0.00        18\n",
      "       Библиотека       0.00      0.00      0.00         1\n",
      "           Бизнес       0.88      0.07      0.14        94\n",
      "      Бывший СССР       0.79      0.79      0.79       712\n",
      "              Дом       0.82      0.76      0.79       283\n",
      "         Из жизни       0.69      0.54      0.60       371\n",
      "   Интернет и СМИ       0.73      0.66      0.69       627\n",
      "             Крым       0.00      0.00      0.00         8\n",
      "    Культпросвет        0.00      0.00      0.00         5\n",
      "         Культура       0.85      0.85      0.85       720\n",
      "          Легпром       0.00      0.00      0.00         1\n",
      "              Мир       0.76      0.84      0.80      1846\n",
      "  Наука и техника       0.80      0.83      0.82       723\n",
      "      Путешествия       0.71      0.47      0.56        86\n",
      "           Россия       0.75      0.83      0.79      2177\n",
      "Силовые структуры       0.66      0.23      0.34       274\n",
      "            Спорт       0.95      0.97      0.96       864\n",
      "         Ценности       0.96      0.65      0.77       103\n",
      "        Экономика       0.80      0.86      0.83      1085\n",
      "\n",
      "         accuracy                           0.79     10000\n",
      "        macro avg       0.56      0.47      0.49     10000\n",
      "     weighted avg       0.78      0.79      0.78     10000\n",
      "\n"
     ]
    }
   ],
   "source": [
    "# tfidf\n",
    "y_test_pred_tfidf = best_model_tfidf.predict(X_test)\n",
    "print(\"=== Classification Report on Test Set (TfidfVectorizer) ===\")\n",
    "print(classification_report(y_test, y_test_pred_tfidf, zero_division=0))"
   ]
  },
  {
   "cell_type": "markdown",
   "metadata": {},
   "source": [
    "Dummy baseline: accuracy - 0.22\n",
    "\n",
    "Лучшая модель - TF-IDF:\n",
    "- {'clf__C': 1, 'clf__penalty': 'l2', 'clf__solver': 'lbfgs', 'vectorizer__max_df': 0.7, 'vectorizer__min_df': 0.003}\n",
    "- Best cross-val accuracy: 0.7758666666666667\n",
    "- val_accuracy: 0.79\n",
    "- test_accurcy: 0.79\n",
    "\n"
   ]
  }
 ],
 "metadata": {
  "kernelspec": {
   "display_name": ".venv",
   "language": "python",
   "name": "python3"
  },
  "language_info": {
   "codemirror_mode": {
    "name": "ipython",
    "version": 3
   },
   "file_extension": ".py",
   "mimetype": "text/x-python",
   "name": "python",
   "nbconvert_exporter": "python",
   "pygments_lexer": "ipython3",
   "version": "3.12.8"
  }
 },
 "nbformat": 4,
 "nbformat_minor": 2
}
