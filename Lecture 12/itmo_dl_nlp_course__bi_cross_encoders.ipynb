{
  "metadata": {
    "kernelspec": {
      "display_name": "Python 3",
      "name": "python3"
    },
    "language_info": {
      "name": "python",
      "version": "3.10.13",
      "mimetype": "text/x-python",
      "codemirror_mode": {
        "name": "ipython",
        "version": 3
      },
      "pygments_lexer": "ipython3",
      "nbconvert_exporter": "python",
      "file_extension": ".py"
    },
    "kaggle": {
      "accelerator": "none",
      "dataSources": [],
      "dockerImageVersionId": 30646,
      "isInternetEnabled": true,
      "language": "python",
      "sourceType": "notebook",
      "isGpuEnabled": false
    },
    "colab": {
      "provenance": [],
      "toc_visible": true,
      "gpuType": "T4",
      "collapsed_sections": [
        "BkGm5qLF1v1U"
      ]
    },
    "accelerator": "GPU",
    "widgets": {
      "application/vnd.jupyter.widget-state+json": {
        "03f4f5ad9b2b4c75be8a1006ec63f60f": {
          "model_module": "@jupyter-widgets/controls",
          "model_name": "HBoxModel",
          "model_module_version": "1.5.0",
          "state": {
            "_dom_classes": [],
            "_model_module": "@jupyter-widgets/controls",
            "_model_module_version": "1.5.0",
            "_model_name": "HBoxModel",
            "_view_count": null,
            "_view_module": "@jupyter-widgets/controls",
            "_view_module_version": "1.5.0",
            "_view_name": "HBoxView",
            "box_style": "",
            "children": [
              "IPY_MODEL_630e87c07e2b436094364b4b05a8f59d",
              "IPY_MODEL_3dadfb1ddb2a4b5a95a76442aabb115d",
              "IPY_MODEL_802a7e50800c49aebf65ad430a2da05c"
            ],
            "layout": "IPY_MODEL_ea6a724720b047efb206887feed58248"
          }
        },
        "630e87c07e2b436094364b4b05a8f59d": {
          "model_module": "@jupyter-widgets/controls",
          "model_name": "HTMLModel",
          "model_module_version": "1.5.0",
          "state": {
            "_dom_classes": [],
            "_model_module": "@jupyter-widgets/controls",
            "_model_module_version": "1.5.0",
            "_model_name": "HTMLModel",
            "_view_count": null,
            "_view_module": "@jupyter-widgets/controls",
            "_view_module_version": "1.5.0",
            "_view_name": "HTMLView",
            "description": "",
            "description_tooltip": null,
            "layout": "IPY_MODEL_f24fb621737a49bba6fd7ea137428535",
            "placeholder": "​",
            "style": "IPY_MODEL_aacb3479ad11449b91140a95f3f6dcaf",
            "value": "DaNetQA.zip: 100%"
          }
        },
        "3dadfb1ddb2a4b5a95a76442aabb115d": {
          "model_module": "@jupyter-widgets/controls",
          "model_name": "FloatProgressModel",
          "model_module_version": "1.5.0",
          "state": {
            "_dom_classes": [],
            "_model_module": "@jupyter-widgets/controls",
            "_model_module_version": "1.5.0",
            "_model_name": "FloatProgressModel",
            "_view_count": null,
            "_view_module": "@jupyter-widgets/controls",
            "_view_module_version": "1.5.0",
            "_view_name": "ProgressView",
            "bar_style": "success",
            "description": "",
            "description_tooltip": null,
            "layout": "IPY_MODEL_419044daa87c405392bfe681dceed770",
            "max": 1293761,
            "min": 0,
            "orientation": "horizontal",
            "style": "IPY_MODEL_2c48c1c0327646b78f4097f1e658e0e3",
            "value": 1293761
          }
        },
        "802a7e50800c49aebf65ad430a2da05c": {
          "model_module": "@jupyter-widgets/controls",
          "model_name": "HTMLModel",
          "model_module_version": "1.5.0",
          "state": {
            "_dom_classes": [],
            "_model_module": "@jupyter-widgets/controls",
            "_model_module_version": "1.5.0",
            "_model_name": "HTMLModel",
            "_view_count": null,
            "_view_module": "@jupyter-widgets/controls",
            "_view_module_version": "1.5.0",
            "_view_name": "HTMLView",
            "description": "",
            "description_tooltip": null,
            "layout": "IPY_MODEL_ee819b3fcb614236ae353d0dc69e9aec",
            "placeholder": "​",
            "style": "IPY_MODEL_f803e734be4e43f5acc18d02471be1a2",
            "value": " 1.29M/1.29M [00:00&lt;00:00, 9.57MB/s]"
          }
        },
        "ea6a724720b047efb206887feed58248": {
          "model_module": "@jupyter-widgets/base",
          "model_name": "LayoutModel",
          "model_module_version": "1.2.0",
          "state": {
            "_model_module": "@jupyter-widgets/base",
            "_model_module_version": "1.2.0",
            "_model_name": "LayoutModel",
            "_view_count": null,
            "_view_module": "@jupyter-widgets/base",
            "_view_module_version": "1.2.0",
            "_view_name": "LayoutView",
            "align_content": null,
            "align_items": null,
            "align_self": null,
            "border": null,
            "bottom": null,
            "display": null,
            "flex": null,
            "flex_flow": null,
            "grid_area": null,
            "grid_auto_columns": null,
            "grid_auto_flow": null,
            "grid_auto_rows": null,
            "grid_column": null,
            "grid_gap": null,
            "grid_row": null,
            "grid_template_areas": null,
            "grid_template_columns": null,
            "grid_template_rows": null,
            "height": null,
            "justify_content": null,
            "justify_items": null,
            "left": null,
            "margin": null,
            "max_height": null,
            "max_width": null,
            "min_height": null,
            "min_width": null,
            "object_fit": null,
            "object_position": null,
            "order": null,
            "overflow": null,
            "overflow_x": null,
            "overflow_y": null,
            "padding": null,
            "right": null,
            "top": null,
            "visibility": null,
            "width": null
          }
        },
        "f24fb621737a49bba6fd7ea137428535": {
          "model_module": "@jupyter-widgets/base",
          "model_name": "LayoutModel",
          "model_module_version": "1.2.0",
          "state": {
            "_model_module": "@jupyter-widgets/base",
            "_model_module_version": "1.2.0",
            "_model_name": "LayoutModel",
            "_view_count": null,
            "_view_module": "@jupyter-widgets/base",
            "_view_module_version": "1.2.0",
            "_view_name": "LayoutView",
            "align_content": null,
            "align_items": null,
            "align_self": null,
            "border": null,
            "bottom": null,
            "display": null,
            "flex": null,
            "flex_flow": null,
            "grid_area": null,
            "grid_auto_columns": null,
            "grid_auto_flow": null,
            "grid_auto_rows": null,
            "grid_column": null,
            "grid_gap": null,
            "grid_row": null,
            "grid_template_areas": null,
            "grid_template_columns": null,
            "grid_template_rows": null,
            "height": null,
            "justify_content": null,
            "justify_items": null,
            "left": null,
            "margin": null,
            "max_height": null,
            "max_width": null,
            "min_height": null,
            "min_width": null,
            "object_fit": null,
            "object_position": null,
            "order": null,
            "overflow": null,
            "overflow_x": null,
            "overflow_y": null,
            "padding": null,
            "right": null,
            "top": null,
            "visibility": null,
            "width": null
          }
        },
        "aacb3479ad11449b91140a95f3f6dcaf": {
          "model_module": "@jupyter-widgets/controls",
          "model_name": "DescriptionStyleModel",
          "model_module_version": "1.5.0",
          "state": {
            "_model_module": "@jupyter-widgets/controls",
            "_model_module_version": "1.5.0",
            "_model_name": "DescriptionStyleModel",
            "_view_count": null,
            "_view_module": "@jupyter-widgets/base",
            "_view_module_version": "1.2.0",
            "_view_name": "StyleView",
            "description_width": ""
          }
        },
        "419044daa87c405392bfe681dceed770": {
          "model_module": "@jupyter-widgets/base",
          "model_name": "LayoutModel",
          "model_module_version": "1.2.0",
          "state": {
            "_model_module": "@jupyter-widgets/base",
            "_model_module_version": "1.2.0",
            "_model_name": "LayoutModel",
            "_view_count": null,
            "_view_module": "@jupyter-widgets/base",
            "_view_module_version": "1.2.0",
            "_view_name": "LayoutView",
            "align_content": null,
            "align_items": null,
            "align_self": null,
            "border": null,
            "bottom": null,
            "display": null,
            "flex": null,
            "flex_flow": null,
            "grid_area": null,
            "grid_auto_columns": null,
            "grid_auto_flow": null,
            "grid_auto_rows": null,
            "grid_column": null,
            "grid_gap": null,
            "grid_row": null,
            "grid_template_areas": null,
            "grid_template_columns": null,
            "grid_template_rows": null,
            "height": null,
            "justify_content": null,
            "justify_items": null,
            "left": null,
            "margin": null,
            "max_height": null,
            "max_width": null,
            "min_height": null,
            "min_width": null,
            "object_fit": null,
            "object_position": null,
            "order": null,
            "overflow": null,
            "overflow_x": null,
            "overflow_y": null,
            "padding": null,
            "right": null,
            "top": null,
            "visibility": null,
            "width": null
          }
        },
        "2c48c1c0327646b78f4097f1e658e0e3": {
          "model_module": "@jupyter-widgets/controls",
          "model_name": "ProgressStyleModel",
          "model_module_version": "1.5.0",
          "state": {
            "_model_module": "@jupyter-widgets/controls",
            "_model_module_version": "1.5.0",
            "_model_name": "ProgressStyleModel",
            "_view_count": null,
            "_view_module": "@jupyter-widgets/base",
            "_view_module_version": "1.2.0",
            "_view_name": "StyleView",
            "bar_color": null,
            "description_width": ""
          }
        },
        "ee819b3fcb614236ae353d0dc69e9aec": {
          "model_module": "@jupyter-widgets/base",
          "model_name": "LayoutModel",
          "model_module_version": "1.2.0",
          "state": {
            "_model_module": "@jupyter-widgets/base",
            "_model_module_version": "1.2.0",
            "_model_name": "LayoutModel",
            "_view_count": null,
            "_view_module": "@jupyter-widgets/base",
            "_view_module_version": "1.2.0",
            "_view_name": "LayoutView",
            "align_content": null,
            "align_items": null,
            "align_self": null,
            "border": null,
            "bottom": null,
            "display": null,
            "flex": null,
            "flex_flow": null,
            "grid_area": null,
            "grid_auto_columns": null,
            "grid_auto_flow": null,
            "grid_auto_rows": null,
            "grid_column": null,
            "grid_gap": null,
            "grid_row": null,
            "grid_template_areas": null,
            "grid_template_columns": null,
            "grid_template_rows": null,
            "height": null,
            "justify_content": null,
            "justify_items": null,
            "left": null,
            "margin": null,
            "max_height": null,
            "max_width": null,
            "min_height": null,
            "min_width": null,
            "object_fit": null,
            "object_position": null,
            "order": null,
            "overflow": null,
            "overflow_x": null,
            "overflow_y": null,
            "padding": null,
            "right": null,
            "top": null,
            "visibility": null,
            "width": null
          }
        },
        "f803e734be4e43f5acc18d02471be1a2": {
          "model_module": "@jupyter-widgets/controls",
          "model_name": "DescriptionStyleModel",
          "model_module_version": "1.5.0",
          "state": {
            "_model_module": "@jupyter-widgets/controls",
            "_model_module_version": "1.5.0",
            "_model_name": "DescriptionStyleModel",
            "_view_count": null,
            "_view_module": "@jupyter-widgets/base",
            "_view_module_version": "1.2.0",
            "_view_name": "StyleView",
            "description_width": ""
          }
        },
        "d40b5c7d0ad14826aa13e86f7839142d": {
          "model_module": "@jupyter-widgets/controls",
          "model_name": "HBoxModel",
          "model_module_version": "1.5.0",
          "state": {
            "_dom_classes": [],
            "_model_module": "@jupyter-widgets/controls",
            "_model_module_version": "1.5.0",
            "_model_name": "HBoxModel",
            "_view_count": null,
            "_view_module": "@jupyter-widgets/controls",
            "_view_module_version": "1.5.0",
            "_view_name": "HBoxView",
            "box_style": "",
            "children": [
              "IPY_MODEL_8a76c59a3c9a443580e97bd64052dbee",
              "IPY_MODEL_b5df8145f75c40f6acdd779eab1b3814",
              "IPY_MODEL_c6c34cf588e24f85934d5d7c017b97fa"
            ],
            "layout": "IPY_MODEL_0bae8f269eb941f7bcabf1804362f6fe"
          }
        },
        "8a76c59a3c9a443580e97bd64052dbee": {
          "model_module": "@jupyter-widgets/controls",
          "model_name": "HTMLModel",
          "model_module_version": "1.5.0",
          "state": {
            "_dom_classes": [],
            "_model_module": "@jupyter-widgets/controls",
            "_model_module_version": "1.5.0",
            "_model_name": "HTMLModel",
            "_view_count": null,
            "_view_module": "@jupyter-widgets/controls",
            "_view_module_version": "1.5.0",
            "_view_name": "HTMLView",
            "description": "",
            "description_tooltip": null,
            "layout": "IPY_MODEL_95a17c16cb2c4242ad08e83924f9cf19",
            "placeholder": "​",
            "style": "IPY_MODEL_165de46bbade41b6b5c198b00a608d9b",
            "value": "Generating train split: 100%"
          }
        },
        "b5df8145f75c40f6acdd779eab1b3814": {
          "model_module": "@jupyter-widgets/controls",
          "model_name": "FloatProgressModel",
          "model_module_version": "1.5.0",
          "state": {
            "_dom_classes": [],
            "_model_module": "@jupyter-widgets/controls",
            "_model_module_version": "1.5.0",
            "_model_name": "FloatProgressModel",
            "_view_count": null,
            "_view_module": "@jupyter-widgets/controls",
            "_view_module_version": "1.5.0",
            "_view_name": "ProgressView",
            "bar_style": "success",
            "description": "",
            "description_tooltip": null,
            "layout": "IPY_MODEL_de1b5ef9f56d47e184117859fe5d15ce",
            "max": 1749,
            "min": 0,
            "orientation": "horizontal",
            "style": "IPY_MODEL_6cee89dc75ba472b8838c6483d55c2d3",
            "value": 1749
          }
        },
        "c6c34cf588e24f85934d5d7c017b97fa": {
          "model_module": "@jupyter-widgets/controls",
          "model_name": "HTMLModel",
          "model_module_version": "1.5.0",
          "state": {
            "_dom_classes": [],
            "_model_module": "@jupyter-widgets/controls",
            "_model_module_version": "1.5.0",
            "_model_name": "HTMLModel",
            "_view_count": null,
            "_view_module": "@jupyter-widgets/controls",
            "_view_module_version": "1.5.0",
            "_view_name": "HTMLView",
            "description": "",
            "description_tooltip": null,
            "layout": "IPY_MODEL_b1f133ab5e5c484e96be481008124022",
            "placeholder": "​",
            "style": "IPY_MODEL_f1ade811c460484fb8111c3cac0af9c8",
            "value": " 1749/1749 [00:00&lt;00:00, 6455.16 examples/s]"
          }
        },
        "0bae8f269eb941f7bcabf1804362f6fe": {
          "model_module": "@jupyter-widgets/base",
          "model_name": "LayoutModel",
          "model_module_version": "1.2.0",
          "state": {
            "_model_module": "@jupyter-widgets/base",
            "_model_module_version": "1.2.0",
            "_model_name": "LayoutModel",
            "_view_count": null,
            "_view_module": "@jupyter-widgets/base",
            "_view_module_version": "1.2.0",
            "_view_name": "LayoutView",
            "align_content": null,
            "align_items": null,
            "align_self": null,
            "border": null,
            "bottom": null,
            "display": null,
            "flex": null,
            "flex_flow": null,
            "grid_area": null,
            "grid_auto_columns": null,
            "grid_auto_flow": null,
            "grid_auto_rows": null,
            "grid_column": null,
            "grid_gap": null,
            "grid_row": null,
            "grid_template_areas": null,
            "grid_template_columns": null,
            "grid_template_rows": null,
            "height": null,
            "justify_content": null,
            "justify_items": null,
            "left": null,
            "margin": null,
            "max_height": null,
            "max_width": null,
            "min_height": null,
            "min_width": null,
            "object_fit": null,
            "object_position": null,
            "order": null,
            "overflow": null,
            "overflow_x": null,
            "overflow_y": null,
            "padding": null,
            "right": null,
            "top": null,
            "visibility": null,
            "width": null
          }
        },
        "95a17c16cb2c4242ad08e83924f9cf19": {
          "model_module": "@jupyter-widgets/base",
          "model_name": "LayoutModel",
          "model_module_version": "1.2.0",
          "state": {
            "_model_module": "@jupyter-widgets/base",
            "_model_module_version": "1.2.0",
            "_model_name": "LayoutModel",
            "_view_count": null,
            "_view_module": "@jupyter-widgets/base",
            "_view_module_version": "1.2.0",
            "_view_name": "LayoutView",
            "align_content": null,
            "align_items": null,
            "align_self": null,
            "border": null,
            "bottom": null,
            "display": null,
            "flex": null,
            "flex_flow": null,
            "grid_area": null,
            "grid_auto_columns": null,
            "grid_auto_flow": null,
            "grid_auto_rows": null,
            "grid_column": null,
            "grid_gap": null,
            "grid_row": null,
            "grid_template_areas": null,
            "grid_template_columns": null,
            "grid_template_rows": null,
            "height": null,
            "justify_content": null,
            "justify_items": null,
            "left": null,
            "margin": null,
            "max_height": null,
            "max_width": null,
            "min_height": null,
            "min_width": null,
            "object_fit": null,
            "object_position": null,
            "order": null,
            "overflow": null,
            "overflow_x": null,
            "overflow_y": null,
            "padding": null,
            "right": null,
            "top": null,
            "visibility": null,
            "width": null
          }
        },
        "165de46bbade41b6b5c198b00a608d9b": {
          "model_module": "@jupyter-widgets/controls",
          "model_name": "DescriptionStyleModel",
          "model_module_version": "1.5.0",
          "state": {
            "_model_module": "@jupyter-widgets/controls",
            "_model_module_version": "1.5.0",
            "_model_name": "DescriptionStyleModel",
            "_view_count": null,
            "_view_module": "@jupyter-widgets/base",
            "_view_module_version": "1.2.0",
            "_view_name": "StyleView",
            "description_width": ""
          }
        },
        "de1b5ef9f56d47e184117859fe5d15ce": {
          "model_module": "@jupyter-widgets/base",
          "model_name": "LayoutModel",
          "model_module_version": "1.2.0",
          "state": {
            "_model_module": "@jupyter-widgets/base",
            "_model_module_version": "1.2.0",
            "_model_name": "LayoutModel",
            "_view_count": null,
            "_view_module": "@jupyter-widgets/base",
            "_view_module_version": "1.2.0",
            "_view_name": "LayoutView",
            "align_content": null,
            "align_items": null,
            "align_self": null,
            "border": null,
            "bottom": null,
            "display": null,
            "flex": null,
            "flex_flow": null,
            "grid_area": null,
            "grid_auto_columns": null,
            "grid_auto_flow": null,
            "grid_auto_rows": null,
            "grid_column": null,
            "grid_gap": null,
            "grid_row": null,
            "grid_template_areas": null,
            "grid_template_columns": null,
            "grid_template_rows": null,
            "height": null,
            "justify_content": null,
            "justify_items": null,
            "left": null,
            "margin": null,
            "max_height": null,
            "max_width": null,
            "min_height": null,
            "min_width": null,
            "object_fit": null,
            "object_position": null,
            "order": null,
            "overflow": null,
            "overflow_x": null,
            "overflow_y": null,
            "padding": null,
            "right": null,
            "top": null,
            "visibility": null,
            "width": null
          }
        },
        "6cee89dc75ba472b8838c6483d55c2d3": {
          "model_module": "@jupyter-widgets/controls",
          "model_name": "ProgressStyleModel",
          "model_module_version": "1.5.0",
          "state": {
            "_model_module": "@jupyter-widgets/controls",
            "_model_module_version": "1.5.0",
            "_model_name": "ProgressStyleModel",
            "_view_count": null,
            "_view_module": "@jupyter-widgets/base",
            "_view_module_version": "1.2.0",
            "_view_name": "StyleView",
            "bar_color": null,
            "description_width": ""
          }
        },
        "b1f133ab5e5c484e96be481008124022": {
          "model_module": "@jupyter-widgets/base",
          "model_name": "LayoutModel",
          "model_module_version": "1.2.0",
          "state": {
            "_model_module": "@jupyter-widgets/base",
            "_model_module_version": "1.2.0",
            "_model_name": "LayoutModel",
            "_view_count": null,
            "_view_module": "@jupyter-widgets/base",
            "_view_module_version": "1.2.0",
            "_view_name": "LayoutView",
            "align_content": null,
            "align_items": null,
            "align_self": null,
            "border": null,
            "bottom": null,
            "display": null,
            "flex": null,
            "flex_flow": null,
            "grid_area": null,
            "grid_auto_columns": null,
            "grid_auto_flow": null,
            "grid_auto_rows": null,
            "grid_column": null,
            "grid_gap": null,
            "grid_row": null,
            "grid_template_areas": null,
            "grid_template_columns": null,
            "grid_template_rows": null,
            "height": null,
            "justify_content": null,
            "justify_items": null,
            "left": null,
            "margin": null,
            "max_height": null,
            "max_width": null,
            "min_height": null,
            "min_width": null,
            "object_fit": null,
            "object_position": null,
            "order": null,
            "overflow": null,
            "overflow_x": null,
            "overflow_y": null,
            "padding": null,
            "right": null,
            "top": null,
            "visibility": null,
            "width": null
          }
        },
        "f1ade811c460484fb8111c3cac0af9c8": {
          "model_module": "@jupyter-widgets/controls",
          "model_name": "DescriptionStyleModel",
          "model_module_version": "1.5.0",
          "state": {
            "_model_module": "@jupyter-widgets/controls",
            "_model_module_version": "1.5.0",
            "_model_name": "DescriptionStyleModel",
            "_view_count": null,
            "_view_module": "@jupyter-widgets/base",
            "_view_module_version": "1.2.0",
            "_view_name": "StyleView",
            "description_width": ""
          }
        },
        "f705406b79324a64b7b559b2f676344c": {
          "model_module": "@jupyter-widgets/controls",
          "model_name": "HBoxModel",
          "model_module_version": "1.5.0",
          "state": {
            "_dom_classes": [],
            "_model_module": "@jupyter-widgets/controls",
            "_model_module_version": "1.5.0",
            "_model_name": "HBoxModel",
            "_view_count": null,
            "_view_module": "@jupyter-widgets/controls",
            "_view_module_version": "1.5.0",
            "_view_name": "HBoxView",
            "box_style": "",
            "children": [
              "IPY_MODEL_057ce4efbaa84d9fb55b92d5098bf52c",
              "IPY_MODEL_8f485b41400c4a448fe3d9cfbc2d51d0",
              "IPY_MODEL_08f37aea6cc14e95a29878c942cf44c2"
            ],
            "layout": "IPY_MODEL_b864afa472114d3d9dd5088c9a37987e"
          }
        },
        "057ce4efbaa84d9fb55b92d5098bf52c": {
          "model_module": "@jupyter-widgets/controls",
          "model_name": "HTMLModel",
          "model_module_version": "1.5.0",
          "state": {
            "_dom_classes": [],
            "_model_module": "@jupyter-widgets/controls",
            "_model_module_version": "1.5.0",
            "_model_name": "HTMLModel",
            "_view_count": null,
            "_view_module": "@jupyter-widgets/controls",
            "_view_module_version": "1.5.0",
            "_view_name": "HTMLView",
            "description": "",
            "description_tooltip": null,
            "layout": "IPY_MODEL_36e0db5e235944d5a0ae0437b993e638",
            "placeholder": "​",
            "style": "IPY_MODEL_eff12f583b404bb1a7666d4511b27f15",
            "value": "Generating validation split: 100%"
          }
        },
        "8f485b41400c4a448fe3d9cfbc2d51d0": {
          "model_module": "@jupyter-widgets/controls",
          "model_name": "FloatProgressModel",
          "model_module_version": "1.5.0",
          "state": {
            "_dom_classes": [],
            "_model_module": "@jupyter-widgets/controls",
            "_model_module_version": "1.5.0",
            "_model_name": "FloatProgressModel",
            "_view_count": null,
            "_view_module": "@jupyter-widgets/controls",
            "_view_module_version": "1.5.0",
            "_view_name": "ProgressView",
            "bar_style": "success",
            "description": "",
            "description_tooltip": null,
            "layout": "IPY_MODEL_1bea51c5371c4722bb37960ba1e51a18",
            "max": 821,
            "min": 0,
            "orientation": "horizontal",
            "style": "IPY_MODEL_7fb9cea0ba624f8b88db3dee8a03508c",
            "value": 821
          }
        },
        "08f37aea6cc14e95a29878c942cf44c2": {
          "model_module": "@jupyter-widgets/controls",
          "model_name": "HTMLModel",
          "model_module_version": "1.5.0",
          "state": {
            "_dom_classes": [],
            "_model_module": "@jupyter-widgets/controls",
            "_model_module_version": "1.5.0",
            "_model_name": "HTMLModel",
            "_view_count": null,
            "_view_module": "@jupyter-widgets/controls",
            "_view_module_version": "1.5.0",
            "_view_name": "HTMLView",
            "description": "",
            "description_tooltip": null,
            "layout": "IPY_MODEL_aeda0ad1aa104a7782847f014194a854",
            "placeholder": "​",
            "style": "IPY_MODEL_f09198fd51ed4ef4ab0d670628f06996",
            "value": " 821/821 [00:00&lt;00:00, 7578.21 examples/s]"
          }
        },
        "b864afa472114d3d9dd5088c9a37987e": {
          "model_module": "@jupyter-widgets/base",
          "model_name": "LayoutModel",
          "model_module_version": "1.2.0",
          "state": {
            "_model_module": "@jupyter-widgets/base",
            "_model_module_version": "1.2.0",
            "_model_name": "LayoutModel",
            "_view_count": null,
            "_view_module": "@jupyter-widgets/base",
            "_view_module_version": "1.2.0",
            "_view_name": "LayoutView",
            "align_content": null,
            "align_items": null,
            "align_self": null,
            "border": null,
            "bottom": null,
            "display": null,
            "flex": null,
            "flex_flow": null,
            "grid_area": null,
            "grid_auto_columns": null,
            "grid_auto_flow": null,
            "grid_auto_rows": null,
            "grid_column": null,
            "grid_gap": null,
            "grid_row": null,
            "grid_template_areas": null,
            "grid_template_columns": null,
            "grid_template_rows": null,
            "height": null,
            "justify_content": null,
            "justify_items": null,
            "left": null,
            "margin": null,
            "max_height": null,
            "max_width": null,
            "min_height": null,
            "min_width": null,
            "object_fit": null,
            "object_position": null,
            "order": null,
            "overflow": null,
            "overflow_x": null,
            "overflow_y": null,
            "padding": null,
            "right": null,
            "top": null,
            "visibility": null,
            "width": null
          }
        },
        "36e0db5e235944d5a0ae0437b993e638": {
          "model_module": "@jupyter-widgets/base",
          "model_name": "LayoutModel",
          "model_module_version": "1.2.0",
          "state": {
            "_model_module": "@jupyter-widgets/base",
            "_model_module_version": "1.2.0",
            "_model_name": "LayoutModel",
            "_view_count": null,
            "_view_module": "@jupyter-widgets/base",
            "_view_module_version": "1.2.0",
            "_view_name": "LayoutView",
            "align_content": null,
            "align_items": null,
            "align_self": null,
            "border": null,
            "bottom": null,
            "display": null,
            "flex": null,
            "flex_flow": null,
            "grid_area": null,
            "grid_auto_columns": null,
            "grid_auto_flow": null,
            "grid_auto_rows": null,
            "grid_column": null,
            "grid_gap": null,
            "grid_row": null,
            "grid_template_areas": null,
            "grid_template_columns": null,
            "grid_template_rows": null,
            "height": null,
            "justify_content": null,
            "justify_items": null,
            "left": null,
            "margin": null,
            "max_height": null,
            "max_width": null,
            "min_height": null,
            "min_width": null,
            "object_fit": null,
            "object_position": null,
            "order": null,
            "overflow": null,
            "overflow_x": null,
            "overflow_y": null,
            "padding": null,
            "right": null,
            "top": null,
            "visibility": null,
            "width": null
          }
        },
        "eff12f583b404bb1a7666d4511b27f15": {
          "model_module": "@jupyter-widgets/controls",
          "model_name": "DescriptionStyleModel",
          "model_module_version": "1.5.0",
          "state": {
            "_model_module": "@jupyter-widgets/controls",
            "_model_module_version": "1.5.0",
            "_model_name": "DescriptionStyleModel",
            "_view_count": null,
            "_view_module": "@jupyter-widgets/base",
            "_view_module_version": "1.2.0",
            "_view_name": "StyleView",
            "description_width": ""
          }
        },
        "1bea51c5371c4722bb37960ba1e51a18": {
          "model_module": "@jupyter-widgets/base",
          "model_name": "LayoutModel",
          "model_module_version": "1.2.0",
          "state": {
            "_model_module": "@jupyter-widgets/base",
            "_model_module_version": "1.2.0",
            "_model_name": "LayoutModel",
            "_view_count": null,
            "_view_module": "@jupyter-widgets/base",
            "_view_module_version": "1.2.0",
            "_view_name": "LayoutView",
            "align_content": null,
            "align_items": null,
            "align_self": null,
            "border": null,
            "bottom": null,
            "display": null,
            "flex": null,
            "flex_flow": null,
            "grid_area": null,
            "grid_auto_columns": null,
            "grid_auto_flow": null,
            "grid_auto_rows": null,
            "grid_column": null,
            "grid_gap": null,
            "grid_row": null,
            "grid_template_areas": null,
            "grid_template_columns": null,
            "grid_template_rows": null,
            "height": null,
            "justify_content": null,
            "justify_items": null,
            "left": null,
            "margin": null,
            "max_height": null,
            "max_width": null,
            "min_height": null,
            "min_width": null,
            "object_fit": null,
            "object_position": null,
            "order": null,
            "overflow": null,
            "overflow_x": null,
            "overflow_y": null,
            "padding": null,
            "right": null,
            "top": null,
            "visibility": null,
            "width": null
          }
        },
        "7fb9cea0ba624f8b88db3dee8a03508c": {
          "model_module": "@jupyter-widgets/controls",
          "model_name": "ProgressStyleModel",
          "model_module_version": "1.5.0",
          "state": {
            "_model_module": "@jupyter-widgets/controls",
            "_model_module_version": "1.5.0",
            "_model_name": "ProgressStyleModel",
            "_view_count": null,
            "_view_module": "@jupyter-widgets/base",
            "_view_module_version": "1.2.0",
            "_view_name": "StyleView",
            "bar_color": null,
            "description_width": ""
          }
        },
        "aeda0ad1aa104a7782847f014194a854": {
          "model_module": "@jupyter-widgets/base",
          "model_name": "LayoutModel",
          "model_module_version": "1.2.0",
          "state": {
            "_model_module": "@jupyter-widgets/base",
            "_model_module_version": "1.2.0",
            "_model_name": "LayoutModel",
            "_view_count": null,
            "_view_module": "@jupyter-widgets/base",
            "_view_module_version": "1.2.0",
            "_view_name": "LayoutView",
            "align_content": null,
            "align_items": null,
            "align_self": null,
            "border": null,
            "bottom": null,
            "display": null,
            "flex": null,
            "flex_flow": null,
            "grid_area": null,
            "grid_auto_columns": null,
            "grid_auto_flow": null,
            "grid_auto_rows": null,
            "grid_column": null,
            "grid_gap": null,
            "grid_row": null,
            "grid_template_areas": null,
            "grid_template_columns": null,
            "grid_template_rows": null,
            "height": null,
            "justify_content": null,
            "justify_items": null,
            "left": null,
            "margin": null,
            "max_height": null,
            "max_width": null,
            "min_height": null,
            "min_width": null,
            "object_fit": null,
            "object_position": null,
            "order": null,
            "overflow": null,
            "overflow_x": null,
            "overflow_y": null,
            "padding": null,
            "right": null,
            "top": null,
            "visibility": null,
            "width": null
          }
        },
        "f09198fd51ed4ef4ab0d670628f06996": {
          "model_module": "@jupyter-widgets/controls",
          "model_name": "DescriptionStyleModel",
          "model_module_version": "1.5.0",
          "state": {
            "_model_module": "@jupyter-widgets/controls",
            "_model_module_version": "1.5.0",
            "_model_name": "DescriptionStyleModel",
            "_view_count": null,
            "_view_module": "@jupyter-widgets/base",
            "_view_module_version": "1.2.0",
            "_view_name": "StyleView",
            "description_width": ""
          }
        },
        "db446fbf515d4a0b96810a3bd2d67de5": {
          "model_module": "@jupyter-widgets/controls",
          "model_name": "HBoxModel",
          "model_module_version": "1.5.0",
          "state": {
            "_dom_classes": [],
            "_model_module": "@jupyter-widgets/controls",
            "_model_module_version": "1.5.0",
            "_model_name": "HBoxModel",
            "_view_count": null,
            "_view_module": "@jupyter-widgets/controls",
            "_view_module_version": "1.5.0",
            "_view_name": "HBoxView",
            "box_style": "",
            "children": [
              "IPY_MODEL_f28062e37d554751b36be1bd4d56e102",
              "IPY_MODEL_34ac69bcd5f84aac94efd5c5bbd9a2a0",
              "IPY_MODEL_f4e18d7ee788441099ab9494d58314eb"
            ],
            "layout": "IPY_MODEL_b26e6c72c9c3462a91cb621b01a06738"
          }
        },
        "f28062e37d554751b36be1bd4d56e102": {
          "model_module": "@jupyter-widgets/controls",
          "model_name": "HTMLModel",
          "model_module_version": "1.5.0",
          "state": {
            "_dom_classes": [],
            "_model_module": "@jupyter-widgets/controls",
            "_model_module_version": "1.5.0",
            "_model_name": "HTMLModel",
            "_view_count": null,
            "_view_module": "@jupyter-widgets/controls",
            "_view_module_version": "1.5.0",
            "_view_name": "HTMLView",
            "description": "",
            "description_tooltip": null,
            "layout": "IPY_MODEL_e3e8c9f8f2bb4f43a3ada8d8f97da827",
            "placeholder": "​",
            "style": "IPY_MODEL_01ff62af43a046e798509b868b40544b",
            "value": "Generating test split: 100%"
          }
        },
        "34ac69bcd5f84aac94efd5c5bbd9a2a0": {
          "model_module": "@jupyter-widgets/controls",
          "model_name": "FloatProgressModel",
          "model_module_version": "1.5.0",
          "state": {
            "_dom_classes": [],
            "_model_module": "@jupyter-widgets/controls",
            "_model_module_version": "1.5.0",
            "_model_name": "FloatProgressModel",
            "_view_count": null,
            "_view_module": "@jupyter-widgets/controls",
            "_view_module_version": "1.5.0",
            "_view_name": "ProgressView",
            "bar_style": "success",
            "description": "",
            "description_tooltip": null,
            "layout": "IPY_MODEL_f2f50ff4e65448f188b4c21be510f4f9",
            "max": 805,
            "min": 0,
            "orientation": "horizontal",
            "style": "IPY_MODEL_3d507ebd666f40b591721c5bfd3aac0d",
            "value": 805
          }
        },
        "f4e18d7ee788441099ab9494d58314eb": {
          "model_module": "@jupyter-widgets/controls",
          "model_name": "HTMLModel",
          "model_module_version": "1.5.0",
          "state": {
            "_dom_classes": [],
            "_model_module": "@jupyter-widgets/controls",
            "_model_module_version": "1.5.0",
            "_model_name": "HTMLModel",
            "_view_count": null,
            "_view_module": "@jupyter-widgets/controls",
            "_view_module_version": "1.5.0",
            "_view_name": "HTMLView",
            "description": "",
            "description_tooltip": null,
            "layout": "IPY_MODEL_dc7940ca3cc24a2d9205c1f8242d21b8",
            "placeholder": "​",
            "style": "IPY_MODEL_12929b58fafe4080a718c2bff8e0935c",
            "value": " 805/805 [00:00&lt;00:00, 10518.23 examples/s]"
          }
        },
        "b26e6c72c9c3462a91cb621b01a06738": {
          "model_module": "@jupyter-widgets/base",
          "model_name": "LayoutModel",
          "model_module_version": "1.2.0",
          "state": {
            "_model_module": "@jupyter-widgets/base",
            "_model_module_version": "1.2.0",
            "_model_name": "LayoutModel",
            "_view_count": null,
            "_view_module": "@jupyter-widgets/base",
            "_view_module_version": "1.2.0",
            "_view_name": "LayoutView",
            "align_content": null,
            "align_items": null,
            "align_self": null,
            "border": null,
            "bottom": null,
            "display": null,
            "flex": null,
            "flex_flow": null,
            "grid_area": null,
            "grid_auto_columns": null,
            "grid_auto_flow": null,
            "grid_auto_rows": null,
            "grid_column": null,
            "grid_gap": null,
            "grid_row": null,
            "grid_template_areas": null,
            "grid_template_columns": null,
            "grid_template_rows": null,
            "height": null,
            "justify_content": null,
            "justify_items": null,
            "left": null,
            "margin": null,
            "max_height": null,
            "max_width": null,
            "min_height": null,
            "min_width": null,
            "object_fit": null,
            "object_position": null,
            "order": null,
            "overflow": null,
            "overflow_x": null,
            "overflow_y": null,
            "padding": null,
            "right": null,
            "top": null,
            "visibility": null,
            "width": null
          }
        },
        "e3e8c9f8f2bb4f43a3ada8d8f97da827": {
          "model_module": "@jupyter-widgets/base",
          "model_name": "LayoutModel",
          "model_module_version": "1.2.0",
          "state": {
            "_model_module": "@jupyter-widgets/base",
            "_model_module_version": "1.2.0",
            "_model_name": "LayoutModel",
            "_view_count": null,
            "_view_module": "@jupyter-widgets/base",
            "_view_module_version": "1.2.0",
            "_view_name": "LayoutView",
            "align_content": null,
            "align_items": null,
            "align_self": null,
            "border": null,
            "bottom": null,
            "display": null,
            "flex": null,
            "flex_flow": null,
            "grid_area": null,
            "grid_auto_columns": null,
            "grid_auto_flow": null,
            "grid_auto_rows": null,
            "grid_column": null,
            "grid_gap": null,
            "grid_row": null,
            "grid_template_areas": null,
            "grid_template_columns": null,
            "grid_template_rows": null,
            "height": null,
            "justify_content": null,
            "justify_items": null,
            "left": null,
            "margin": null,
            "max_height": null,
            "max_width": null,
            "min_height": null,
            "min_width": null,
            "object_fit": null,
            "object_position": null,
            "order": null,
            "overflow": null,
            "overflow_x": null,
            "overflow_y": null,
            "padding": null,
            "right": null,
            "top": null,
            "visibility": null,
            "width": null
          }
        },
        "01ff62af43a046e798509b868b40544b": {
          "model_module": "@jupyter-widgets/controls",
          "model_name": "DescriptionStyleModel",
          "model_module_version": "1.5.0",
          "state": {
            "_model_module": "@jupyter-widgets/controls",
            "_model_module_version": "1.5.0",
            "_model_name": "DescriptionStyleModel",
            "_view_count": null,
            "_view_module": "@jupyter-widgets/base",
            "_view_module_version": "1.2.0",
            "_view_name": "StyleView",
            "description_width": ""
          }
        },
        "f2f50ff4e65448f188b4c21be510f4f9": {
          "model_module": "@jupyter-widgets/base",
          "model_name": "LayoutModel",
          "model_module_version": "1.2.0",
          "state": {
            "_model_module": "@jupyter-widgets/base",
            "_model_module_version": "1.2.0",
            "_model_name": "LayoutModel",
            "_view_count": null,
            "_view_module": "@jupyter-widgets/base",
            "_view_module_version": "1.2.0",
            "_view_name": "LayoutView",
            "align_content": null,
            "align_items": null,
            "align_self": null,
            "border": null,
            "bottom": null,
            "display": null,
            "flex": null,
            "flex_flow": null,
            "grid_area": null,
            "grid_auto_columns": null,
            "grid_auto_flow": null,
            "grid_auto_rows": null,
            "grid_column": null,
            "grid_gap": null,
            "grid_row": null,
            "grid_template_areas": null,
            "grid_template_columns": null,
            "grid_template_rows": null,
            "height": null,
            "justify_content": null,
            "justify_items": null,
            "left": null,
            "margin": null,
            "max_height": null,
            "max_width": null,
            "min_height": null,
            "min_width": null,
            "object_fit": null,
            "object_position": null,
            "order": null,
            "overflow": null,
            "overflow_x": null,
            "overflow_y": null,
            "padding": null,
            "right": null,
            "top": null,
            "visibility": null,
            "width": null
          }
        },
        "3d507ebd666f40b591721c5bfd3aac0d": {
          "model_module": "@jupyter-widgets/controls",
          "model_name": "ProgressStyleModel",
          "model_module_version": "1.5.0",
          "state": {
            "_model_module": "@jupyter-widgets/controls",
            "_model_module_version": "1.5.0",
            "_model_name": "ProgressStyleModel",
            "_view_count": null,
            "_view_module": "@jupyter-widgets/base",
            "_view_module_version": "1.2.0",
            "_view_name": "StyleView",
            "bar_color": null,
            "description_width": ""
          }
        },
        "dc7940ca3cc24a2d9205c1f8242d21b8": {
          "model_module": "@jupyter-widgets/base",
          "model_name": "LayoutModel",
          "model_module_version": "1.2.0",
          "state": {
            "_model_module": "@jupyter-widgets/base",
            "_model_module_version": "1.2.0",
            "_model_name": "LayoutModel",
            "_view_count": null,
            "_view_module": "@jupyter-widgets/base",
            "_view_module_version": "1.2.0",
            "_view_name": "LayoutView",
            "align_content": null,
            "align_items": null,
            "align_self": null,
            "border": null,
            "bottom": null,
            "display": null,
            "flex": null,
            "flex_flow": null,
            "grid_area": null,
            "grid_auto_columns": null,
            "grid_auto_flow": null,
            "grid_auto_rows": null,
            "grid_column": null,
            "grid_gap": null,
            "grid_row": null,
            "grid_template_areas": null,
            "grid_template_columns": null,
            "grid_template_rows": null,
            "height": null,
            "justify_content": null,
            "justify_items": null,
            "left": null,
            "margin": null,
            "max_height": null,
            "max_width": null,
            "min_height": null,
            "min_width": null,
            "object_fit": null,
            "object_position": null,
            "order": null,
            "overflow": null,
            "overflow_x": null,
            "overflow_y": null,
            "padding": null,
            "right": null,
            "top": null,
            "visibility": null,
            "width": null
          }
        },
        "12929b58fafe4080a718c2bff8e0935c": {
          "model_module": "@jupyter-widgets/controls",
          "model_name": "DescriptionStyleModel",
          "model_module_version": "1.5.0",
          "state": {
            "_model_module": "@jupyter-widgets/controls",
            "_model_module_version": "1.5.0",
            "_model_name": "DescriptionStyleModel",
            "_view_count": null,
            "_view_module": "@jupyter-widgets/base",
            "_view_module_version": "1.2.0",
            "_view_name": "StyleView",
            "description_width": ""
          }
        },
        "90a3d75725a0432984efa4fedd16d1a6": {
          "model_module": "@jupyter-widgets/controls",
          "model_name": "HBoxModel",
          "model_module_version": "1.5.0",
          "state": {
            "_dom_classes": [],
            "_model_module": "@jupyter-widgets/controls",
            "_model_module_version": "1.5.0",
            "_model_name": "HBoxModel",
            "_view_count": null,
            "_view_module": "@jupyter-widgets/controls",
            "_view_module_version": "1.5.0",
            "_view_name": "HBoxView",
            "box_style": "",
            "children": [
              "IPY_MODEL_3a9f461f8df74ac8a3624e24bc059b21",
              "IPY_MODEL_00480a363364458481d9aa0d848f7e63",
              "IPY_MODEL_d4503f9c3b834aa996c949d924c27d7f"
            ],
            "layout": "IPY_MODEL_27d49015bf99474d911ba5cbbd349f6b"
          }
        },
        "3a9f461f8df74ac8a3624e24bc059b21": {
          "model_module": "@jupyter-widgets/controls",
          "model_name": "HTMLModel",
          "model_module_version": "1.5.0",
          "state": {
            "_dom_classes": [],
            "_model_module": "@jupyter-widgets/controls",
            "_model_module_version": "1.5.0",
            "_model_name": "HTMLModel",
            "_view_count": null,
            "_view_module": "@jupyter-widgets/controls",
            "_view_module_version": "1.5.0",
            "_view_name": "HTMLView",
            "description": "",
            "description_tooltip": null,
            "layout": "IPY_MODEL_5b92bb4a326241179be17563fdec58c8",
            "placeholder": "​",
            "style": "IPY_MODEL_a21591090a7c4bf7b5af2ec22e17e5c8",
            "value": "MuSeRC.zip: 100%"
          }
        },
        "00480a363364458481d9aa0d848f7e63": {
          "model_module": "@jupyter-widgets/controls",
          "model_name": "FloatProgressModel",
          "model_module_version": "1.5.0",
          "state": {
            "_dom_classes": [],
            "_model_module": "@jupyter-widgets/controls",
            "_model_module_version": "1.5.0",
            "_model_name": "FloatProgressModel",
            "_view_count": null,
            "_view_module": "@jupyter-widgets/controls",
            "_view_module_version": "1.5.0",
            "_view_name": "ProgressView",
            "bar_style": "success",
            "description": "",
            "description_tooltip": null,
            "layout": "IPY_MODEL_01014558d2ca48d28a826828e1cec8d1",
            "max": 1196720,
            "min": 0,
            "orientation": "horizontal",
            "style": "IPY_MODEL_e5e37dee50d049c5b0c95696a4b231ac",
            "value": 1196720
          }
        },
        "d4503f9c3b834aa996c949d924c27d7f": {
          "model_module": "@jupyter-widgets/controls",
          "model_name": "HTMLModel",
          "model_module_version": "1.5.0",
          "state": {
            "_dom_classes": [],
            "_model_module": "@jupyter-widgets/controls",
            "_model_module_version": "1.5.0",
            "_model_name": "HTMLModel",
            "_view_count": null,
            "_view_module": "@jupyter-widgets/controls",
            "_view_module_version": "1.5.0",
            "_view_name": "HTMLView",
            "description": "",
            "description_tooltip": null,
            "layout": "IPY_MODEL_30f5847c2ae34191b87582dd7259e28f",
            "placeholder": "​",
            "style": "IPY_MODEL_9609ae8e62d24296903b427422ac5ba9",
            "value": " 1.20M/1.20M [00:00&lt;00:00, 25.3MB/s]"
          }
        },
        "27d49015bf99474d911ba5cbbd349f6b": {
          "model_module": "@jupyter-widgets/base",
          "model_name": "LayoutModel",
          "model_module_version": "1.2.0",
          "state": {
            "_model_module": "@jupyter-widgets/base",
            "_model_module_version": "1.2.0",
            "_model_name": "LayoutModel",
            "_view_count": null,
            "_view_module": "@jupyter-widgets/base",
            "_view_module_version": "1.2.0",
            "_view_name": "LayoutView",
            "align_content": null,
            "align_items": null,
            "align_self": null,
            "border": null,
            "bottom": null,
            "display": null,
            "flex": null,
            "flex_flow": null,
            "grid_area": null,
            "grid_auto_columns": null,
            "grid_auto_flow": null,
            "grid_auto_rows": null,
            "grid_column": null,
            "grid_gap": null,
            "grid_row": null,
            "grid_template_areas": null,
            "grid_template_columns": null,
            "grid_template_rows": null,
            "height": null,
            "justify_content": null,
            "justify_items": null,
            "left": null,
            "margin": null,
            "max_height": null,
            "max_width": null,
            "min_height": null,
            "min_width": null,
            "object_fit": null,
            "object_position": null,
            "order": null,
            "overflow": null,
            "overflow_x": null,
            "overflow_y": null,
            "padding": null,
            "right": null,
            "top": null,
            "visibility": null,
            "width": null
          }
        },
        "5b92bb4a326241179be17563fdec58c8": {
          "model_module": "@jupyter-widgets/base",
          "model_name": "LayoutModel",
          "model_module_version": "1.2.0",
          "state": {
            "_model_module": "@jupyter-widgets/base",
            "_model_module_version": "1.2.0",
            "_model_name": "LayoutModel",
            "_view_count": null,
            "_view_module": "@jupyter-widgets/base",
            "_view_module_version": "1.2.0",
            "_view_name": "LayoutView",
            "align_content": null,
            "align_items": null,
            "align_self": null,
            "border": null,
            "bottom": null,
            "display": null,
            "flex": null,
            "flex_flow": null,
            "grid_area": null,
            "grid_auto_columns": null,
            "grid_auto_flow": null,
            "grid_auto_rows": null,
            "grid_column": null,
            "grid_gap": null,
            "grid_row": null,
            "grid_template_areas": null,
            "grid_template_columns": null,
            "grid_template_rows": null,
            "height": null,
            "justify_content": null,
            "justify_items": null,
            "left": null,
            "margin": null,
            "max_height": null,
            "max_width": null,
            "min_height": null,
            "min_width": null,
            "object_fit": null,
            "object_position": null,
            "order": null,
            "overflow": null,
            "overflow_x": null,
            "overflow_y": null,
            "padding": null,
            "right": null,
            "top": null,
            "visibility": null,
            "width": null
          }
        },
        "a21591090a7c4bf7b5af2ec22e17e5c8": {
          "model_module": "@jupyter-widgets/controls",
          "model_name": "DescriptionStyleModel",
          "model_module_version": "1.5.0",
          "state": {
            "_model_module": "@jupyter-widgets/controls",
            "_model_module_version": "1.5.0",
            "_model_name": "DescriptionStyleModel",
            "_view_count": null,
            "_view_module": "@jupyter-widgets/base",
            "_view_module_version": "1.2.0",
            "_view_name": "StyleView",
            "description_width": ""
          }
        },
        "01014558d2ca48d28a826828e1cec8d1": {
          "model_module": "@jupyter-widgets/base",
          "model_name": "LayoutModel",
          "model_module_version": "1.2.0",
          "state": {
            "_model_module": "@jupyter-widgets/base",
            "_model_module_version": "1.2.0",
            "_model_name": "LayoutModel",
            "_view_count": null,
            "_view_module": "@jupyter-widgets/base",
            "_view_module_version": "1.2.0",
            "_view_name": "LayoutView",
            "align_content": null,
            "align_items": null,
            "align_self": null,
            "border": null,
            "bottom": null,
            "display": null,
            "flex": null,
            "flex_flow": null,
            "grid_area": null,
            "grid_auto_columns": null,
            "grid_auto_flow": null,
            "grid_auto_rows": null,
            "grid_column": null,
            "grid_gap": null,
            "grid_row": null,
            "grid_template_areas": null,
            "grid_template_columns": null,
            "grid_template_rows": null,
            "height": null,
            "justify_content": null,
            "justify_items": null,
            "left": null,
            "margin": null,
            "max_height": null,
            "max_width": null,
            "min_height": null,
            "min_width": null,
            "object_fit": null,
            "object_position": null,
            "order": null,
            "overflow": null,
            "overflow_x": null,
            "overflow_y": null,
            "padding": null,
            "right": null,
            "top": null,
            "visibility": null,
            "width": null
          }
        },
        "e5e37dee50d049c5b0c95696a4b231ac": {
          "model_module": "@jupyter-widgets/controls",
          "model_name": "ProgressStyleModel",
          "model_module_version": "1.5.0",
          "state": {
            "_model_module": "@jupyter-widgets/controls",
            "_model_module_version": "1.5.0",
            "_model_name": "ProgressStyleModel",
            "_view_count": null,
            "_view_module": "@jupyter-widgets/base",
            "_view_module_version": "1.2.0",
            "_view_name": "StyleView",
            "bar_color": null,
            "description_width": ""
          }
        },
        "30f5847c2ae34191b87582dd7259e28f": {
          "model_module": "@jupyter-widgets/base",
          "model_name": "LayoutModel",
          "model_module_version": "1.2.0",
          "state": {
            "_model_module": "@jupyter-widgets/base",
            "_model_module_version": "1.2.0",
            "_model_name": "LayoutModel",
            "_view_count": null,
            "_view_module": "@jupyter-widgets/base",
            "_view_module_version": "1.2.0",
            "_view_name": "LayoutView",
            "align_content": null,
            "align_items": null,
            "align_self": null,
            "border": null,
            "bottom": null,
            "display": null,
            "flex": null,
            "flex_flow": null,
            "grid_area": null,
            "grid_auto_columns": null,
            "grid_auto_flow": null,
            "grid_auto_rows": null,
            "grid_column": null,
            "grid_gap": null,
            "grid_row": null,
            "grid_template_areas": null,
            "grid_template_columns": null,
            "grid_template_rows": null,
            "height": null,
            "justify_content": null,
            "justify_items": null,
            "left": null,
            "margin": null,
            "max_height": null,
            "max_width": null,
            "min_height": null,
            "min_width": null,
            "object_fit": null,
            "object_position": null,
            "order": null,
            "overflow": null,
            "overflow_x": null,
            "overflow_y": null,
            "padding": null,
            "right": null,
            "top": null,
            "visibility": null,
            "width": null
          }
        },
        "9609ae8e62d24296903b427422ac5ba9": {
          "model_module": "@jupyter-widgets/controls",
          "model_name": "DescriptionStyleModel",
          "model_module_version": "1.5.0",
          "state": {
            "_model_module": "@jupyter-widgets/controls",
            "_model_module_version": "1.5.0",
            "_model_name": "DescriptionStyleModel",
            "_view_count": null,
            "_view_module": "@jupyter-widgets/base",
            "_view_module_version": "1.2.0",
            "_view_name": "StyleView",
            "description_width": ""
          }
        },
        "bc5dcff22a094be9be1d54ee533a3196": {
          "model_module": "@jupyter-widgets/controls",
          "model_name": "HBoxModel",
          "model_module_version": "1.5.0",
          "state": {
            "_dom_classes": [],
            "_model_module": "@jupyter-widgets/controls",
            "_model_module_version": "1.5.0",
            "_model_name": "HBoxModel",
            "_view_count": null,
            "_view_module": "@jupyter-widgets/controls",
            "_view_module_version": "1.5.0",
            "_view_name": "HBoxView",
            "box_style": "",
            "children": [
              "IPY_MODEL_4e1c2f1d4ea64c4886df2cde68b03eeb",
              "IPY_MODEL_7190649459ed494bbd7fdbcf646dc5ad",
              "IPY_MODEL_cb3e7b96b3974a67b175512b5e91481f"
            ],
            "layout": "IPY_MODEL_89c22910622a4bf1868a459e6ff874d1"
          }
        },
        "4e1c2f1d4ea64c4886df2cde68b03eeb": {
          "model_module": "@jupyter-widgets/controls",
          "model_name": "HTMLModel",
          "model_module_version": "1.5.0",
          "state": {
            "_dom_classes": [],
            "_model_module": "@jupyter-widgets/controls",
            "_model_module_version": "1.5.0",
            "_model_name": "HTMLModel",
            "_view_count": null,
            "_view_module": "@jupyter-widgets/controls",
            "_view_module_version": "1.5.0",
            "_view_name": "HTMLView",
            "description": "",
            "description_tooltip": null,
            "layout": "IPY_MODEL_2d59106ae8564d90b3e0466dc5e9cd93",
            "placeholder": "​",
            "style": "IPY_MODEL_6d70b8565ae34ddaa868ed7250956917",
            "value": "Generating train split: 100%"
          }
        },
        "7190649459ed494bbd7fdbcf646dc5ad": {
          "model_module": "@jupyter-widgets/controls",
          "model_name": "FloatProgressModel",
          "model_module_version": "1.5.0",
          "state": {
            "_dom_classes": [],
            "_model_module": "@jupyter-widgets/controls",
            "_model_module_version": "1.5.0",
            "_model_name": "FloatProgressModel",
            "_view_count": null,
            "_view_module": "@jupyter-widgets/controls",
            "_view_module_version": "1.5.0",
            "_view_name": "ProgressView",
            "bar_style": "success",
            "description": "",
            "description_tooltip": null,
            "layout": "IPY_MODEL_f2ea966522f24203a9f3b0b5d2934a57",
            "max": 11950,
            "min": 0,
            "orientation": "horizontal",
            "style": "IPY_MODEL_b2e5c47844344948bb8d9c2ad831b100",
            "value": 11950
          }
        },
        "cb3e7b96b3974a67b175512b5e91481f": {
          "model_module": "@jupyter-widgets/controls",
          "model_name": "HTMLModel",
          "model_module_version": "1.5.0",
          "state": {
            "_dom_classes": [],
            "_model_module": "@jupyter-widgets/controls",
            "_model_module_version": "1.5.0",
            "_model_name": "HTMLModel",
            "_view_count": null,
            "_view_module": "@jupyter-widgets/controls",
            "_view_module_version": "1.5.0",
            "_view_name": "HTMLView",
            "description": "",
            "description_tooltip": null,
            "layout": "IPY_MODEL_695a6fb5d0b24637b0dbba094d04a713",
            "placeholder": "​",
            "style": "IPY_MODEL_1642e33f0626498c8be128078a1c24a3",
            "value": " 11950/11950 [00:00&lt;00:00, 18164.86 examples/s]"
          }
        },
        "89c22910622a4bf1868a459e6ff874d1": {
          "model_module": "@jupyter-widgets/base",
          "model_name": "LayoutModel",
          "model_module_version": "1.2.0",
          "state": {
            "_model_module": "@jupyter-widgets/base",
            "_model_module_version": "1.2.0",
            "_model_name": "LayoutModel",
            "_view_count": null,
            "_view_module": "@jupyter-widgets/base",
            "_view_module_version": "1.2.0",
            "_view_name": "LayoutView",
            "align_content": null,
            "align_items": null,
            "align_self": null,
            "border": null,
            "bottom": null,
            "display": null,
            "flex": null,
            "flex_flow": null,
            "grid_area": null,
            "grid_auto_columns": null,
            "grid_auto_flow": null,
            "grid_auto_rows": null,
            "grid_column": null,
            "grid_gap": null,
            "grid_row": null,
            "grid_template_areas": null,
            "grid_template_columns": null,
            "grid_template_rows": null,
            "height": null,
            "justify_content": null,
            "justify_items": null,
            "left": null,
            "margin": null,
            "max_height": null,
            "max_width": null,
            "min_height": null,
            "min_width": null,
            "object_fit": null,
            "object_position": null,
            "order": null,
            "overflow": null,
            "overflow_x": null,
            "overflow_y": null,
            "padding": null,
            "right": null,
            "top": null,
            "visibility": null,
            "width": null
          }
        },
        "2d59106ae8564d90b3e0466dc5e9cd93": {
          "model_module": "@jupyter-widgets/base",
          "model_name": "LayoutModel",
          "model_module_version": "1.2.0",
          "state": {
            "_model_module": "@jupyter-widgets/base",
            "_model_module_version": "1.2.0",
            "_model_name": "LayoutModel",
            "_view_count": null,
            "_view_module": "@jupyter-widgets/base",
            "_view_module_version": "1.2.0",
            "_view_name": "LayoutView",
            "align_content": null,
            "align_items": null,
            "align_self": null,
            "border": null,
            "bottom": null,
            "display": null,
            "flex": null,
            "flex_flow": null,
            "grid_area": null,
            "grid_auto_columns": null,
            "grid_auto_flow": null,
            "grid_auto_rows": null,
            "grid_column": null,
            "grid_gap": null,
            "grid_row": null,
            "grid_template_areas": null,
            "grid_template_columns": null,
            "grid_template_rows": null,
            "height": null,
            "justify_content": null,
            "justify_items": null,
            "left": null,
            "margin": null,
            "max_height": null,
            "max_width": null,
            "min_height": null,
            "min_width": null,
            "object_fit": null,
            "object_position": null,
            "order": null,
            "overflow": null,
            "overflow_x": null,
            "overflow_y": null,
            "padding": null,
            "right": null,
            "top": null,
            "visibility": null,
            "width": null
          }
        },
        "6d70b8565ae34ddaa868ed7250956917": {
          "model_module": "@jupyter-widgets/controls",
          "model_name": "DescriptionStyleModel",
          "model_module_version": "1.5.0",
          "state": {
            "_model_module": "@jupyter-widgets/controls",
            "_model_module_version": "1.5.0",
            "_model_name": "DescriptionStyleModel",
            "_view_count": null,
            "_view_module": "@jupyter-widgets/base",
            "_view_module_version": "1.2.0",
            "_view_name": "StyleView",
            "description_width": ""
          }
        },
        "f2ea966522f24203a9f3b0b5d2934a57": {
          "model_module": "@jupyter-widgets/base",
          "model_name": "LayoutModel",
          "model_module_version": "1.2.0",
          "state": {
            "_model_module": "@jupyter-widgets/base",
            "_model_module_version": "1.2.0",
            "_model_name": "LayoutModel",
            "_view_count": null,
            "_view_module": "@jupyter-widgets/base",
            "_view_module_version": "1.2.0",
            "_view_name": "LayoutView",
            "align_content": null,
            "align_items": null,
            "align_self": null,
            "border": null,
            "bottom": null,
            "display": null,
            "flex": null,
            "flex_flow": null,
            "grid_area": null,
            "grid_auto_columns": null,
            "grid_auto_flow": null,
            "grid_auto_rows": null,
            "grid_column": null,
            "grid_gap": null,
            "grid_row": null,
            "grid_template_areas": null,
            "grid_template_columns": null,
            "grid_template_rows": null,
            "height": null,
            "justify_content": null,
            "justify_items": null,
            "left": null,
            "margin": null,
            "max_height": null,
            "max_width": null,
            "min_height": null,
            "min_width": null,
            "object_fit": null,
            "object_position": null,
            "order": null,
            "overflow": null,
            "overflow_x": null,
            "overflow_y": null,
            "padding": null,
            "right": null,
            "top": null,
            "visibility": null,
            "width": null
          }
        },
        "b2e5c47844344948bb8d9c2ad831b100": {
          "model_module": "@jupyter-widgets/controls",
          "model_name": "ProgressStyleModel",
          "model_module_version": "1.5.0",
          "state": {
            "_model_module": "@jupyter-widgets/controls",
            "_model_module_version": "1.5.0",
            "_model_name": "ProgressStyleModel",
            "_view_count": null,
            "_view_module": "@jupyter-widgets/base",
            "_view_module_version": "1.2.0",
            "_view_name": "StyleView",
            "bar_color": null,
            "description_width": ""
          }
        },
        "695a6fb5d0b24637b0dbba094d04a713": {
          "model_module": "@jupyter-widgets/base",
          "model_name": "LayoutModel",
          "model_module_version": "1.2.0",
          "state": {
            "_model_module": "@jupyter-widgets/base",
            "_model_module_version": "1.2.0",
            "_model_name": "LayoutModel",
            "_view_count": null,
            "_view_module": "@jupyter-widgets/base",
            "_view_module_version": "1.2.0",
            "_view_name": "LayoutView",
            "align_content": null,
            "align_items": null,
            "align_self": null,
            "border": null,
            "bottom": null,
            "display": null,
            "flex": null,
            "flex_flow": null,
            "grid_area": null,
            "grid_auto_columns": null,
            "grid_auto_flow": null,
            "grid_auto_rows": null,
            "grid_column": null,
            "grid_gap": null,
            "grid_row": null,
            "grid_template_areas": null,
            "grid_template_columns": null,
            "grid_template_rows": null,
            "height": null,
            "justify_content": null,
            "justify_items": null,
            "left": null,
            "margin": null,
            "max_height": null,
            "max_width": null,
            "min_height": null,
            "min_width": null,
            "object_fit": null,
            "object_position": null,
            "order": null,
            "overflow": null,
            "overflow_x": null,
            "overflow_y": null,
            "padding": null,
            "right": null,
            "top": null,
            "visibility": null,
            "width": null
          }
        },
        "1642e33f0626498c8be128078a1c24a3": {
          "model_module": "@jupyter-widgets/controls",
          "model_name": "DescriptionStyleModel",
          "model_module_version": "1.5.0",
          "state": {
            "_model_module": "@jupyter-widgets/controls",
            "_model_module_version": "1.5.0",
            "_model_name": "DescriptionStyleModel",
            "_view_count": null,
            "_view_module": "@jupyter-widgets/base",
            "_view_module_version": "1.2.0",
            "_view_name": "StyleView",
            "description_width": ""
          }
        },
        "c39bd729c10e401e934797a7728f4295": {
          "model_module": "@jupyter-widgets/controls",
          "model_name": "HBoxModel",
          "model_module_version": "1.5.0",
          "state": {
            "_dom_classes": [],
            "_model_module": "@jupyter-widgets/controls",
            "_model_module_version": "1.5.0",
            "_model_name": "HBoxModel",
            "_view_count": null,
            "_view_module": "@jupyter-widgets/controls",
            "_view_module_version": "1.5.0",
            "_view_name": "HBoxView",
            "box_style": "",
            "children": [
              "IPY_MODEL_d9582446407d4e9ca8b55a21dcb5249e",
              "IPY_MODEL_4b28c1af46ce499b88c07cc9842ba4fd",
              "IPY_MODEL_08edcc5f6a0844acaca070b9f8d2fa15"
            ],
            "layout": "IPY_MODEL_36d2bca2671c411d9eda194a1a963082"
          }
        },
        "d9582446407d4e9ca8b55a21dcb5249e": {
          "model_module": "@jupyter-widgets/controls",
          "model_name": "HTMLModel",
          "model_module_version": "1.5.0",
          "state": {
            "_dom_classes": [],
            "_model_module": "@jupyter-widgets/controls",
            "_model_module_version": "1.5.0",
            "_model_name": "HTMLModel",
            "_view_count": null,
            "_view_module": "@jupyter-widgets/controls",
            "_view_module_version": "1.5.0",
            "_view_name": "HTMLView",
            "description": "",
            "description_tooltip": null,
            "layout": "IPY_MODEL_30158eb30a854739b48fe870cb37abdc",
            "placeholder": "​",
            "style": "IPY_MODEL_e774ae97182145f484e8f4bcc60585f1",
            "value": "Generating validation split: 100%"
          }
        },
        "4b28c1af46ce499b88c07cc9842ba4fd": {
          "model_module": "@jupyter-widgets/controls",
          "model_name": "FloatProgressModel",
          "model_module_version": "1.5.0",
          "state": {
            "_dom_classes": [],
            "_model_module": "@jupyter-widgets/controls",
            "_model_module_version": "1.5.0",
            "_model_name": "FloatProgressModel",
            "_view_count": null,
            "_view_module": "@jupyter-widgets/controls",
            "_view_module_version": "1.5.0",
            "_view_name": "ProgressView",
            "bar_style": "success",
            "description": "",
            "description_tooltip": null,
            "layout": "IPY_MODEL_b61cd811dd9442ed891bd119d380a0ec",
            "max": 2235,
            "min": 0,
            "orientation": "horizontal",
            "style": "IPY_MODEL_4cfa8f8fc3aa4b849c5d156261f72a4d",
            "value": 2235
          }
        },
        "08edcc5f6a0844acaca070b9f8d2fa15": {
          "model_module": "@jupyter-widgets/controls",
          "model_name": "HTMLModel",
          "model_module_version": "1.5.0",
          "state": {
            "_dom_classes": [],
            "_model_module": "@jupyter-widgets/controls",
            "_model_module_version": "1.5.0",
            "_model_name": "HTMLModel",
            "_view_count": null,
            "_view_module": "@jupyter-widgets/controls",
            "_view_module_version": "1.5.0",
            "_view_name": "HTMLView",
            "description": "",
            "description_tooltip": null,
            "layout": "IPY_MODEL_87fb3e5575184cf3ab171dc1d547c443",
            "placeholder": "​",
            "style": "IPY_MODEL_89f1c4df25744010892defa73c5c7f02",
            "value": " 2235/2235 [00:00&lt;00:00, 19950.77 examples/s]"
          }
        },
        "36d2bca2671c411d9eda194a1a963082": {
          "model_module": "@jupyter-widgets/base",
          "model_name": "LayoutModel",
          "model_module_version": "1.2.0",
          "state": {
            "_model_module": "@jupyter-widgets/base",
            "_model_module_version": "1.2.0",
            "_model_name": "LayoutModel",
            "_view_count": null,
            "_view_module": "@jupyter-widgets/base",
            "_view_module_version": "1.2.0",
            "_view_name": "LayoutView",
            "align_content": null,
            "align_items": null,
            "align_self": null,
            "border": null,
            "bottom": null,
            "display": null,
            "flex": null,
            "flex_flow": null,
            "grid_area": null,
            "grid_auto_columns": null,
            "grid_auto_flow": null,
            "grid_auto_rows": null,
            "grid_column": null,
            "grid_gap": null,
            "grid_row": null,
            "grid_template_areas": null,
            "grid_template_columns": null,
            "grid_template_rows": null,
            "height": null,
            "justify_content": null,
            "justify_items": null,
            "left": null,
            "margin": null,
            "max_height": null,
            "max_width": null,
            "min_height": null,
            "min_width": null,
            "object_fit": null,
            "object_position": null,
            "order": null,
            "overflow": null,
            "overflow_x": null,
            "overflow_y": null,
            "padding": null,
            "right": null,
            "top": null,
            "visibility": null,
            "width": null
          }
        },
        "30158eb30a854739b48fe870cb37abdc": {
          "model_module": "@jupyter-widgets/base",
          "model_name": "LayoutModel",
          "model_module_version": "1.2.0",
          "state": {
            "_model_module": "@jupyter-widgets/base",
            "_model_module_version": "1.2.0",
            "_model_name": "LayoutModel",
            "_view_count": null,
            "_view_module": "@jupyter-widgets/base",
            "_view_module_version": "1.2.0",
            "_view_name": "LayoutView",
            "align_content": null,
            "align_items": null,
            "align_self": null,
            "border": null,
            "bottom": null,
            "display": null,
            "flex": null,
            "flex_flow": null,
            "grid_area": null,
            "grid_auto_columns": null,
            "grid_auto_flow": null,
            "grid_auto_rows": null,
            "grid_column": null,
            "grid_gap": null,
            "grid_row": null,
            "grid_template_areas": null,
            "grid_template_columns": null,
            "grid_template_rows": null,
            "height": null,
            "justify_content": null,
            "justify_items": null,
            "left": null,
            "margin": null,
            "max_height": null,
            "max_width": null,
            "min_height": null,
            "min_width": null,
            "object_fit": null,
            "object_position": null,
            "order": null,
            "overflow": null,
            "overflow_x": null,
            "overflow_y": null,
            "padding": null,
            "right": null,
            "top": null,
            "visibility": null,
            "width": null
          }
        },
        "e774ae97182145f484e8f4bcc60585f1": {
          "model_module": "@jupyter-widgets/controls",
          "model_name": "DescriptionStyleModel",
          "model_module_version": "1.5.0",
          "state": {
            "_model_module": "@jupyter-widgets/controls",
            "_model_module_version": "1.5.0",
            "_model_name": "DescriptionStyleModel",
            "_view_count": null,
            "_view_module": "@jupyter-widgets/base",
            "_view_module_version": "1.2.0",
            "_view_name": "StyleView",
            "description_width": ""
          }
        },
        "b61cd811dd9442ed891bd119d380a0ec": {
          "model_module": "@jupyter-widgets/base",
          "model_name": "LayoutModel",
          "model_module_version": "1.2.0",
          "state": {
            "_model_module": "@jupyter-widgets/base",
            "_model_module_version": "1.2.0",
            "_model_name": "LayoutModel",
            "_view_count": null,
            "_view_module": "@jupyter-widgets/base",
            "_view_module_version": "1.2.0",
            "_view_name": "LayoutView",
            "align_content": null,
            "align_items": null,
            "align_self": null,
            "border": null,
            "bottom": null,
            "display": null,
            "flex": null,
            "flex_flow": null,
            "grid_area": null,
            "grid_auto_columns": null,
            "grid_auto_flow": null,
            "grid_auto_rows": null,
            "grid_column": null,
            "grid_gap": null,
            "grid_row": null,
            "grid_template_areas": null,
            "grid_template_columns": null,
            "grid_template_rows": null,
            "height": null,
            "justify_content": null,
            "justify_items": null,
            "left": null,
            "margin": null,
            "max_height": null,
            "max_width": null,
            "min_height": null,
            "min_width": null,
            "object_fit": null,
            "object_position": null,
            "order": null,
            "overflow": null,
            "overflow_x": null,
            "overflow_y": null,
            "padding": null,
            "right": null,
            "top": null,
            "visibility": null,
            "width": null
          }
        },
        "4cfa8f8fc3aa4b849c5d156261f72a4d": {
          "model_module": "@jupyter-widgets/controls",
          "model_name": "ProgressStyleModel",
          "model_module_version": "1.5.0",
          "state": {
            "_model_module": "@jupyter-widgets/controls",
            "_model_module_version": "1.5.0",
            "_model_name": "ProgressStyleModel",
            "_view_count": null,
            "_view_module": "@jupyter-widgets/base",
            "_view_module_version": "1.2.0",
            "_view_name": "StyleView",
            "bar_color": null,
            "description_width": ""
          }
        },
        "87fb3e5575184cf3ab171dc1d547c443": {
          "model_module": "@jupyter-widgets/base",
          "model_name": "LayoutModel",
          "model_module_version": "1.2.0",
          "state": {
            "_model_module": "@jupyter-widgets/base",
            "_model_module_version": "1.2.0",
            "_model_name": "LayoutModel",
            "_view_count": null,
            "_view_module": "@jupyter-widgets/base",
            "_view_module_version": "1.2.0",
            "_view_name": "LayoutView",
            "align_content": null,
            "align_items": null,
            "align_self": null,
            "border": null,
            "bottom": null,
            "display": null,
            "flex": null,
            "flex_flow": null,
            "grid_area": null,
            "grid_auto_columns": null,
            "grid_auto_flow": null,
            "grid_auto_rows": null,
            "grid_column": null,
            "grid_gap": null,
            "grid_row": null,
            "grid_template_areas": null,
            "grid_template_columns": null,
            "grid_template_rows": null,
            "height": null,
            "justify_content": null,
            "justify_items": null,
            "left": null,
            "margin": null,
            "max_height": null,
            "max_width": null,
            "min_height": null,
            "min_width": null,
            "object_fit": null,
            "object_position": null,
            "order": null,
            "overflow": null,
            "overflow_x": null,
            "overflow_y": null,
            "padding": null,
            "right": null,
            "top": null,
            "visibility": null,
            "width": null
          }
        },
        "89f1c4df25744010892defa73c5c7f02": {
          "model_module": "@jupyter-widgets/controls",
          "model_name": "DescriptionStyleModel",
          "model_module_version": "1.5.0",
          "state": {
            "_model_module": "@jupyter-widgets/controls",
            "_model_module_version": "1.5.0",
            "_model_name": "DescriptionStyleModel",
            "_view_count": null,
            "_view_module": "@jupyter-widgets/base",
            "_view_module_version": "1.2.0",
            "_view_name": "StyleView",
            "description_width": ""
          }
        },
        "ffb0153e97594d1ca1fa7d144fe77db0": {
          "model_module": "@jupyter-widgets/controls",
          "model_name": "HBoxModel",
          "model_module_version": "1.5.0",
          "state": {
            "_dom_classes": [],
            "_model_module": "@jupyter-widgets/controls",
            "_model_module_version": "1.5.0",
            "_model_name": "HBoxModel",
            "_view_count": null,
            "_view_module": "@jupyter-widgets/controls",
            "_view_module_version": "1.5.0",
            "_view_name": "HBoxView",
            "box_style": "",
            "children": [
              "IPY_MODEL_f9e2ae616c33415799910320c94ed994",
              "IPY_MODEL_8624fde6eb904212b1d82807c6bbb909",
              "IPY_MODEL_ccd6ab81c5c84ba1860cd7e4ad4d8ce5"
            ],
            "layout": "IPY_MODEL_fbfddc004fd8487d997f2eae3899a224"
          }
        },
        "f9e2ae616c33415799910320c94ed994": {
          "model_module": "@jupyter-widgets/controls",
          "model_name": "HTMLModel",
          "model_module_version": "1.5.0",
          "state": {
            "_dom_classes": [],
            "_model_module": "@jupyter-widgets/controls",
            "_model_module_version": "1.5.0",
            "_model_name": "HTMLModel",
            "_view_count": null,
            "_view_module": "@jupyter-widgets/controls",
            "_view_module_version": "1.5.0",
            "_view_name": "HTMLView",
            "description": "",
            "description_tooltip": null,
            "layout": "IPY_MODEL_1935a5dd1b814b30970b5ae4056c3a2c",
            "placeholder": "​",
            "style": "IPY_MODEL_23eed8d1e8a6462a8f2386403485bbad",
            "value": "Generating test split: 100%"
          }
        },
        "8624fde6eb904212b1d82807c6bbb909": {
          "model_module": "@jupyter-widgets/controls",
          "model_name": "FloatProgressModel",
          "model_module_version": "1.5.0",
          "state": {
            "_dom_classes": [],
            "_model_module": "@jupyter-widgets/controls",
            "_model_module_version": "1.5.0",
            "_model_name": "FloatProgressModel",
            "_view_count": null,
            "_view_module": "@jupyter-widgets/controls",
            "_view_module_version": "1.5.0",
            "_view_name": "ProgressView",
            "bar_style": "success",
            "description": "",
            "description_tooltip": null,
            "layout": "IPY_MODEL_dd05020c30944c8dbacb92e0a15b53b9",
            "max": 7614,
            "min": 0,
            "orientation": "horizontal",
            "style": "IPY_MODEL_f053eaf7c70f473ca0527d771896ec31",
            "value": 7614
          }
        },
        "ccd6ab81c5c84ba1860cd7e4ad4d8ce5": {
          "model_module": "@jupyter-widgets/controls",
          "model_name": "HTMLModel",
          "model_module_version": "1.5.0",
          "state": {
            "_dom_classes": [],
            "_model_module": "@jupyter-widgets/controls",
            "_model_module_version": "1.5.0",
            "_model_name": "HTMLModel",
            "_view_count": null,
            "_view_module": "@jupyter-widgets/controls",
            "_view_module_version": "1.5.0",
            "_view_name": "HTMLView",
            "description": "",
            "description_tooltip": null,
            "layout": "IPY_MODEL_7868fde177d048389b330969eadf3a62",
            "placeholder": "​",
            "style": "IPY_MODEL_dfb648c1f0d84c78bec8c9a4fb005076",
            "value": " 7614/7614 [00:00&lt;00:00, 12374.86 examples/s]"
          }
        },
        "fbfddc004fd8487d997f2eae3899a224": {
          "model_module": "@jupyter-widgets/base",
          "model_name": "LayoutModel",
          "model_module_version": "1.2.0",
          "state": {
            "_model_module": "@jupyter-widgets/base",
            "_model_module_version": "1.2.0",
            "_model_name": "LayoutModel",
            "_view_count": null,
            "_view_module": "@jupyter-widgets/base",
            "_view_module_version": "1.2.0",
            "_view_name": "LayoutView",
            "align_content": null,
            "align_items": null,
            "align_self": null,
            "border": null,
            "bottom": null,
            "display": null,
            "flex": null,
            "flex_flow": null,
            "grid_area": null,
            "grid_auto_columns": null,
            "grid_auto_flow": null,
            "grid_auto_rows": null,
            "grid_column": null,
            "grid_gap": null,
            "grid_row": null,
            "grid_template_areas": null,
            "grid_template_columns": null,
            "grid_template_rows": null,
            "height": null,
            "justify_content": null,
            "justify_items": null,
            "left": null,
            "margin": null,
            "max_height": null,
            "max_width": null,
            "min_height": null,
            "min_width": null,
            "object_fit": null,
            "object_position": null,
            "order": null,
            "overflow": null,
            "overflow_x": null,
            "overflow_y": null,
            "padding": null,
            "right": null,
            "top": null,
            "visibility": null,
            "width": null
          }
        },
        "1935a5dd1b814b30970b5ae4056c3a2c": {
          "model_module": "@jupyter-widgets/base",
          "model_name": "LayoutModel",
          "model_module_version": "1.2.0",
          "state": {
            "_model_module": "@jupyter-widgets/base",
            "_model_module_version": "1.2.0",
            "_model_name": "LayoutModel",
            "_view_count": null,
            "_view_module": "@jupyter-widgets/base",
            "_view_module_version": "1.2.0",
            "_view_name": "LayoutView",
            "align_content": null,
            "align_items": null,
            "align_self": null,
            "border": null,
            "bottom": null,
            "display": null,
            "flex": null,
            "flex_flow": null,
            "grid_area": null,
            "grid_auto_columns": null,
            "grid_auto_flow": null,
            "grid_auto_rows": null,
            "grid_column": null,
            "grid_gap": null,
            "grid_row": null,
            "grid_template_areas": null,
            "grid_template_columns": null,
            "grid_template_rows": null,
            "height": null,
            "justify_content": null,
            "justify_items": null,
            "left": null,
            "margin": null,
            "max_height": null,
            "max_width": null,
            "min_height": null,
            "min_width": null,
            "object_fit": null,
            "object_position": null,
            "order": null,
            "overflow": null,
            "overflow_x": null,
            "overflow_y": null,
            "padding": null,
            "right": null,
            "top": null,
            "visibility": null,
            "width": null
          }
        },
        "23eed8d1e8a6462a8f2386403485bbad": {
          "model_module": "@jupyter-widgets/controls",
          "model_name": "DescriptionStyleModel",
          "model_module_version": "1.5.0",
          "state": {
            "_model_module": "@jupyter-widgets/controls",
            "_model_module_version": "1.5.0",
            "_model_name": "DescriptionStyleModel",
            "_view_count": null,
            "_view_module": "@jupyter-widgets/base",
            "_view_module_version": "1.2.0",
            "_view_name": "StyleView",
            "description_width": ""
          }
        },
        "dd05020c30944c8dbacb92e0a15b53b9": {
          "model_module": "@jupyter-widgets/base",
          "model_name": "LayoutModel",
          "model_module_version": "1.2.0",
          "state": {
            "_model_module": "@jupyter-widgets/base",
            "_model_module_version": "1.2.0",
            "_model_name": "LayoutModel",
            "_view_count": null,
            "_view_module": "@jupyter-widgets/base",
            "_view_module_version": "1.2.0",
            "_view_name": "LayoutView",
            "align_content": null,
            "align_items": null,
            "align_self": null,
            "border": null,
            "bottom": null,
            "display": null,
            "flex": null,
            "flex_flow": null,
            "grid_area": null,
            "grid_auto_columns": null,
            "grid_auto_flow": null,
            "grid_auto_rows": null,
            "grid_column": null,
            "grid_gap": null,
            "grid_row": null,
            "grid_template_areas": null,
            "grid_template_columns": null,
            "grid_template_rows": null,
            "height": null,
            "justify_content": null,
            "justify_items": null,
            "left": null,
            "margin": null,
            "max_height": null,
            "max_width": null,
            "min_height": null,
            "min_width": null,
            "object_fit": null,
            "object_position": null,
            "order": null,
            "overflow": null,
            "overflow_x": null,
            "overflow_y": null,
            "padding": null,
            "right": null,
            "top": null,
            "visibility": null,
            "width": null
          }
        },
        "f053eaf7c70f473ca0527d771896ec31": {
          "model_module": "@jupyter-widgets/controls",
          "model_name": "ProgressStyleModel",
          "model_module_version": "1.5.0",
          "state": {
            "_model_module": "@jupyter-widgets/controls",
            "_model_module_version": "1.5.0",
            "_model_name": "ProgressStyleModel",
            "_view_count": null,
            "_view_module": "@jupyter-widgets/base",
            "_view_module_version": "1.2.0",
            "_view_name": "StyleView",
            "bar_color": null,
            "description_width": ""
          }
        },
        "7868fde177d048389b330969eadf3a62": {
          "model_module": "@jupyter-widgets/base",
          "model_name": "LayoutModel",
          "model_module_version": "1.2.0",
          "state": {
            "_model_module": "@jupyter-widgets/base",
            "_model_module_version": "1.2.0",
            "_model_name": "LayoutModel",
            "_view_count": null,
            "_view_module": "@jupyter-widgets/base",
            "_view_module_version": "1.2.0",
            "_view_name": "LayoutView",
            "align_content": null,
            "align_items": null,
            "align_self": null,
            "border": null,
            "bottom": null,
            "display": null,
            "flex": null,
            "flex_flow": null,
            "grid_area": null,
            "grid_auto_columns": null,
            "grid_auto_flow": null,
            "grid_auto_rows": null,
            "grid_column": null,
            "grid_gap": null,
            "grid_row": null,
            "grid_template_areas": null,
            "grid_template_columns": null,
            "grid_template_rows": null,
            "height": null,
            "justify_content": null,
            "justify_items": null,
            "left": null,
            "margin": null,
            "max_height": null,
            "max_width": null,
            "min_height": null,
            "min_width": null,
            "object_fit": null,
            "object_position": null,
            "order": null,
            "overflow": null,
            "overflow_x": null,
            "overflow_y": null,
            "padding": null,
            "right": null,
            "top": null,
            "visibility": null,
            "width": null
          }
        },
        "dfb648c1f0d84c78bec8c9a4fb005076": {
          "model_module": "@jupyter-widgets/controls",
          "model_name": "DescriptionStyleModel",
          "model_module_version": "1.5.0",
          "state": {
            "_model_module": "@jupyter-widgets/controls",
            "_model_module_version": "1.5.0",
            "_model_name": "DescriptionStyleModel",
            "_view_count": null,
            "_view_module": "@jupyter-widgets/base",
            "_view_module_version": "1.2.0",
            "_view_name": "StyleView",
            "description_width": ""
          }
        },
        "c7e34478932e4bd98f947291f88d1692": {
          "model_module": "@jupyter-widgets/controls",
          "model_name": "HBoxModel",
          "model_module_version": "1.5.0",
          "state": {
            "_dom_classes": [],
            "_model_module": "@jupyter-widgets/controls",
            "_model_module_version": "1.5.0",
            "_model_name": "HBoxModel",
            "_view_count": null,
            "_view_module": "@jupyter-widgets/controls",
            "_view_module_version": "1.5.0",
            "_view_name": "HBoxView",
            "box_style": "",
            "children": [
              "IPY_MODEL_6427636a3bad44b9b09eced366df424d",
              "IPY_MODEL_6291ef6113a14f77a3d12f7ef847176c",
              "IPY_MODEL_6c6dea32d154440192fa498ba882ae1c"
            ],
            "layout": "IPY_MODEL_40ea90ed182c4ae581fcb1ec71c0ccf6"
          }
        },
        "6427636a3bad44b9b09eced366df424d": {
          "model_module": "@jupyter-widgets/controls",
          "model_name": "HTMLModel",
          "model_module_version": "1.5.0",
          "state": {
            "_dom_classes": [],
            "_model_module": "@jupyter-widgets/controls",
            "_model_module_version": "1.5.0",
            "_model_name": "HTMLModel",
            "_view_count": null,
            "_view_module": "@jupyter-widgets/controls",
            "_view_module_version": "1.5.0",
            "_view_name": "HTMLView",
            "description": "",
            "description_tooltip": null,
            "layout": "IPY_MODEL_b0e55cee426b4f7c8ba4994591fe0c04",
            "placeholder": "​",
            "style": "IPY_MODEL_656712ce12154afd8b8fb8608c65fd5d",
            "value": "README.md: 100%"
          }
        },
        "6291ef6113a14f77a3d12f7ef847176c": {
          "model_module": "@jupyter-widgets/controls",
          "model_name": "FloatProgressModel",
          "model_module_version": "1.5.0",
          "state": {
            "_dom_classes": [],
            "_model_module": "@jupyter-widgets/controls",
            "_model_module_version": "1.5.0",
            "_model_name": "FloatProgressModel",
            "_view_count": null,
            "_view_module": "@jupyter-widgets/controls",
            "_view_module_version": "1.5.0",
            "_view_name": "ProgressView",
            "bar_style": "success",
            "description": "",
            "description_tooltip": null,
            "layout": "IPY_MODEL_5b2dad496cad43879c687134b830f64a",
            "max": 15630,
            "min": 0,
            "orientation": "horizontal",
            "style": "IPY_MODEL_acc80913bfb7428ebcf961cd98e14797",
            "value": 15630
          }
        },
        "6c6dea32d154440192fa498ba882ae1c": {
          "model_module": "@jupyter-widgets/controls",
          "model_name": "HTMLModel",
          "model_module_version": "1.5.0",
          "state": {
            "_dom_classes": [],
            "_model_module": "@jupyter-widgets/controls",
            "_model_module_version": "1.5.0",
            "_model_name": "HTMLModel",
            "_view_count": null,
            "_view_module": "@jupyter-widgets/controls",
            "_view_module_version": "1.5.0",
            "_view_name": "HTMLView",
            "description": "",
            "description_tooltip": null,
            "layout": "IPY_MODEL_3de4249ef3f5467da40d7cf5500aab0a",
            "placeholder": "​",
            "style": "IPY_MODEL_3214f5f77bf045fd93db7f7fa69326e6",
            "value": " 15.6k/15.6k [00:00&lt;00:00, 1.15MB/s]"
          }
        },
        "40ea90ed182c4ae581fcb1ec71c0ccf6": {
          "model_module": "@jupyter-widgets/base",
          "model_name": "LayoutModel",
          "model_module_version": "1.2.0",
          "state": {
            "_model_module": "@jupyter-widgets/base",
            "_model_module_version": "1.2.0",
            "_model_name": "LayoutModel",
            "_view_count": null,
            "_view_module": "@jupyter-widgets/base",
            "_view_module_version": "1.2.0",
            "_view_name": "LayoutView",
            "align_content": null,
            "align_items": null,
            "align_self": null,
            "border": null,
            "bottom": null,
            "display": null,
            "flex": null,
            "flex_flow": null,
            "grid_area": null,
            "grid_auto_columns": null,
            "grid_auto_flow": null,
            "grid_auto_rows": null,
            "grid_column": null,
            "grid_gap": null,
            "grid_row": null,
            "grid_template_areas": null,
            "grid_template_columns": null,
            "grid_template_rows": null,
            "height": null,
            "justify_content": null,
            "justify_items": null,
            "left": null,
            "margin": null,
            "max_height": null,
            "max_width": null,
            "min_height": null,
            "min_width": null,
            "object_fit": null,
            "object_position": null,
            "order": null,
            "overflow": null,
            "overflow_x": null,
            "overflow_y": null,
            "padding": null,
            "right": null,
            "top": null,
            "visibility": null,
            "width": null
          }
        },
        "b0e55cee426b4f7c8ba4994591fe0c04": {
          "model_module": "@jupyter-widgets/base",
          "model_name": "LayoutModel",
          "model_module_version": "1.2.0",
          "state": {
            "_model_module": "@jupyter-widgets/base",
            "_model_module_version": "1.2.0",
            "_model_name": "LayoutModel",
            "_view_count": null,
            "_view_module": "@jupyter-widgets/base",
            "_view_module_version": "1.2.0",
            "_view_name": "LayoutView",
            "align_content": null,
            "align_items": null,
            "align_self": null,
            "border": null,
            "bottom": null,
            "display": null,
            "flex": null,
            "flex_flow": null,
            "grid_area": null,
            "grid_auto_columns": null,
            "grid_auto_flow": null,
            "grid_auto_rows": null,
            "grid_column": null,
            "grid_gap": null,
            "grid_row": null,
            "grid_template_areas": null,
            "grid_template_columns": null,
            "grid_template_rows": null,
            "height": null,
            "justify_content": null,
            "justify_items": null,
            "left": null,
            "margin": null,
            "max_height": null,
            "max_width": null,
            "min_height": null,
            "min_width": null,
            "object_fit": null,
            "object_position": null,
            "order": null,
            "overflow": null,
            "overflow_x": null,
            "overflow_y": null,
            "padding": null,
            "right": null,
            "top": null,
            "visibility": null,
            "width": null
          }
        },
        "656712ce12154afd8b8fb8608c65fd5d": {
          "model_module": "@jupyter-widgets/controls",
          "model_name": "DescriptionStyleModel",
          "model_module_version": "1.5.0",
          "state": {
            "_model_module": "@jupyter-widgets/controls",
            "_model_module_version": "1.5.0",
            "_model_name": "DescriptionStyleModel",
            "_view_count": null,
            "_view_module": "@jupyter-widgets/base",
            "_view_module_version": "1.2.0",
            "_view_name": "StyleView",
            "description_width": ""
          }
        },
        "5b2dad496cad43879c687134b830f64a": {
          "model_module": "@jupyter-widgets/base",
          "model_name": "LayoutModel",
          "model_module_version": "1.2.0",
          "state": {
            "_model_module": "@jupyter-widgets/base",
            "_model_module_version": "1.2.0",
            "_model_name": "LayoutModel",
            "_view_count": null,
            "_view_module": "@jupyter-widgets/base",
            "_view_module_version": "1.2.0",
            "_view_name": "LayoutView",
            "align_content": null,
            "align_items": null,
            "align_self": null,
            "border": null,
            "bottom": null,
            "display": null,
            "flex": null,
            "flex_flow": null,
            "grid_area": null,
            "grid_auto_columns": null,
            "grid_auto_flow": null,
            "grid_auto_rows": null,
            "grid_column": null,
            "grid_gap": null,
            "grid_row": null,
            "grid_template_areas": null,
            "grid_template_columns": null,
            "grid_template_rows": null,
            "height": null,
            "justify_content": null,
            "justify_items": null,
            "left": null,
            "margin": null,
            "max_height": null,
            "max_width": null,
            "min_height": null,
            "min_width": null,
            "object_fit": null,
            "object_position": null,
            "order": null,
            "overflow": null,
            "overflow_x": null,
            "overflow_y": null,
            "padding": null,
            "right": null,
            "top": null,
            "visibility": null,
            "width": null
          }
        },
        "acc80913bfb7428ebcf961cd98e14797": {
          "model_module": "@jupyter-widgets/controls",
          "model_name": "ProgressStyleModel",
          "model_module_version": "1.5.0",
          "state": {
            "_model_module": "@jupyter-widgets/controls",
            "_model_module_version": "1.5.0",
            "_model_name": "ProgressStyleModel",
            "_view_count": null,
            "_view_module": "@jupyter-widgets/base",
            "_view_module_version": "1.2.0",
            "_view_name": "StyleView",
            "bar_color": null,
            "description_width": ""
          }
        },
        "3de4249ef3f5467da40d7cf5500aab0a": {
          "model_module": "@jupyter-widgets/base",
          "model_name": "LayoutModel",
          "model_module_version": "1.2.0",
          "state": {
            "_model_module": "@jupyter-widgets/base",
            "_model_module_version": "1.2.0",
            "_model_name": "LayoutModel",
            "_view_count": null,
            "_view_module": "@jupyter-widgets/base",
            "_view_module_version": "1.2.0",
            "_view_name": "LayoutView",
            "align_content": null,
            "align_items": null,
            "align_self": null,
            "border": null,
            "bottom": null,
            "display": null,
            "flex": null,
            "flex_flow": null,
            "grid_area": null,
            "grid_auto_columns": null,
            "grid_auto_flow": null,
            "grid_auto_rows": null,
            "grid_column": null,
            "grid_gap": null,
            "grid_row": null,
            "grid_template_areas": null,
            "grid_template_columns": null,
            "grid_template_rows": null,
            "height": null,
            "justify_content": null,
            "justify_items": null,
            "left": null,
            "margin": null,
            "max_height": null,
            "max_width": null,
            "min_height": null,
            "min_width": null,
            "object_fit": null,
            "object_position": null,
            "order": null,
            "overflow": null,
            "overflow_x": null,
            "overflow_y": null,
            "padding": null,
            "right": null,
            "top": null,
            "visibility": null,
            "width": null
          }
        },
        "3214f5f77bf045fd93db7f7fa69326e6": {
          "model_module": "@jupyter-widgets/controls",
          "model_name": "DescriptionStyleModel",
          "model_module_version": "1.5.0",
          "state": {
            "_model_module": "@jupyter-widgets/controls",
            "_model_module_version": "1.5.0",
            "_model_name": "DescriptionStyleModel",
            "_view_count": null,
            "_view_module": "@jupyter-widgets/base",
            "_view_module_version": "1.2.0",
            "_view_name": "StyleView",
            "description_width": ""
          }
        },
        "806eac4b18f84368bbce54e4e9134420": {
          "model_module": "@jupyter-widgets/controls",
          "model_name": "HBoxModel",
          "model_module_version": "1.5.0",
          "state": {
            "_dom_classes": [],
            "_model_module": "@jupyter-widgets/controls",
            "_model_module_version": "1.5.0",
            "_model_name": "HBoxModel",
            "_view_count": null,
            "_view_module": "@jupyter-widgets/controls",
            "_view_module_version": "1.5.0",
            "_view_name": "HBoxView",
            "box_style": "",
            "children": [
              "IPY_MODEL_dcc6b5b2b75b4095bd62ea6a466afe72",
              "IPY_MODEL_a396a53293494001828a53d1f6ba3531",
              "IPY_MODEL_a375382917504881bb85680b4bd424ab"
            ],
            "layout": "IPY_MODEL_d1049944bef442c083d2ccfb95690126"
          }
        },
        "dcc6b5b2b75b4095bd62ea6a466afe72": {
          "model_module": "@jupyter-widgets/controls",
          "model_name": "HTMLModel",
          "model_module_version": "1.5.0",
          "state": {
            "_dom_classes": [],
            "_model_module": "@jupyter-widgets/controls",
            "_model_module_version": "1.5.0",
            "_model_name": "HTMLModel",
            "_view_count": null,
            "_view_module": "@jupyter-widgets/controls",
            "_view_module_version": "1.5.0",
            "_view_name": "HTMLView",
            "description": "",
            "description_tooltip": null,
            "layout": "IPY_MODEL_838e31d0c8884600b39e1ed9e73b29b4",
            "placeholder": "​",
            "style": "IPY_MODEL_b683bc1f57024e5abc8073720f28ff5b",
            "value": "validation-00000-of-00001.parquet: 100%"
          }
        },
        "a396a53293494001828a53d1f6ba3531": {
          "model_module": "@jupyter-widgets/controls",
          "model_name": "FloatProgressModel",
          "model_module_version": "1.5.0",
          "state": {
            "_dom_classes": [],
            "_model_module": "@jupyter-widgets/controls",
            "_model_module_version": "1.5.0",
            "_model_name": "FloatProgressModel",
            "_view_count": null,
            "_view_module": "@jupyter-widgets/controls",
            "_view_module_version": "1.5.0",
            "_view_name": "ProgressView",
            "bar_style": "success",
            "description": "",
            "description_tooltip": null,
            "layout": "IPY_MODEL_ba66ea3d0012450e88910ca152c3d328",
            "max": 321728,
            "min": 0,
            "orientation": "horizontal",
            "style": "IPY_MODEL_f07d0e5319b34cd592d89346d7b1a18e",
            "value": 321728
          }
        },
        "a375382917504881bb85680b4bd424ab": {
          "model_module": "@jupyter-widgets/controls",
          "model_name": "HTMLModel",
          "model_module_version": "1.5.0",
          "state": {
            "_dom_classes": [],
            "_model_module": "@jupyter-widgets/controls",
            "_model_module_version": "1.5.0",
            "_model_name": "HTMLModel",
            "_view_count": null,
            "_view_module": "@jupyter-widgets/controls",
            "_view_module_version": "1.5.0",
            "_view_name": "HTMLView",
            "description": "",
            "description_tooltip": null,
            "layout": "IPY_MODEL_2fc7cd03d5d84a2fb062d86443e2c322",
            "placeholder": "​",
            "style": "IPY_MODEL_14bcb2cd05d2428cb4a4b78c334840a4",
            "value": " 322k/322k [00:00&lt;00:00, 14.4MB/s]"
          }
        },
        "d1049944bef442c083d2ccfb95690126": {
          "model_module": "@jupyter-widgets/base",
          "model_name": "LayoutModel",
          "model_module_version": "1.2.0",
          "state": {
            "_model_module": "@jupyter-widgets/base",
            "_model_module_version": "1.2.0",
            "_model_name": "LayoutModel",
            "_view_count": null,
            "_view_module": "@jupyter-widgets/base",
            "_view_module_version": "1.2.0",
            "_view_name": "LayoutView",
            "align_content": null,
            "align_items": null,
            "align_self": null,
            "border": null,
            "bottom": null,
            "display": null,
            "flex": null,
            "flex_flow": null,
            "grid_area": null,
            "grid_auto_columns": null,
            "grid_auto_flow": null,
            "grid_auto_rows": null,
            "grid_column": null,
            "grid_gap": null,
            "grid_row": null,
            "grid_template_areas": null,
            "grid_template_columns": null,
            "grid_template_rows": null,
            "height": null,
            "justify_content": null,
            "justify_items": null,
            "left": null,
            "margin": null,
            "max_height": null,
            "max_width": null,
            "min_height": null,
            "min_width": null,
            "object_fit": null,
            "object_position": null,
            "order": null,
            "overflow": null,
            "overflow_x": null,
            "overflow_y": null,
            "padding": null,
            "right": null,
            "top": null,
            "visibility": null,
            "width": null
          }
        },
        "838e31d0c8884600b39e1ed9e73b29b4": {
          "model_module": "@jupyter-widgets/base",
          "model_name": "LayoutModel",
          "model_module_version": "1.2.0",
          "state": {
            "_model_module": "@jupyter-widgets/base",
            "_model_module_version": "1.2.0",
            "_model_name": "LayoutModel",
            "_view_count": null,
            "_view_module": "@jupyter-widgets/base",
            "_view_module_version": "1.2.0",
            "_view_name": "LayoutView",
            "align_content": null,
            "align_items": null,
            "align_self": null,
            "border": null,
            "bottom": null,
            "display": null,
            "flex": null,
            "flex_flow": null,
            "grid_area": null,
            "grid_auto_columns": null,
            "grid_auto_flow": null,
            "grid_auto_rows": null,
            "grid_column": null,
            "grid_gap": null,
            "grid_row": null,
            "grid_template_areas": null,
            "grid_template_columns": null,
            "grid_template_rows": null,
            "height": null,
            "justify_content": null,
            "justify_items": null,
            "left": null,
            "margin": null,
            "max_height": null,
            "max_width": null,
            "min_height": null,
            "min_width": null,
            "object_fit": null,
            "object_position": null,
            "order": null,
            "overflow": null,
            "overflow_x": null,
            "overflow_y": null,
            "padding": null,
            "right": null,
            "top": null,
            "visibility": null,
            "width": null
          }
        },
        "b683bc1f57024e5abc8073720f28ff5b": {
          "model_module": "@jupyter-widgets/controls",
          "model_name": "DescriptionStyleModel",
          "model_module_version": "1.5.0",
          "state": {
            "_model_module": "@jupyter-widgets/controls",
            "_model_module_version": "1.5.0",
            "_model_name": "DescriptionStyleModel",
            "_view_count": null,
            "_view_module": "@jupyter-widgets/base",
            "_view_module_version": "1.2.0",
            "_view_name": "StyleView",
            "description_width": ""
          }
        },
        "ba66ea3d0012450e88910ca152c3d328": {
          "model_module": "@jupyter-widgets/base",
          "model_name": "LayoutModel",
          "model_module_version": "1.2.0",
          "state": {
            "_model_module": "@jupyter-widgets/base",
            "_model_module_version": "1.2.0",
            "_model_name": "LayoutModel",
            "_view_count": null,
            "_view_module": "@jupyter-widgets/base",
            "_view_module_version": "1.2.0",
            "_view_name": "LayoutView",
            "align_content": null,
            "align_items": null,
            "align_self": null,
            "border": null,
            "bottom": null,
            "display": null,
            "flex": null,
            "flex_flow": null,
            "grid_area": null,
            "grid_auto_columns": null,
            "grid_auto_flow": null,
            "grid_auto_rows": null,
            "grid_column": null,
            "grid_gap": null,
            "grid_row": null,
            "grid_template_areas": null,
            "grid_template_columns": null,
            "grid_template_rows": null,
            "height": null,
            "justify_content": null,
            "justify_items": null,
            "left": null,
            "margin": null,
            "max_height": null,
            "max_width": null,
            "min_height": null,
            "min_width": null,
            "object_fit": null,
            "object_position": null,
            "order": null,
            "overflow": null,
            "overflow_x": null,
            "overflow_y": null,
            "padding": null,
            "right": null,
            "top": null,
            "visibility": null,
            "width": null
          }
        },
        "f07d0e5319b34cd592d89346d7b1a18e": {
          "model_module": "@jupyter-widgets/controls",
          "model_name": "ProgressStyleModel",
          "model_module_version": "1.5.0",
          "state": {
            "_model_module": "@jupyter-widgets/controls",
            "_model_module_version": "1.5.0",
            "_model_name": "ProgressStyleModel",
            "_view_count": null,
            "_view_module": "@jupyter-widgets/base",
            "_view_module_version": "1.2.0",
            "_view_name": "StyleView",
            "bar_color": null,
            "description_width": ""
          }
        },
        "2fc7cd03d5d84a2fb062d86443e2c322": {
          "model_module": "@jupyter-widgets/base",
          "model_name": "LayoutModel",
          "model_module_version": "1.2.0",
          "state": {
            "_model_module": "@jupyter-widgets/base",
            "_model_module_version": "1.2.0",
            "_model_name": "LayoutModel",
            "_view_count": null,
            "_view_module": "@jupyter-widgets/base",
            "_view_module_version": "1.2.0",
            "_view_name": "LayoutView",
            "align_content": null,
            "align_items": null,
            "align_self": null,
            "border": null,
            "bottom": null,
            "display": null,
            "flex": null,
            "flex_flow": null,
            "grid_area": null,
            "grid_auto_columns": null,
            "grid_auto_flow": null,
            "grid_auto_rows": null,
            "grid_column": null,
            "grid_gap": null,
            "grid_row": null,
            "grid_template_areas": null,
            "grid_template_columns": null,
            "grid_template_rows": null,
            "height": null,
            "justify_content": null,
            "justify_items": null,
            "left": null,
            "margin": null,
            "max_height": null,
            "max_width": null,
            "min_height": null,
            "min_width": null,
            "object_fit": null,
            "object_position": null,
            "order": null,
            "overflow": null,
            "overflow_x": null,
            "overflow_y": null,
            "padding": null,
            "right": null,
            "top": null,
            "visibility": null,
            "width": null
          }
        },
        "14bcb2cd05d2428cb4a4b78c334840a4": {
          "model_module": "@jupyter-widgets/controls",
          "model_name": "DescriptionStyleModel",
          "model_module_version": "1.5.0",
          "state": {
            "_model_module": "@jupyter-widgets/controls",
            "_model_module_version": "1.5.0",
            "_model_name": "DescriptionStyleModel",
            "_view_count": null,
            "_view_module": "@jupyter-widgets/base",
            "_view_module_version": "1.2.0",
            "_view_name": "StyleView",
            "description_width": ""
          }
        },
        "9f3197bc15cb44169932a14b104757cf": {
          "model_module": "@jupyter-widgets/controls",
          "model_name": "HBoxModel",
          "model_module_version": "1.5.0",
          "state": {
            "_dom_classes": [],
            "_model_module": "@jupyter-widgets/controls",
            "_model_module_version": "1.5.0",
            "_model_name": "HBoxModel",
            "_view_count": null,
            "_view_module": "@jupyter-widgets/controls",
            "_view_module_version": "1.5.0",
            "_view_name": "HBoxView",
            "box_style": "",
            "children": [
              "IPY_MODEL_905f5299a8e046d3a23acabf20eae893",
              "IPY_MODEL_9ce75da4549443cf98c1aa39eeef846a",
              "IPY_MODEL_e455193f134d4a5293b7889e680a7fd8"
            ],
            "layout": "IPY_MODEL_79a72e9459844eac8598327063a82d01"
          }
        },
        "905f5299a8e046d3a23acabf20eae893": {
          "model_module": "@jupyter-widgets/controls",
          "model_name": "HTMLModel",
          "model_module_version": "1.5.0",
          "state": {
            "_dom_classes": [],
            "_model_module": "@jupyter-widgets/controls",
            "_model_module_version": "1.5.0",
            "_model_name": "HTMLModel",
            "_view_count": null,
            "_view_module": "@jupyter-widgets/controls",
            "_view_module_version": "1.5.0",
            "_view_name": "HTMLView",
            "description": "",
            "description_tooltip": null,
            "layout": "IPY_MODEL_9fb00152a5c84ec89f061b7025979ca1",
            "placeholder": "​",
            "style": "IPY_MODEL_94b5007604bd4c1b977dec356b9dee5e",
            "value": "Generating validation split: 100%"
          }
        },
        "9ce75da4549443cf98c1aa39eeef846a": {
          "model_module": "@jupyter-widgets/controls",
          "model_name": "FloatProgressModel",
          "model_module_version": "1.5.0",
          "state": {
            "_dom_classes": [],
            "_model_module": "@jupyter-widgets/controls",
            "_model_module_version": "1.5.0",
            "_model_name": "FloatProgressModel",
            "_view_count": null,
            "_view_module": "@jupyter-widgets/controls",
            "_view_module_version": "1.5.0",
            "_view_name": "ProgressView",
            "bar_style": "success",
            "description": "",
            "description_tooltip": null,
            "layout": "IPY_MODEL_179f1ef7a7784ba28bba014664e673e2",
            "max": 1190,
            "min": 0,
            "orientation": "horizontal",
            "style": "IPY_MODEL_a74dbf024d454716b00e77e5904b2abe",
            "value": 1190
          }
        },
        "e455193f134d4a5293b7889e680a7fd8": {
          "model_module": "@jupyter-widgets/controls",
          "model_name": "HTMLModel",
          "model_module_version": "1.5.0",
          "state": {
            "_dom_classes": [],
            "_model_module": "@jupyter-widgets/controls",
            "_model_module_version": "1.5.0",
            "_model_name": "HTMLModel",
            "_view_count": null,
            "_view_module": "@jupyter-widgets/controls",
            "_view_module_version": "1.5.0",
            "_view_name": "HTMLView",
            "description": "",
            "description_tooltip": null,
            "layout": "IPY_MODEL_22a464617f404451bbbdc4e75c7ecc37",
            "placeholder": "​",
            "style": "IPY_MODEL_57c11c0e8b2b497bad963ae36390a128",
            "value": " 1190/1190 [00:00&lt;00:00, 18645.11 examples/s]"
          }
        },
        "79a72e9459844eac8598327063a82d01": {
          "model_module": "@jupyter-widgets/base",
          "model_name": "LayoutModel",
          "model_module_version": "1.2.0",
          "state": {
            "_model_module": "@jupyter-widgets/base",
            "_model_module_version": "1.2.0",
            "_model_name": "LayoutModel",
            "_view_count": null,
            "_view_module": "@jupyter-widgets/base",
            "_view_module_version": "1.2.0",
            "_view_name": "LayoutView",
            "align_content": null,
            "align_items": null,
            "align_self": null,
            "border": null,
            "bottom": null,
            "display": null,
            "flex": null,
            "flex_flow": null,
            "grid_area": null,
            "grid_auto_columns": null,
            "grid_auto_flow": null,
            "grid_auto_rows": null,
            "grid_column": null,
            "grid_gap": null,
            "grid_row": null,
            "grid_template_areas": null,
            "grid_template_columns": null,
            "grid_template_rows": null,
            "height": null,
            "justify_content": null,
            "justify_items": null,
            "left": null,
            "margin": null,
            "max_height": null,
            "max_width": null,
            "min_height": null,
            "min_width": null,
            "object_fit": null,
            "object_position": null,
            "order": null,
            "overflow": null,
            "overflow_x": null,
            "overflow_y": null,
            "padding": null,
            "right": null,
            "top": null,
            "visibility": null,
            "width": null
          }
        },
        "9fb00152a5c84ec89f061b7025979ca1": {
          "model_module": "@jupyter-widgets/base",
          "model_name": "LayoutModel",
          "model_module_version": "1.2.0",
          "state": {
            "_model_module": "@jupyter-widgets/base",
            "_model_module_version": "1.2.0",
            "_model_name": "LayoutModel",
            "_view_count": null,
            "_view_module": "@jupyter-widgets/base",
            "_view_module_version": "1.2.0",
            "_view_name": "LayoutView",
            "align_content": null,
            "align_items": null,
            "align_self": null,
            "border": null,
            "bottom": null,
            "display": null,
            "flex": null,
            "flex_flow": null,
            "grid_area": null,
            "grid_auto_columns": null,
            "grid_auto_flow": null,
            "grid_auto_rows": null,
            "grid_column": null,
            "grid_gap": null,
            "grid_row": null,
            "grid_template_areas": null,
            "grid_template_columns": null,
            "grid_template_rows": null,
            "height": null,
            "justify_content": null,
            "justify_items": null,
            "left": null,
            "margin": null,
            "max_height": null,
            "max_width": null,
            "min_height": null,
            "min_width": null,
            "object_fit": null,
            "object_position": null,
            "order": null,
            "overflow": null,
            "overflow_x": null,
            "overflow_y": null,
            "padding": null,
            "right": null,
            "top": null,
            "visibility": null,
            "width": null
          }
        },
        "94b5007604bd4c1b977dec356b9dee5e": {
          "model_module": "@jupyter-widgets/controls",
          "model_name": "DescriptionStyleModel",
          "model_module_version": "1.5.0",
          "state": {
            "_model_module": "@jupyter-widgets/controls",
            "_model_module_version": "1.5.0",
            "_model_name": "DescriptionStyleModel",
            "_view_count": null,
            "_view_module": "@jupyter-widgets/base",
            "_view_module_version": "1.2.0",
            "_view_name": "StyleView",
            "description_width": ""
          }
        },
        "179f1ef7a7784ba28bba014664e673e2": {
          "model_module": "@jupyter-widgets/base",
          "model_name": "LayoutModel",
          "model_module_version": "1.2.0",
          "state": {
            "_model_module": "@jupyter-widgets/base",
            "_model_module_version": "1.2.0",
            "_model_name": "LayoutModel",
            "_view_count": null,
            "_view_module": "@jupyter-widgets/base",
            "_view_module_version": "1.2.0",
            "_view_name": "LayoutView",
            "align_content": null,
            "align_items": null,
            "align_self": null,
            "border": null,
            "bottom": null,
            "display": null,
            "flex": null,
            "flex_flow": null,
            "grid_area": null,
            "grid_auto_columns": null,
            "grid_auto_flow": null,
            "grid_auto_rows": null,
            "grid_column": null,
            "grid_gap": null,
            "grid_row": null,
            "grid_template_areas": null,
            "grid_template_columns": null,
            "grid_template_rows": null,
            "height": null,
            "justify_content": null,
            "justify_items": null,
            "left": null,
            "margin": null,
            "max_height": null,
            "max_width": null,
            "min_height": null,
            "min_width": null,
            "object_fit": null,
            "object_position": null,
            "order": null,
            "overflow": null,
            "overflow_x": null,
            "overflow_y": null,
            "padding": null,
            "right": null,
            "top": null,
            "visibility": null,
            "width": null
          }
        },
        "a74dbf024d454716b00e77e5904b2abe": {
          "model_module": "@jupyter-widgets/controls",
          "model_name": "ProgressStyleModel",
          "model_module_version": "1.5.0",
          "state": {
            "_model_module": "@jupyter-widgets/controls",
            "_model_module_version": "1.5.0",
            "_model_name": "ProgressStyleModel",
            "_view_count": null,
            "_view_module": "@jupyter-widgets/base",
            "_view_module_version": "1.2.0",
            "_view_name": "StyleView",
            "bar_color": null,
            "description_width": ""
          }
        },
        "22a464617f404451bbbdc4e75c7ecc37": {
          "model_module": "@jupyter-widgets/base",
          "model_name": "LayoutModel",
          "model_module_version": "1.2.0",
          "state": {
            "_model_module": "@jupyter-widgets/base",
            "_model_module_version": "1.2.0",
            "_model_name": "LayoutModel",
            "_view_count": null,
            "_view_module": "@jupyter-widgets/base",
            "_view_module_version": "1.2.0",
            "_view_name": "LayoutView",
            "align_content": null,
            "align_items": null,
            "align_self": null,
            "border": null,
            "bottom": null,
            "display": null,
            "flex": null,
            "flex_flow": null,
            "grid_area": null,
            "grid_auto_columns": null,
            "grid_auto_flow": null,
            "grid_auto_rows": null,
            "grid_column": null,
            "grid_gap": null,
            "grid_row": null,
            "grid_template_areas": null,
            "grid_template_columns": null,
            "grid_template_rows": null,
            "height": null,
            "justify_content": null,
            "justify_items": null,
            "left": null,
            "margin": null,
            "max_height": null,
            "max_width": null,
            "min_height": null,
            "min_width": null,
            "object_fit": null,
            "object_position": null,
            "order": null,
            "overflow": null,
            "overflow_x": null,
            "overflow_y": null,
            "padding": null,
            "right": null,
            "top": null,
            "visibility": null,
            "width": null
          }
        },
        "57c11c0e8b2b497bad963ae36390a128": {
          "model_module": "@jupyter-widgets/controls",
          "model_name": "DescriptionStyleModel",
          "model_module_version": "1.5.0",
          "state": {
            "_model_module": "@jupyter-widgets/controls",
            "_model_module_version": "1.5.0",
            "_model_name": "DescriptionStyleModel",
            "_view_count": null,
            "_view_module": "@jupyter-widgets/base",
            "_view_module_version": "1.2.0",
            "_view_name": "StyleView",
            "description_width": ""
          }
        }
      }
    }
  },
  "nbformat_minor": 0,
  "nbformat": 4,
  "cells": [
    {
      "cell_type": "code",
      "source": [
        "%%capture\n",
        "!git lfs install\n",
        "!git clone https://huggingface.co/cointegrated/LaBSE-en-ru\n",
        "!pip install datasets sentence_transformers"
      ],
      "metadata": {
        "execution": {
          "iopub.status.busy": "2024-03-02T11:00:10.165772Z",
          "iopub.execute_input": "2024-03-02T11:00:10.166154Z",
          "iopub.status.idle": "2024-03-02T11:00:27.041244Z",
          "shell.execute_reply.started": "2024-03-02T11:00:10.166125Z",
          "shell.execute_reply": "2024-03-02T11:00:27.03992Z"
        },
        "trusted": true,
        "id": "9Lu0CmrQhRfN"
      },
      "outputs": [],
      "execution_count": null
    },
    {
      "cell_type": "code",
      "source": [
        "import os\n",
        "import gc\n",
        "import pickle\n",
        "import random\n",
        "\n",
        "import pandas as pd\n",
        "import numpy as np\n",
        "\n",
        "import matplotlib.pyplot as plt\n",
        "from collections import OrderedDict\n",
        "\n",
        "from pathlib import Path\n",
        "from dataclasses import dataclass\n",
        "from typing import Any\n",
        "\n",
        "import torch\n",
        "from torch import nn\n",
        "from torch.nn import functional as F\n",
        "\n",
        "from datasets import load_dataset\n",
        "from numpy.lib.stride_tricks import sliding_window_view\n",
        "from transformers import AutoTokenizer, AutoModel\n",
        "\n",
        "from sentence_transformers import SentenceTransformer"
      ],
      "metadata": {
        "execution": {
          "iopub.status.busy": "2024-03-02T11:28:27.939463Z",
          "iopub.execute_input": "2024-03-02T11:28:27.939846Z",
          "iopub.status.idle": "2024-03-02T11:28:35.036727Z",
          "shell.execute_reply.started": "2024-03-02T11:28:27.939811Z",
          "shell.execute_reply": "2024-03-02T11:28:35.035727Z"
        },
        "trusted": true,
        "id": "FuWCaNtshRfO"
      },
      "outputs": [],
      "execution_count": null
    },
    {
      "cell_type": "markdown",
      "source": [
        "![image.png](data:image/png;base64,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)"
      ],
      "metadata": {
        "id": "1qqa82EK1tTc"
      }
    },
    {
      "cell_type": "markdown",
      "source": [
        "## Bi-encoder"
      ],
      "metadata": {
        "id": "BkGm5qLF1v1U"
      }
    },
    {
      "cell_type": "markdown",
      "source": [
        "- Вычисляет векторное представление фиксированного размера (эмбеддинг) заданных текстов или изображений\n",
        "\n",
        "- Быстрый расчет эмбеддингов и их сходства\n",
        "\n",
        "- Применимо для широкого спектра задач, таких как семантический поиск, кластеризация, классификация, поиск парафраз и многое другое\n",
        "\n",
        "- Часто используется в качестве первого шага в двухэтапном процессе поиска, где модель cross-encoder (реранжировщик) используется для повторного ранжирования первых k результатов от bi-encoder"
      ],
      "metadata": {
        "id": "rOLP6dN80xOW"
      }
    },
    {
      "cell_type": "code",
      "source": [
        "model = SentenceTransformer(\"all-MiniLM-L6-v2\")\n",
        "\n",
        "sentences = [\n",
        "    \"The weather is lovely today.\",\n",
        "    \"It's so sunny outside!\",\n",
        "    \"He drove to the stadium.\",\n",
        "]\n",
        "\n",
        "embeddings = model.encode(sentences)\n",
        "print(embeddings.shape)"
      ],
      "metadata": {
        "colab": {
          "base_uri": "https://localhost:8080/",
          "height": 473,
          "referenced_widgets": [
            "f96718029ba346b88321fc25697c2bb5",
            "b26cb7662cb042ccb72921051b02fbec",
            "9303219e4d54401aa23f8751debe8f50",
            "3ea8cee78c8343fe9b12308688035c81",
            "e014c60878544d05947acd85387b5e9b",
            "f23f8beaf2714439a276256c55a49cb2",
            "cb6a0740e9ad426baab92a339b819a79",
            "ec9922ad809e45aca32988793f216190",
            "d6a2577cbb4c458282b424ca3a2648cf",
            "4b6cfdb2ce914b7eb9704416b05f8456",
            "5d82aa2a119342628ff0354815aa558a",
            "fa0a83bb1ff24687b30c8eb05e065124",
            "57a3a78c7a384839a78dcf0d66e5d856",
            "eeb229f79352468eab9fae10cd05198f",
            "319670f4ca8b4b9d9c7fc9f0d950ac6b",
            "916f87a22e654185a3716ae0663cb01e",
            "506b9e4ad4844be8a6c3d80753a952aa",
            "9da0babac42b442098834df936068e2b",
            "c299796f5f794749b5ed243cb0ce60bb",
            "504ae77d0c13483cbac9776807b64fe0",
            "f5e36bc8ec5643ff9f8a56e586a01e6b",
            "92100fc07f074589b4623645340a379c",
            "10671c6fbbae46dabc62cb267b02c7c3",
            "9b73d660bd95466a9e6a66ae73f31d69",
            "26d7d23bf701452884c18983c11dbbe0",
            "52f9956d43e9487397b242e5fb6fdba9",
            "cc7723c171eb4f80b2795eaaec35772b",
            "d5b43f3bcc7b485787f7e592b336ac35",
            "7b5fe23684dd4387a273d8da60226dcc",
            "453c076a0fba4371b193e74a1df16807",
            "cfcc3a85e31f45c588ff2c21771b0454",
            "1c56dd7e4ee24bf4be2d81001655f7b9",
            "db7059bf00ef4f9ea02917c504a2dca7",
            "2bf5153672654e19910050b1a9c1a7c9",
            "79f9ef37b77d4986a27b3149441b2104",
            "d3d90083c0bc4ba683fa6c32fd3f9ac4",
            "f833e455fc08450b8ef2ed54668933b9",
            "ec4aecec7f074f42a91437b381108d1c",
            "af9907e9ed0540348492a66a7149b390",
            "385cb963e64d42cbb8407ce456fc09d0",
            "1c34c73fc8c54a4283ae50cc36776b53",
            "0e26d81d0594456b821370758a5adc5d",
            "5237df4ff7b144d399e72137d6442bc0",
            "55e23f69da44430592334e43d20cb6b9",
            "42a79066cc084fb9a8a69d761b0b1104",
            "c81420ab98174a96b16086cdbf5ed1f3",
            "baa87dd53018451694cef7a65bf5bcaa",
            "a6ec00689939402bbc793f51d755d5f1",
            "81a354c4528d4b30b465cb7f766ef1cc",
            "3b472ff0c9aa48cdad1ffd9bb0a2cea4",
            "3bb0b389ef22429bbd1f9ff673d1ce0b",
            "94e5bb9109c941a5b02fb7113a567cf1",
            "22f8177dffdd451ea79cde0d99a1b541",
            "47d25616e00e4033b2747861c62300f7",
            "f763c5416c394a52b1be157cf0c41674",
            "7f07e9b1de3f4c22b53ad4fa2c2e855b",
            "40ab3cc8db2e4166983e81d317ef8cd0",
            "cc76176e91384256aca2fc0faf868d59",
            "13229b033111437da47757e6b496e2d2",
            "395d24da2fb243efa165d6d223e55203",
            "01508ed768054f47b39ac6b8288b6b1c",
            "2e67587789c448ea87442d0064d7c7a9",
            "8f481461e8b9451ab94b746cfd1bdd8e",
            "dca885e5580b45f49523d277f95e2faf",
            "0c987a1a79f143779cb7cd12a00b13a2",
            "ca9a9503a66f4736a49e8ab2870bd541",
            "68f0c30e884248adafa5d52921154ba3",
            "5e28f2259ff24b6d8743685cf14cbe96",
            "402e099825564f45a5dc6516fe968f80",
            "2b5f3feb59794bfda555d3e27068e580",
            "80d1d74baaee4f72992c6d4445295564",
            "e70844738dec4cf985792d4a4a53eed0",
            "9c3df7cb524f41428c61e4d20b15fec7",
            "6bfa612dd1f1482f89d942a1e144e560",
            "e22ea7055cd5493689e420578ce41829",
            "2ca151a58c3747cab1b64e0236d40d24",
            "12f1490c80d842cb8d04fce233aff3d8",
            "15db77e662a84121b4adee051570deb2",
            "fcf13c8d55de4f17b5d0c2db8a4ba7af",
            "d80a501191db46d49d5228a9bd9b0c18",
            "2e567a7e2e134f188a76099b7763e176",
            "b75f616932964552823c466cf62fec51",
            "4a83234e80634b15a413129818f5aad1",
            "40f21854209748778369120cc19d99d0",
            "30f3a3de7da84b0b9a28284d14a8e978",
            "e0d67d467f9540ddaf718005eda67dd6",
            "d57e4e4d4ecd483ebd8aa0d209b872d4",
            "a0eba4ae6d7e43db92a80869d12cb0d7",
            "09db5559c7544ddc95c9cbd5098ec11c",
            "69992e502211443d8494c31a589a501a",
            "0dc264b5140f474388bf62e743a34b36",
            "156aa927ef7c41f9a2111f6a32049844",
            "5c4ec0b73bc2434681feb90fd5f6e64e",
            "db3b13973583479386d62e786f7fe91f",
            "bca6147025024329a70d0498f5d9227a",
            "161d7fda3fc344e6a5217081f823f339",
            "efab127598bb4da796c61167f8671091",
            "ab28fa7ecc104fc1b5db954f6dce8937",
            "b473b2822db94c91b081836f6d723121",
            "3c349dca122741ecac977ed2ce675848",
            "2507452b50a044e88e439942091f065b",
            "00cb34a468ad415c8f3eec8d3669bafb",
            "53f6ddf16ff34105981e5bb41b75d998",
            "1d093a30599540c2aca3ea4fa9be8888",
            "2a4839b155d04c389158c97532177b49",
            "1cc746c6ce4944948e95270d4c61ec22",
            "a857f2c0baa242f48d7ad6a290260754",
            "243111149ba442c2ba25a04c2125e2ef",
            "d9b0521b01ca4dd9a3e9bce0ed555229",
            "b787812468144a63988b6b99c7167a05",
            "caffa907e84741b0a9332a4f992a37be",
            "c91eef0879a6458291e64840776daeeb",
            "b383b34242d34e52bb829015a0065aa3",
            "50f78240c04d4d42bda5f4dfd1f3ce51",
            "6a5bf93ebdb94f4e81c07e32f1abb4aa",
            "28ed5fbf239746da8be5fe0108f4f836",
            "28738ebf04a34507bc7b3eed37b3d71e",
            "c1d8e5dc39f94f30afad25caf1fbacf4",
            "606614305c5d46ffa9db73a8bbfb7428",
            "1339f67403044904b0911a7d5a5e1a42",
            "0514127606f5426bacedfc990272bf53"
          ]
        },
        "id": "2-m9iWZZz_zV",
        "outputId": "d0d74a64-9d7b-4fba-c705-563853c11ff7"
      },
      "execution_count": null,
      "outputs": [
        {
          "output_type": "stream",
          "name": "stderr",
          "text": [
            "/usr/local/lib/python3.11/dist-packages/huggingface_hub/utils/_auth.py:86: UserWarning: \n",
            "Access to the secret `HF_TOKEN` has not been granted on this notebook.\n",
            "You will not be requested again.\n",
            "Please restart the session if you want to be prompted again.\n",
            "  warnings.warn(\n"
          ]
        },
        {
          "output_type": "display_data",
          "data": {
            "text/plain": [
              "modules.json:   0%|          | 0.00/349 [00:00<?, ?B/s]"
            ],
            "application/vnd.jupyter.widget-view+json": {
              "version_major": 2,
              "version_minor": 0,
              "model_id": "f96718029ba346b88321fc25697c2bb5"
            }
          },
          "metadata": {}
        },
        {
          "output_type": "display_data",
          "data": {
            "text/plain": [
              "config_sentence_transformers.json:   0%|          | 0.00/116 [00:00<?, ?B/s]"
            ],
            "application/vnd.jupyter.widget-view+json": {
              "version_major": 2,
              "version_minor": 0,
              "model_id": "fa0a83bb1ff24687b30c8eb05e065124"
            }
          },
          "metadata": {}
        },
        {
          "output_type": "display_data",
          "data": {
            "text/plain": [
              "README.md:   0%|          | 0.00/10.5k [00:00<?, ?B/s]"
            ],
            "application/vnd.jupyter.widget-view+json": {
              "version_major": 2,
              "version_minor": 0,
              "model_id": "10671c6fbbae46dabc62cb267b02c7c3"
            }
          },
          "metadata": {}
        },
        {
          "output_type": "display_data",
          "data": {
            "text/plain": [
              "sentence_bert_config.json:   0%|          | 0.00/53.0 [00:00<?, ?B/s]"
            ],
            "application/vnd.jupyter.widget-view+json": {
              "version_major": 2,
              "version_minor": 0,
              "model_id": "2bf5153672654e19910050b1a9c1a7c9"
            }
          },
          "metadata": {}
        },
        {
          "output_type": "display_data",
          "data": {
            "text/plain": [
              "config.json:   0%|          | 0.00/612 [00:00<?, ?B/s]"
            ],
            "application/vnd.jupyter.widget-view+json": {
              "version_major": 2,
              "version_minor": 0,
              "model_id": "42a79066cc084fb9a8a69d761b0b1104"
            }
          },
          "metadata": {}
        },
        {
          "output_type": "display_data",
          "data": {
            "text/plain": [
              "model.safetensors:   0%|          | 0.00/90.9M [00:00<?, ?B/s]"
            ],
            "application/vnd.jupyter.widget-view+json": {
              "version_major": 2,
              "version_minor": 0,
              "model_id": "7f07e9b1de3f4c22b53ad4fa2c2e855b"
            }
          },
          "metadata": {}
        },
        {
          "output_type": "display_data",
          "data": {
            "text/plain": [
              "tokenizer_config.json:   0%|          | 0.00/350 [00:00<?, ?B/s]"
            ],
            "application/vnd.jupyter.widget-view+json": {
              "version_major": 2,
              "version_minor": 0,
              "model_id": "68f0c30e884248adafa5d52921154ba3"
            }
          },
          "metadata": {}
        },
        {
          "output_type": "display_data",
          "data": {
            "text/plain": [
              "vocab.txt:   0%|          | 0.00/232k [00:00<?, ?B/s]"
            ],
            "application/vnd.jupyter.widget-view+json": {
              "version_major": 2,
              "version_minor": 0,
              "model_id": "15db77e662a84121b4adee051570deb2"
            }
          },
          "metadata": {}
        },
        {
          "output_type": "display_data",
          "data": {
            "text/plain": [
              "tokenizer.json:   0%|          | 0.00/466k [00:00<?, ?B/s]"
            ],
            "application/vnd.jupyter.widget-view+json": {
              "version_major": 2,
              "version_minor": 0,
              "model_id": "09db5559c7544ddc95c9cbd5098ec11c"
            }
          },
          "metadata": {}
        },
        {
          "output_type": "display_data",
          "data": {
            "text/plain": [
              "special_tokens_map.json:   0%|          | 0.00/112 [00:00<?, ?B/s]"
            ],
            "application/vnd.jupyter.widget-view+json": {
              "version_major": 2,
              "version_minor": 0,
              "model_id": "3c349dca122741ecac977ed2ce675848"
            }
          },
          "metadata": {}
        },
        {
          "output_type": "display_data",
          "data": {
            "text/plain": [
              "config.json:   0%|          | 0.00/190 [00:00<?, ?B/s]"
            ],
            "application/vnd.jupyter.widget-view+json": {
              "version_major": 2,
              "version_minor": 0,
              "model_id": "caffa907e84741b0a9332a4f992a37be"
            }
          },
          "metadata": {}
        },
        {
          "output_type": "stream",
          "name": "stdout",
          "text": [
            "(3, 384)\n"
          ]
        }
      ]
    },
    {
      "cell_type": "code",
      "source": [
        "similarities = model.similarity(embeddings, embeddings)\n",
        "print(similarities)"
      ],
      "metadata": {
        "colab": {
          "base_uri": "https://localhost:8080/"
        },
        "id": "y5-g92Lpz_2N",
        "outputId": "6b941240-7d03-4815-aefe-c1ead7645032"
      },
      "execution_count": null,
      "outputs": [
        {
          "output_type": "stream",
          "name": "stdout",
          "text": [
            "tensor([[1.0000, 0.6660, 0.1046],\n",
            "        [0.6660, 1.0000, 0.1411],\n",
            "        [0.1046, 0.1411, 1.0000]])\n"
          ]
        }
      ]
    },
    {
      "cell_type": "code",
      "source": [
        "sentences = [\n",
        "  'где можно взять лодку на прокат?',\n",
        "  'взятие тракторов для пользования не предусмотрено',\n",
        "  'небольшой катер обычно берут в аренду у берега',\n",
        "]\n",
        "\n",
        "embeddings = model.encode(sentences)\n",
        "similarities = model.similarity(embeddings, embeddings)\n",
        "print(similarities)"
      ],
      "metadata": {
        "colab": {
          "base_uri": "https://localhost:8080/"
        },
        "id": "joRL0Nxg34XW",
        "outputId": "060bd2df-e9fc-4886-97f8-1f4d2023792e"
      },
      "execution_count": null,
      "outputs": [
        {
          "output_type": "stream",
          "name": "stdout",
          "text": [
            "tensor([[1.0000, 0.6160, 0.5206],\n",
            "        [0.6160, 1.0000, 0.5637],\n",
            "        [0.5206, 0.5637, 1.0000]])\n"
          ]
        }
      ]
    },
    {
      "cell_type": "markdown",
      "source": [
        "## Cross-encoder"
      ],
      "metadata": {
        "id": "lssX5ct721OM"
      }
    },
    {
      "cell_type": "markdown",
      "source": [
        "- Вычисляет показатель схожести для заданных пар текстов\n",
        "\n",
        "- В целом обеспечивает более высокую производительность по сравнению с bi-encoder\n",
        "\n",
        "- Часто работает медленнее, чем bi-encoder, поскольку требует вычислений для каждой конкретной пары, а не для каждого текста\n",
        "\n",
        "- Часто используются для повторного ранжирования первых k результатов из модели bi-encoder"
      ],
      "metadata": {
        "id": "Iaq5wJfI3PAt"
      }
    },
    {
      "cell_type": "code",
      "source": [
        "from sentence_transformers.cross_encoder import CrossEncoder\n",
        "\n",
        "# 1. Load a pretrained CrossEncoder model\n",
        "model = CrossEncoder(\"cross-encoder/stsb-distilroberta-base\")\n",
        "\n",
        "query = \"A man is eating pasta.\"\n",
        "\n",
        "corpus = [\n",
        "    \"A man is eating food.\",\n",
        "    \"A man is eating a piece of bread.\",\n",
        "    \"The girl is carrying a baby.\",\n",
        "    \"A man is riding a horse.\",\n",
        "    \"A woman is playing violin.\",\n",
        "    \"Two men pushed carts through the woods.\",\n",
        "    \"A man is riding a white horse on an enclosed ground.\",\n",
        "    \"A monkey is playing drums.\",\n",
        "    \"A cheetah is running behind its prey.\",\n",
        "]\n",
        "\n",
        "ranks = model.rank(query, corpus)\n",
        "\n",
        "print(\"Query: \", query)\n",
        "for rank in ranks:\n",
        "    print(f\"{rank['score']:.2f}\\t{corpus[rank['corpus_id']]}\")"
      ],
      "metadata": {
        "colab": {
          "base_uri": "https://localhost:8080/",
          "height": 383,
          "referenced_widgets": [
            "e32baddd498847948b2790eb6e3f6966",
            "8f175cc1d8564a64afdc399d34f14c43",
            "9db7efc40be441ccade8d797e6e731e6",
            "3a7d3836330348fd9dddad50c5f7fa56",
            "8b39ac4138ea41b1a277f931c46fee57",
            "162a7bb85e2a4f018a219776ab3b6aa3",
            "19062dc6c03e40cda349908819db8054",
            "8e20551e065944aa98f3a8b2fdffdbac",
            "da2c9344d2dd4c21bafd95ed6a54553c",
            "a124e4e824ee4f9faa9a0ec16a179933",
            "cd2508a1036a43b999e3ade2e4195e38",
            "fd058963bebe47e59aa2e3641b817d3c",
            "03fed10b7e3448478b991aaa6f2ed030",
            "1304590d922a491b9f40c3be7a6ff78b",
            "ada02d4e8bb848cbbeab4319ef4379eb",
            "06e75d35bd164ee4b90126db1516beab",
            "157fdec73363453eb39afd3c3aaf5bde",
            "83901d9046e44f90bfdf9ee404b7f1d9",
            "39e8399cac6c49778b6ffbd67f34dfef",
            "7e059463361f4cba950d5c2951b24709",
            "db531478f290403da88355e09a2b7404",
            "8b9fca26f96045f688e746a1ec1d4a78",
            "e09f0fb66d064f54a1d6a020e80f5a99",
            "4c59c7ec2d9e48539041172b2ea9edbc",
            "dbe07e2619a147099a2e9699b3b5929c",
            "6d8ffd263dcc4fbaaa070316a60b427a",
            "3bf9193c268e441bbac062be849eb639",
            "883c51be54c0478eba164d0a47714c30",
            "b653958f180f4f19b193a9f654a3e101",
            "1e6de16516324285a280ecd7f8f23d2c",
            "35ba27f3054b450686a98d181696b056",
            "f789d9abfd554e1d8363f81be56353db",
            "fd2f14e0d39d43399b9a96743c430bde",
            "c4ce290f8af84c4d9726fb9981593cf2",
            "3f39da18141a4282bdd446a025fd89c3",
            "9dbbab6821b64f96b2753b2a8e3cbee3",
            "388c747d9f3149648e55205de21845dc",
            "2720b2bf625a47398a07409b22c39924",
            "9022fe48c6594e0787bd85a488306355",
            "6d5e4aa5595d4afc9ebb1079c823ee31",
            "32393911482f4529ad38dbde7a5ffa68",
            "67635a3d4c174ba385eac5a24158ebd1",
            "dad3bae039354f09b3338dba5ac95b64",
            "79417fbbd95c4e10bca0a4375b13755a",
            "1d7f26f0434a4a65b8e60e62fc280603",
            "144fb64d571d49eea1f0ae25486cdd2a",
            "7a61b60960fa42d8a7cfa5829ab55d9c",
            "a097530a586c42fab44400680d142645",
            "5cebcc62260a476bb4b81f7a6ae54cb0",
            "76d4ed08dab4422882866cb8e35140b5",
            "3d37f68ab4954878b5ef4a024e95d85c",
            "49578d453aa240ac950994249125ce26",
            "2d9f7916e19d4fe29b09a497b9627f59",
            "4ce7a8b12f4b4826a634da92e7511749",
            "6a7a305a6a254a8aa7abc4ab2f37823d",
            "3bfd8105f0d949fd92323dc37871400f",
            "01fe74ce7bdd42b78e3d1e516e7ff34f",
            "fda85b5a2c174faea76697cafdc5d530",
            "b4ff65855ca44c53aaa78b86afdcf3a3",
            "f199a6e4f0a34f7f99032e0adc40cb55",
            "3f86b2a30e4e43d6a20da656bb3c8865",
            "c3e6f4863f564421a7840a1814ffb8ef",
            "f68b94d628194e7aa4366ebf7a0d72e0",
            "b04388661d0d4ffe85edbdef533a5009",
            "9077fc9768bd4d9e8e8356946c1ca3ec",
            "19be8d62f37f420c9df7242f311694f1"
          ]
        },
        "id": "8TWf7qvkz_7a",
        "outputId": "9e287d89-a504-4996-85b9-9fa668e2cc6a"
      },
      "execution_count": null,
      "outputs": [
        {
          "output_type": "display_data",
          "data": {
            "text/plain": [
              "config.json:   0%|          | 0.00/607 [00:00<?, ?B/s]"
            ],
            "application/vnd.jupyter.widget-view+json": {
              "version_major": 2,
              "version_minor": 0,
              "model_id": "e32baddd498847948b2790eb6e3f6966"
            }
          },
          "metadata": {}
        },
        {
          "output_type": "display_data",
          "data": {
            "text/plain": [
              "model.safetensors:   0%|          | 0.00/328M [00:00<?, ?B/s]"
            ],
            "application/vnd.jupyter.widget-view+json": {
              "version_major": 2,
              "version_minor": 0,
              "model_id": "fd058963bebe47e59aa2e3641b817d3c"
            }
          },
          "metadata": {}
        },
        {
          "output_type": "display_data",
          "data": {
            "text/plain": [
              "tokenizer_config.json:   0%|          | 0.00/148 [00:00<?, ?B/s]"
            ],
            "application/vnd.jupyter.widget-view+json": {
              "version_major": 2,
              "version_minor": 0,
              "model_id": "e09f0fb66d064f54a1d6a020e80f5a99"
            }
          },
          "metadata": {}
        },
        {
          "output_type": "display_data",
          "data": {
            "text/plain": [
              "vocab.json:   0%|          | 0.00/899k [00:00<?, ?B/s]"
            ],
            "application/vnd.jupyter.widget-view+json": {
              "version_major": 2,
              "version_minor": 0,
              "model_id": "c4ce290f8af84c4d9726fb9981593cf2"
            }
          },
          "metadata": {}
        },
        {
          "output_type": "display_data",
          "data": {
            "text/plain": [
              "merges.txt:   0%|          | 0.00/456k [00:00<?, ?B/s]"
            ],
            "application/vnd.jupyter.widget-view+json": {
              "version_major": 2,
              "version_minor": 0,
              "model_id": "1d7f26f0434a4a65b8e60e62fc280603"
            }
          },
          "metadata": {}
        },
        {
          "output_type": "display_data",
          "data": {
            "text/plain": [
              "special_tokens_map.json:   0%|          | 0.00/772 [00:00<?, ?B/s]"
            ],
            "application/vnd.jupyter.widget-view+json": {
              "version_major": 2,
              "version_minor": 0,
              "model_id": "3bfd8105f0d949fd92323dc37871400f"
            }
          },
          "metadata": {}
        },
        {
          "output_type": "stream",
          "name": "stdout",
          "text": [
            "Query:  A man is eating pasta.\n",
            "0.67\tA man is eating food.\n",
            "0.34\tA man is eating a piece of bread.\n",
            "0.08\tA man is riding a horse.\n",
            "0.07\tA man is riding a white horse on an enclosed ground.\n",
            "0.01\tThe girl is carrying a baby.\n",
            "0.01\tTwo men pushed carts through the woods.\n",
            "0.01\tA monkey is playing drums.\n",
            "0.01\tA woman is playing violin.\n",
            "0.01\tA cheetah is running behind its prey.\n"
          ]
        }
      ]
    },
    {
      "cell_type": "code",
      "source": [
        "sentence_combinations = [[query, sentence] for sentence in corpus]\n",
        "scores = model.predict(sentence_combinations)\n",
        "\n",
        "# Sort the scores in decreasing order to get the corpus indices\n",
        "ranked_indices = np.argsort(scores)[::-1]\n",
        "print(\"Scores:\", scores)\n",
        "print(\"Indices:\", ranked_indices)"
      ],
      "metadata": {
        "colab": {
          "base_uri": "https://localhost:8080/"
        },
        "id": "gnsblzN94Bvv",
        "outputId": "70116e3f-74b6-4fee-d298-12973bd49cff"
      },
      "execution_count": null,
      "outputs": [
        {
          "output_type": "stream",
          "name": "stdout",
          "text": [
            "Scores: [0.6732374  0.3410256  0.00542465 0.07569344 0.00525378 0.00536814\n",
            " 0.06676235 0.00534824 0.00516717]\n",
            "Indices: [0 1 3 6 2 5 7 4 8]\n"
          ]
        }
      ]
    },
    {
      "cell_type": "code",
      "source": [
        "model = CrossEncoder(\"cross-encoder/ms-marco-MiniLM-L6-v2\")\n",
        "\n",
        "query = \"где можно взять лодку на прокат?\"\n",
        "\n",
        "corpus = [\n",
        "    'взятие тракторов для пользования не предусмотрено',\n",
        "    'небольшой катер обычно берут в аренду у берега',\n",
        "]\n",
        "\n",
        "ranks = model.rank(query, corpus)\n",
        "\n",
        "print(\"Query: \", query)\n",
        "for rank in ranks:\n",
        "    print(f\"{rank['score']:.2f}\\t{corpus[rank['corpus_id']]}\")"
      ],
      "metadata": {
        "colab": {
          "base_uri": "https://localhost:8080/",
          "height": 229,
          "referenced_widgets": [
            "01e776cae74d4cdab086bd3fef2b0a9c",
            "bc3b4053df444718bdb13616f4d913c3",
            "babd58cd7e514934ab15cb7ba20e047f",
            "00a4d669fb1f4443a20b27f18462f66f",
            "0d6f23a883c0432995a8a2c6aa109464",
            "e5cdb4eb32c64f9492af29126139e3af",
            "e1449d183aca491d821d1528c155a926",
            "33b68be8ba3349e9a44d524b47634431",
            "e9defe4be9bb4c679b3f40c9d1924b85",
            "4221eb3658894bf0bb5f08d41c12122a",
            "513c47dad9b541d49226bcfd4dc54129",
            "65fe39de5992446fbd2c0621007ae98c",
            "5f73bcb5b89b4ccfa5b76a5309e4f1f4",
            "5b38d66d7216409ea56ee2e76a2a41dc",
            "f366e9ecdf704140b8afce8b2ba630c5",
            "225a9e983ad34591be9b8db7224804e0",
            "e096f10456bd43c8a4d2972a15a24c0e",
            "abdbaca6c13143e39046feea289613aa",
            "3c190bb40df64b199efbea5594bdd80a",
            "822eb20b5edc4bd9a27bd11f89181bf0",
            "9c1fd0d61c3b437aadd3fedd861e68e8",
            "ce8b07e4827f4f1bacbd2eb07c77a1b1",
            "f6f8d93d6cf14614902f380a5879501d",
            "6ae039e091894c92ae98eb1a8bc9a870",
            "cf4cfdde861b41e8ac8be7d3c4315d80",
            "7c62088791ec468eb8da5ca31f2c9b31",
            "97b0a7e3c32e4ee598d42a5ede2fe823",
            "9e58d1dc4699427f8886b9d1f4f2fd4c",
            "73285f0e3f814973b0984b314643e300",
            "922cb4a13b064f19823ec00bce2ca3ec",
            "e08ab53cbb6e4380866a92934d5fdd22",
            "733c01da7c624ce69face058bc80272e",
            "a1d5a4fad98e47c896b7fa0077b21dc2",
            "cf47ea90c66d427f9a009b47b7179b22",
            "bda0d072b5d5480597b6bf78bfd120ac",
            "182a0dc5280344ed8c50d0217003969c",
            "d02f37280d08416d9cd81b8cf8ee55f5",
            "211aece95c1e49139db109e866b12311",
            "5623fe483ea54985b1cdfc6f09a522f5",
            "1f56676232f44e0aa71a11b13bd9011e",
            "7e2c16a4e9454ab69ecc42a2b22cef15",
            "cf058809c1084cd89db256b593671c2f",
            "1ee79a3fe438476b8c167c51c2e71308",
            "a3af6a323a2c4a259c412b305df52aa1",
            "dbe352af81fe4514a94cbe1bbebfc376",
            "17c7193171954d30a60780c95541f5a4",
            "28f9183965b24230bb78fba53e10f9a4",
            "b4e53a2e489f4cc5812bb1f6bc18cec0",
            "857e8b876b5c41b28a2fa91bc26e60a6",
            "678152c7cf924f939fb32022ccc3dfad",
            "24222a0f22824c1985867f3c758638ba",
            "7a80246f38644b449d596c4946f73f68",
            "4331cd2150a74056a2d768993587a390",
            "33c08826c06c4689a4e6b46b4749e34f",
            "0e319938b15f4310bf013b1f81853448"
          ]
        },
        "id": "wWsFdmIC4YAo",
        "outputId": "bebddc4a-4150-4d29-8c99-78582d5aec9c"
      },
      "execution_count": null,
      "outputs": [
        {
          "output_type": "display_data",
          "data": {
            "text/plain": [
              "config.json:   0%|          | 0.00/794 [00:00<?, ?B/s]"
            ],
            "application/vnd.jupyter.widget-view+json": {
              "version_major": 2,
              "version_minor": 0,
              "model_id": "01e776cae74d4cdab086bd3fef2b0a9c"
            }
          },
          "metadata": {}
        },
        {
          "output_type": "display_data",
          "data": {
            "text/plain": [
              "model.safetensors:   0%|          | 0.00/90.9M [00:00<?, ?B/s]"
            ],
            "application/vnd.jupyter.widget-view+json": {
              "version_major": 2,
              "version_minor": 0,
              "model_id": "65fe39de5992446fbd2c0621007ae98c"
            }
          },
          "metadata": {}
        },
        {
          "output_type": "display_data",
          "data": {
            "text/plain": [
              "tokenizer_config.json:   0%|          | 0.00/316 [00:00<?, ?B/s]"
            ],
            "application/vnd.jupyter.widget-view+json": {
              "version_major": 2,
              "version_minor": 0,
              "model_id": "f6f8d93d6cf14614902f380a5879501d"
            }
          },
          "metadata": {}
        },
        {
          "output_type": "display_data",
          "data": {
            "text/plain": [
              "vocab.txt:   0%|          | 0.00/232k [00:00<?, ?B/s]"
            ],
            "application/vnd.jupyter.widget-view+json": {
              "version_major": 2,
              "version_minor": 0,
              "model_id": "cf47ea90c66d427f9a009b47b7179b22"
            }
          },
          "metadata": {}
        },
        {
          "output_type": "display_data",
          "data": {
            "text/plain": [
              "special_tokens_map.json:   0%|          | 0.00/112 [00:00<?, ?B/s]"
            ],
            "application/vnd.jupyter.widget-view+json": {
              "version_major": 2,
              "version_minor": 0,
              "model_id": "dbe352af81fe4514a94cbe1bbebfc376"
            }
          },
          "metadata": {}
        },
        {
          "output_type": "stream",
          "name": "stdout",
          "text": [
            "Query:  где можно взять лодку на прокат?\n",
            "7.73\tвзятие тракторов для пользования не предусмотрено\n",
            "6.72\tнебольшой катер обычно берут в аренду у берега\n"
          ]
        }
      ]
    },
    {
      "cell_type": "markdown",
      "source": [
        "## Двухэтапный пайплайн"
      ],
      "metadata": {
        "id": "Erj1TgrI3hQk"
      }
    },
    {
      "cell_type": "markdown",
      "source": [
        "![image.png](data:image/png;base64,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)"
      ],
      "metadata": {
        "id": "jQB9cn352zRV"
      }
    },
    {
      "cell_type": "markdown",
      "source": [
        "## Tune Cross-Encoder"
      ],
      "metadata": {
        "id": "94GxO_4pF32U"
      }
    },
    {
      "cell_type": "code",
      "source": [
        "os.listdir('./')"
      ],
      "metadata": {
        "execution": {
          "iopub.status.busy": "2024-03-02T11:28:35.038038Z",
          "iopub.execute_input": "2024-03-02T11:28:35.038595Z",
          "iopub.status.idle": "2024-03-02T11:28:35.046603Z",
          "shell.execute_reply.started": "2024-03-02T11:28:35.038565Z",
          "shell.execute_reply": "2024-03-02T11:28:35.045527Z"
        },
        "trusted": true,
        "id": "mlaplQTchRfO",
        "colab": {
          "base_uri": "https://localhost:8080/"
        },
        "outputId": "5f92cf8d-eda9-4640-97cc-900cf9944279"
      },
      "outputs": [
        {
          "output_type": "execute_result",
          "data": {
            "text/plain": [
              "['.config', 'LaBSE-en-ru', 'sample_data']"
            ]
          },
          "metadata": {},
          "execution_count": 10
        }
      ],
      "execution_count": null
    },
    {
      "cell_type": "code",
      "source": [
        "seed = 42\n",
        "random.seed(seed)\n",
        "np.random.seed(seed)\n",
        "torch.manual_seed(seed)\n",
        "torch.cuda.manual_seed_all(seed)"
      ],
      "metadata": {
        "execution": {
          "iopub.status.busy": "2024-03-02T11:28:37.094637Z",
          "iopub.execute_input": "2024-03-02T11:28:37.0955Z",
          "iopub.status.idle": "2024-03-02T11:28:37.105396Z",
          "shell.execute_reply.started": "2024-03-02T11:28:37.09546Z",
          "shell.execute_reply": "2024-03-02T11:28:37.104286Z"
        },
        "trusted": true,
        "id": "s-nt5lC8hRfO"
      },
      "outputs": [],
      "execution_count": null
    },
    {
      "cell_type": "code",
      "source": [
        "device = 'cuda' if torch.cuda.is_available() else 'cpu'\n",
        "model_path = './CrossEncoderModel'"
      ],
      "metadata": {
        "execution": {
          "iopub.status.busy": "2024-03-02T11:28:38.594638Z",
          "iopub.execute_input": "2024-03-02T11:28:38.595012Z",
          "iopub.status.idle": "2024-03-02T11:28:38.600408Z",
          "shell.execute_reply.started": "2024-03-02T11:28:38.594985Z",
          "shell.execute_reply": "2024-03-02T11:28:38.599069Z"
        },
        "trusted": true,
        "id": "UGzxiiVHhRfP"
      },
      "outputs": [],
      "execution_count": null
    },
    {
      "cell_type": "markdown",
      "source": [
        "### Cross-Encoder head"
      ],
      "metadata": {
        "id": "YHew6v-zhRfP"
      }
    },
    {
      "cell_type": "code",
      "source": [
        "class Model(nn.Module):\n",
        "    \"\"\"\n",
        "    labse - base bert-like model\n",
        "    pooler layer as input\n",
        "    then classification head - binary classification to predict if this pair is TRUE question-answer\n",
        "    \"\"\"\n",
        "    def __init__(self):\n",
        "        super().__init__()\n",
        "        self.labse  = AutoModel.from_pretrained('./LaBSE-en-ru')\n",
        "        self.tokenizer = AutoTokenizer.from_pretrained('./LaBSE-en-ru', use_fast=True)\n",
        "        n_dim = 768\n",
        "        self.cls = nn.Sequential(\n",
        "            OrderedDict([\n",
        "                ('dropout', torch.nn.Dropout(.0)),\n",
        "                ('fc_1' , nn.Linear(n_dim, n_dim*2)),\n",
        "                ('relu_1' , nn.GELU()),\n",
        "                ('layernorm_1' , nn.LayerNorm(n_dim*2, eps=1e-12)),\n",
        "                ('fc_2' , nn.Linear(n_dim*2, n_dim)),\n",
        "                ('relu_2' , nn.GELU()),\n",
        "                ('layernorm_2' , nn.LayerNorm(n_dim, eps=1e-12)),\n",
        "                ('fc_3' , nn.Linear(n_dim, 2, bias=False)),\n",
        "           ]))\n",
        "\n",
        "    def forward(self, text):\n",
        "        token = self.tokenizer(text, padding=True, truncation=True, return_tensors='pt').to(device)\n",
        "        model_output = self.labse(**token)\n",
        "        result = self.cls(model_output.pooler_output)\n",
        "        return result"
      ],
      "metadata": {
        "execution": {
          "iopub.status.busy": "2024-03-02T11:28:40.674063Z",
          "iopub.execute_input": "2024-03-02T11:28:40.674471Z",
          "iopub.status.idle": "2024-03-02T11:28:40.685571Z",
          "shell.execute_reply.started": "2024-03-02T11:28:40.67444Z",
          "shell.execute_reply": "2024-03-02T11:28:40.684394Z"
        },
        "trusted": true,
        "id": "_Z0h3ieMhRfP"
      },
      "outputs": [],
      "execution_count": null
    },
    {
      "cell_type": "markdown",
      "source": [
        "### Загрузка датасетов"
      ],
      "metadata": {
        "id": "C-IAfQSbhRfP"
      }
    },
    {
      "cell_type": "code",
      "source": [
        "dataset_1 = load_dataset(\"RussianNLP/russian_super_glue\", name='danetqa')\n",
        "df_1 = (\n",
        "    pd.concat([dataset_1['train'].to_pandas(), dataset_1['validation'].to_pandas(), dataset_1['test'].to_pandas()])\n",
        "    .iloc[:, :2]\n",
        ")"
      ],
      "metadata": {
        "execution": {
          "iopub.status.busy": "2024-03-02T07:57:09.481008Z",
          "iopub.execute_input": "2024-03-02T07:57:09.481313Z",
          "iopub.status.idle": "2024-03-02T07:57:10.415663Z",
          "shell.execute_reply.started": "2024-03-02T07:57:09.48127Z",
          "shell.execute_reply": "2024-03-02T07:57:10.414806Z"
        },
        "trusted": true,
        "id": "abw4DrmrhRfQ",
        "colab": {
          "base_uri": "https://localhost:8080/",
          "height": 234,
          "referenced_widgets": [
            "03f4f5ad9b2b4c75be8a1006ec63f60f",
            "630e87c07e2b436094364b4b05a8f59d",
            "3dadfb1ddb2a4b5a95a76442aabb115d",
            "802a7e50800c49aebf65ad430a2da05c",
            "ea6a724720b047efb206887feed58248",
            "f24fb621737a49bba6fd7ea137428535",
            "aacb3479ad11449b91140a95f3f6dcaf",
            "419044daa87c405392bfe681dceed770",
            "2c48c1c0327646b78f4097f1e658e0e3",
            "ee819b3fcb614236ae353d0dc69e9aec",
            "f803e734be4e43f5acc18d02471be1a2",
            "d40b5c7d0ad14826aa13e86f7839142d",
            "8a76c59a3c9a443580e97bd64052dbee",
            "b5df8145f75c40f6acdd779eab1b3814",
            "c6c34cf588e24f85934d5d7c017b97fa",
            "0bae8f269eb941f7bcabf1804362f6fe",
            "95a17c16cb2c4242ad08e83924f9cf19",
            "165de46bbade41b6b5c198b00a608d9b",
            "de1b5ef9f56d47e184117859fe5d15ce",
            "6cee89dc75ba472b8838c6483d55c2d3",
            "b1f133ab5e5c484e96be481008124022",
            "f1ade811c460484fb8111c3cac0af9c8",
            "f705406b79324a64b7b559b2f676344c",
            "057ce4efbaa84d9fb55b92d5098bf52c",
            "8f485b41400c4a448fe3d9cfbc2d51d0",
            "08f37aea6cc14e95a29878c942cf44c2",
            "b864afa472114d3d9dd5088c9a37987e",
            "36e0db5e235944d5a0ae0437b993e638",
            "eff12f583b404bb1a7666d4511b27f15",
            "1bea51c5371c4722bb37960ba1e51a18",
            "7fb9cea0ba624f8b88db3dee8a03508c",
            "aeda0ad1aa104a7782847f014194a854",
            "f09198fd51ed4ef4ab0d670628f06996",
            "db446fbf515d4a0b96810a3bd2d67de5",
            "f28062e37d554751b36be1bd4d56e102",
            "34ac69bcd5f84aac94efd5c5bbd9a2a0",
            "f4e18d7ee788441099ab9494d58314eb",
            "b26e6c72c9c3462a91cb621b01a06738",
            "e3e8c9f8f2bb4f43a3ada8d8f97da827",
            "01ff62af43a046e798509b868b40544b",
            "f2f50ff4e65448f188b4c21be510f4f9",
            "3d507ebd666f40b591721c5bfd3aac0d",
            "dc7940ca3cc24a2d9205c1f8242d21b8",
            "12929b58fafe4080a718c2bff8e0935c"
          ]
        },
        "outputId": "c2077c15-3b40-45c9-b0b8-ea0a8bf3c3fe"
      },
      "outputs": [
        {
          "name": "stdout",
          "output_type": "stream",
          "text": [
            "The repository for RussianNLP/russian_super_glue contains custom code which must be executed to correctly load the dataset. You can inspect the repository content at https://hf.co/datasets/RussianNLP/russian_super_glue.\n",
            "You can avoid this prompt in future by passing the argument `trust_remote_code=True`.\n",
            "\n",
            "Do you wish to run the custom code? [y/N] y\n"
          ]
        },
        {
          "output_type": "display_data",
          "data": {
            "text/plain": [
              "DaNetQA.zip:   0%|          | 0.00/1.29M [00:00<?, ?B/s]"
            ],
            "application/vnd.jupyter.widget-view+json": {
              "version_major": 2,
              "version_minor": 0,
              "model_id": "03f4f5ad9b2b4c75be8a1006ec63f60f"
            }
          },
          "metadata": {}
        },
        {
          "output_type": "display_data",
          "data": {
            "text/plain": [
              "Generating train split:   0%|          | 0/1749 [00:00<?, ? examples/s]"
            ],
            "application/vnd.jupyter.widget-view+json": {
              "version_major": 2,
              "version_minor": 0,
              "model_id": "d40b5c7d0ad14826aa13e86f7839142d"
            }
          },
          "metadata": {}
        },
        {
          "output_type": "display_data",
          "data": {
            "text/plain": [
              "Generating validation split:   0%|          | 0/821 [00:00<?, ? examples/s]"
            ],
            "application/vnd.jupyter.widget-view+json": {
              "version_major": 2,
              "version_minor": 0,
              "model_id": "f705406b79324a64b7b559b2f676344c"
            }
          },
          "metadata": {}
        },
        {
          "output_type": "display_data",
          "data": {
            "text/plain": [
              "Generating test split:   0%|          | 0/805 [00:00<?, ? examples/s]"
            ],
            "application/vnd.jupyter.widget-view+json": {
              "version_major": 2,
              "version_minor": 0,
              "model_id": "db446fbf515d4a0b96810a3bd2d67de5"
            }
          },
          "metadata": {}
        }
      ],
      "execution_count": null
    },
    {
      "cell_type": "code",
      "source": [
        "dataset_2 = load_dataset(\"RussianNLP/russian_super_glue\", name='muserc')\n",
        "df_2 = (\n",
        "    pd.concat([dataset_2['train'].to_pandas(), dataset_2['validation'].to_pandas(), dataset_2['test'].to_pandas()])\n",
        "    .loc[:, ['question', 'paragraph']]\n",
        "    .set_axis(['question', 'passage'], axis=1)\n",
        ")"
      ],
      "metadata": {
        "execution": {
          "iopub.status.busy": "2024-03-02T07:57:10.416793Z",
          "iopub.execute_input": "2024-03-02T07:57:10.417134Z",
          "iopub.status.idle": "2024-03-02T07:57:11.106976Z",
          "shell.execute_reply.started": "2024-03-02T07:57:10.417106Z",
          "shell.execute_reply": "2024-03-02T07:57:11.105874Z"
        },
        "trusted": true,
        "id": "VF0QOvjShRfQ",
        "colab": {
          "base_uri": "https://localhost:8080/",
          "height": 145,
          "referenced_widgets": [
            "90a3d75725a0432984efa4fedd16d1a6",
            "3a9f461f8df74ac8a3624e24bc059b21",
            "00480a363364458481d9aa0d848f7e63",
            "d4503f9c3b834aa996c949d924c27d7f",
            "27d49015bf99474d911ba5cbbd349f6b",
            "5b92bb4a326241179be17563fdec58c8",
            "a21591090a7c4bf7b5af2ec22e17e5c8",
            "01014558d2ca48d28a826828e1cec8d1",
            "e5e37dee50d049c5b0c95696a4b231ac",
            "30f5847c2ae34191b87582dd7259e28f",
            "9609ae8e62d24296903b427422ac5ba9",
            "bc5dcff22a094be9be1d54ee533a3196",
            "4e1c2f1d4ea64c4886df2cde68b03eeb",
            "7190649459ed494bbd7fdbcf646dc5ad",
            "cb3e7b96b3974a67b175512b5e91481f",
            "89c22910622a4bf1868a459e6ff874d1",
            "2d59106ae8564d90b3e0466dc5e9cd93",
            "6d70b8565ae34ddaa868ed7250956917",
            "f2ea966522f24203a9f3b0b5d2934a57",
            "b2e5c47844344948bb8d9c2ad831b100",
            "695a6fb5d0b24637b0dbba094d04a713",
            "1642e33f0626498c8be128078a1c24a3",
            "c39bd729c10e401e934797a7728f4295",
            "d9582446407d4e9ca8b55a21dcb5249e",
            "4b28c1af46ce499b88c07cc9842ba4fd",
            "08edcc5f6a0844acaca070b9f8d2fa15",
            "36d2bca2671c411d9eda194a1a963082",
            "30158eb30a854739b48fe870cb37abdc",
            "e774ae97182145f484e8f4bcc60585f1",
            "b61cd811dd9442ed891bd119d380a0ec",
            "4cfa8f8fc3aa4b849c5d156261f72a4d",
            "87fb3e5575184cf3ab171dc1d547c443",
            "89f1c4df25744010892defa73c5c7f02",
            "ffb0153e97594d1ca1fa7d144fe77db0",
            "f9e2ae616c33415799910320c94ed994",
            "8624fde6eb904212b1d82807c6bbb909",
            "ccd6ab81c5c84ba1860cd7e4ad4d8ce5",
            "fbfddc004fd8487d997f2eae3899a224",
            "1935a5dd1b814b30970b5ae4056c3a2c",
            "23eed8d1e8a6462a8f2386403485bbad",
            "dd05020c30944c8dbacb92e0a15b53b9",
            "f053eaf7c70f473ca0527d771896ec31",
            "7868fde177d048389b330969eadf3a62",
            "dfb648c1f0d84c78bec8c9a4fb005076"
          ]
        },
        "outputId": "ab479372-3b7b-4ab2-84c4-5418bcbc95a4"
      },
      "outputs": [
        {
          "output_type": "display_data",
          "data": {
            "text/plain": [
              "MuSeRC.zip:   0%|          | 0.00/1.20M [00:00<?, ?B/s]"
            ],
            "application/vnd.jupyter.widget-view+json": {
              "version_major": 2,
              "version_minor": 0,
              "model_id": "90a3d75725a0432984efa4fedd16d1a6"
            }
          },
          "metadata": {}
        },
        {
          "output_type": "display_data",
          "data": {
            "text/plain": [
              "Generating train split:   0%|          | 0/11950 [00:00<?, ? examples/s]"
            ],
            "application/vnd.jupyter.widget-view+json": {
              "version_major": 2,
              "version_minor": 0,
              "model_id": "bc5dcff22a094be9be1d54ee533a3196"
            }
          },
          "metadata": {}
        },
        {
          "output_type": "display_data",
          "data": {
            "text/plain": [
              "Generating validation split:   0%|          | 0/2235 [00:00<?, ? examples/s]"
            ],
            "application/vnd.jupyter.widget-view+json": {
              "version_major": 2,
              "version_minor": 0,
              "model_id": "c39bd729c10e401e934797a7728f4295"
            }
          },
          "metadata": {}
        },
        {
          "output_type": "display_data",
          "data": {
            "text/plain": [
              "Generating test split:   0%|          | 0/7614 [00:00<?, ? examples/s]"
            ],
            "application/vnd.jupyter.widget-view+json": {
              "version_major": 2,
              "version_minor": 0,
              "model_id": "ffb0153e97594d1ca1fa7d144fe77db0"
            }
          },
          "metadata": {}
        }
      ],
      "execution_count": null
    },
    {
      "cell_type": "code",
      "source": [
        "dataset_3 = load_dataset(\"xquad\", 'xquad.ru')\n",
        "df_3 = (\n",
        "    dataset_3['validation'].to_pandas()\n",
        "    .loc[:, ['question', 'context']]\n",
        "    .set_axis(['question', 'passage'], axis=1)\n",
        ")"
      ],
      "metadata": {
        "execution": {
          "iopub.status.busy": "2024-03-02T07:57:11.108432Z",
          "iopub.execute_input": "2024-03-02T07:57:11.108855Z",
          "iopub.status.idle": "2024-03-02T07:57:11.610754Z",
          "shell.execute_reply.started": "2024-03-02T07:57:11.108798Z",
          "shell.execute_reply": "2024-03-02T07:57:11.609764Z"
        },
        "trusted": true,
        "id": "3IeSII1rhRfQ",
        "colab": {
          "base_uri": "https://localhost:8080/",
          "height": 113,
          "referenced_widgets": [
            "c7e34478932e4bd98f947291f88d1692",
            "6427636a3bad44b9b09eced366df424d",
            "6291ef6113a14f77a3d12f7ef847176c",
            "6c6dea32d154440192fa498ba882ae1c",
            "40ea90ed182c4ae581fcb1ec71c0ccf6",
            "b0e55cee426b4f7c8ba4994591fe0c04",
            "656712ce12154afd8b8fb8608c65fd5d",
            "5b2dad496cad43879c687134b830f64a",
            "acc80913bfb7428ebcf961cd98e14797",
            "3de4249ef3f5467da40d7cf5500aab0a",
            "3214f5f77bf045fd93db7f7fa69326e6",
            "806eac4b18f84368bbce54e4e9134420",
            "dcc6b5b2b75b4095bd62ea6a466afe72",
            "a396a53293494001828a53d1f6ba3531",
            "a375382917504881bb85680b4bd424ab",
            "d1049944bef442c083d2ccfb95690126",
            "838e31d0c8884600b39e1ed9e73b29b4",
            "b683bc1f57024e5abc8073720f28ff5b",
            "ba66ea3d0012450e88910ca152c3d328",
            "f07d0e5319b34cd592d89346d7b1a18e",
            "2fc7cd03d5d84a2fb062d86443e2c322",
            "14bcb2cd05d2428cb4a4b78c334840a4",
            "9f3197bc15cb44169932a14b104757cf",
            "905f5299a8e046d3a23acabf20eae893",
            "9ce75da4549443cf98c1aa39eeef846a",
            "e455193f134d4a5293b7889e680a7fd8",
            "79a72e9459844eac8598327063a82d01",
            "9fb00152a5c84ec89f061b7025979ca1",
            "94b5007604bd4c1b977dec356b9dee5e",
            "179f1ef7a7784ba28bba014664e673e2",
            "a74dbf024d454716b00e77e5904b2abe",
            "22a464617f404451bbbdc4e75c7ecc37",
            "57c11c0e8b2b497bad963ae36390a128"
          ]
        },
        "outputId": "07bd65a7-c40b-45d8-883f-e16577100587"
      },
      "outputs": [
        {
          "output_type": "display_data",
          "data": {
            "text/plain": [
              "README.md:   0%|          | 0.00/15.6k [00:00<?, ?B/s]"
            ],
            "application/vnd.jupyter.widget-view+json": {
              "version_major": 2,
              "version_minor": 0,
              "model_id": "c7e34478932e4bd98f947291f88d1692"
            }
          },
          "metadata": {}
        },
        {
          "output_type": "display_data",
          "data": {
            "text/plain": [
              "validation-00000-of-00001.parquet:   0%|          | 0.00/322k [00:00<?, ?B/s]"
            ],
            "application/vnd.jupyter.widget-view+json": {
              "version_major": 2,
              "version_minor": 0,
              "model_id": "806eac4b18f84368bbce54e4e9134420"
            }
          },
          "metadata": {}
        },
        {
          "output_type": "display_data",
          "data": {
            "text/plain": [
              "Generating validation split:   0%|          | 0/1190 [00:00<?, ? examples/s]"
            ],
            "application/vnd.jupyter.widget-view+json": {
              "version_major": 2,
              "version_minor": 0,
              "model_id": "9f3197bc15cb44169932a14b104757cf"
            }
          },
          "metadata": {}
        }
      ],
      "execution_count": null
    },
    {
      "cell_type": "code",
      "source": [
        "df = (\n",
        "    pd.concat([df_1, df_2, df_3])\n",
        "    .dropna()\n",
        "    .map(str)\n",
        "    .drop_duplicates()\n",
        "    .loc[lambda df: df['passage'].str.len() < 2000]\n",
        ")"
      ],
      "metadata": {
        "execution": {
          "iopub.status.busy": "2024-03-02T07:57:11.615888Z",
          "iopub.execute_input": "2024-03-02T07:57:11.616649Z",
          "iopub.status.idle": "2024-03-02T07:57:11.759019Z",
          "shell.execute_reply.started": "2024-03-02T07:57:11.616609Z",
          "shell.execute_reply": "2024-03-02T07:57:11.757848Z"
        },
        "trusted": true,
        "id": "5BJ4oP4RhRfR"
      },
      "outputs": [],
      "execution_count": null
    },
    {
      "cell_type": "code",
      "source": [
        "assert df.shape == (9550, 2)"
      ],
      "metadata": {
        "execution": {
          "iopub.status.busy": "2024-03-02T07:57:11.76044Z",
          "iopub.execute_input": "2024-03-02T07:57:11.760857Z",
          "iopub.status.idle": "2024-03-02T07:57:11.765953Z",
          "shell.execute_reply.started": "2024-03-02T07:57:11.760803Z",
          "shell.execute_reply": "2024-03-02T07:57:11.764928Z"
        },
        "trusted": true,
        "id": "W7wdCeIThRfR"
      },
      "outputs": [],
      "execution_count": null
    },
    {
      "cell_type": "code",
      "source": [
        "df.sample(5)"
      ],
      "metadata": {
        "execution": {
          "iopub.status.busy": "2024-03-02T07:57:11.767452Z",
          "iopub.execute_input": "2024-03-02T07:57:11.768374Z",
          "iopub.status.idle": "2024-03-02T07:57:11.787484Z",
          "shell.execute_reply.started": "2024-03-02T07:57:11.768334Z",
          "shell.execute_reply": "2024-03-02T07:57:11.786391Z"
        },
        "trusted": true,
        "id": "VtTm6-NchRfR",
        "colab": {
          "base_uri": "https://localhost:8080/",
          "height": 206
        },
        "outputId": "31a4a488-6fc8-44da-8cb7-76053e9efcb9"
      },
      "outputs": [
        {
          "output_type": "execute_result",
          "data": {
            "text/plain": [
              "                                               question  \\\n",
              "6031  Сколько раз Зайцева ошиблась при стрельбе на д...   \n",
              "1475  Является ли точным перевод названия русского ж...   \n",
              "670          Какой потомок Чингисхана разграбил Багдад?   \n",
              "5239    От чего умер аниматор и геймдизайнер Монти Оум?   \n",
              "9522                   Кого вызывали на бис десять раз?   \n",
              "\n",
              "                                                passage  \n",
              "6031  \"(1) Тренер женской сборной России по биатлону...  \n",
              "1475  Русское название жанра, научная фантастика, не...  \n",
              "670   Захват Багдада, Самарканда, Ургенча, Киева и В...  \n",
              "5239  (1) Аниматор и геймдизайнер Монти Оум умер в б...  \n",
              "9522  (1) В день премьеры спектакля, в котором получ...  "
            ],
            "text/html": [
              "\n",
              "  <div id=\"df-46cd74fd-a236-496a-934e-e38a19a86f9e\" class=\"colab-df-container\">\n",
              "    <div>\n",
              "<style scoped>\n",
              "    .dataframe tbody tr th:only-of-type {\n",
              "        vertical-align: middle;\n",
              "    }\n",
              "\n",
              "    .dataframe tbody tr th {\n",
              "        vertical-align: top;\n",
              "    }\n",
              "\n",
              "    .dataframe thead th {\n",
              "        text-align: right;\n",
              "    }\n",
              "</style>\n",
              "<table border=\"1\" class=\"dataframe\">\n",
              "  <thead>\n",
              "    <tr style=\"text-align: right;\">\n",
              "      <th></th>\n",
              "      <th>question</th>\n",
              "      <th>passage</th>\n",
              "    </tr>\n",
              "  </thead>\n",
              "  <tbody>\n",
              "    <tr>\n",
              "      <th>6031</th>\n",
              "      <td>Сколько раз Зайцева ошиблась при стрельбе на д...</td>\n",
              "      <td>\"(1) Тренер женской сборной России по биатлону...</td>\n",
              "    </tr>\n",
              "    <tr>\n",
              "      <th>1475</th>\n",
              "      <td>Является ли точным перевод названия русского ж...</td>\n",
              "      <td>Русское название жанра, научная фантастика, не...</td>\n",
              "    </tr>\n",
              "    <tr>\n",
              "      <th>670</th>\n",
              "      <td>Какой потомок Чингисхана разграбил Багдад?</td>\n",
              "      <td>Захват Багдада, Самарканда, Ургенча, Киева и В...</td>\n",
              "    </tr>\n",
              "    <tr>\n",
              "      <th>5239</th>\n",
              "      <td>От чего умер аниматор и геймдизайнер Монти Оум?</td>\n",
              "      <td>(1) Аниматор и геймдизайнер Монти Оум умер в б...</td>\n",
              "    </tr>\n",
              "    <tr>\n",
              "      <th>9522</th>\n",
              "      <td>Кого вызывали на бис десять раз?</td>\n",
              "      <td>(1) В день премьеры спектакля, в котором получ...</td>\n",
              "    </tr>\n",
              "  </tbody>\n",
              "</table>\n",
              "</div>\n",
              "    <div class=\"colab-df-buttons\">\n",
              "\n",
              "  <div class=\"colab-df-container\">\n",
              "    <button class=\"colab-df-convert\" onclick=\"convertToInteractive('df-46cd74fd-a236-496a-934e-e38a19a86f9e')\"\n",
              "            title=\"Convert this dataframe to an interactive table.\"\n",
              "            style=\"display:none;\">\n",
              "\n",
              "  <svg xmlns=\"http://www.w3.org/2000/svg\" height=\"24px\" viewBox=\"0 -960 960 960\">\n",
              "    <path d=\"M120-120v-720h720v720H120Zm60-500h600v-160H180v160Zm220 220h160v-160H400v160Zm0 220h160v-160H400v160ZM180-400h160v-160H180v160Zm440 0h160v-160H620v160ZM180-180h160v-160H180v160Zm440 0h160v-160H620v160Z\"/>\n",
              "  </svg>\n",
              "    </button>\n",
              "\n",
              "  <style>\n",
              "    .colab-df-container {\n",
              "      display:flex;\n",
              "      gap: 12px;\n",
              "    }\n",
              "\n",
              "    .colab-df-convert {\n",
              "      background-color: #E8F0FE;\n",
              "      border: none;\n",
              "      border-radius: 50%;\n",
              "      cursor: pointer;\n",
              "      display: none;\n",
              "      fill: #1967D2;\n",
              "      height: 32px;\n",
              "      padding: 0 0 0 0;\n",
              "      width: 32px;\n",
              "    }\n",
              "\n",
              "    .colab-df-convert:hover {\n",
              "      background-color: #E2EBFA;\n",
              "      box-shadow: 0px 1px 2px rgba(60, 64, 67, 0.3), 0px 1px 3px 1px rgba(60, 64, 67, 0.15);\n",
              "      fill: #174EA6;\n",
              "    }\n",
              "\n",
              "    .colab-df-buttons div {\n",
              "      margin-bottom: 4px;\n",
              "    }\n",
              "\n",
              "    [theme=dark] .colab-df-convert {\n",
              "      background-color: #3B4455;\n",
              "      fill: #D2E3FC;\n",
              "    }\n",
              "\n",
              "    [theme=dark] .colab-df-convert:hover {\n",
              "      background-color: #434B5C;\n",
              "      box-shadow: 0px 1px 3px 1px rgba(0, 0, 0, 0.15);\n",
              "      filter: drop-shadow(0px 1px 2px rgba(0, 0, 0, 0.3));\n",
              "      fill: #FFFFFF;\n",
              "    }\n",
              "  </style>\n",
              "\n",
              "    <script>\n",
              "      const buttonEl =\n",
              "        document.querySelector('#df-46cd74fd-a236-496a-934e-e38a19a86f9e button.colab-df-convert');\n",
              "      buttonEl.style.display =\n",
              "        google.colab.kernel.accessAllowed ? 'block' : 'none';\n",
              "\n",
              "      async function convertToInteractive(key) {\n",
              "        const element = document.querySelector('#df-46cd74fd-a236-496a-934e-e38a19a86f9e');\n",
              "        const dataTable =\n",
              "          await google.colab.kernel.invokeFunction('convertToInteractive',\n",
              "                                                    [key], {});\n",
              "        if (!dataTable) return;\n",
              "\n",
              "        const docLinkHtml = 'Like what you see? Visit the ' +\n",
              "          '<a target=\"_blank\" href=https://colab.research.google.com/notebooks/data_table.ipynb>data table notebook</a>'\n",
              "          + ' to learn more about interactive tables.';\n",
              "        element.innerHTML = '';\n",
              "        dataTable['output_type'] = 'display_data';\n",
              "        await google.colab.output.renderOutput(dataTable, element);\n",
              "        const docLink = document.createElement('div');\n",
              "        docLink.innerHTML = docLinkHtml;\n",
              "        element.appendChild(docLink);\n",
              "      }\n",
              "    </script>\n",
              "  </div>\n",
              "\n",
              "\n",
              "<div id=\"df-09d99a6a-0c64-44c0-a5ed-a37c17c02965\">\n",
              "  <button class=\"colab-df-quickchart\" onclick=\"quickchart('df-09d99a6a-0c64-44c0-a5ed-a37c17c02965')\"\n",
              "            title=\"Suggest charts\"\n",
              "            style=\"display:none;\">\n",
              "\n",
              "<svg xmlns=\"http://www.w3.org/2000/svg\" height=\"24px\"viewBox=\"0 0 24 24\"\n",
              "     width=\"24px\">\n",
              "    <g>\n",
              "        <path d=\"M19 3H5c-1.1 0-2 .9-2 2v14c0 1.1.9 2 2 2h14c1.1 0 2-.9 2-2V5c0-1.1-.9-2-2-2zM9 17H7v-7h2v7zm4 0h-2V7h2v10zm4 0h-2v-4h2v4z\"/>\n",
              "    </g>\n",
              "</svg>\n",
              "  </button>\n",
              "\n",
              "<style>\n",
              "  .colab-df-quickchart {\n",
              "      --bg-color: #E8F0FE;\n",
              "      --fill-color: #1967D2;\n",
              "      --hover-bg-color: #E2EBFA;\n",
              "      --hover-fill-color: #174EA6;\n",
              "      --disabled-fill-color: #AAA;\n",
              "      --disabled-bg-color: #DDD;\n",
              "  }\n",
              "\n",
              "  [theme=dark] .colab-df-quickchart {\n",
              "      --bg-color: #3B4455;\n",
              "      --fill-color: #D2E3FC;\n",
              "      --hover-bg-color: #434B5C;\n",
              "      --hover-fill-color: #FFFFFF;\n",
              "      --disabled-bg-color: #3B4455;\n",
              "      --disabled-fill-color: #666;\n",
              "  }\n",
              "\n",
              "  .colab-df-quickchart {\n",
              "    background-color: var(--bg-color);\n",
              "    border: none;\n",
              "    border-radius: 50%;\n",
              "    cursor: pointer;\n",
              "    display: none;\n",
              "    fill: var(--fill-color);\n",
              "    height: 32px;\n",
              "    padding: 0;\n",
              "    width: 32px;\n",
              "  }\n",
              "\n",
              "  .colab-df-quickchart:hover {\n",
              "    background-color: var(--hover-bg-color);\n",
              "    box-shadow: 0 1px 2px rgba(60, 64, 67, 0.3), 0 1px 3px 1px rgba(60, 64, 67, 0.15);\n",
              "    fill: var(--button-hover-fill-color);\n",
              "  }\n",
              "\n",
              "  .colab-df-quickchart-complete:disabled,\n",
              "  .colab-df-quickchart-complete:disabled:hover {\n",
              "    background-color: var(--disabled-bg-color);\n",
              "    fill: var(--disabled-fill-color);\n",
              "    box-shadow: none;\n",
              "  }\n",
              "\n",
              "  .colab-df-spinner {\n",
              "    border: 2px solid var(--fill-color);\n",
              "    border-color: transparent;\n",
              "    border-bottom-color: var(--fill-color);\n",
              "    animation:\n",
              "      spin 1s steps(1) infinite;\n",
              "  }\n",
              "\n",
              "  @keyframes spin {\n",
              "    0% {\n",
              "      border-color: transparent;\n",
              "      border-bottom-color: var(--fill-color);\n",
              "      border-left-color: var(--fill-color);\n",
              "    }\n",
              "    20% {\n",
              "      border-color: transparent;\n",
              "      border-left-color: var(--fill-color);\n",
              "      border-top-color: var(--fill-color);\n",
              "    }\n",
              "    30% {\n",
              "      border-color: transparent;\n",
              "      border-left-color: var(--fill-color);\n",
              "      border-top-color: var(--fill-color);\n",
              "      border-right-color: var(--fill-color);\n",
              "    }\n",
              "    40% {\n",
              "      border-color: transparent;\n",
              "      border-right-color: var(--fill-color);\n",
              "      border-top-color: var(--fill-color);\n",
              "    }\n",
              "    60% {\n",
              "      border-color: transparent;\n",
              "      border-right-color: var(--fill-color);\n",
              "    }\n",
              "    80% {\n",
              "      border-color: transparent;\n",
              "      border-right-color: var(--fill-color);\n",
              "      border-bottom-color: var(--fill-color);\n",
              "    }\n",
              "    90% {\n",
              "      border-color: transparent;\n",
              "      border-bottom-color: var(--fill-color);\n",
              "    }\n",
              "  }\n",
              "</style>\n",
              "\n",
              "  <script>\n",
              "    async function quickchart(key) {\n",
              "      const quickchartButtonEl =\n",
              "        document.querySelector('#' + key + ' button');\n",
              "      quickchartButtonEl.disabled = true;  // To prevent multiple clicks.\n",
              "      quickchartButtonEl.classList.add('colab-df-spinner');\n",
              "      try {\n",
              "        const charts = await google.colab.kernel.invokeFunction(\n",
              "            'suggestCharts', [key], {});\n",
              "      } catch (error) {\n",
              "        console.error('Error during call to suggestCharts:', error);\n",
              "      }\n",
              "      quickchartButtonEl.classList.remove('colab-df-spinner');\n",
              "      quickchartButtonEl.classList.add('colab-df-quickchart-complete');\n",
              "    }\n",
              "    (() => {\n",
              "      let quickchartButtonEl =\n",
              "        document.querySelector('#df-09d99a6a-0c64-44c0-a5ed-a37c17c02965 button');\n",
              "      quickchartButtonEl.style.display =\n",
              "        google.colab.kernel.accessAllowed ? 'block' : 'none';\n",
              "    })();\n",
              "  </script>\n",
              "</div>\n",
              "    </div>\n",
              "  </div>\n"
            ],
            "application/vnd.google.colaboratory.intrinsic+json": {
              "type": "dataframe",
              "summary": "{\n  \"name\": \"df\",\n  \"rows\": 5,\n  \"fields\": [\n    {\n      \"column\": \"question\",\n      \"properties\": {\n        \"dtype\": \"string\",\n        \"num_unique_values\": 5,\n        \"samples\": [\n          \"\\u042f\\u0432\\u043b\\u044f\\u0435\\u0442\\u0441\\u044f \\u043b\\u0438 \\u0442\\u043e\\u0447\\u043d\\u044b\\u043c \\u043f\\u0435\\u0440\\u0435\\u0432\\u043e\\u0434 \\u043d\\u0430\\u0437\\u0432\\u0430\\u043d\\u0438\\u044f \\u0440\\u0443\\u0441\\u0441\\u043a\\u043e\\u0433\\u043e \\u0436\\u0430\\u043d\\u0440\\u0430 \\u043d\\u0430\\u0443\\u0447\\u043d\\u0430\\u044f \\u0444\\u0430\\u043d\\u0442\\u0430\\u0441\\u0442\\u0438\\u043a\\u0430 ?\",\n          \"\\u041a\\u043e\\u0433\\u043e \\u0432\\u044b\\u0437\\u044b\\u0432\\u0430\\u043b\\u0438 \\u043d\\u0430 \\u0431\\u0438\\u0441 \\u0434\\u0435\\u0441\\u044f\\u0442\\u044c \\u0440\\u0430\\u0437?\",\n          \"\\u041a\\u0430\\u043a\\u043e\\u0439 \\u043f\\u043e\\u0442\\u043e\\u043c\\u043e\\u043a \\u0427\\u0438\\u043d\\u0433\\u0438\\u0441\\u0445\\u0430\\u043d\\u0430 \\u0440\\u0430\\u0437\\u0433\\u0440\\u0430\\u0431\\u0438\\u043b \\u0411\\u0430\\u0433\\u0434\\u0430\\u0434?\"\n        ],\n        \"semantic_type\": \"\",\n        \"description\": \"\"\n      }\n    },\n    {\n      \"column\": \"passage\",\n      \"properties\": {\n        \"dtype\": \"string\",\n        \"num_unique_values\": 5,\n        \"samples\": [\n          \"\\u0420\\u0443\\u0441\\u0441\\u043a\\u043e\\u0435 \\u043d\\u0430\\u0437\\u0432\\u0430\\u043d\\u0438\\u0435 \\u0436\\u0430\\u043d\\u0440\\u0430, \\u043d\\u0430\\u0443\\u0447\\u043d\\u0430\\u044f \\u0444\\u0430\\u043d\\u0442\\u0430\\u0441\\u0442\\u0438\\u043a\\u0430, \\u043d\\u0435 \\u044f\\u0432\\u043b\\u044f\\u0435\\u0442\\u0441\\u044f \\u0431\\u0443\\u043a\\u0432\\u0430\\u043b\\u044c\\u043d\\u044b\\u043c \\u043f\\u0435\\u0440\\u0435\\u0432\\u043e\\u0434\\u043e\\u043c \\u0430\\u043d\\u0433\\u043b\\u0438\\u0439\\u0441\\u043a\\u043e\\u0433\\u043e \\u0441\\u043b\\u043e\\u0432\\u043e\\u0441\\u043e\\u0447\\u0435\\u0442\\u0430\\u043d\\u0438\\u044f science fiction, \\u0445\\u043e\\u0442\\u044f \\u043e\\u0431\\u0430 \\u0442\\u0435\\u0440\\u043c\\u0438\\u043d\\u0430 \\u043d\\u0435\\u0441\\u0443\\u0442 \\u043e\\u0434\\u0438\\u043d \\u0441\\u043c\\u044b\\u0441\\u043b \\u0438 \\u043e\\u0431\\u043e\\u0437\\u043d\\u0430\\u0447\\u0430\\u044e\\u0442 \\u043e\\u0434\\u043d\\u0438 \\u0438 \\u0442\\u0435 \\u0436\\u0435 \\u043f\\u0440\\u0438\\u0451\\u043c\\u044b \\u0438 \\u043f\\u0440\\u043e\\u0438\\u0437\\u0432\\u0435\\u0434\\u0435\\u043d\\u0438\\u044f. \\u0421\\u043b\\u043e\\u0432\\u043e\\u0441\\u043e\\u0447\\u0435\\u0442\\u0430\\u043d\\u0438\\u0435 science fiction \\u0431\\u0443\\u043a\\u0432\\u0430\\u043b\\u044c\\u043d\\u043e \\u043f\\u0435\\u0440\\u0435\\u0432\\u043e\\u0434\\u0438\\u0442\\u0441\\u044f \\u0441 \\u0430\\u043d\\u0433\\u043b\\u0438\\u0439\\u0441\\u043a\\u043e\\u0433\\u043e \\u043a\\u0430\\u043a \\u043d\\u0430\\u0443\\u0447\\u043d\\u044b\\u0439 \\u0445\\u0443\\u0434\\u043e\\u0436\\u0435\\u0441\\u0442\\u0432\\u0435\\u043d\\u043d\\u044b\\u0439 \\u0432\\u044b\\u043c\\u044b\\u0441\\u0435\\u043b \\u0438\\u043b\\u0438 \\u0445\\u0443\\u0434\\u043e\\u0436\\u0435\\u0441\\u0442\\u0432\\u0435\\u043d\\u043d\\u044b\\u0439 \\u0432\\u044b\\u043c\\u044b\\u0441\\u0435\\u043b \\u043e \\u043d\\u0430\\u0443\\u043a\\u0435 . \\u0422\\u0435\\u043c \\u043d\\u0435 \\u043c\\u0435\\u043d\\u0435\\u0435, \\u0438\\u043c\\u0435\\u043d\\u043d\\u043e \\u0432\\u0430\\u0440\\u0438\\u0430\\u043d\\u0442 \\u043d\\u0430\\u0443\\u0447\\u043d\\u0430\\u044f \\u0444\\u0430\\u043d\\u0442\\u0430\\u0441\\u0442\\u0438\\u043a\\u0430 \\u043f\\u0440\\u0438\\u0436\\u0438\\u043b\\u0441\\u044f \\u0432 \\u0440\\u0443\\u0441\\u0441\\u043a\\u043e\\u043c \\u044f\\u0437\\u044b\\u043a\\u0435. \\u041f\\u0430\\u0440\\u0430 fiction (\\u0445\\u0443\\u0434\\u043e\\u0436\\u0435\\u0441\\u0442\\u0432\\u0435\\u043d\\u043d\\u044b\\u0439 \\u0432\\u044b\\u043c\\u044b\\u0441\\u0435\\u043b) \\u2014 \\u0444\\u0430\\u043d\\u0442\\u0430\\u0441\\u0442\\u0438\\u043a\\u0430 (\\u0431\\u0435\\u0437 \\u0443\\u0442\\u043e\\u0447\\u043d\\u0435\\u043d\\u0438\\u044f \\u043d\\u0430\\u0443\\u0447\\u043d\\u0430\\u044f, \\u0430\\u043d\\u0433\\u043b. speculative fiction) \\u043e\\u0442\\u043d\\u043e\\u0441\\u0438\\u0442\\u0441\\u044f \\u043a \\u043b\\u043e\\u0436\\u043d\\u044b\\u043c \\u0434\\u0440\\u0443\\u0437\\u044c\\u044f\\u043c \\u043f\\u0435\\u0440\\u0435\\u0432\\u043e\\u0434\\u0447\\u0438\\u043a\\u0430 . \\u0412\\u043e \\u0444\\u0440\\u0430\\u043d\\u0446\\u0443\\u0437\\u0441\\u043a\\u043e\\u043c, \\u043d\\u0435\\u043c\\u0435\\u0446\\u043a\\u043e\\u043c \\u0438 \\u0440\\u044f\\u0434\\u0435 \\u0434\\u0440\\u0443\\u0433\\u0438\\u0445 \\u0435\\u0432\\u0440\\u043e\\u043f\\u0435\\u0439\\u0441\\u043a\\u0438\\u0445 \\u044f\\u0437\\u044b\\u043a\\u043e\\u0432 \\u0438\\u0441\\u043f\\u043e\\u043b\\u044c\\u0437\\u0443\\u0435\\u0442\\u0441\\u044f \\u0437\\u0430\\u0438\\u043c\\u0441\\u0442\\u0432\\u043e\\u0432\\u0430\\u043d\\u043d\\u043e\\u0435 \\u0430\\u043d\\u0433\\u043b\\u0438\\u0439\\u0441\\u043a\\u043e\\u0435 \\u043d\\u0430\\u0437\\u0432\\u0430\\u043d\\u0438\\u0435, \\u0430 \\u0434\\u043b\\u044f \\u043f\\u0440\\u043e\\u0441\\u0442\\u043e \\u0444\\u0430\\u043d\\u0442\\u0430\\u0441\\u0442\\u0438\\u043a\\u0438 \\u0438\\u0441\\u043f\\u043e\\u043b\\u044c\\u0437\\u0443\\u044e\\u0442\\u0441\\u044f \\u0441\\u043b\\u043e\\u0432\\u0430, \\u0430\\u043d\\u0430\\u043b\\u043e\\u0433\\u0438\\u0447\\u043d\\u044b\\u0435 \\u0440\\u0443\\u0441\\u0441\\u043a\\u043e\\u043c\\u0443 (\\u0444\\u0440. Fantastique, \\u043d\\u0435\\u043c. Phantastik, \\u0438\\u0441\\u043f. Fant\\u00e1stico).\",\n          \"(1) \\u0412 \\u0434\\u0435\\u043d\\u044c \\u043f\\u0440\\u0435\\u043c\\u044c\\u0435\\u0440\\u044b \\u0441\\u043f\\u0435\\u043a\\u0442\\u0430\\u043a\\u043b\\u044f, \\u0432 \\u043a\\u043e\\u0442\\u043e\\u0440\\u043e\\u043c \\u043f\\u043e\\u043b\\u0443\\u0447\\u0438\\u043b\\u0430 \\u0440\\u043e\\u043b\\u044c \\u042d\\u0432\\u0438\\u0441 \\u041a\\u0440\\u0430\\u0439\\u0442\\u043e\\u043d, \\u0414\\u0436\\u0443\\u043b\\u0438\\u044f \\u0441\\u043b\\u0443\\u0447\\u0430\\u0439\\u043d\\u043e \\u0441\\u0442\\u0430\\u043b\\u043a\\u0438\\u0432\\u0430\\u0435\\u0442\\u0441\\u044f \\u0441 \\u0422\\u043e\\u043c\\u043e\\u043c \\u0438 \\u043d\\u0430\\u0441\\u043b\\u0430\\u0436\\u0434\\u0430\\u0435\\u0442\\u0441\\u044f \\u0442\\u0435\\u043c, \\u0447\\u0442\\u043e \\u0422\\u043e\\u043c \\u0431\\u043e\\u043b\\u044c\\u0448\\u0435 \\u043d\\u0435 \\u0432\\u044b\\u0437\\u044b\\u0432\\u0430\\u0435\\u0442 \\u0443 \\u043d\\u0435\\u0451 \\u043d\\u0438\\u043a\\u0430\\u043a\\u0438\\u0445 \\u0447\\u0443\\u0432\\u0441\\u0442\\u0432. (2) \\u041d\\u043e \\u042d\\u0432\\u0438\\u0441 \\u0431\\u0443\\u0434\\u0435\\u0442 \\u0443\\u043d\\u0438\\u0447\\u0442\\u043e\\u0436\\u0435\\u043d\\u0430. (3) \\u0418 \\u0432\\u043e\\u0442 \\u043f\\u0440\\u0438\\u0445\\u043e\\u0434\\u0438\\u0442 \\u0437\\u0432\\u0451\\u0437\\u0434\\u043d\\u044b\\u0439 \\u0447\\u0430\\u0441 \\u0414\\u0436\\u0443\\u043b\\u0438\\u0438. (4) \\u0418\\u0433\\u0440\\u0430\\u0432\\u0448\\u0430\\u044f \\u043d\\u0430 \\u0440\\u0435\\u043f\\u0435\\u0442\\u0438\\u0446\\u0438\\u044f\\u0445 \\u0432\\u043f\\u043e\\u043b\\u0441\\u0438\\u043b\\u044b, \\u043d\\u0430 \\u043f\\u0440\\u0435\\u043c\\u044c\\u0435\\u0440\\u0435 \\u043e\\u043d\\u0430 \\u0440\\u0430\\u0437\\u0432\\u043e\\u0440\\u0430\\u0447\\u0438\\u0432\\u0430\\u0435\\u0442\\u0441\\u044f \\u0432\\u043e \\u0432\\u0441\\u044e \\u043c\\u043e\\u0449\\u044c \\u0441\\u0432\\u043e\\u0435\\u0433\\u043e \\u0442\\u0430\\u043b\\u0430\\u043d\\u0442\\u0430 \\u0438 \\u043c\\u0430\\u0441\\u0442\\u0435\\u0440\\u0441\\u0442\\u0432\\u0430, \\u0438 \\u0435\\u0434\\u0438\\u043d\\u0441\\u0442\\u0432\\u0435\\u043d\\u043d\\u0430\\u044f \\u0431\\u043e\\u043b\\u044c\\u0448\\u0430\\u044f \\u043c\\u0438\\u0437\\u0430\\u043d\\u0441\\u0446\\u0435\\u043d\\u0430 \\u042d\\u0432\\u0438\\u0441 \\u043f\\u0440\\u0435\\u0432\\u0440\\u0430\\u0449\\u0430\\u0435\\u0442\\u0441\\u044f \\u0432 \\u0442\\u0440\\u0438\\u0443\\u043c\\u0444\\u0430\\u043b\\u044c\\u043d\\u043e\\u0435 \\u0432\\u044b\\u0441\\u0442\\u0443\\u043f\\u043b\\u0435\\u043d\\u0438\\u0435 \\u0432\\u0435\\u043b\\u0438\\u043a\\u043e\\u0439 \\u0414\\u0436\\u0443\\u043b\\u0438\\u0438 \\u041b\\u044d\\u043c\\u0431\\u0435\\u0440\\u0442. (5) \\u0415\\u0451 \\u0432\\u044b\\u0437\\u044b\\u0432\\u0430\\u043b\\u0438 \\u0434\\u0435\\u0441\\u044f\\u0442\\u044c \\u0440\\u0430\\u0437; \\u0443 \\u0441\\u043b\\u0443\\u0436\\u0435\\u0431\\u043d\\u043e\\u0433\\u043e \\u0432\\u044b\\u0445\\u043e\\u0434\\u0430 \\u043d\\u0435\\u0438\\u0441\\u0442\\u043e\\u0432\\u0441\\u0442\\u0432\\u0443\\u0435\\u0442 \\u0442\\u043e\\u043b\\u043f\\u0430 \\u0447\\u0435\\u043b\\u043e\\u0432\\u0435\\u043a \\u0432 \\u0442\\u0440\\u0438\\u0441\\u0442\\u0430; \\u0414\\u043e\\u043b\\u043b\\u0438 \\u0443\\u0441\\u0442\\u0440\\u0430\\u0438\\u0432\\u0430\\u0435\\u0442 \\u043f\\u044b\\u0448\\u043d\\u044b\\u0439 \\u043f\\u0440\\u0438\\u0451\\u043c \\u0432 \\u0435\\u0451 \\u0447\\u0435\\u0441\\u0442\\u044c; \\u0422\\u043e\\u043c, \\u0437\\u0430\\u0431\\u044b\\u0432 \\u043e\\u0431 \\u042d\\u0432\\u0438\\u0441, \\u043e\\u043f\\u044f\\u0442\\u044c \\u0443 \\u0435\\u0451 \\u043d\\u043e\\u0433; \\u041c\\u0430\\u0439\\u043a\\u043b \\u0438\\u0441\\u043a\\u0440\\u0435\\u043d\\u043d\\u0435 \\u0432\\u043e\\u0441\\u0445\\u0438\\u0449\\u0451\\u043d \\u2014 \\u0414\\u0436\\u0443\\u043b\\u0438\\u044f \\u0434\\u043e\\u0432\\u043e\\u043b\\u044c\\u043d\\u0430 \\u0441\\u043e\\u0431\\u043e\\u0439. (6) \\u00ab\\u0423 \\u043c\\u0435\\u043d\\u044f \\u0432 \\u0436\\u0438\\u0437\\u043d\\u0438 \\u0431\\u043e\\u043b\\u044c\\u0448\\u0435 \\u043d\\u0435 \\u0431\\u0443\\u0434\\u0435\\u0442 \\u0442\\u0430\\u043a\\u043e\\u0439 \\u043c\\u0438\\u043d\\u0443\\u0442\\u044b. (7) \\u042f \\u043d\\u0438 \\u0441 \\u043a\\u0435\\u043c \\u043d\\u0435 \\u043d\\u0430\\u043c\\u0435\\u0440\\u0435\\u043d\\u0430 \\u0435\\u0451 \\u0434\\u0435\\u043b\\u0438\\u0442\\u044c\\u00bb, \\u2014 \\u0433\\u043e\\u0432\\u043e\\u0440\\u0438\\u0442 \\u043e\\u043d\\u0430 \\u0438, \\u0443\\u0441\\u043a\\u043e\\u043b\\u044c\\u0437\\u043d\\u0443\\u0432 \\u043e\\u0442 \\u0432\\u0441\\u0435\\u0445, \\u0435\\u0434\\u0435\\u0442 \\u0432 \\u0440\\u0435\\u0441\\u0442\\u043e\\u0440\\u0430\\u043d \\u0438 \\u0437\\u0430\\u043a\\u0430\\u0437\\u044b\\u0432\\u0430\\u0435\\u0442 \\u043f\\u0438\\u0432\\u043e, \\u0431\\u0438\\u0444\\u0448\\u0442\\u0435\\u043a\\u0441 \\u0441 \\u043b\\u0443\\u043a\\u043e\\u043c \\u0438 \\u0436\\u0430\\u0440\\u0435\\u043d\\u044b\\u0439 \\u043a\\u0430\\u0440\\u0442\\u043e\\u0444\\u0435\\u043b\\u044c, \\u043a\\u043e\\u0442\\u043e\\u0440\\u043e\\u0433\\u043e \\u043d\\u0435 \\u0435\\u043b\\u0430 \\u0443\\u0436\\u0435 \\u043b\\u0435\\u0442 \\u0434\\u0435\\u0441\\u044f\\u0442\\u044c. (8) \\u0427\\u0442\\u043e \\u0442\\u0430\\u043a\\u043e\\u0435 \\u043b\\u044e\\u0431\\u043e\\u0432\\u044c \\u043f\\u043e \\u0441\\u0440\\u0430\\u0432\\u043d\\u0435\\u043d\\u0438\\u044e \\u0441 \\u0431\\u0438\\u0444\\u0448\\u0442\\u0435\\u043a\\u0441\\u043e\\u043c? (9) \\u041a\\u0430\\u043a \\u0437\\u0430\\u043c\\u0435\\u0447\\u0430\\u0442\\u0435\\u043b\\u044c\\u043d\\u043e, \\u0447\\u0442\\u043e \\u0435\\u0451 \\u0441\\u0435\\u0440\\u0434\\u0446\\u0435 \\u043f\\u0440\\u0438\\u043d\\u0430\\u0434\\u043b\\u0435\\u0436\\u0438\\u0442 \\u0435\\u0439 \\u043e\\u0434\\u043d\\u043e\\u0439! (10) \\u041d\\u0435\\u0443\\u0437\\u043d\\u0430\\u043d\\u043d\\u0430\\u044f, \\u0438\\u0437-\\u043f\\u043e\\u0434 \\u043f\\u043e\\u043b\\u0435\\u0439 \\u0441\\u043a\\u0440\\u044b\\u0432\\u0430\\u044e\\u0449\\u0435\\u0439 \\u043b\\u0438\\u0446\\u043e \\u0448\\u043b\\u044f\\u043f\\u044b \\u0414\\u0436\\u0443\\u043b\\u0438\\u044f \\u0441\\u043c\\u043e\\u0442\\u0440\\u0438\\u0442 \\u043d\\u0430 \\u043f\\u043e\\u0441\\u0435\\u0442\\u0438\\u0442\\u0435\\u043b\\u0435\\u0439 \\u0440\\u0435\\u0441\\u0442\\u043e\\u0440\\u0430\\u043d\\u0430 \\u0438 \\u0434\\u0443\\u043c\\u0430\\u0435\\u0442, \\u0447\\u0442\\u043e \\u0420\\u043e\\u0434\\u0436\\u0435\\u0440 \\u043d\\u0435\\u043f\\u0440\\u0430\\u0432, \\u0438\\u0431\\u043e \\u0430\\u043a\\u0442\\u0451\\u0440\\u044b \\u0438 \\u0438\\u0445 \\u0440\\u043e\\u043b\\u0438 \\u0441\\u0443\\u0442\\u044c \\u0441\\u0438\\u043c\\u0432\\u043e\\u043b\\u044b \\u0442\\u043e\\u0439 \\u0431\\u0435\\u0441\\u043f\\u043e\\u0440\\u044f\\u0434\\u043e\\u0447\\u043d\\u043e\\u0439, \\u0431\\u0435\\u0441\\u0446\\u0435\\u043b\\u044c\\u043d\\u043e\\u0439 \\u0431\\u043e\\u0440\\u044c\\u0431\\u044b, \\u0447\\u0442\\u043e \\u0437\\u043e\\u0432\\u0451\\u0442\\u0441\\u044f \\u0436\\u0438\\u0437\\u043d\\u044c\\u044e, \\u0430 \\u0442\\u043e\\u043b\\u044c\\u043a\\u043e \\u0441\\u0438\\u043c\\u0432\\u043e\\u043b \\u0440\\u0435\\u0430\\u043b\\u0435\\u043d. (11) \\u0415\\u0435 \\u00ab\\u043f\\u0440\\u0438\\u0442\\u0432\\u043e\\u0440\\u0441\\u0442\\u0432\\u043e\\u00bb \\u0438 \\u0435\\u0441\\u0442\\u044c \\u0435\\u0434\\u0438\\u043d\\u0441\\u0442\\u0432\\u0435\\u043d\\u043d\\u0430\\u044f \\u0440\\u0435\\u0430\\u043b\\u044c\\u043d\\u043e\\u0441\\u0442\\u044c...\",\n          \"\\u0417\\u0430\\u0445\\u0432\\u0430\\u0442 \\u0411\\u0430\\u0433\\u0434\\u0430\\u0434\\u0430, \\u0421\\u0430\\u043c\\u0430\\u0440\\u043a\\u0430\\u043d\\u0434\\u0430, \\u0423\\u0440\\u0433\\u0435\\u043d\\u0447\\u0430, \\u041a\\u0438\\u0435\\u0432\\u0430 \\u0438 \\u0412\\u043b\\u0430\\u0434\\u0438\\u043c\\u0438\\u0440\\u0430 \\u043f\\u0440\\u0438\\u0432\\u0435\\u043b \\u0432 \\u0447\\u0438\\u0441\\u043b\\u0435 \\u043f\\u0440\\u043e\\u0447\\u0435\\u0433\\u043e \\u043a \\u043c\\u0430\\u0441\\u0441\\u043e\\u0432\\u044b\\u043c \\u0443\\u0431\\u0438\\u0439\\u0441\\u0442\\u0432\\u0430\\u043c, \\u043a\\u0430\\u043a, \\u043d\\u0430\\u043f\\u0440\\u0438\\u043c\\u0435\\u0440, \\u043f\\u0440\\u0438 \\u043f\\u043e\\u043b\\u043d\\u043e\\u043c \\u0440\\u0430\\u0437\\u0440\\u0443\\u0448\\u0435\\u043d\\u0438\\u0438 \\u0447\\u0430\\u0441\\u0442\\u0438 \\u0442\\u0435\\u0440\\u0440\\u0438\\u0442\\u043e\\u0440\\u0438\\u0438 \\u044e\\u0436\\u043d\\u043e\\u0433\\u043e \\u0425\\u0443\\u0437\\u0435\\u0441\\u0442\\u0430\\u043d\\u0430. \\u0415\\u0433\\u043e \\u043f\\u043e\\u0442\\u043e\\u043c\\u043e\\u043a \\u0425\\u0443\\u043b\\u0430\\u0433\\u0443-\\u0445\\u0430\\u043d \\u0441\\u0438\\u043b\\u044c\\u043d\\u043e \\u0440\\u0430\\u0437\\u0440\\u0443\\u0448\\u0438\\u043b \\u0441\\u0435\\u0432\\u0435\\u0440\\u043d\\u0443\\u044e \\u0447\\u0430\\u0441\\u0442\\u044c \\u0418\\u0440\\u0430\\u043d\\u0430 \\u0438 \\u0440\\u0430\\u0437\\u0433\\u0440\\u0430\\u0431\\u0438\\u043b \\u0411\\u0430\\u0433\\u0434\\u0430\\u0434, \\u0445\\u043e\\u0442\\u044f \\u043d\\u0430\\u0441\\u0442\\u0443\\u043f\\u043b\\u0435\\u043d\\u0438\\u0435 \\u0435\\u0433\\u043e \\u0432\\u043e\\u0439\\u0441\\u043a\\u0430 \\u0438 \\u0431\\u044b\\u043b\\u043e \\u0441\\u0434\\u0435\\u0440\\u0436\\u0430\\u043d\\u043e \\u0435\\u0433\\u0438\\u043f\\u0435\\u0442\\u0441\\u043a\\u0438\\u043c\\u0438 \\u043c\\u0430\\u043c\\u043b\\u044e\\u043a\\u0430\\u043c\\u0438, \\u043d\\u043e \\u043f\\u043e\\u0442\\u043e\\u043c\\u043e\\u043a \\u0425\\u0443\\u043b\\u0430\\u0433\\u0443 \\u0413\\u0430\\u0437\\u0430\\u043d-\\u0445\\u0430\\u043d \\u0432\\u0435\\u0440\\u043d\\u0443\\u043b\\u0441\\u044f, \\u0447\\u0442\\u043e\\u0431\\u044b \\u0440\\u0430\\u0437\\u0433\\u0440\\u043e\\u043c\\u0438\\u0442\\u044c \\u0435\\u0433\\u0438\\u043f\\u0435\\u0442\\u0441\\u043a\\u0438\\u0445 \\u043c\\u0430\\u043c\\u043b\\u044e\\u043a\\u043e\\u0432 \\u043f\\u0440\\u044f\\u043c\\u043e \\u043f\\u0435\\u0440\\u0435\\u0434 \\u041b\\u0435\\u0432\\u0430\\u043d\\u0442\\u043e\\u043c, \\u041f\\u0430\\u043b\\u0435\\u0441\\u0442\\u0438\\u043d\\u043e\\u0439 \\u0438 \\u0434\\u0430\\u0436\\u0435 \\u0413\\u0430\\u0437\\u043e\\u0439. \\u0412 \\u0441\\u043e\\u043e\\u0442\\u0432\\u0435\\u0442\\u0441\\u0442\\u0432\\u0438\\u0438 \\u0441 \\u0442\\u0440\\u0443\\u0434\\u0430\\u043c\\u0438 \\u043f\\u0435\\u0440\\u0441\\u0438\\u0434\\u0441\\u043a\\u043e\\u0433\\u043e \\u0438\\u0441\\u0442\\u043e\\u0440\\u0438\\u043a\\u0430  \\u0420\\u0430\\u0448\\u0438\\u0434\\u0430 \\u0430\\u0434-\\u0414\\u0438\\u043d \\u0425\\u0430\\u043c\\u0430\\u0434\\u0430\\u043d\\u0438, \\u043c\\u043e\\u043d\\u0433\\u043e\\u043b\\u044b \\u0443\\u0431\\u0438\\u043b\\u0438 \\u0431\\u043e\\u043b\\u0435\\u0435 70 000 \\u043b\\u044e\\u0434\\u0435\\u0439 \\u0432 \\u041c\\u0435\\u0440\\u0432\\u0435 \\u0438 \\u0431\\u043e\\u043b\\u0435\\u0435 190 000 \\u0432 \\u041d\\u0438\\u0448\\u0430\\u043f\\u0443\\u0440\\u0435. \\u0412 1237 \\u0433\\u043e\\u0434\\u0443 \\u0445\\u0430\\u043d \\u0411\\u0430\\u0442\\u044b\\u0439, \\u0432\\u043d\\u0443\\u043a \\u0427\\u0438\\u043d\\u0433\\u0438\\u0441\\u0445\\u0430\\u043d\\u0430, \\u043d\\u0430\\u0447\\u0430\\u043b \\u0432\\u0442\\u043e\\u0440\\u0436\\u0435\\u043d\\u0438\\u0435 \\u0432 \\u041a\\u0438\\u0435\\u0432\\u0441\\u043a\\u0443\\u044e \\u0420\\u0443\\u0441\\u044c. \\u0417\\u0430 \\u0442\\u0440\\u0438 \\u0433\\u043e\\u0434\\u0430 \\u043c\\u043e\\u043d\\u0433\\u043e\\u043b\\u044b \\u0440\\u0430\\u0437\\u0440\\u0443\\u0448\\u0438\\u043b\\u0438 \\u0438 \\u0443\\u043d\\u0438\\u0447\\u0442\\u043e\\u0436\\u0438\\u043b\\u0438 \\u0432\\u0441\\u0435 \\u0433\\u043b\\u0430\\u0432\\u043d\\u044b\\u0435 \\u0433\\u043e\\u0440\\u043e\\u0434\\u0430 \\u0412\\u043e\\u0441\\u0442\\u043e\\u0447\\u043d\\u043e\\u0439 \\u0415\\u0432\\u0440\\u043e\\u043f\\u044b, \\u0437\\u0430 \\u0438\\u0441\\u043a\\u043b\\u044e\\u0447\\u0435\\u043d\\u0438\\u0435\\u043c \\u041d\\u043e\\u0432\\u0433\\u043e\\u0440\\u043e\\u0434\\u0430 \\u0438 \\u041f\\u0441\\u043a\\u043e\\u0432\\u0430.\"\n        ],\n        \"semantic_type\": \"\",\n        \"description\": \"\"\n      }\n    }\n  ]\n}"
            }
          },
          "metadata": {},
          "execution_count": 19
        }
      ],
      "execution_count": null
    },
    {
      "cell_type": "code",
      "source": [
        "with open('df.pickle', 'wb') as f:\n",
        "    pickle.dump(df, f, protocol=pickle.HIGHEST_PROTOCOL)"
      ],
      "metadata": {
        "execution": {
          "iopub.status.busy": "2024-03-02T07:57:11.789151Z",
          "iopub.execute_input": "2024-03-02T07:57:11.789846Z",
          "iopub.status.idle": "2024-03-02T07:57:11.812824Z",
          "shell.execute_reply.started": "2024-03-02T07:57:11.78979Z",
          "shell.execute_reply": "2024-03-02T07:57:11.811794Z"
        },
        "trusted": true,
        "id": "luTwgh4ThRfS"
      },
      "outputs": [],
      "execution_count": null
    },
    {
      "cell_type": "markdown",
      "source": [
        "### train/test split"
      ],
      "metadata": {
        "id": "mqUXxb80hRfS"
      }
    },
    {
      "cell_type": "code",
      "source": [
        "with open('df.pickle', 'rb') as f:\n",
        "    df = pickle.load(f)"
      ],
      "metadata": {
        "execution": {
          "iopub.status.busy": "2024-03-02T11:28:44.388947Z",
          "iopub.execute_input": "2024-03-02T11:28:44.389565Z",
          "iopub.status.idle": "2024-03-02T11:28:44.425872Z",
          "shell.execute_reply.started": "2024-03-02T11:28:44.389534Z",
          "shell.execute_reply": "2024-03-02T11:28:44.425Z"
        },
        "trusted": true,
        "id": "BInOOi6YhRfS"
      },
      "outputs": [],
      "execution_count": null
    },
    {
      "cell_type": "code",
      "source": [
        "assert df.shape == (9550, 2)"
      ],
      "metadata": {
        "execution": {
          "iopub.status.busy": "2024-03-02T11:28:44.575083Z",
          "iopub.execute_input": "2024-03-02T11:28:44.575733Z",
          "iopub.status.idle": "2024-03-02T11:28:44.57961Z",
          "shell.execute_reply.started": "2024-03-02T11:28:44.575702Z",
          "shell.execute_reply": "2024-03-02T11:28:44.578754Z"
        },
        "trusted": true,
        "id": "cLxP7xSchRfS"
      },
      "outputs": [],
      "execution_count": null
    },
    {
      "cell_type": "code",
      "source": [
        "df_train = df.sample(frac=.8).iloc[:, :2]\n",
        "df_val = df.drop(df_train.index).iloc[:, :2]"
      ],
      "metadata": {
        "execution": {
          "iopub.status.busy": "2024-03-02T11:28:44.822773Z",
          "iopub.execute_input": "2024-03-02T11:28:44.823419Z",
          "iopub.status.idle": "2024-03-02T11:28:44.856297Z",
          "shell.execute_reply.started": "2024-03-02T11:28:44.823388Z",
          "shell.execute_reply": "2024-03-02T11:28:44.855424Z"
        },
        "trusted": true,
        "id": "i_EdcwjghRfS"
      },
      "outputs": [],
      "execution_count": null
    },
    {
      "cell_type": "markdown",
      "source": [
        "### Utility functions"
      ],
      "metadata": {
        "id": "LdPCF6g4hRfS"
      }
    },
    {
      "cell_type": "code",
      "source": [
        "def get_batch(df, n):\n",
        "    \"\"\"return batch witn n samples form given dataframe (test, val)\n",
        "    each batch contains n samples. n/2 positive, and n/2 negative\"\"\"\n",
        "    positive = df.sample(n=n//2).assign(targets = 1)\n",
        "    negative = pd.concat([df[['question']].sample(n//2).reset_index(drop=True),\n",
        "                          df[['passage']].sample(n//2).reset_index(drop=True)],\n",
        "                         axis=1,\n",
        "                        ).assign(targets = 0)\n",
        "    result = pd.concat([positive, negative])\n",
        "    result = result.sample(frac=1)\n",
        "    texts = result.iloc[:, [0, 1]].values.tolist()\n",
        "    targets = result.iloc[:, 2].values.tolist()\n",
        "    return texts, targets"
      ],
      "metadata": {
        "execution": {
          "iopub.status.busy": "2024-03-02T11:28:46.273552Z",
          "iopub.execute_input": "2024-03-02T11:28:46.273931Z",
          "iopub.status.idle": "2024-03-02T11:28:46.281976Z",
          "shell.execute_reply.started": "2024-03-02T11:28:46.273903Z",
          "shell.execute_reply": "2024-03-02T11:28:46.280944Z"
        },
        "trusted": true,
        "id": "EZOXchAchRfT"
      },
      "outputs": [],
      "execution_count": null
    },
    {
      "cell_type": "code",
      "source": [
        "def estimate_loss():\n",
        "    \"\"\"calculate train and val loss during the training. Val loss - main metric of quality of the checkpoint\"\"\"\n",
        "    out = {}\n",
        "    for split in ['train', 'val']:\n",
        "        losses = torch.zeros(eval_iters)\n",
        "        accuracies = torch.zeros(eval_iters)\n",
        "        for i in range(eval_iters):\n",
        "            text, target = get_batch(df_train if split == 'train' else df_val, batch_size)\n",
        "            loss, accuracy = calculate_loss(text, target)\n",
        "            losses[i] = loss.item()\n",
        "            accuracies[i] = accuracy.item()\n",
        "        out[f'{split}_loss'] = losses.mean().item()\n",
        "        out[f'{split}_accuracy'] = accuracies.mean().item()\n",
        "    return out"
      ],
      "metadata": {
        "execution": {
          "iopub.status.busy": "2024-03-02T11:28:46.387514Z",
          "iopub.execute_input": "2024-03-02T11:28:46.388368Z",
          "iopub.status.idle": "2024-03-02T11:28:46.39613Z",
          "shell.execute_reply.started": "2024-03-02T11:28:46.388337Z",
          "shell.execute_reply": "2024-03-02T11:28:46.394969Z"
        },
        "trusted": true,
        "id": "Otf8fWjzhRfT"
      },
      "outputs": [],
      "execution_count": null
    },
    {
      "cell_type": "code",
      "source": [
        "def calculate_loss(text, target):\n",
        "    \"\"\"given batch and target labels returns two quality metrics: loss and accuracy\"\"\"\n",
        "    logit = pac.model(text)\n",
        "    target = torch.tensor(target, dtype=torch.long).to(device)\n",
        "    loss = F.cross_entropy(logit, target)\n",
        "    accuracy = sum(logit.to('cpu').argmax(1) == target.to('cpu')) / target.to('cpu').size(0)\n",
        "    return loss, accuracy"
      ],
      "metadata": {
        "execution": {
          "iopub.status.busy": "2024-03-02T11:28:46.51334Z",
          "iopub.execute_input": "2024-03-02T11:28:46.513746Z",
          "iopub.status.idle": "2024-03-02T11:28:46.520044Z",
          "shell.execute_reply.started": "2024-03-02T11:28:46.513714Z",
          "shell.execute_reply": "2024-03-02T11:28:46.518943Z"
        },
        "trusted": true,
        "id": "2uIFrCoahRfT"
      },
      "outputs": [],
      "execution_count": null
    },
    {
      "cell_type": "code",
      "source": [
        "def set_lr(i, optimizer):\n",
        "    \"\"\"set learning rate function. Used in training process. Given the training step number (i) and optimizer object set learning rate\"\"\"\n",
        "    if i < iterations * 0.2:  # warmup stage\n",
        "        lr = learning_rate * 1e-2\n",
        "    elif i < iterations * 0.8:  # main training stage\n",
        "        lr = learning_rate\n",
        "    else:\n",
        "        lr = learning_rate * 1e-1  # closing stage\n",
        "    optimizer.param_groups[0]['lr'] = lr"
      ],
      "metadata": {
        "execution": {
          "iopub.status.busy": "2024-03-02T11:28:46.641134Z",
          "iopub.execute_input": "2024-03-02T11:28:46.641602Z",
          "iopub.status.idle": "2024-03-02T11:28:46.648274Z",
          "shell.execute_reply.started": "2024-03-02T11:28:46.641571Z",
          "shell.execute_reply": "2024-03-02T11:28:46.647119Z"
        },
        "trusted": true,
        "id": "pmRsLe_fhRfT"
      },
      "outputs": [],
      "execution_count": null
    },
    {
      "cell_type": "code",
      "source": [
        "def train_model(pac):\n",
        "    \"\"\"train model. Model is in the pac object\n",
        "    model related info we get from pac object\n",
        "    general info and functions - from global scope\"\"\"\n",
        "    pac.model.train()\n",
        "    for i in range(iterations):\n",
        "        set_lr(i, pac.optimizer)\n",
        "        text, target = get_batch(df_train, batch_size)\n",
        "        loss, _ = calculate_loss(text, target)  # do not need accuracy return here\n",
        "        pac.optimizer.zero_grad(set_to_none=True)\n",
        "        loss.backward()\n",
        "        torch.nn.utils.clip_grad_norm_(pac.model.parameters(), max_norm = 1)\n",
        "        pac.optimizer.step()\n",
        "        if i % eval_interval == 0:\n",
        "            pac.model.eval()\n",
        "            losses = estimate_loss()\n",
        "            print(f\"step {i}: train loss {losses['train_loss']:.8f}, val loss {losses['val_loss']:.8f} \", end='')\n",
        "            print(f\"train accuracy {losses['train_accuracy']:.0%}, val accuracy {losses['val_accuracy']:.0%}\")\n",
        "            pac.train_loss_history.append(losses['train_loss'])\n",
        "            pac.val_loss_history.append(losses['val_loss'])\n",
        "            if losses['val_loss'] < pac.best_val_loss:\n",
        "                print(f\"            saving checkpoint with val loss {losses['val_loss']:.8f}\")\n",
        "                pac.best_val_loss = losses['val_loss']\n",
        "                checkpoint = {  'model': pac.model.state_dict(),\n",
        "                                'optimizer': pac.optimizer.state_dict(),\n",
        "                                'best_val_loss': pac.best_val_loss,\n",
        "                                'train_loss_history' : pac.train_loss_history,\n",
        "                                'val_loss_history' : pac.val_loss_history,}\n",
        "                torch.save(checkpoint, model_path)\n",
        "            pac.model.train()\n",
        "    pac.model.eval()"
      ],
      "metadata": {
        "execution": {
          "iopub.status.busy": "2024-03-02T11:28:46.764211Z",
          "iopub.execute_input": "2024-03-02T11:28:46.765398Z",
          "iopub.status.idle": "2024-03-02T11:28:46.776079Z",
          "shell.execute_reply.started": "2024-03-02T11:28:46.765361Z",
          "shell.execute_reply": "2024-03-02T11:28:46.775264Z"
        },
        "trusted": true,
        "id": "_sOIzKnlhRfU"
      },
      "outputs": [],
      "execution_count": null
    },
    {
      "cell_type": "code",
      "source": [
        "def load_model_pac(pac, **kwargs):\n",
        "    \"\"\"load model from disk. On disk we maintain only one model, without choice\n",
        "    pac object will be filled with loaded model\"\"\"\n",
        "    if Path(model_path).exists():\n",
        "        state = torch.load(model_path, **kwargs)\n",
        "        pac.model = Model().to(device)\n",
        "        pac.model.load_state_dict(state['model'])\n",
        "        pac.optimizer = torch.optim.AdamW(pac.model.parameters())\n",
        "        pac.optimizer.load_state_dict(state['optimizer'])\n",
        "        pac.best_val_loss = state['best_val_loss']\n",
        "        pac.train_loss_history = state['train_loss_history']\n",
        "        pac.val_loss_history = state['val_loss_history']\n",
        "    else:\n",
        "        print('WARNING!!! no file to get model. pac is returned without changes')"
      ],
      "metadata": {
        "execution": {
          "iopub.status.busy": "2024-03-02T11:28:46.895523Z",
          "iopub.execute_input": "2024-03-02T11:28:46.895888Z",
          "iopub.status.idle": "2024-03-02T11:28:46.904403Z",
          "shell.execute_reply.started": "2024-03-02T11:28:46.895861Z",
          "shell.execute_reply": "2024-03-02T11:28:46.903256Z"
        },
        "trusted": true,
        "id": "wUULFIjkhRfV"
      },
      "outputs": [],
      "execution_count": null
    },
    {
      "cell_type": "code",
      "source": [
        "def plot_losses(pac):\n",
        "    \"\"\"plot smoothed losses for train and val\n",
        "    x-axis is not very informative, due to smoothing (collapce several eval steps)\n",
        "    so this plot is used only for basic visual understanding of trand in training\"\"\"\n",
        "    fig, ax = plt.subplots(nrows=1, ncols=2, figsize=(5, 3))\n",
        "    smooth = 8 if len(pac.train_loss_history) > 8 else 2\n",
        "    ax[0].plot(sliding_window_view(pac.train_loss_history, window_shape = smooth).mean(1))\n",
        "    ax[1].plot(sliding_window_view(pac.val_loss_history, window_shape = smooth).mean(1))\n",
        "    ax[0].set_title('train_loss_history')\n",
        "    ax[1].set_title('val_loss_history')\n",
        "    fig.suptitle('plot losses')\n",
        "    plt.show()"
      ],
      "metadata": {
        "execution": {
          "iopub.status.busy": "2024-03-02T11:28:47.39316Z",
          "iopub.execute_input": "2024-03-02T11:28:47.39358Z",
          "iopub.status.idle": "2024-03-02T11:28:47.401654Z",
          "shell.execute_reply.started": "2024-03-02T11:28:47.393549Z",
          "shell.execute_reply": "2024-03-02T11:28:47.400399Z"
        },
        "trusted": true,
        "id": "WnxiHQvNhRfV"
      },
      "outputs": [],
      "execution_count": null
    },
    {
      "cell_type": "code",
      "source": [
        "@dataclass\n",
        "class ModelPackage:\n",
        "    \"\"\"main object. contain all key data concerning the model. we create one instance only and work with it\"\"\"\n",
        "    model : Any = None\n",
        "    optimizer : Any = None\n",
        "    best_val_loss : Any = None\n",
        "    train_loss_history : Any =None\n",
        "    val_loss_history : Any = None"
      ],
      "metadata": {
        "execution": {
          "iopub.status.busy": "2024-03-02T11:28:48.633521Z",
          "iopub.execute_input": "2024-03-02T11:28:48.63389Z",
          "iopub.status.idle": "2024-03-02T11:28:48.640312Z",
          "shell.execute_reply.started": "2024-03-02T11:28:48.633862Z",
          "shell.execute_reply": "2024-03-02T11:28:48.639105Z"
        },
        "trusted": true,
        "id": "Am0I1kgJhRfW"
      },
      "outputs": [],
      "execution_count": null
    },
    {
      "cell_type": "markdown",
      "source": [
        "### Создание модели"
      ],
      "metadata": {
        "id": "VslkH72AhRfW"
      }
    },
    {
      "cell_type": "code",
      "source": [
        "base_model = Model().to(device)\n",
        "torch.nn.init.zeros_(base_model.cls.fc_1.bias)\n",
        "torch.nn.init.zeros_(base_model.cls.fc_2.bias)\n",
        "base_optimizer = torch.optim.AdamW(base_model.parameters(), lr=5e-5)  # lr (learning rate) will be overriden by set_lr function every step of training\n",
        "pac = ModelPackage(model=base_model, optimizer=base_optimizer, best_val_loss=1e+9, train_loss_history=[], val_loss_history=[])  # key object with model"
      ],
      "metadata": {
        "execution": {
          "iopub.status.busy": "2024-03-02T11:28:53.939811Z",
          "iopub.execute_input": "2024-03-02T11:28:53.940294Z",
          "iopub.status.idle": "2024-03-02T11:28:56.321635Z",
          "shell.execute_reply.started": "2024-03-02T11:28:53.940256Z",
          "shell.execute_reply": "2024-03-02T11:28:56.320571Z"
        },
        "trusted": true,
        "id": "8YyMrGnDhRfW"
      },
      "outputs": [],
      "execution_count": null
    },
    {
      "cell_type": "code",
      "source": [
        "# used if we start with existing model on disk\n",
        "# load_model_pac(pac)  # use if we save and load on the same device\n",
        "load_model_pac(pac, map_location=torch.device('cpu')) # map_locations is needed if we train on gpu, save to disk. But after that switch to cpu device"
      ],
      "metadata": {
        "execution": {
          "iopub.status.busy": "2024-03-02T11:28:57.351299Z",
          "iopub.execute_input": "2024-03-02T11:28:57.35214Z",
          "iopub.status.idle": "2024-03-02T11:28:59.229184Z",
          "shell.execute_reply.started": "2024-03-02T11:28:57.352107Z",
          "shell.execute_reply": "2024-03-02T11:28:59.22806Z"
        },
        "trusted": true,
        "id": "dnmk1ZgjhRfW",
        "colab": {
          "base_uri": "https://localhost:8080/"
        },
        "outputId": "89426e03-2142-4231-cd0d-8580130ae4dc"
      },
      "outputs": [
        {
          "output_type": "stream",
          "name": "stdout",
          "text": [
            "WARNING!!! no file to get model. pac is returned without changes\n"
          ]
        }
      ],
      "execution_count": null
    },
    {
      "cell_type": "markdown",
      "source": [
        "### Stage 1. Обучаем классификационную голову"
      ],
      "metadata": {
        "id": "zGvb6sE-hRfW"
      }
    },
    {
      "cell_type": "code",
      "source": [
        "learning_rate = 9e-5\n",
        "batch_size = 8\n",
        "iterations = 1000\n",
        "eval_times = 25\n",
        "eval_interval = iterations // eval_times\n",
        "eval_iters = 25"
      ],
      "metadata": {
        "execution": {
          "iopub.status.busy": "2024-03-02T08:00:07.876765Z",
          "iopub.execute_input": "2024-03-02T08:00:07.8775Z",
          "iopub.status.idle": "2024-03-02T08:00:07.885146Z",
          "shell.execute_reply.started": "2024-03-02T08:00:07.877465Z",
          "shell.execute_reply": "2024-03-02T08:00:07.88408Z"
        },
        "trusted": true,
        "id": "AFKV5xxChRfe"
      },
      "outputs": [],
      "execution_count": null
    },
    {
      "cell_type": "code",
      "source": [
        "for name, parameter in pac.model.named_parameters():\n",
        "    if name.startswith('cls'):\n",
        "        parameter.requires_grad = True\n",
        "    else:\n",
        "        parameter.requires_grad = False"
      ],
      "metadata": {
        "execution": {
          "iopub.status.busy": "2024-03-02T08:00:08.063457Z",
          "iopub.execute_input": "2024-03-02T08:00:08.063879Z",
          "iopub.status.idle": "2024-03-02T08:00:08.070331Z",
          "shell.execute_reply.started": "2024-03-02T08:00:08.063842Z",
          "shell.execute_reply": "2024-03-02T08:00:08.069322Z"
        },
        "trusted": true,
        "id": "i_JirSYphRff"
      },
      "outputs": [],
      "execution_count": null
    },
    {
      "cell_type": "code",
      "source": [
        "%%time\n",
        "train_model(pac)"
      ],
      "metadata": {
        "execution": {
          "iopub.status.busy": "2024-03-02T08:00:08.357423Z",
          "iopub.execute_input": "2024-03-02T08:00:08.357841Z",
          "iopub.status.idle": "2024-03-02T08:09:24.53477Z",
          "shell.execute_reply.started": "2024-03-02T08:00:08.357792Z",
          "shell.execute_reply": "2024-03-02T08:09:24.533744Z"
        },
        "trusted": true,
        "id": "TCWh19OAhRff",
        "colab": {
          "base_uri": "https://localhost:8080/"
        },
        "outputId": "c34fdbd4-c223-41ba-8c3c-67e55049b87b"
      },
      "outputs": [
        {
          "output_type": "stream",
          "name": "stdout",
          "text": [
            "step 0: train loss 0.79434204, val loss 0.84253281 train accuracy 49%, val accuracy 47%\n",
            "            saving checkpoint with val loss 0.84253281\n",
            "step 40: train loss 0.72895128, val loss 0.73083901 train accuracy 51%, val accuracy 54%\n",
            "            saving checkpoint with val loss 0.73083901\n",
            "step 80: train loss 0.73933810, val loss 0.75047898 train accuracy 50%, val accuracy 48%\n",
            "step 120: train loss 0.72737700, val loss 0.74894518 train accuracy 50%, val accuracy 46%\n",
            "step 160: train loss 0.77979141, val loss 0.72691327 train accuracy 47%, val accuracy 49%\n",
            "            saving checkpoint with val loss 0.72691327\n",
            "step 200: train loss 0.73842537, val loss 0.70837355 train accuracy 55%, val accuracy 57%\n",
            "            saving checkpoint with val loss 0.70837355\n",
            "step 240: train loss 0.67721772, val loss 0.69953179 train accuracy 57%, val accuracy 52%\n",
            "            saving checkpoint with val loss 0.69953179\n",
            "step 280: train loss 0.66282630, val loss 0.69691622 train accuracy 58%, val accuracy 52%\n",
            "            saving checkpoint with val loss 0.69691622\n",
            "step 320: train loss 0.72345525, val loss 0.66847044 train accuracy 55%, val accuracy 56%\n",
            "            saving checkpoint with val loss 0.66847044\n",
            "step 360: train loss 0.69694275, val loss 0.72505105 train accuracy 60%, val accuracy 53%\n",
            "step 400: train loss 0.67863375, val loss 0.67840391 train accuracy 54%, val accuracy 61%\n",
            "step 440: train loss 0.66340393, val loss 0.67635757 train accuracy 55%, val accuracy 56%\n",
            "step 480: train loss 0.69137347, val loss 0.67226785 train accuracy 54%, val accuracy 58%\n",
            "step 520: train loss 0.66161418, val loss 0.66426033 train accuracy 60%, val accuracy 62%\n",
            "            saving checkpoint with val loss 0.66426033\n",
            "step 560: train loss 0.67865908, val loss 0.64845717 train accuracy 58%, val accuracy 62%\n",
            "            saving checkpoint with val loss 0.64845717\n",
            "step 600: train loss 0.69217193, val loss 0.67378861 train accuracy 61%, val accuracy 56%\n",
            "step 640: train loss 0.61710602, val loss 0.66478276 train accuracy 63%, val accuracy 57%\n",
            "step 680: train loss 0.64312345, val loss 0.64443660 train accuracy 62%, val accuracy 62%\n",
            "            saving checkpoint with val loss 0.64443660\n",
            "step 720: train loss 0.63625067, val loss 0.68185759 train accuracy 62%, val accuracy 57%\n",
            "step 760: train loss 0.66349661, val loss 0.68754411 train accuracy 59%, val accuracy 55%\n",
            "step 800: train loss 0.62754542, val loss 0.65628397 train accuracy 62%, val accuracy 63%\n",
            "step 840: train loss 0.68359411, val loss 0.68725294 train accuracy 57%, val accuracy 58%\n",
            "step 880: train loss 0.63476050, val loss 0.65234065 train accuracy 64%, val accuracy 64%\n",
            "step 920: train loss 0.64465433, val loss 0.66640329 train accuracy 62%, val accuracy 60%\n",
            "step 960: train loss 0.63827169, val loss 0.66296083 train accuracy 64%, val accuracy 61%\n",
            "CPU times: user 7min 46s, sys: 8.65 s, total: 7min 55s\n",
            "Wall time: 8min 13s\n"
          ]
        }
      ],
      "execution_count": null
    },
    {
      "cell_type": "code",
      "source": [
        "plot_losses(pac)"
      ],
      "metadata": {
        "execution": {
          "iopub.status.busy": "2024-03-02T08:09:24.536626Z",
          "iopub.execute_input": "2024-03-02T08:09:24.537339Z",
          "iopub.status.idle": "2024-03-02T08:09:24.903124Z",
          "shell.execute_reply.started": "2024-03-02T08:09:24.537302Z",
          "shell.execute_reply": "2024-03-02T08:09:24.902112Z"
        },
        "trusted": true,
        "id": "MwMQWUSPhRff",
        "colab": {
          "base_uri": "https://localhost:8080/",
          "height": 321
        },
        "outputId": "67a66d31-d8ef-4679-ac98-6372c11d91ea"
      },
      "outputs": [
        {
          "output_type": "display_data",
          "data": {
            "text/plain": [
              "<Figure size 500x300 with 2 Axes>"
            ],
            "image/png": "[encoded data removed]"
          },
          "metadata": {}
        }
      ],
      "execution_count": null
    },
    {
      "cell_type": "markdown",
      "source": [
        "### Stage 2. Обучаем модель"
      ],
      "metadata": {
        "id": "nU6UQ9eVhRff"
      }
    },
    {
      "cell_type": "code",
      "source": [
        "learning_rate = 1e-5\n",
        "batch_size = 8\n",
        "iterations = 2000\n",
        "eval_times = 50\n",
        "eval_interval = iterations // eval_times\n",
        "eval_iters = 25"
      ],
      "metadata": {
        "execution": {
          "iopub.status.busy": "2024-03-02T08:12:18.290053Z",
          "iopub.execute_input": "2024-03-02T08:12:18.290466Z",
          "iopub.status.idle": "2024-03-02T08:12:18.29559Z",
          "shell.execute_reply.started": "2024-03-02T08:12:18.290434Z",
          "shell.execute_reply": "2024-03-02T08:12:18.294644Z"
        },
        "trusted": true,
        "id": "6fDnRmWthRff"
      },
      "outputs": [],
      "execution_count": null
    },
    {
      "cell_type": "code",
      "source": [
        "load_model_pac(pac)  # load best checkpoing form Stage 1"
      ],
      "metadata": {
        "execution": {
          "iopub.status.busy": "2024-03-02T08:12:18.656965Z",
          "iopub.execute_input": "2024-03-02T08:12:18.657365Z",
          "iopub.status.idle": "2024-03-02T08:12:19.732615Z",
          "shell.execute_reply.started": "2024-03-02T08:12:18.657336Z",
          "shell.execute_reply": "2024-03-02T08:12:19.731768Z"
        },
        "trusted": true,
        "id": "vBsaR66lhRff"
      },
      "outputs": [],
      "execution_count": null
    },
    {
      "cell_type": "code",
      "source": [
        "for name, parameter in pac.model.named_parameters():\n",
        "    parameter.requires_grad = True"
      ],
      "metadata": {
        "execution": {
          "iopub.status.busy": "2024-03-02T08:12:19.734646Z",
          "iopub.execute_input": "2024-03-02T08:12:19.735317Z",
          "iopub.status.idle": "2024-03-02T08:12:19.742587Z",
          "shell.execute_reply.started": "2024-03-02T08:12:19.735281Z",
          "shell.execute_reply": "2024-03-02T08:12:19.741795Z"
        },
        "trusted": true,
        "id": "_FAyqBeLhRff"
      },
      "outputs": [],
      "execution_count": null
    },
    {
      "cell_type": "code",
      "source": [
        "%%time\n",
        "train_model(pac)"
      ],
      "metadata": {
        "execution": {
          "iopub.status.busy": "2024-03-02T08:12:19.984746Z",
          "iopub.execute_input": "2024-03-02T08:12:19.98561Z",
          "iopub.status.idle": "2024-03-02T08:45:17.778306Z",
          "shell.execute_reply.started": "2024-03-02T08:12:19.985578Z",
          "shell.execute_reply": "2024-03-02T08:45:17.777234Z"
        },
        "trusted": true,
        "id": "3hkpFcnOhRfg",
        "colab": {
          "base_uri": "https://localhost:8080/"
        },
        "outputId": "d50fe1bd-8fdf-419f-86fe-b3fd71292346"
      },
      "outputs": [
        {
          "output_type": "stream",
          "name": "stdout",
          "text": [
            "step 0: train loss 0.62056971, val loss 0.65974677 train accuracy 64%, val accuracy 57%\n",
            "step 40: train loss 0.60139680, val loss 0.67657489 train accuracy 68%, val accuracy 56%\n",
            "step 80: train loss 0.63600236, val loss 0.65805173 train accuracy 63%, val accuracy 61%\n",
            "step 120: train loss 0.63196391, val loss 0.65817535 train accuracy 64%, val accuracy 61%\n",
            "step 160: train loss 0.65297884, val loss 0.67642617 train accuracy 62%, val accuracy 54%\n",
            "step 200: train loss 0.64779961, val loss 0.66599917 train accuracy 62%, val accuracy 57%\n",
            "step 240: train loss 0.65189588, val loss 0.63614422 train accuracy 62%, val accuracy 66%\n",
            "            saving checkpoint with val loss 0.63614422\n",
            "step 280: train loss 0.63324755, val loss 0.68176687 train accuracy 63%, val accuracy 56%\n",
            "step 320: train loss 0.65520835, val loss 0.65025485 train accuracy 60%, val accuracy 63%\n",
            "step 360: train loss 0.69063985, val loss 0.65499985 train accuracy 54%, val accuracy 56%\n",
            "step 400: train loss 0.62856668, val loss 0.65337634 train accuracy 63%, val accuracy 65%\n",
            "step 440: train loss 0.58849943, val loss 0.61685658 train accuracy 63%, val accuracy 63%\n",
            "            saving checkpoint with val loss 0.61685658\n",
            "step 480: train loss 0.38257840, val loss 0.49796852 train accuracy 85%, val accuracy 76%\n",
            "            saving checkpoint with val loss 0.49796852\n",
            "step 520: train loss 0.16009529, val loss 0.28237867 train accuracy 95%, val accuracy 92%\n",
            "            saving checkpoint with val loss 0.28237867\n",
            "step 560: train loss 0.03993180, val loss 0.09436873 train accuracy 98%, val accuracy 97%\n",
            "            saving checkpoint with val loss 0.09436873\n",
            "step 600: train loss 0.01834415, val loss 0.15440239 train accuracy 100%, val accuracy 96%\n",
            "step 640: train loss 0.27232036, val loss 0.15964338 train accuracy 95%, val accuracy 96%\n",
            "step 680: train loss 0.07141600, val loss 0.17310742 train accuracy 99%, val accuracy 97%\n",
            "step 720: train loss 0.06846466, val loss 0.04796721 train accuracy 99%, val accuracy 100%\n",
            "            saving checkpoint with val loss 0.04796721\n",
            "step 760: train loss 0.10050194, val loss 0.12470708 train accuracy 97%, val accuracy 98%\n",
            "step 800: train loss 0.07563079, val loss 0.12017421 train accuracy 99%, val accuracy 98%\n",
            "step 840: train loss 0.01569775, val loss 0.13447522 train accuracy 100%, val accuracy 98%\n",
            "step 880: train loss 0.06139638, val loss 0.13398050 train accuracy 99%, val accuracy 98%\n",
            "step 920: train loss 0.09594657, val loss 0.17406574 train accuracy 98%, val accuracy 98%\n",
            "step 960: train loss 0.03099087, val loss 0.09643868 train accuracy 100%, val accuracy 99%\n",
            "step 1000: train loss 0.11799929, val loss 0.21738109 train accuracy 99%, val accuracy 97%\n",
            "step 1040: train loss 0.16804846, val loss 0.01180536 train accuracy 96%, val accuracy 100%\n",
            "            saving checkpoint with val loss 0.01180536\n",
            "step 1080: train loss 0.00893453, val loss 0.19582115 train accuracy 100%, val accuracy 96%\n",
            "step 1120: train loss 0.06446446, val loss 0.15073609 train accuracy 99%, val accuracy 97%\n",
            "step 1160: train loss 0.01619974, val loss 0.12041432 train accuracy 99%, val accuracy 99%\n",
            "step 1200: train loss 0.07139614, val loss 0.15553148 train accuracy 99%, val accuracy 96%\n",
            "step 1240: train loss 0.14233230, val loss 0.16553268 train accuracy 97%, val accuracy 97%\n",
            "step 1280: train loss 0.07427023, val loss 0.09758352 train accuracy 99%, val accuracy 99%\n",
            "step 1320: train loss 0.07564536, val loss 0.09978520 train accuracy 99%, val accuracy 98%\n",
            "step 1360: train loss 0.18207806, val loss 0.03690863 train accuracy 96%, val accuracy 100%\n",
            "step 1400: train loss 0.03009471, val loss 0.07360087 train accuracy 100%, val accuracy 99%\n",
            "step 1440: train loss 0.03648562, val loss 0.00184378 train accuracy 100%, val accuracy 100%\n",
            "            saving checkpoint with val loss 0.00184378\n",
            "step 1480: train loss 0.04697454, val loss 0.09992529 train accuracy 99%, val accuracy 98%\n",
            "step 1520: train loss 0.06878602, val loss 0.01170439 train accuracy 99%, val accuracy 100%\n",
            "step 1560: train loss 0.03951275, val loss 0.04478058 train accuracy 99%, val accuracy 99%\n",
            "step 1600: train loss 0.04572041, val loss 0.09267364 train accuracy 99%, val accuracy 99%\n",
            "step 1640: train loss 0.05968247, val loss 0.10088621 train accuracy 99%, val accuracy 99%\n",
            "step 1680: train loss 0.00085309, val loss 0.03087880 train accuracy 100%, val accuracy 99%\n",
            "step 1720: train loss 0.01501866, val loss 0.13316816 train accuracy 100%, val accuracy 98%\n",
            "step 1760: train loss 0.00145858, val loss 0.00044927 train accuracy 100%, val accuracy 100%\n",
            "            saving checkpoint with val loss 0.00044927\n",
            "step 1800: train loss 0.03488565, val loss 0.07094781 train accuracy 99%, val accuracy 99%\n",
            "step 1840: train loss 0.03384560, val loss 0.05406090 train accuracy 99%, val accuracy 99%\n",
            "step 1880: train loss 0.00049018, val loss 0.14667602 train accuracy 100%, val accuracy 98%\n",
            "step 1920: train loss 0.04728100, val loss 0.08898161 train accuracy 99%, val accuracy 98%\n",
            "step 1960: train loss 0.03923262, val loss 0.04504691 train accuracy 99%, val accuracy 100%\n",
            "CPU times: user 30min 4s, sys: 23.7 s, total: 30min 27s\n",
            "Wall time: 31min 48s\n"
          ]
        }
      ],
      "execution_count": null
    },
    {
      "cell_type": "code",
      "source": [
        "plot_losses(pac)"
      ],
      "metadata": {
        "execution": {
          "iopub.status.busy": "2024-03-02T08:45:17.780027Z",
          "iopub.execute_input": "2024-03-02T08:45:17.780321Z",
          "iopub.status.idle": "2024-03-02T08:45:18.14488Z",
          "shell.execute_reply.started": "2024-03-02T08:45:17.780296Z",
          "shell.execute_reply": "2024-03-02T08:45:18.143895Z"
        },
        "trusted": true,
        "id": "TBK8vARmhRfg",
        "colab": {
          "base_uri": "https://localhost:8080/",
          "height": 321
        },
        "outputId": "019abfe1-d76e-42b1-c811-9d062ba15223"
      },
      "outputs": [
        {
          "output_type": "display_data",
          "data": {
            "text/plain": [
              "<Figure size 500x300 with 2 Axes>"
            ],
            "image/png": "[encoded data removed]"
          },
          "metadata": {}
        }
      ],
      "execution_count": null
    },
    {
      "cell_type": "markdown",
      "source": [
        "### Stage 3. Обучение с регуляризацией"
      ],
      "metadata": {
        "id": "-RB--6yjhRfg"
      }
    },
    {
      "cell_type": "code",
      "source": [
        "learning_rate = 5e-6\n",
        "batch_size = 8\n",
        "iterations = 1000\n",
        "eval_times = 100\n",
        "eval_interval = iterations // eval_times\n",
        "eval_iters = 25"
      ],
      "metadata": {
        "execution": {
          "iopub.status.busy": "2024-03-02T08:49:24.012388Z",
          "iopub.execute_input": "2024-03-02T08:49:24.013229Z",
          "iopub.status.idle": "2024-03-02T08:49:24.018054Z",
          "shell.execute_reply.started": "2024-03-02T08:49:24.013186Z",
          "shell.execute_reply": "2024-03-02T08:49:24.017059Z"
        },
        "trusted": true,
        "id": "nfC8X3iphRfg"
      },
      "outputs": [],
      "execution_count": null
    },
    {
      "cell_type": "code",
      "source": [
        "load_model_pac(pac)"
      ],
      "metadata": {
        "execution": {
          "iopub.status.busy": "2024-03-02T08:49:26.078997Z",
          "iopub.execute_input": "2024-03-02T08:49:26.079896Z",
          "iopub.status.idle": "2024-03-02T08:49:28.611846Z",
          "shell.execute_reply.started": "2024-03-02T08:49:26.079854Z",
          "shell.execute_reply": "2024-03-02T08:49:28.610941Z"
        },
        "trusted": true,
        "id": "UrTJEFcfhRfg"
      },
      "outputs": [],
      "execution_count": null
    },
    {
      "cell_type": "code",
      "source": [
        "for name, parameter in pac.model.named_parameters():\n",
        "    parameter.requires_grad = True"
      ],
      "metadata": {
        "execution": {
          "iopub.status.busy": "2024-03-02T08:49:28.613608Z",
          "iopub.execute_input": "2024-03-02T08:49:28.613919Z",
          "iopub.status.idle": "2024-03-02T08:49:28.619868Z",
          "shell.execute_reply.started": "2024-03-02T08:49:28.613894Z",
          "shell.execute_reply": "2024-03-02T08:49:28.618962Z"
        },
        "trusted": true,
        "id": "fGH3TFkphRfg"
      },
      "outputs": [],
      "execution_count": null
    },
    {
      "cell_type": "code",
      "source": [
        "pac.optimizer.param_groups[0]['weight_decay'] = 0.03\n",
        "pac.model.cls[0].p = 0.1"
      ],
      "metadata": {
        "execution": {
          "iopub.status.busy": "2024-03-02T08:50:30.878588Z",
          "iopub.execute_input": "2024-03-02T08:50:30.879017Z",
          "iopub.status.idle": "2024-03-02T08:50:30.884145Z",
          "shell.execute_reply.started": "2024-03-02T08:50:30.878985Z",
          "shell.execute_reply": "2024-03-02T08:50:30.883119Z"
        },
        "trusted": true,
        "id": "NmeCM_81hRfh"
      },
      "outputs": [],
      "execution_count": null
    },
    {
      "cell_type": "code",
      "source": [
        "%%time\n",
        "train_model(pac)"
      ],
      "metadata": {
        "execution": {
          "iopub.status.busy": "2024-03-02T08:50:31.21828Z",
          "iopub.execute_input": "2024-03-02T08:50:31.218657Z",
          "iopub.status.idle": "2024-03-02T09:21:48.581346Z",
          "shell.execute_reply.started": "2024-03-02T08:50:31.218629Z",
          "shell.execute_reply": "2024-03-02T09:21:48.580242Z"
        },
        "trusted": true,
        "id": "CYLUhqOWhRfh",
        "colab": {
          "base_uri": "https://localhost:8080/"
        },
        "outputId": "6fe4c839-fdc3-4309-cacc-366e5908a112"
      },
      "outputs": [
        {
          "output_type": "stream",
          "name": "stdout",
          "text": [
            "step 0: train loss 0.04170637, val loss 0.14940931 train accuracy 99%, val accuracy 98%\n",
            "step 10: train loss 0.03645839, val loss 0.04218672 train accuracy 100%, val accuracy 99%\n",
            "step 20: train loss 0.03492201, val loss 0.02899744 train accuracy 100%, val accuracy 100%\n",
            "step 30: train loss 0.07009687, val loss 0.00349390 train accuracy 99%, val accuracy 100%\n",
            "step 40: train loss 0.07690234, val loss 0.11028317 train accuracy 99%, val accuracy 98%\n",
            "step 50: train loss 0.03804936, val loss 0.05122509 train accuracy 100%, val accuracy 99%\n",
            "step 60: train loss 0.02645021, val loss 0.10841665 train accuracy 100%, val accuracy 99%\n",
            "step 70: train loss 0.00148024, val loss 0.06051510 train accuracy 100%, val accuracy 99%\n",
            "step 80: train loss 0.04607423, val loss 0.03895911 train accuracy 100%, val accuracy 100%\n",
            "step 90: train loss 0.00093880, val loss 0.05432785 train accuracy 100%, val accuracy 99%\n",
            "step 100: train loss 0.01206180, val loss 0.05611590 train accuracy 100%, val accuracy 99%\n",
            "step 110: train loss 0.00052478, val loss 0.02157918 train accuracy 100%, val accuracy 100%\n",
            "step 120: train loss 0.06457481, val loss 0.06384687 train accuracy 99%, val accuracy 99%\n",
            "step 130: train loss 0.03803245, val loss 0.09616483 train accuracy 100%, val accuracy 99%\n",
            "step 140: train loss 0.02691518, val loss 0.04937032 train accuracy 100%, val accuracy 99%\n",
            "step 150: train loss 0.03786052, val loss 0.07522851 train accuracy 99%, val accuracy 99%\n",
            "step 160: train loss 0.09406114, val loss 0.00423874 train accuracy 99%, val accuracy 100%\n",
            "step 170: train loss 0.01051044, val loss 0.06835902 train accuracy 99%, val accuracy 99%\n",
            "step 180: train loss 0.00466813, val loss 0.06879295 train accuracy 100%, val accuracy 99%\n",
            "step 190: train loss 0.04283200, val loss 0.03702659 train accuracy 100%, val accuracy 99%\n",
            "step 200: train loss 0.00198047, val loss 0.10660159 train accuracy 100%, val accuracy 98%\n",
            "step 210: train loss 0.01888693, val loss 0.11638590 train accuracy 99%, val accuracy 98%\n",
            "step 220: train loss 0.03792311, val loss 0.04509912 train accuracy 100%, val accuracy 99%\n",
            "step 230: train loss 0.02807095, val loss 0.01738125 train accuracy 100%, val accuracy 100%\n",
            "step 240: train loss 0.00099556, val loss 0.04181724 train accuracy 100%, val accuracy 99%\n",
            "step 250: train loss 0.09324420, val loss 0.03601702 train accuracy 98%, val accuracy 100%\n",
            "step 260: train loss 0.00124615, val loss 0.10052701 train accuracy 100%, val accuracy 99%\n",
            "step 270: train loss 0.03139564, val loss 0.08506730 train accuracy 100%, val accuracy 99%\n",
            "step 280: train loss 0.00287595, val loss 0.18442862 train accuracy 100%, val accuracy 96%\n",
            "step 290: train loss 0.03489094, val loss 0.05895185 train accuracy 100%, val accuracy 99%\n",
            "step 300: train loss 0.07064853, val loss 0.07730024 train accuracy 99%, val accuracy 98%\n",
            "step 310: train loss 0.03659941, val loss 0.24876970 train accuracy 99%, val accuracy 94%\n",
            "step 320: train loss 0.13050017, val loss 0.09740984 train accuracy 98%, val accuracy 98%\n",
            "step 330: train loss 0.01905295, val loss 0.21752991 train accuracy 99%, val accuracy 96%\n",
            "step 340: train loss 0.03846747, val loss 0.14194894 train accuracy 99%, val accuracy 98%\n",
            "step 350: train loss 0.01188341, val loss 0.07533066 train accuracy 100%, val accuracy 99%\n",
            "step 360: train loss 0.04180190, val loss 0.13035786 train accuracy 100%, val accuracy 98%\n",
            "step 370: train loss 0.00061794, val loss 0.09216852 train accuracy 100%, val accuracy 99%\n",
            "step 380: train loss 0.00775234, val loss 0.01368820 train accuracy 100%, val accuracy 100%\n",
            "step 390: train loss 0.03683446, val loss 0.06554660 train accuracy 100%, val accuracy 99%\n",
            "step 400: train loss 0.04657343, val loss 0.04863330 train accuracy 99%, val accuracy 99%\n",
            "step 410: train loss 0.03679420, val loss 0.01976551 train accuracy 99%, val accuracy 100%\n",
            "step 420: train loss 0.00031572, val loss 0.13133122 train accuracy 100%, val accuracy 98%\n",
            "step 430: train loss 0.04256192, val loss 0.03343499 train accuracy 99%, val accuracy 100%\n",
            "step 440: train loss 0.09466542, val loss 0.00055760 train accuracy 99%, val accuracy 100%\n",
            "step 450: train loss 0.02705957, val loss 0.00157882 train accuracy 100%, val accuracy 100%\n",
            "step 460: train loss 0.08588333, val loss 0.07671937 train accuracy 99%, val accuracy 99%\n",
            "step 470: train loss 0.06272895, val loss 0.02180473 train accuracy 99%, val accuracy 99%\n",
            "step 480: train loss 0.02564367, val loss 0.04647609 train accuracy 100%, val accuracy 99%\n",
            "step 490: train loss 0.08888450, val loss 0.05261140 train accuracy 99%, val accuracy 99%\n",
            "step 500: train loss 0.10798879, val loss 0.06932246 train accuracy 98%, val accuracy 99%\n",
            "step 510: train loss 0.04048384, val loss 0.03547790 train accuracy 100%, val accuracy 99%\n",
            "step 520: train loss 0.03968795, val loss 0.13980888 train accuracy 100%, val accuracy 98%\n",
            "step 530: train loss 0.00045860, val loss 0.10742452 train accuracy 100%, val accuracy 99%\n",
            "step 540: train loss 0.07940693, val loss 0.04370084 train accuracy 99%, val accuracy 99%\n",
            "step 550: train loss 0.05019980, val loss 0.06321126 train accuracy 99%, val accuracy 99%\n",
            "step 560: train loss 0.07772196, val loss 0.16492480 train accuracy 99%, val accuracy 98%\n",
            "step 570: train loss 0.07216950, val loss 0.12086593 train accuracy 99%, val accuracy 98%\n",
            "step 580: train loss 0.03078387, val loss 0.09781173 train accuracy 100%, val accuracy 98%\n",
            "step 590: train loss 0.00023998, val loss 0.02453923 train accuracy 100%, val accuracy 100%\n",
            "step 600: train loss 0.08501345, val loss 0.06919740 train accuracy 99%, val accuracy 99%\n",
            "step 610: train loss 0.04788385, val loss 0.05620812 train accuracy 100%, val accuracy 99%\n",
            "step 620: train loss 0.01314547, val loss 0.07413518 train accuracy 100%, val accuracy 98%\n",
            "step 630: train loss 0.04237859, val loss 0.10676361 train accuracy 100%, val accuracy 98%\n",
            "step 640: train loss 0.00499707, val loss 0.04991731 train accuracy 100%, val accuracy 100%\n",
            "step 650: train loss 0.00033616, val loss 0.07397377 train accuracy 100%, val accuracy 99%\n",
            "step 660: train loss 0.03737891, val loss 0.12390631 train accuracy 100%, val accuracy 98%\n",
            "step 670: train loss 0.00043882, val loss 0.06194291 train accuracy 100%, val accuracy 99%\n",
            "step 680: train loss 0.07905582, val loss 0.11645712 train accuracy 99%, val accuracy 98%\n",
            "step 690: train loss 0.03898521, val loss 0.02931586 train accuracy 100%, val accuracy 99%\n",
            "step 700: train loss 0.03289953, val loss 0.09834415 train accuracy 100%, val accuracy 99%\n",
            "step 710: train loss 0.00034551, val loss 0.00063338 train accuracy 100%, val accuracy 100%\n",
            "step 720: train loss 0.02528236, val loss 0.03586665 train accuracy 100%, val accuracy 100%\n",
            "step 730: train loss 0.03232073, val loss 0.06435564 train accuracy 99%, val accuracy 99%\n",
            "step 740: train loss 0.08090906, val loss 0.10166296 train accuracy 99%, val accuracy 99%\n",
            "step 750: train loss 0.01560642, val loss 0.08765572 train accuracy 100%, val accuracy 99%\n",
            "step 760: train loss 0.11889419, val loss 0.03601785 train accuracy 98%, val accuracy 99%\n",
            "step 770: train loss 0.03279424, val loss 0.03615669 train accuracy 100%, val accuracy 100%\n",
            "step 780: train loss 0.00023735, val loss 0.13593285 train accuracy 100%, val accuracy 98%\n",
            "step 790: train loss 0.01589256, val loss 0.18598370 train accuracy 100%, val accuracy 98%\n",
            "step 800: train loss 0.07110704, val loss 0.11561691 train accuracy 99%, val accuracy 98%\n",
            "step 810: train loss 0.01885438, val loss 0.00172113 train accuracy 99%, val accuracy 100%\n",
            "step 820: train loss 0.00136292, val loss 0.06248309 train accuracy 100%, val accuracy 99%\n",
            "step 830: train loss 0.00019914, val loss 0.02612445 train accuracy 100%, val accuracy 99%\n",
            "step 840: train loss 0.09380085, val loss 0.07445708 train accuracy 99%, val accuracy 99%\n",
            "step 850: train loss 0.00019599, val loss 0.10652190 train accuracy 100%, val accuracy 99%\n",
            "step 860: train loss 0.13267314, val loss 0.00057928 train accuracy 98%, val accuracy 100%\n",
            "step 870: train loss 0.06881509, val loss 0.15350308 train accuracy 99%, val accuracy 98%\n",
            "step 880: train loss 0.06364891, val loss 0.11289236 train accuracy 99%, val accuracy 98%\n",
            "step 890: train loss 0.00824548, val loss 0.09448994 train accuracy 100%, val accuracy 99%\n",
            "step 900: train loss 0.06867513, val loss 0.14590098 train accuracy 99%, val accuracy 98%\n",
            "step 910: train loss 0.05104697, val loss 0.03757399 train accuracy 99%, val accuracy 100%\n",
            "step 920: train loss 0.03939439, val loss 0.01598443 train accuracy 100%, val accuracy 100%\n",
            "step 930: train loss 0.07172748, val loss 0.14356999 train accuracy 99%, val accuracy 98%\n",
            "step 940: train loss 0.00426823, val loss 0.07561241 train accuracy 100%, val accuracy 99%\n",
            "step 950: train loss 0.05914836, val loss 0.00077937 train accuracy 99%, val accuracy 100%\n",
            "step 960: train loss 0.03000898, val loss 0.10425228 train accuracy 100%, val accuracy 99%\n",
            "step 970: train loss 0.00276021, val loss 0.03624351 train accuracy 100%, val accuracy 100%\n",
            "step 980: train loss 0.02585604, val loss 0.11405236 train accuracy 100%, val accuracy 99%\n",
            "step 990: train loss 0.00022314, val loss 0.03946002 train accuracy 100%, val accuracy 100%\n",
            "CPU times: user 27min 56s, sys: 4.25 s, total: 28min 1s\n",
            "Wall time: 27min 38s\n"
          ]
        }
      ],
      "execution_count": null
    },
    {
      "cell_type": "code",
      "source": [
        "plot_losses(pac)"
      ],
      "metadata": {
        "execution": {
          "iopub.status.busy": "2024-03-02T09:21:48.582949Z",
          "iopub.execute_input": "2024-03-02T09:21:48.583239Z",
          "iopub.status.idle": "2024-03-02T09:21:48.951281Z",
          "shell.execute_reply.started": "2024-03-02T09:21:48.583215Z",
          "shell.execute_reply": "2024-03-02T09:21:48.950283Z"
        },
        "trusted": true,
        "id": "YA-EuxdAhRfh",
        "colab": {
          "base_uri": "https://localhost:8080/",
          "height": 321
        },
        "outputId": "a5cf9871-3d35-41d2-e069-5778a7b9aaaf"
      },
      "outputs": [
        {
          "output_type": "display_data",
          "data": {
            "text/plain": [
              "<Figure size 500x300 with 2 Axes>"
            ],
            "image/png": "[encoded data removed]"
          },
          "metadata": {}
        }
      ],
      "execution_count": null
    },
    {
      "cell_type": "markdown",
      "source": [
        "### Проверим модель"
      ],
      "metadata": {
        "id": "7M6FklxBhRfh"
      }
    },
    {
      "cell_type": "code",
      "source": [
        "pac.model.eval();"
      ],
      "metadata": {
        "execution": {
          "iopub.status.busy": "2024-03-02T11:29:06.091005Z",
          "iopub.execute_input": "2024-03-02T11:29:06.091412Z",
          "iopub.status.idle": "2024-03-02T11:29:06.098783Z",
          "shell.execute_reply.started": "2024-03-02T11:29:06.09138Z",
          "shell.execute_reply": "2024-03-02T11:29:06.097937Z"
        },
        "trusted": true,
        "id": "7DI2wt2PhRfi"
      },
      "outputs": [],
      "execution_count": null
    },
    {
      "cell_type": "code",
      "source": [
        "pac.model([\n",
        "    ['где дают бананы?','фрукты можно купить везде, в т.ч. в магазине за углом, в т.ч. бананы']\n",
        "])"
      ],
      "metadata": {
        "execution": {
          "iopub.status.busy": "2024-03-02T11:34:22.682562Z",
          "iopub.execute_input": "2024-03-02T11:34:22.68467Z",
          "iopub.status.idle": "2024-03-02T11:34:22.825317Z",
          "shell.execute_reply.started": "2024-03-02T11:34:22.684609Z",
          "shell.execute_reply": "2024-03-02T11:34:22.824085Z"
        },
        "trusted": true,
        "id": "FgC72CVmhRfi",
        "colab": {
          "base_uri": "https://localhost:8080/"
        },
        "outputId": "d1db5ee3-ff1e-43d9-dd12-6fd1431ad693"
      },
      "outputs": [
        {
          "output_type": "execute_result",
          "data": {
            "text/plain": [
              "tensor([[-4.0279,  4.1592]], device='cuda:0', grad_fn=<MmBackward0>)"
            ]
          },
          "metadata": {},
          "execution_count": 50
        }
      ],
      "execution_count": null
    },
    {
      "cell_type": "code",
      "source": [
        "questions = ['где можно взять лодку на прокат?',\n",
        "             'где можно взять лодку на прокат?']\n",
        "answers = ['взятие тракторов для пользования не предусмотрено',\n",
        "            'небольшой катер обычно берут в аренду у берега']\n",
        "pac.model(list(zip(questions, answers))).argmax(1)"
      ],
      "metadata": {
        "execution": {
          "iopub.status.busy": "2024-03-02T11:29:06.605435Z",
          "iopub.execute_input": "2024-03-02T11:29:06.605835Z",
          "iopub.status.idle": "2024-03-02T11:29:06.749742Z",
          "shell.execute_reply.started": "2024-03-02T11:29:06.605808Z",
          "shell.execute_reply": "2024-03-02T11:29:06.748778Z"
        },
        "trusted": true,
        "id": "lOFTX_KPhRfi",
        "colab": {
          "base_uri": "https://localhost:8080/"
        },
        "outputId": "4bca030b-0086-41d1-ed49-31bc073d5cb5"
      },
      "outputs": [
        {
          "output_type": "execute_result",
          "data": {
            "text/plain": [
              "tensor([0, 1], device='cuda:0')"
            ]
          },
          "metadata": {},
          "execution_count": 51
        }
      ],
      "execution_count": null
    },
    {
      "cell_type": "code",
      "source": [
        "questions = ['где можно взять лодку на прокат?',\n",
        "             'где можно взять лодку на прокат?']\n",
        "answers = ['взятие тракторов для пользования не предусмотрено',\n",
        "            'небольшой катер обычно берут в аренду у берега']\n",
        "pac.model(list(zip(questions, answers)))"
      ],
      "metadata": {
        "execution": {
          "iopub.status.busy": "2024-03-02T11:29:06.991662Z",
          "iopub.execute_input": "2024-03-02T11:29:06.992433Z",
          "iopub.status.idle": "2024-03-02T11:29:07.125149Z",
          "shell.execute_reply.started": "2024-03-02T11:29:06.992398Z",
          "shell.execute_reply": "2024-03-02T11:29:07.123942Z"
        },
        "trusted": true,
        "id": "Tngj0C6ChRfj",
        "colab": {
          "base_uri": "https://localhost:8080/"
        },
        "outputId": "44094cd8-9897-4ae0-917d-35a7bd52f4a7"
      },
      "outputs": [
        {
          "output_type": "execute_result",
          "data": {
            "text/plain": [
              "tensor([[ 0.4957, -1.1107],\n",
              "        [-2.0245,  1.8794]], device='cuda:0', grad_fn=<MmBackward0>)"
            ]
          },
          "metadata": {},
          "execution_count": 52
        }
      ],
      "execution_count": null
    },
    {
      "cell_type": "code",
      "source": [],
      "metadata": {
        "id": "JdkknjXpwedG"
      },
      "execution_count": null,
      "outputs": []
    },
    {
      "cell_type": "code",
      "source": [],
      "metadata": {
        "id": "x8z-aTVzweoZ"
      },
      "execution_count": null,
      "outputs": []
    },
    {
      "cell_type": "code",
      "source": [],
      "metadata": {
        "id": "BIjrB_Iiwerb"
      },
      "execution_count": null,
      "outputs": []
    },
    {
      "cell_type": "code",
      "source": [],
      "metadata": {
        "id": "BKYnp7Buwet1"
      },
      "execution_count": null,
      "outputs": []
    }
  ]
}